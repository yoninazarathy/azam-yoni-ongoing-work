{
 "cells": [
  {
   "cell_type": "code",
   "execution_count": 13,
   "id": "92e326d3-f470-4d89-9bb7-9780c824e6d5",
   "metadata": {},
   "outputs": [],
   "source": [
    "using LinearAlgebra, Distributions, Random"
   ]
  },
  {
   "cell_type": "code",
   "execution_count": 2,
   "id": "7507bcee-0b3d-4f76-812e-d460a514979e",
   "metadata": {},
   "outputs": [],
   "source": [
    "one_vec = ones(2);\n",
    "zero_vec = zeros(2);"
   ]
  },
  {
   "cell_type": "markdown",
   "id": "65b20fe6-4d8a-40ca-a8e5-138e02b9c2a0",
   "metadata": {},
   "source": [
    "### MAP creation"
   ]
  },
  {
   "cell_type": "code",
   "execution_count": 3,
   "id": "14397c94-56cb-4cbe-9438-d4d4cc4550a7",
   "metadata": {},
   "outputs": [],
   "source": [
    "function check_is_MAP(C,D)\n",
    "    all(D .>= 0.0) || return false\n",
    "    all(diag(C) .< 0.0) || return false\n",
    "    all(C-Diagonal(C) .>= 0.0) ||return false\n",
    "    iszero(sum(C+D,dims=2)) || return false   #will be redundent in the make_C_D function and in the similarity...\n",
    "    return true\n",
    "end;"
   ]
  },
  {
   "cell_type": "markdown",
   "id": "e6bcd96a-bc82-4416-b5e3-e5bc5bfcb086",
   "metadata": {},
   "source": [
    "$$\n",
    "\\boldsymbol{\\alpha} = \n",
    "\\frac{1}{(\\lambda_{21}+ \\lambda_{22}) q_{12}+ (\\lambda_{11}+ \\lambda_{12}) q_{21}}\n",
    "\\Big[q_{21} \\lambda_{11} + q_{12} \\lambda_{21}, ~~\n",
    "q_{21} \\lambda_{12} + q_{12} \\lambda_{22}\n",
    " \\Big].\n",
    " $$\n"
   ]
  },
  {
   "cell_type": "code",
   "execution_count": 4,
   "id": "5261000c-04bf-4ca6-964b-99c9d6e5783c",
   "metadata": {},
   "outputs": [],
   "source": [
    "function make_C_D_α(q12, q21, λ11, λ12, λ21, λ22)\n",
    "    C = [\n",
    "        -q12 - λ11      q12 - λ12;\n",
    "         q21 - λ21   -q21 - λ22\n",
    "    ]\n",
    "    D = [\n",
    "        λ11  λ12;\n",
    "        λ21  λ22\n",
    "    ]\n",
    "    check_is_MAP(C,D) || error(\"problem with parameters\")\n",
    "\n",
    "    α = ([q21*λ11 + q12*λ21, q21*λ12 + q12*λ22]') / ((λ21 + λ22)*q12 + (λ11 + λ12)*q21)\n",
    "    return C, D, α\n",
    "end\n",
    "\n",
    "q12 = 10\n",
    "q21 = 20\n",
    "λ11 = 1.0\n",
    "λ12 = 2.0\n",
    "λ21 = 3.0\n",
    "λ22 = 4.0\n",
    "\n",
    "C, D, α = make_C_D_α(q12, q21, λ11, λ12, λ21, λ22);"
   ]
  },
  {
   "cell_type": "code",
   "execution_count": 5,
   "id": "c0f081d4-9d7c-469e-81a0-e2eb2faf12dd",
   "metadata": {},
   "outputs": [
    {
     "data": {
      "text/plain": [
       "2×2 Matrix{Float64}:\n",
       " -11.0    8.0\n",
       "  17.0  -24.0"
      ]
     },
     "execution_count": 5,
     "metadata": {},
     "output_type": "execute_result"
    }
   ],
   "source": [
    "C"
   ]
  },
  {
   "cell_type": "code",
   "execution_count": 6,
   "id": "2f2dd0e9-5211-4390-ae11-01fac89b95af",
   "metadata": {},
   "outputs": [
    {
     "data": {
      "text/plain": [
       "2×2 Matrix{Float64}:\n",
       " 1.0  2.0\n",
       " 3.0  4.0"
      ]
     },
     "execution_count": 6,
     "metadata": {},
     "output_type": "execute_result"
    }
   ],
   "source": [
    "D"
   ]
  },
  {
   "cell_type": "code",
   "execution_count": 7,
   "id": "21516b69-e43e-4589-a153-414415edf0db",
   "metadata": {},
   "outputs": [
    {
     "data": {
      "text/plain": [
       "2×2 Matrix{Float64}:\n",
       " -10.0   10.0\n",
       "  20.0  -20.0"
      ]
     },
     "execution_count": 7,
     "metadata": {},
     "output_type": "execute_result"
    }
   ],
   "source": [
    "Q = C+D"
   ]
  },
  {
   "cell_type": "code",
   "execution_count": 8,
   "id": "86d0765a-ee2c-46d7-9543-f8cfb9a3c96b",
   "metadata": {},
   "outputs": [
    {
     "data": {
      "text/plain": [
       "2-element Vector{Float64}:\n",
       " 0.0\n",
       " 0.0"
      ]
     },
     "execution_count": 8,
     "metadata": {},
     "output_type": "execute_result"
    }
   ],
   "source": [
    "Q*one_vec"
   ]
  },
  {
   "cell_type": "code",
   "execution_count": 9,
   "id": "36786319-08a5-4779-8ae0-7172196aaebc",
   "metadata": {},
   "outputs": [
    {
     "data": {
      "text/plain": [
       "2×2 Matrix{Float64}:\n",
       " 0.375     0.625\n",
       " 0.390625  0.609375"
      ]
     },
     "execution_count": 9,
     "metadata": {},
     "output_type": "execute_result"
    }
   ],
   "source": [
    "P = inv(-C)*D"
   ]
  },
  {
   "cell_type": "code",
   "execution_count": 10,
   "id": "5992e407-9fb2-47f2-bf24-148148abcc75",
   "metadata": {},
   "outputs": [
    {
     "data": {
      "text/plain": [
       "2×1 Matrix{Float64}:\n",
       " 0.9999999999999998\n",
       " 1.0"
      ]
     },
     "execution_count": 10,
     "metadata": {},
     "output_type": "execute_result"
    }
   ],
   "source": [
    "sum(P, dims = 2)"
   ]
  },
  {
   "cell_type": "code",
   "execution_count": 11,
   "id": "86e9605a-0baf-4744-a43d-3a12c5686e36",
   "metadata": {},
   "outputs": [
    {
     "data": {
      "text/plain": [
       "1×2 adjoint(::Vector{Float64}) with eltype Float64:\n",
       " -5.55112e-17  0.0"
      ]
     },
     "execution_count": 11,
     "metadata": {},
     "output_type": "execute_result"
    }
   ],
   "source": [
    "α*P - α #indeed stationary vector"
   ]
  },
  {
   "cell_type": "markdown",
   "id": "097fb327-5857-43ac-bfe2-b618ab71d0d4",
   "metadata": {},
   "source": [
    "### Similarity matrix"
   ]
  },
  {
   "cell_type": "markdown",
   "id": "cecaaca0-71b0-4adc-8c81-ea5c5837f6d3",
   "metadata": {},
   "source": [
    "$$\n",
    "S {\\mathbf 1} = {\\mathbf 1}\n",
    "$$\n",
    "so also,\n",
    "\n",
    "$$\n",
    "{\\mathbf 1} = S^{-1}{\\mathbf 1}\n",
    "$$\n"
   ]
  },
  {
   "cell_type": "code",
   "execution_count": 12,
   "id": "1225d507-7b02-42f6-a9bd-85e05dd568fb",
   "metadata": {},
   "outputs": [],
   "source": [
    "function make_rand_S_matrix()\n",
    "    s1, s2 = rand(Uniform(-1,1), 2)\n",
    "    S = [s1 1-s1\n",
    "         1-s2 s2]\n",
    "    return S, inv(S)\n",
    "end;"
   ]
  },
  {
   "cell_type": "code",
   "execution_count": 18,
   "id": "4873465e-1740-4f46-8239-8c69332a9b4d",
   "metadata": {},
   "outputs": [],
   "source": [
    "Random.seed!(1)\n",
    "S, Sinv = make_rand_S_matrix();"
   ]
  },
  {
   "cell_type": "code",
   "execution_count": 19,
   "id": "dbc4c1c7-b26e-42e3-b16d-f88e4f0cb0ae",
   "metadata": {},
   "outputs": [
    {
     "data": {
      "text/plain": [
       "2×2 Matrix{Float64}:\n",
       " -0.853267   1.85327\n",
       "  1.30152   -0.301517"
      ]
     },
     "execution_count": 19,
     "metadata": {},
     "output_type": "execute_result"
    }
   ],
   "source": [
    "S"
   ]
  },
  {
   "cell_type": "code",
   "execution_count": 20,
   "id": "f3df9a7d-3080-43e4-929a-4a9b74040316",
   "metadata": {},
   "outputs": [
    {
     "data": {
      "text/plain": [
       "2×2 Matrix{Float64}:\n",
       " 0.139929  0.860071\n",
       " 0.604013  0.395987"
      ]
     },
     "execution_count": 20,
     "metadata": {},
     "output_type": "execute_result"
    }
   ],
   "source": [
    "Sinv"
   ]
  },
  {
   "cell_type": "code",
   "execution_count": 21,
   "id": "7933ce01-90be-453b-ba95-657eddaa15dc",
   "metadata": {},
   "outputs": [
    {
     "data": {
      "text/plain": [
       "2-element Vector{Float64}:\n",
       " 1.0\n",
       " 1.0"
      ]
     },
     "execution_count": 21,
     "metadata": {},
     "output_type": "execute_result"
    }
   ],
   "source": [
    "S*one_vec"
   ]
  },
  {
   "cell_type": "code",
   "execution_count": 22,
   "id": "8d050b8b-1fe5-4e67-9cb3-562bfde85530",
   "metadata": {},
   "outputs": [
    {
     "data": {
      "text/plain": [
       "2-element Vector{Float64}:\n",
       " 0.9999999999999999\n",
       " 1.0"
      ]
     },
     "execution_count": 22,
     "metadata": {},
     "output_type": "execute_result"
    }
   ],
   "source": [
    "Sinv*one_vec"
   ]
  },
  {
   "cell_type": "markdown",
   "id": "0b9bdc6f-bd76-47b4-8f93-bfbf2f275e19",
   "metadata": {},
   "source": [
    "### Transform MAP"
   ]
  },
  {
   "cell_type": "markdown",
   "id": "c2a77452-4be7-4275-bd37-0c3199ed5ea7",
   "metadata": {},
   "source": [
    "$$\n",
    "C_{\\text{new}} = S^{-1} C S\n",
    "$$\n",
    "\n",
    "\n",
    "$$\n",
    "D_{\\text{new}} = S^{-1} D S\n",
    "$$"
   ]
  },
  {
   "cell_type": "markdown",
   "id": "3995f209-3f72-42c6-bab2-36efa09f4e62",
   "metadata": {},
   "source": [
    "$$\n",
    "Q_{\\text{new}} = C_{\\text{new}} + D_{\\text{new}} = S^{-1} (C + D) S\n",
    "$$\n",
    "\n",
    "So $Q_{\\text{new}} {\\mathbf 1} = 0$."
   ]
  },
  {
   "cell_type": "markdown",
   "id": "e616789b-1adf-41b4-8f38-f3c9649dc8cf",
   "metadata": {},
   "source": [
    "$$\n",
    "\\pi Q = 0\n",
    "$$"
   ]
  },
  {
   "cell_type": "markdown",
   "id": "69c53945-ac5c-49d8-bdf2-a3ccba272872",
   "metadata": {},
   "source": [
    "Claim:\n",
    "\n",
    "$$\n",
    "\\pi S Q_{\\text{new}} = 0.\n",
    "$$\n",
    "\n",
    "Hence $\\pi S$ is the $\\pi_{\\text{new}}$."
   ]
  },
  {
   "cell_type": "markdown",
   "id": "042c4a9c-84cf-4c2a-aee2-d7f918de704e",
   "metadata": {},
   "source": [
    "$$\n",
    "\\lambda^* = \\pi D {\\mathbf 1}\n",
    "$$"
   ]
  },
  {
   "cell_type": "markdown",
   "id": "4b3bd9aa-9494-4966-8fd6-97713c1758f4",
   "metadata": {},
   "source": [
    "$$\n",
    "\\lambda^*_{\\text{new}} = \\pi_{\\text{new}} D_{\\text{new}} {\\mathbf 1} = \\pi S S^{-1} D S {\\mathbf 1} = \\lambda^*\n",
    "$$\n"
   ]
  },
  {
   "cell_type": "markdown",
   "id": "d94f99ac-6c13-4c0d-aa40-da8cc204dfbb",
   "metadata": {},
   "source": [
    "$$\n",
    "\\alpha = \\frac{1}{\\lambda^*} \\pi D\n",
    "$$"
   ]
  },
  {
   "cell_type": "markdown",
   "id": "3b863deb-fe7e-47de-872a-8044424381b3",
   "metadata": {},
   "source": [
    "$$\n",
    "\\alpha_{\\text{new}} = \\frac{1}{\\lambda^*_{\\text{new}}} \\pi_{\\text{new}} D_{\\text{new}}\n",
    "= \\frac{1}{\\lambda^*} \\pi S S^{-1} D S = \\alpha S\n",
    "$$"
   ]
  },
  {
   "cell_type": "code",
   "execution_count": 23,
   "id": "ea0d0b93-4c3a-47a3-a0c2-5673344a3f20",
   "metadata": {},
   "outputs": [],
   "source": [
    "function find_similar_map(C,D; max_attempts = 10^3)\n",
    "    attempts = 0\n",
    "    while attempts <= max_attempts\n",
    "        S, Sinv = make_rand_S_matrix()\n",
    "        Cnew = Sinv*C*S\n",
    "        Dnew = Sinv*D*S\n",
    "        is_map = check_is_MAP(Cnew, Dnew)\n",
    "        if is_map\n",
    "            @info \"Found similar map after $attempts attempts\"\n",
    "            return S, Sinv, Cnew, Dnew\n",
    "        end\n",
    "        attempts += 1\n",
    "    end\n",
    "    error(\"did not find a similar one\")\n",
    "end;"
   ]
  },
  {
   "cell_type": "code",
   "execution_count": 25,
   "id": "b95a2141-57e4-439a-8b55-5d5170e87027",
   "metadata": {},
   "outputs": [
    {
     "name": "stderr",
     "output_type": "stream",
     "text": [
      "\u001b[36m\u001b[1m[ \u001b[22m\u001b[39m\u001b[36m\u001b[1mInfo: \u001b[22m\u001b[39mFound similar map after 7 attempts\n"
     ]
    }
   ],
   "source": [
    "Random.seed!(1)\n",
    "S, Sinv, Cnew, Dnew = find_similar_map(C,D);"
   ]
  },
  {
   "cell_type": "code",
   "execution_count": 26,
   "id": "4bb49a8d-64db-4038-8404-7b2ff51d1f2e",
   "metadata": {},
   "outputs": [
    {
     "data": {
      "text/plain": [
       "true"
      ]
     },
     "execution_count": 26,
     "metadata": {},
     "output_type": "execute_result"
    }
   ],
   "source": [
    "check_is_MAP(Cnew, Dnew)"
   ]
  },
  {
   "cell_type": "code",
   "execution_count": 27,
   "id": "9f53605a-125a-4409-9b43-f7d0c4b71b85",
   "metadata": {},
   "outputs": [
    {
     "data": {
      "text/plain": [
       "2×2 Matrix{Float64}:\n",
       " -19.6378   19.6378\n",
       "  10.3622  -10.3622"
      ]
     },
     "execution_count": 27,
     "metadata": {},
     "output_type": "execute_result"
    }
   ],
   "source": [
    "Qnew = Cnew+Dnew"
   ]
  },
  {
   "cell_type": "code",
   "execution_count": 28,
   "id": "f29b98bd-15a8-498e-997e-fec291d808ea",
   "metadata": {},
   "outputs": [
    {
     "data": {
      "text/plain": [
       "2×1 Matrix{Float64}:\n",
       " 0.0\n",
       " 0.0"
      ]
     },
     "execution_count": 28,
     "metadata": {},
     "output_type": "execute_result"
    }
   ],
   "source": [
    "sum(Qnew, dims = 2)"
   ]
  },
  {
   "cell_type": "code",
   "execution_count": 29,
   "id": "9ddfd9a3-dc34-46d3-9f42-2f81be3d01de",
   "metadata": {},
   "outputs": [
    {
     "data": {
      "text/plain": [
       "2×2 Matrix{Float64}:\n",
       " 0.516815  0.483185\n",
       " 0.53244   0.46756"
      ]
     },
     "execution_count": 29,
     "metadata": {},
     "output_type": "execute_result"
    }
   ],
   "source": [
    "Pnew = inv(-Cnew)*Dnew"
   ]
  },
  {
   "cell_type": "code",
   "execution_count": 30,
   "id": "8efa807f-4842-4b3b-8e55-23b20aab8308",
   "metadata": {},
   "outputs": [
    {
     "data": {
      "text/plain": [
       "2×1 Matrix{Float64}:\n",
       " 1.0000000000000004\n",
       " 1.0000000000000004"
      ]
     },
     "execution_count": 30,
     "metadata": {},
     "output_type": "execute_result"
    }
   ],
   "source": [
    "sum(Pnew, dims = 2)"
   ]
  },
  {
   "cell_type": "code",
   "execution_count": 31,
   "id": "5d9d945d-bc0c-4058-b3fd-75f5ea0c654e",
   "metadata": {},
   "outputs": [
    {
     "data": {
      "text/plain": [
       "1×2 adjoint(::Vector{Float64}) with eltype Float64:\n",
       " 0.524248  0.475752"
      ]
     },
     "execution_count": 31,
     "metadata": {},
     "output_type": "execute_result"
    }
   ],
   "source": [
    "αnew = α*S"
   ]
  },
  {
   "cell_type": "code",
   "execution_count": 32,
   "id": "4b857f55-efe5-424d-a1d3-0a246437d04d",
   "metadata": {},
   "outputs": [
    {
     "data": {
      "text/plain": [
       "1×2 adjoint(::Vector{Float64}) with eltype Float64:\n",
       " 2.22045e-16  1.66533e-16"
      ]
     },
     "execution_count": 32,
     "metadata": {},
     "output_type": "execute_result"
    }
   ],
   "source": [
    "αnew*Pnew-αnew"
   ]
  },
  {
   "cell_type": "markdown",
   "id": "2c4d31ae-6971-4f8f-a0a6-65bc392702c2",
   "metadata": {},
   "source": [
    "### Actual probablity law (check on first two intervals)"
   ]
  },
  {
   "cell_type": "code",
   "execution_count": 33,
   "id": "e13ac275-ae8a-4f6a-9b0a-99ec634ad1b1",
   "metadata": {},
   "outputs": [],
   "source": [
    "# single interval (T_0)\n",
    "pdf_original_1(t) = α*exp(C*t)*D*one_vec\n",
    "pdf_new_1(t) = αnew*exp(Cnew*t)*Dnew*one_vec;"
   ]
  },
  {
   "cell_type": "code",
   "execution_count": 34,
   "id": "954fbd40-b27e-419e-8cdd-09a8c8f6af2a",
   "metadata": {},
   "outputs": [
    {
     "data": {
      "text/plain": [
       "3.9968028886505635e-15"
      ]
     },
     "execution_count": 34,
     "metadata": {},
     "output_type": "execute_result"
    }
   ],
   "source": [
    "maximum(abs, [pdf_original_1(t) - pdf_new_1(t) for t in 0:0.01:2.5])"
   ]
  },
  {
   "cell_type": "code",
   "execution_count": 35,
   "id": "201ce079-b7ad-4aa4-ac31-3816e1858cc9",
   "metadata": {},
   "outputs": [],
   "source": [
    "# two intervals (T_0 and T_1)\n",
    "pdf_original_2(t0, t1) = α*exp(C*t0)*D*exp(C*t1)*D*one_vec\n",
    "pdf_new_2(t0, t1) = αnew*exp(Cnew*t0)*Dnew*exp(Cnew*t1)*Dnew*one_vec;"
   ]
  },
  {
   "cell_type": "code",
   "execution_count": 36,
   "id": "fc8079a1-cc9d-45fe-9e81-0fe9f748d35b",
   "metadata": {},
   "outputs": [
    {
     "data": {
      "text/plain": [
       "2.1316282072803006e-14"
      ]
     },
     "execution_count": 36,
     "metadata": {},
     "output_type": "execute_result"
    }
   ],
   "source": [
    "maximum(abs, [pdf_original_2(t0, t1) - pdf_new_2(t0, t1) for t0 in 0:0.01:2.5 for t1 in 0:0.01:2.5])"
   ]
  },
  {
   "cell_type": "markdown",
   "id": "676f525e-083a-40fa-8226-59f0bd4ae82e",
   "metadata": {},
   "source": [
    "### LST"
   ]
  },
  {
   "cell_type": "code",
   "execution_count": 39,
   "id": "8049e99f-6695-420a-b3b6-e39c4abd28e4",
   "metadata": {},
   "outputs": [],
   "source": [
    "function find_LST_params(α, C, D) #currently just for p=2\n",
    "    a0 = det(C)\n",
    "    a1 = -tr(C)\n",
    "    b1 = α*D*one_vec\n",
    "    c11 = α*D*D*one_vec\n",
    "    return (a0, a1, b1, c11)\n",
    "end;"
   ]
  },
  {
   "cell_type": "code",
   "execution_count": 40,
   "id": "7e960bde-4e33-44a4-b86b-021e59f21f43",
   "metadata": {},
   "outputs": [
    {
     "data": {
      "text/plain": [
       "(128.0, 35.0, 5.461538461538462, 29.307692307692307)"
      ]
     },
     "execution_count": 40,
     "metadata": {},
     "output_type": "execute_result"
    }
   ],
   "source": [
    "find_LST_params(α, C, D)"
   ]
  },
  {
   "cell_type": "code",
   "execution_count": 41,
   "id": "aa5cb08a-878e-419e-9763-a793606cc1af",
   "metadata": {},
   "outputs": [
    {
     "data": {
      "text/plain": [
       "(127.99999999999996, 35.0, 5.461538461538463, 29.307692307692317)"
      ]
     },
     "execution_count": 41,
     "metadata": {},
     "output_type": "execute_result"
    }
   ],
   "source": [
    "find_LST_params(αnew, Cnew, Dnew)"
   ]
  },
  {
   "cell_type": "code",
   "execution_count": 62,
   "id": "b73beb56-97df-43f6-a8b4-3251215e4fa6",
   "metadata": {},
   "outputs": [
    {
     "name": "stderr",
     "output_type": "stream",
     "text": [
      "\u001b[36m\u001b[1m[ \u001b[22m\u001b[39m\u001b[36m\u001b[1mInfo: \u001b[22m\u001b[39mFound similar map after 1 attempts\n"
     ]
    },
    {
     "name": "stdout",
     "output_type": "stream",
     "text": [
      "err = 9.944373502435155e-7\n",
      "err = 4.414847616374118e-7"
     ]
    },
    {
     "name": "stderr",
     "output_type": "stream",
     "text": [
      "\u001b[36m\u001b[1m[ \u001b[22m\u001b[39m\u001b[36m\u001b[1mInfo: \u001b[22m\u001b[39mFound similar map after 12 attempts\n"
     ]
    },
    {
     "name": "stdout",
     "output_type": "stream",
     "text": [
      "\n",
      "err = 9.942505130311474e-8"
     ]
    },
    {
     "name": "stderr",
     "output_type": "stream",
     "text": [
      "\u001b[36m\u001b[1m[ \u001b[22m\u001b[39m\u001b[36m\u001b[1mInfo: \u001b[22m\u001b[39mFound similar map after 7 attempts\n"
     ]
    },
    {
     "name": "stdout",
     "output_type": "stream",
     "text": [
      "\n"
     ]
    },
    {
     "data": {
      "text/plain": [
       "3-element Vector{Any}:\n",
       " (128.0, 35.0, 5.4615387, 29.3076933)\n",
       " (128.0, 35.0, 5.4615384, 29.3076919)\n",
       " (128.0, 35.0, 5.4615384, 29.3076922)"
      ]
     },
     "execution_count": 62,
     "metadata": {},
     "output_type": "execute_result"
    }
   ],
   "source": [
    "lst_params = []\n",
    "example_Ss = []\n",
    "for _ in 1:3\n",
    "    S, Sinv, Cnew, Dnew = find_similar_map(C,D)\n",
    "    S = round.(S, digits = 7)\n",
    "    push!(example_Ss, S)\n",
    "    αnew = α*S\n",
    "    new_params = find_LST_params(αnew, Cnew, Dnew)\n",
    "    push!(lst_params, round.(new_params, digits = 7))\n",
    "    pdf_original_2(t0, t1) = α*exp(C*t0)*D*exp(C*t1)*D*one_vec\n",
    "    pdf_new_2(t0, t1) = αnew*exp(Cnew*t0)*Dnew*exp(Cnew*t1)*Dnew*one_vec\n",
    "    err = maximum(abs, [pdf_original_2(t0, t1) - pdf_new_2(t0, t1) for t0 in 0:0.01:2.5 for t1 in 0:0.01:2.5])\n",
    "    @show err\n",
    "end\n",
    "lst_params"
   ]
  },
  {
   "cell_type": "code",
   "execution_count": 61,
   "id": "b384eb96-adab-4da2-ae27-7ca0c22d2448",
   "metadata": {},
   "outputs": [
    {
     "data": {
      "text/plain": [
       "3-element Vector{Any}:\n",
       " [0.070525 0.929475; 0.7364981 0.2635019]\n",
       " [-0.2185026 1.2185026; 1.6593606 -0.6593606]\n",
       " [-0.0374937 1.0374937; 0.9927069 0.0072931]"
      ]
     },
     "execution_count": 61,
     "metadata": {},
     "output_type": "execute_result"
    }
   ],
   "source": [
    "example_Ss"
   ]
  },
  {
   "cell_type": "code",
   "execution_count": 67,
   "id": "939883fb-ba4b-4501-b1d2-050bf3d935f3",
   "metadata": {},
   "outputs": [
    {
     "data": {
      "text/plain": [
       "2-element Vector{Float64}:\n",
       " 1.0\n",
       " 1.0"
      ]
     },
     "execution_count": 67,
     "metadata": {},
     "output_type": "execute_result"
    }
   ],
   "source": [
    "inv(example_Ss[3])*one_vec"
   ]
  },
  {
   "cell_type": "code",
   "execution_count": null,
   "id": "e701d42c-9710-45bd-baab-84dd71628274",
   "metadata": {},
   "outputs": [],
   "source": []
  },
  {
   "cell_type": "code",
   "execution_count": null,
   "id": "490bb414-b9f9-4b54-8ff0-8512d2916c29",
   "metadata": {},
   "outputs": [],
   "source": []
  }
 ],
 "metadata": {
  "kernelspec": {
   "display_name": "Julia 1.11.6",
   "language": "julia",
   "name": "julia-1.11"
  },
  "language_info": {
   "file_extension": ".jl",
   "mimetype": "application/julia",
   "name": "julia",
   "version": "1.11.6"
  }
 },
 "nbformat": 4,
 "nbformat_minor": 5
}
