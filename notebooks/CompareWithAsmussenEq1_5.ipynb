{
 "cells": [
  {
   "cell_type": "code",
   "execution_count": 16,
   "id": "e4ee7f4a-2cdf-45ec-9752-420d3ac0bdd0",
   "metadata": {},
   "outputs": [],
   "source": [
    "using LinearAlgebra"
   ]
  },
  {
   "cell_type": "code",
   "execution_count": 19,
   "id": "555a29ac-d35e-4779-87fc-07004fc19390",
   "metadata": {},
   "outputs": [
    {
     "data": {
      "text/plain": [
       "2×2 Matrix{Float64}:\n",
       " 0.666667  0.333333\n",
       " 0.666667  0.333333"
      ]
     },
     "execution_count": 19,
     "metadata": {},
     "output_type": "execute_result"
    }
   ],
   "source": [
    "Q = [-1 1;\n",
    "     2 -2.];\n",
    "vπ = [2/3 1/3];\n",
    "v1 = [1 ;1];\n",
    "Π = v1*vπ"
   ]
  },
  {
   "cell_type": "code",
   "execution_count": 18,
   "id": "f9a34d7b-bd8e-4b5e-87b3-9175a632c1ba",
   "metadata": {},
   "outputs": [
    {
     "name": "stdout",
     "output_type": "stream",
     "text": [
      "vπ * Q = [0.0 0.0]\n",
      "Q * v1 = [0.0, 0.0]\n"
     ]
    }
   ],
   "source": [
    "@show vπ*Q\n",
    "@show Q*v1;"
   ]
  },
  {
   "cell_type": "code",
   "execution_count": 34,
   "id": "db3007e2-93d2-4e75-9de0-dccff4338535",
   "metadata": {},
   "outputs": [],
   "source": [
    "δ = 0.0001;"
   ]
  },
  {
   "cell_type": "code",
   "execution_count": 35,
   "id": "49938399-9c2c-45bc-8a52-812245af6425",
   "metadata": {},
   "outputs": [
    {
     "data": {
      "text/plain": [
       "D_Q (generic function with 1 method)"
      ]
     },
     "execution_count": 35,
     "metadata": {},
     "output_type": "execute_result"
    }
   ],
   "source": [
    "# transient deviation matrix\n",
    "D_Q(t) = sum((exp(Q*u) - Π)*δ for u in 0:δ:t) "
   ]
  },
  {
   "cell_type": "code",
   "execution_count": 36,
   "id": "84380e68-89ef-4052-ab15-7cb225dba4dd",
   "metadata": {},
   "outputs": [
    {
     "data": {
      "text/plain": [
       "2×2 Matrix{Float64}:\n",
       "  0.111128  -0.111128\n",
       " -0.222256   0.222256"
      ]
     },
     "execution_count": 36,
     "metadata": {},
     "output_type": "execute_result"
    }
   ],
   "source": [
    "# deviation matrix\n",
    "D_Q_∞ = D_Q(30)"
   ]
  },
  {
   "cell_type": "code",
   "execution_count": 37,
   "id": "b3202f03-b7d1-4dc8-88b4-e43de22fd3a4",
   "metadata": {},
   "outputs": [
    {
     "data": {
      "text/plain": [
       "integral_at_question (generic function with 1 method)"
      ]
     },
     "execution_count": 37,
     "metadata": {},
     "output_type": "execute_result"
    }
   ],
   "source": [
    "integral_at_question(t) =  sum(u*exp(Q*u)*δ for u in 0:δ:t) "
   ]
  },
  {
   "cell_type": "code",
   "execution_count": 38,
   "id": "03b2e2f6-ada3-411e-ac39-21ff7d15db1c",
   "metadata": {},
   "outputs": [
    {
     "data": {
      "text/plain": [
       "our_expression (generic function with 1 method)"
      ]
     },
     "execution_count": 38,
     "metadata": {},
     "output_type": "execute_result"
    }
   ],
   "source": [
    "our_expression(t) = t^2/2*Π + t*(D_Q(t) - D_Q_∞) + D_Q(t)*D_Q_∞"
   ]
  },
  {
   "cell_type": "code",
   "execution_count": 40,
   "id": "41ed5750-62d7-42f8-99bf-876d9d11e43e",
   "metadata": {},
   "outputs": [
    {
     "data": {
      "text/plain": [
       "assmussen_expression (generic function with 1 method)"
      ]
     },
     "execution_count": 40,
     "metadata": {},
     "output_type": "execute_result"
    }
   ],
   "source": [
    "#Taken from eq. 1.5 in page 305, and translated to our notation\n",
    "assmussen_expression(t) = t^2/2*Π + t*(Π + D_Q(t)) + D_Q(t)*D_Q_∞"
   ]
  },
  {
   "cell_type": "code",
   "execution_count": 42,
   "id": "7cc55405-bd91-4455-8052-ddaa3c43fe8f",
   "metadata": {},
   "outputs": [
    {
     "data": {
      "text/plain": [
       "2×2 Matrix{Float64}:\n",
       " -7.88872e-5   -5.61128e-5\n",
       " -0.000112226  -2.27744e-5"
      ]
     },
     "execution_count": 42,
     "metadata": {},
     "output_type": "execute_result"
    }
   ],
   "source": [
    "# ours appears correct\n",
    "our_expression(2.7) - integral_at_question(2.7)"
   ]
  },
  {
   "cell_type": "code",
   "execution_count": 43,
   "id": "48214bbb-5476-4101-a31f-104c0b656d23",
   "metadata": {},
   "outputs": [
    {
     "data": {
      "text/plain": [
       "2×2 Matrix{Float64}:\n",
       " 2.09997  0.599899\n",
       " 1.1998   1.50007"
      ]
     },
     "execution_count": 43,
     "metadata": {},
     "output_type": "execute_result"
    }
   ],
   "source": [
    "#asmussen's appears wronge\n",
    "assmussen_expression(2.7) - integral_at_question(2.7)"
   ]
  },
  {
   "cell_type": "code",
   "execution_count": 47,
   "id": "7a1a8fa8-9f23-45ca-8dbf-ce61d4d9a558",
   "metadata": {},
   "outputs": [
    {
     "data": {
      "text/plain": [
       "assmussen_linear_asymptote_expression (generic function with 1 method)"
      ]
     },
     "execution_count": 47,
     "metadata": {},
     "output_type": "execute_result"
    }
   ],
   "source": [
    "assmussen_linear_asymptote_expression(t) = t^2/2*Π - t*D_Q_∞ + D_Q_∞^2 + Π"
   ]
  },
  {
   "cell_type": "code",
   "execution_count": 48,
   "id": "8ec70ef4-8ec9-41eb-8dec-f60501bbbef1",
   "metadata": {},
   "outputs": [
    {
     "data": {
      "text/plain": [
       "2×2 Matrix{Float64}:\n",
       " 34.9224  19.1226\n",
       " 38.2451  15.7999"
      ]
     },
     "execution_count": 48,
     "metadata": {},
     "output_type": "execute_result"
    }
   ],
   "source": [
    "assmussen_linear_asymptote_expression(10.3)"
   ]
  },
  {
   "cell_type": "code",
   "execution_count": 49,
   "id": "d5d812c4-1cbc-44b3-9b4c-34e127fe6df0",
   "metadata": {},
   "outputs": [
    {
     "data": {
      "text/plain": [
       "2×2 Matrix{Float64}:\n",
       " 43.4117  19.9333\n",
       " 39.8667  23.4783"
      ]
     },
     "execution_count": 49,
     "metadata": {},
     "output_type": "execute_result"
    }
   ],
   "source": [
    "assmussen_expression(10.3)"
   ]
  },
  {
   "cell_type": "code",
   "execution_count": 51,
   "id": "28c3ae2d-67df-4fc3-a3c8-20750dc1af3a",
   "metadata": {},
   "outputs": [
    {
     "data": {
      "text/plain": [
       "2×2 Matrix{Float64}:\n",
       " 0.666667  0.333333\n",
       " 0.666667  0.333333"
      ]
     },
     "execution_count": 51,
     "metadata": {},
     "output_type": "execute_result"
    }
   ],
   "source": [
    "exp(Q*100.3)"
   ]
  },
  {
   "cell_type": "code",
   "execution_count": 54,
   "id": "226ee400-b61c-406c-9714-64c57b7c6e16",
   "metadata": {},
   "outputs": [
    {
     "data": {
      "text/plain": [
       "2×2 Matrix{Float64}:\n",
       " -0.777778  -0.222222\n",
       " -0.444444  -0.555556"
      ]
     },
     "execution_count": 54,
     "metadata": {},
     "output_type": "execute_result"
    }
   ],
   "source": [
    "Λminus = inv(Q - Π) #Same as -D_Q_∞ - Π "
   ]
  },
  {
   "cell_type": "code",
   "execution_count": 59,
   "id": "e55a15ee-efb4-417b-9b0b-168e7519e7ea",
   "metadata": {},
   "outputs": [
    {
     "data": {
      "text/plain": [
       "assmussen_original (generic function with 1 method)"
      ]
     },
     "execution_count": 59,
     "metadata": {},
     "output_type": "execute_result"
    }
   ],
   "source": [
    "assmussen_original(t) = t^2/2*Π + t*(Π + Λminus*(exp(Q*t)-I)) - Λminus^2*(exp(Q*t)-I)"
   ]
  },
  {
   "cell_type": "code",
   "execution_count": 62,
   "id": "d9a20483-c5ee-4266-92ee-f06932745aad",
   "metadata": {},
   "outputs": [
    {
     "data": {
      "text/plain": [
       "2×2 Matrix{Float64}:\n",
       " -2.42084e-5   2.42084e-5\n",
       "  4.84167e-5  -4.84167e-5"
      ]
     },
     "execution_count": 62,
     "metadata": {},
     "output_type": "execute_result"
    }
   ],
   "source": [
    "assmussen_original(0.7) - assmussen_expression(0.7) #our translation of assmussen is ok"
   ]
  },
  {
   "cell_type": "code",
   "execution_count": 63,
   "id": "31395f15-fc57-4dc1-a253-45d5ff66d3b4",
   "metadata": {},
   "outputs": [
    {
     "data": {
      "text/plain": [
       "assmussen_linear_asymptote_original (generic function with 1 method)"
      ]
     },
     "execution_count": 63,
     "metadata": {},
     "output_type": "execute_result"
    }
   ],
   "source": [
    "assmussen_linear_asymptote_original(t) = t^2/2*Π + t*(Π - Λminus) + Λminus^2"
   ]
  },
  {
   "cell_type": "code",
   "execution_count": 65,
   "id": "d924a2c7-4142-459a-a2d4-05b7e78485b2",
   "metadata": {},
   "outputs": [
    {
     "data": {
      "text/plain": [
       "2×2 Matrix{Float64}:\n",
       " 157.891    45.1094\n",
       "  90.2189  112.781"
      ]
     },
     "execution_count": 65,
     "metadata": {},
     "output_type": "execute_result"
    }
   ],
   "source": [
    "assmussen_linear_asymptote_original(101.5) - assmussen_linear_asymptote_expression(101.5)"
   ]
  },
  {
   "cell_type": "code",
   "execution_count": null,
   "id": "05250b70-bf88-4181-8e69-e51ef5e7c607",
   "metadata": {},
   "outputs": [],
   "source": []
  }
 ],
 "metadata": {
  "kernelspec": {
   "display_name": "Julia 1.10.4",
   "language": "julia",
   "name": "julia-1.10"
  },
  "language_info": {
   "file_extension": ".jl",
   "mimetype": "application/julia",
   "name": "julia",
   "version": "1.10.4"
  }
 },
 "nbformat": 4,
 "nbformat_minor": 5
}
