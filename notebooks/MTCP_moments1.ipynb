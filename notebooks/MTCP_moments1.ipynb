{
 "cells": [
  {
   "cell_type": "code",
   "execution_count": 1,
   "id": "dba9d620-dfac-423e-82ca-33ef83f43340",
   "metadata": {},
   "outputs": [],
   "source": [
    "using LinearAlgebra\n",
    "using QuadGK\n",
    "using Plots"
   ]
  },
  {
   "cell_type": "code",
   "execution_count": 2,
   "id": "eca7471c-bf58-40ac-b0c6-59870429fe02",
   "metadata": {},
   "outputs": [],
   "source": [
    "maxevals = 10^2;"
   ]
  },
  {
   "cell_type": "code",
   "execution_count": 3,
   "id": "500b8764-30dd-4b33-a5d6-28b2860f8f9b",
   "metadata": {},
   "outputs": [
    {
     "data": {
      "text/plain": [
       "(0.3333333333333333, 0.0)"
      ]
     },
     "execution_count": 3,
     "metadata": {},
     "output_type": "execute_result"
    }
   ],
   "source": [
    "quadgk((x)->x^2,0,1; maxevals)"
   ]
  },
  {
   "cell_type": "markdown",
   "id": "10275309-46b0-4e2e-aa0a-6ae828dedf0c",
   "metadata": {},
   "source": [
    "$$\n",
    "\\pi Q = 0\n",
    "$$\n",
    "\n",
    "$$\n",
    "Q^\\top \\pi^\\top = 0 \n",
    "$$\n",
    "\n",
    "$$\n",
    "{\\mathbf 1}^\\top \\pi^\\top = 1\n",
    "$$"
   ]
  },
  {
   "cell_type": "code",
   "execution_count": 4,
   "id": "46009835-af81-4fd8-8847-77f0ddfc1e7b",
   "metadata": {},
   "outputs": [],
   "source": [
    "Q = [-2 1.0 1;\n",
    "      1 -2 1;\n",
    "      2 2 -4]\n",
    "\n",
    "D = [1 1 0.5;\n",
    "     0.5 0 1;\n",
    "      2 1 0];"
   ]
  },
  {
   "cell_type": "code",
   "execution_count": 5,
   "id": "deebb54c-aa87-4497-9ebf-8082815c37f8",
   "metadata": {},
   "outputs": [
    {
     "data": {
      "text/plain": [
       "3×3 Matrix{Float64}:\n",
       " -2.0   1.0  2.0\n",
       "  1.0  -2.0  2.0\n",
       "  1.0   1.0  1.0"
      ]
     },
     "execution_count": 5,
     "metadata": {},
     "output_type": "execute_result"
    }
   ],
   "source": [
    "b = vcat(zeros(2), ones(1));\n",
    "A = vcat(Q'[1:2,:], ones(3)')"
   ]
  },
  {
   "cell_type": "code",
   "execution_count": 6,
   "id": "b9667f4d-4c10-4ce6-90a5-66f9a44df6b0",
   "metadata": {},
   "outputs": [
    {
     "data": {
      "text/plain": [
       "1×3 adjoint(::Vector{Float64}) with eltype Float64:\n",
       " 0.4  0.4  0.2"
      ]
     },
     "execution_count": 6,
     "metadata": {},
     "output_type": "execute_result"
    }
   ],
   "source": [
    "π_vec = round.(A \\ b, digits=2)'"
   ]
  },
  {
   "cell_type": "code",
   "execution_count": 7,
   "id": "9faac0f8-3632-4ea4-bf0e-f7c6d3849885",
   "metadata": {},
   "outputs": [
    {
     "data": {
      "text/plain": [
       "1×3 adjoint(::Vector{Float64}) with eltype Float64:\n",
       " 0.0  0.0  0.0"
      ]
     },
     "execution_count": 7,
     "metadata": {},
     "output_type": "execute_result"
    }
   ],
   "source": [
    "π_vec*Q"
   ]
  },
  {
   "cell_type": "code",
   "execution_count": 8,
   "id": "0ccce9cc-d576-4815-abc8-91a84ce3ab34",
   "metadata": {},
   "outputs": [],
   "source": [
    "one_vec = ones(3);"
   ]
  },
  {
   "cell_type": "markdown",
   "id": "0622e299-81bb-45c7-9181-741b8582318d",
   "metadata": {},
   "source": [
    "$$\n",
    "M_3(t)  = 6 \\int_0^t \\int_0^{u_3} \n",
    "\\underbrace{\\int_0^{u_2} \n",
    "\\underbrace{e^{Q u_1} D e^{Q (u_2 - u_1)} D e^{Q (u_3 - u_2)} D e^{Q (t - u_3)}}_{I_0(u_1,u_2,u_3)} \\, du_1}_{I_1} \\, du_2 \\, du_3.\n",
    "$$"
   ]
  },
  {
   "cell_type": "code",
   "execution_count": 9,
   "id": "11f2c8c6-48b3-4042-a191-e040db594757",
   "metadata": {},
   "outputs": [
    {
     "data": {
      "text/plain": [
       "third_moment (generic function with 1 method)"
      ]
     },
     "execution_count": 9,
     "metadata": {},
     "output_type": "execute_result"
    }
   ],
   "source": [
    "maxevals = 10^3;\n",
    "I0(u1,u2,u3,t) = exp(Q*u1)*D*exp(Q*(u2-u1))*D*exp(Q*(u3-u2))*D*exp(Q*(t-u3))\n",
    "I1(u2,u3,t) = quadgk((u1)->I0(u1,u2,u3,t), 0, u2; maxevals = maxevals)[1]\n",
    "I2(u3,t) = quadgk((u2)->I1(u2,u3,t), 0, u3; maxevals = maxevals)[1]\n",
    "I3(t) = quadgk((u3)->I2(u3,t),0,t; maxevals = maxevals)[1]\n",
    "M3(t) = 6*I3(t)\n",
    "third_moment(t) = π_vec*M3(t)*one_vec"
   ]
  },
  {
   "cell_type": "code",
   "execution_count": 10,
   "id": "0dcc998b-a4ad-404c-ae96-3799249bc9f3",
   "metadata": {},
   "outputs": [
    {
     "name": "stdout",
     "output_type": "stream",
     "text": [
      " 22.323188 seconds (276.85 M allocations: 12.919 GiB, 4.83% gc time, 99.92% compilation time)\n"
     ]
    },
    {
     "data": {
      "text/plain": [
       "15.077745680967237"
      ]
     },
     "execution_count": 10,
     "metadata": {},
     "output_type": "execute_result"
    }
   ],
   "source": [
    "@time third_moment(1.1)"
   ]
  },
  {
   "cell_type": "markdown",
   "id": "189e47e5-fd26-435d-8616-54b0ea4760a3",
   "metadata": {},
   "source": [
    "#### Also doing second moment - just to be sure"
   ]
  },
  {
   "cell_type": "markdown",
   "id": "f897d3ed-df83-40a7-b3dd-0cbff1da1681",
   "metadata": {},
   "source": [
    "$$\n",
    "M_2(t)  = 2 \\int_0^t \\int_0^{u_2} e^{Q u_1} D e^{Q (u_2 - u_1)} D e^{Q (t - u_2)} \\, du_1 \\, du_2, \\\\\n",
    "$$"
   ]
  },
  {
   "cell_type": "code",
   "execution_count": 11,
   "id": "f6a17e03-1839-4df2-9d68-c3c6a50dc206",
   "metadata": {},
   "outputs": [
    {
     "data": {
      "text/plain": [
       "second_moment (generic function with 1 method)"
      ]
     },
     "execution_count": 11,
     "metadata": {},
     "output_type": "execute_result"
    }
   ],
   "source": [
    "maxevals = 10^3;\n",
    "I0_2(u1,u2,t) = exp(Q*u1)*D*exp(Q*(u2-u1))*D*exp(Q*(t-u2))\n",
    "I1_2(u2,t) = quadgk((u1)->I0_2(u1,u2,t), 0, u2; maxevals = maxevals)[1]\n",
    "I2_2(t) = quadgk((u2)->I1_2(u2,t), 0, t; maxevals = maxevals)[1]\n",
    "M2(t) = 2*I2_2(t)\n",
    "second_moment(t) = π_vec*M2(t)*one_vec"
   ]
  },
  {
   "cell_type": "code",
   "execution_count": 12,
   "id": "073d9a32-bd7b-4f66-b70a-618a90ebab1c",
   "metadata": {},
   "outputs": [
    {
     "name": "stdout",
     "output_type": "stream",
     "text": [
      "  0.148292 seconds (1.33 M allocations: 66.684 MiB, 99.44% compilation time)\n"
     ]
    },
    {
     "data": {
      "text/plain": [
       "6.017913784781134"
      ]
     },
     "execution_count": 12,
     "metadata": {},
     "output_type": "execute_result"
    }
   ],
   "source": [
    "@time second_moment(1.1)"
   ]
  },
  {
   "cell_type": "markdown",
   "id": "9732d49b-ce09-43ca-b078-4fba9a3f4f2a",
   "metadata": {},
   "source": [
    "## Deviation Matrices"
   ]
  },
  {
   "cell_type": "code",
   "execution_count": 13,
   "id": "c6249a65-33a8-44a8-a5f9-9d59780d13bc",
   "metadata": {},
   "outputs": [
    {
     "data": {
      "text/plain": [
       "3×3 Matrix{Float64}:\n",
       " 0.586667  0.253333  0.16\n",
       " 0.253333  0.586667  0.16\n",
       " 0.32      0.32      0.36"
      ]
     },
     "execution_count": 13,
     "metadata": {},
     "output_type": "execute_result"
    }
   ],
   "source": [
    "Q⁻ = inv(one_vec*π_vec - Q) #fundamental matrix"
   ]
  },
  {
   "cell_type": "code",
   "execution_count": 14,
   "id": "5e1349ed-5b8b-43cb-b53e-d585b1b1649b",
   "metadata": {},
   "outputs": [
    {
     "data": {
      "text/plain": [
       "3×3 Matrix{Float64}:\n",
       "  0.186667  -0.146667  -0.04\n",
       " -0.146667   0.186667  -0.04\n",
       " -0.08      -0.08       0.16"
      ]
     },
     "execution_count": 14,
     "metadata": {},
     "output_type": "execute_result"
    }
   ],
   "source": [
    "Dʰ = Q⁻-one_vec*π_vec"
   ]
  },
  {
   "cell_type": "code",
   "execution_count": 15,
   "id": "558cd4b4-9ad7-4e44-8187-229b58ccf667",
   "metadata": {},
   "outputs": [
    {
     "data": {
      "text/plain": [
       "3-element Vector{Float64}:\n",
       " -1.1102230246251565e-16\n",
       " -2.498001805406602e-16\n",
       " -2.7755575615628914e-16"
      ]
     },
     "execution_count": 15,
     "metadata": {},
     "output_type": "execute_result"
    }
   ],
   "source": [
    "Dʰ*one_vec #should be 0"
   ]
  },
  {
   "cell_type": "code",
   "execution_count": 16,
   "id": "18ed47a0-88df-4df6-aea3-af861ea197ed",
   "metadata": {},
   "outputs": [
    {
     "data": {
      "text/plain": [
       "1×3 adjoint(::Vector{Float64}) with eltype Float64:\n",
       " -4.94604e-17  -1.02196e-16  -5.65104e-17"
      ]
     },
     "execution_count": 16,
     "metadata": {},
     "output_type": "execute_result"
    }
   ],
   "source": [
    "π_vec*Dʰ#should be 0"
   ]
  },
  {
   "cell_type": "code",
   "execution_count": 17,
   "id": "f11f9837-785c-4e5e-a0fe-5e3dcad5bf26",
   "metadata": {},
   "outputs": [
    {
     "data": {
      "text/plain": [
       "Dʰₜ (generic function with 1 method)"
      ]
     },
     "execution_count": 17,
     "metadata": {},
     "output_type": "execute_result"
    }
   ],
   "source": [
    "Dʰₜ(t) = Dʰ*(I-exp(Q*t))"
   ]
  },
  {
   "cell_type": "code",
   "execution_count": 18,
   "id": "a366e7bd-ed7e-4604-82da-b7d0c691b184",
   "metadata": {},
   "outputs": [
    {
     "data": {
      "text/plain": [
       "numerical_check_trans_deviation (generic function with 1 method)"
      ]
     },
     "execution_count": 18,
     "metadata": {},
     "output_type": "execute_result"
    }
   ],
   "source": [
    "numerical_check_trans_deviation(t) = quadgk((u)->(exp(Q*u) - one_vec*π_vec), 0,t)[1]"
   ]
  },
  {
   "cell_type": "code",
   "execution_count": 19,
   "id": "ddac37da-db6c-40ab-9f88-d42b780fad7d",
   "metadata": {},
   "outputs": [
    {
     "data": {
      "text/plain": [
       "3×3 Matrix{Float64}:\n",
       "  0.183263   -0.143323   -0.0399399\n",
       " -0.143323    0.183263   -0.0399399\n",
       " -0.0798797  -0.0798797   0.159759"
      ]
     },
     "execution_count": 19,
     "metadata": {},
     "output_type": "execute_result"
    }
   ],
   "source": [
    "numerical_check_trans_deviation(1.3)"
   ]
  },
  {
   "cell_type": "code",
   "execution_count": 20,
   "id": "5fb9b561-93a4-480d-a912-cd5039d8371b",
   "metadata": {},
   "outputs": [
    {
     "data": {
      "text/plain": [
       "3×3 Matrix{Float64}:\n",
       "  0.183263   -0.143323   -0.0399399\n",
       " -0.143323    0.183263   -0.0399399\n",
       " -0.0798797  -0.0798797   0.159759"
      ]
     },
     "execution_count": 20,
     "metadata": {},
     "output_type": "execute_result"
    }
   ],
   "source": [
    "Dʰₜ(1.3)"
   ]
  },
  {
   "cell_type": "markdown",
   "id": "5ee81d8b-b3f4-4c13-8d30-d204f373597c",
   "metadata": {},
   "source": [
    "### First moment and its integral"
   ]
  },
  {
   "cell_type": "markdown",
   "id": "34087d67-ec60-4c32-87ca-b5aa6e2ce281",
   "metadata": {},
   "source": [
    "$$\n",
    "M_1(t) = \\int_0^t e^{Q u_1} D e^{Q (t - u_1)} \\, du_1\n",
    "$$\n"
   ]
  },
  {
   "cell_type": "code",
   "execution_count": 21,
   "id": "c669d188-6a50-4840-aa99-b455de69b8fd",
   "metadata": {},
   "outputs": [],
   "source": [
    "m1_integrand(u1,t) = exp(Q*u1)*D*exp(Q*(t-u1))\n",
    "m1(t) = quadgk((u1)->m1_integrand(u1,t), 0, t, maxevals = maxevals)[1];"
   ]
  },
  {
   "cell_type": "code",
   "execution_count": 22,
   "id": "5be34d26-46ee-4c76-a420-11a6a79b2241",
   "metadata": {},
   "outputs": [
    {
     "data": {
      "text/plain": [
       "3×3 Matrix{Float64}:\n",
       " 2.12496  1.99241  1.06913\n",
       " 1.99216  1.85846  1.00288\n",
       " 2.13876  2.00526  1.07598"
      ]
     },
     "execution_count": 22,
     "metadata": {},
     "output_type": "execute_result"
    }
   ],
   "source": [
    "m1(2.3)"
   ]
  },
  {
   "cell_type": "code",
   "execution_count": 23,
   "id": "3dc5cf88-eddf-4bf7-b383-581db352097b",
   "metadata": {},
   "outputs": [],
   "source": [
    "integral_m1(t) = quadgk(m1, 0, t, maxevals = maxevals)[1];"
   ]
  },
  {
   "cell_type": "code",
   "execution_count": 24,
   "id": "a3d85c8f-7b67-49aa-9d2f-56145904b21e",
   "metadata": {},
   "outputs": [
    {
     "data": {
      "text/plain": [
       "3×3 Matrix{Float64}:\n",
       " 2.51174  2.287    1.26409\n",
       " 2.25375  1.97391  1.17951\n",
       " 2.59468  2.29251  1.2678"
      ]
     },
     "execution_count": 24,
     "metadata": {},
     "output_type": "execute_result"
    }
   ],
   "source": [
    "integral_m1(2.3)"
   ]
  },
  {
   "cell_type": "markdown",
   "id": "981778f8-5c5b-4d7b-9bb5-e52f3bbd58f2",
   "metadata": {},
   "source": [
    "### Checking our expressions"
   ]
  },
  {
   "cell_type": "code",
   "execution_count": 25,
   "id": "83b13870-774c-43aa-80d5-b9a53bd22807",
   "metadata": {},
   "outputs": [
    {
     "data": {
      "text/plain": [
       "2.2"
      ]
     },
     "execution_count": 25,
     "metadata": {},
     "output_type": "execute_result"
    }
   ],
   "source": [
    "πD1 = π_vec*D*one_vec"
   ]
  },
  {
   "cell_type": "code",
   "execution_count": 26,
   "id": "105277ff-6ee5-4cea-8f16-dedec0e6a148",
   "metadata": {},
   "outputs": [
    {
     "data": {
      "text/plain": [
       "1×3 adjoint(::Vector{Float64}) with eltype Float64:\n",
       " 1.0  0.6  0.6"
      ]
     },
     "execution_count": 26,
     "metadata": {},
     "output_type": "execute_result"
    }
   ],
   "source": [
    "πD = π_vec*D"
   ]
  },
  {
   "cell_type": "code",
   "execution_count": 27,
   "id": "a5174b9f-2a5a-4013-9121-64b75283de1d",
   "metadata": {},
   "outputs": [
    {
     "data": {
      "text/plain": [
       "3-element Vector{Float64}:\n",
       " 2.5\n",
       " 1.5\n",
       " 3.0"
      ]
     },
     "execution_count": 27,
     "metadata": {},
     "output_type": "execute_result"
    }
   ],
   "source": [
    "D1 = D*one_vec"
   ]
  },
  {
   "cell_type": "markdown",
   "id": "7336b30b-fd54-42d9-85e1-e90e74477e3f",
   "metadata": {},
   "source": [
    "##### Second moment"
   ]
  },
  {
   "cell_type": "markdown",
   "id": "71d72c22-3e64-43c5-bad8-d0a32cbebb78",
   "metadata": {},
   "source": [
    "$$\n",
    "\\boldsymbol{\\pi} M_2(t) \\mathbf{1} =\n",
    " (\\boldsymbol{\\pi} D  \\mathbf{1} )^2 t^2 \n",
    " +  2\\boldsymbol{\\pi} D D^{\\sharp}_{Q}  D \\mathbf{1}t\n",
    " -  2 \\boldsymbol{\\pi} D D^{\\sharp}_{Q}  D^{\\sharp}_{Q}(t)\n",
    " D \\mathbf{1}\n",
    "$$"
   ]
  },
  {
   "cell_type": "code",
   "execution_count": 28,
   "id": "05d60a94-2076-457b-8196-be500540a7e7",
   "metadata": {},
   "outputs": [],
   "source": [
    "our_second_moment(t) = πD1^2*t^2 + 2πD*Dʰ*D1*t - 2*π_vec*D*Dʰ*Dʰₜ(t)*D1;"
   ]
  },
  {
   "cell_type": "code",
   "execution_count": 29,
   "id": "d5d62e4e-6233-43d9-89a6-f5845a272e64",
   "metadata": {},
   "outputs": [
    {
     "data": {
      "text/plain": [
       "26.00026714235093"
      ]
     },
     "execution_count": 29,
     "metadata": {},
     "output_type": "execute_result"
    }
   ],
   "source": [
    "our_second_moment(2.3)"
   ]
  },
  {
   "cell_type": "code",
   "execution_count": 30,
   "id": "3fe2ece0-470a-4a67-8ccf-014ef56af0bb",
   "metadata": {},
   "outputs": [
    {
     "data": {
      "text/plain": [
       "26.000267142350936"
      ]
     },
     "execution_count": 30,
     "metadata": {},
     "output_type": "execute_result"
    }
   ],
   "source": [
    "second_moment(2.3)"
   ]
  },
  {
   "cell_type": "code",
   "execution_count": 31,
   "id": "8b8beb8a-9bac-4c42-8ae2-55383805dd80",
   "metadata": {},
   "outputs": [
    {
     "data": {
      "text/plain": [
       "4.841967608888889"
      ]
     },
     "execution_count": 31,
     "metadata": {},
     "output_type": "execute_result"
    }
   ],
   "source": [
    "our_second_moment(100)/100^2"
   ]
  },
  {
   "cell_type": "code",
   "execution_count": 32,
   "id": "b55b04d4-f3b2-4cc5-9fae-6dc51e34b4ae",
   "metadata": {},
   "outputs": [
    {
     "data": {
      "text/plain": [
       "4.841967608888879"
      ]
     },
     "execution_count": 32,
     "metadata": {},
     "output_type": "execute_result"
    }
   ],
   "source": [
    "second_moment(100)/100^2"
   ]
  },
  {
   "cell_type": "code",
   "execution_count": 33,
   "id": "78968de4-174e-4143-95d1-6356d039da69",
   "metadata": {},
   "outputs": [
    {
     "data": {
      "text/plain": [
       "0.19676088888882076"
      ]
     },
     "execution_count": 33,
     "metadata": {},
     "output_type": "execute_result"
    }
   ],
   "source": [
    "(our_second_moment(100) - πD1^2*100^2) /100"
   ]
  },
  {
   "cell_type": "code",
   "execution_count": 34,
   "id": "2b8b7ee4-55a3-4f2a-afb5-86b0836052d6",
   "metadata": {},
   "outputs": [
    {
     "data": {
      "text/plain": [
       "0.1967608888878749"
      ]
     },
     "execution_count": 34,
     "metadata": {},
     "output_type": "execute_result"
    }
   ],
   "source": [
    "(second_moment(100) - πD1^2*100^2) /100"
   ]
  },
  {
   "cell_type": "code",
   "execution_count": 35,
   "id": "6ba925c3-c28b-42ed-bbf6-1f5b072ed9c4",
   "metadata": {},
   "outputs": [
    {
     "data": {
      "text/plain": [
       "-0.05724444445107579"
      ]
     },
     "execution_count": 35,
     "metadata": {},
     "output_type": "execute_result"
    }
   ],
   "source": [
    "(our_second_moment(100) - πD1^2*100^2 - 2πD*Dʰ*D1*100)"
   ]
  },
  {
   "cell_type": "code",
   "execution_count": 36,
   "id": "d1ef7a7f-9d06-446e-819a-ab72f4401790",
   "metadata": {},
   "outputs": [
    {
     "data": {
      "text/plain": [
       "-0.05724444454566324"
      ]
     },
     "execution_count": 36,
     "metadata": {},
     "output_type": "execute_result"
    }
   ],
   "source": [
    "(second_moment(100) - πD1^2*100^2 - 2πD*Dʰ*D1*100)"
   ]
  },
  {
   "cell_type": "code",
   "execution_count": 37,
   "id": "5eab28a3-7cb1-4a40-997d-c2680549bfe3",
   "metadata": {},
   "outputs": [
    {
     "name": "stdout",
     "output_type": "stream",
     "text": [
      "(t, ours[i] - numerical[i]) = (1.0, -2.6645352591003757e-15)\n",
      "(t, ours[i] - numerical[i]) = (1.5, 0.0)\n",
      "(t, ours[i] - numerical[i]) = (2.0, -3.552713678800501e-15)\n",
      "(t, ours[i] - numerical[i]) = (2.5, -7.105427357601002e-15)\n",
      "(t, ours[i] - numerical[i]) = (3.0, 0.0)\n",
      "(t, ours[i] - numerical[i]) = (3.5, -1.4210854715202004e-14)\n",
      "(t, ours[i] - numerical[i]) = (4.0, 0.0)\n",
      "(t, ours[i] - numerical[i]) = (4.5, 0.0)\n",
      "(t, ours[i] - numerical[i]) = (5.0, -2.842170943040401e-14)\n",
      "(t, ours[i] - numerical[i]) = (5.5, 0.0)\n",
      "(t, ours[i] - numerical[i]) = (6.0, 5.684341886080802e-14)\n",
      "(t, ours[i] - numerical[i]) = (6.5, 2.842170943040401e-14)\n",
      "(t, ours[i] - numerical[i]) = (7.0, 2.842170943040401e-14)\n",
      "(t, ours[i] - numerical[i]) = (7.5, 0.0)\n",
      "(t, ours[i] - numerical[i]) = (8.0, 5.684341886080802e-14)\n",
      "(t, ours[i] - numerical[i]) = (8.5, 5.684341886080802e-14)\n",
      "(t, ours[i] - numerical[i]) = (9.0, 1.1368683772161603e-13)\n",
      "(t, ours[i] - numerical[i]) = (9.5, -1.7053025658242404e-13)\n",
      "(t, ours[i] - numerical[i]) = (10.0, -5.684341886080802e-14)\n"
     ]
    }
   ],
   "source": [
    "t_range = 1:0.5:10\n",
    "ours = [our_second_moment(t) for t in t_range]\n",
    "numerical = [second_moment(t) for t in t_range]\n",
    "for (i,t) in enumerate(t_range)\n",
    "    # @show t, ours[i], numerical[i], ours[i]- numerical[i]\n",
    "    @show t, ours[i]- numerical[i]\n",
    "\n",
    "end"
   ]
  },
  {
   "cell_type": "markdown",
   "id": "cc51eea3-c31b-4c91-ad59-28511898b089",
   "metadata": {},
   "source": [
    "##### Third moment"
   ]
  },
  {
   "cell_type": "markdown",
   "id": "b67edc6f-da0c-4ba2-82ac-6e4f930804db",
   "metadata": {},
   "source": [
    "$$\n",
    "{\\pi} M_3(t) \\mathbf{1}= \n",
    "({\\pi} D\\mathbf{1})^3\n",
    "t^3\n",
    "+\n",
    "6{\\pi} D \\mathbf{1} {\\pi} D D_Q^\\sharp D \n",
    "\\mathbf{1}\n",
    "t^2\n",
    "-\n",
    "6{\\pi} D\n",
    "\\big(\n",
    " \\mathbf{1} {\\pi} D (D_Q^\\sharp)^2\n",
    "-\n",
    " D_Q^\\sharp D D_Q^\\sharp  \n",
    "\\big)\n",
    "D \\mathbf{1}\n",
    "t\n",
    "-\n",
    "6{\\pi} D\n",
    "\\big(  \\mathbf{1} {\\pi} D (D_Q^\\sharp)^2 \n",
    "+\n",
    " D_Q^\\sharp D D_Q^\\sharp \n",
    " \\big)\n",
    " D_Q^\\sharp(t)\n",
    " D \\mathbf{1}\n",
    "- \n",
    " 6{\\pi} D D^\\sharp_Q\n",
    " \\int_0^t M_1(u) du D \\mathbf{1}\n",
    "$$"
   ]
  },
  {
   "cell_type": "markdown",
   "id": "7bdfdecb-f8ab-490b-bb99-2d37b7688c66",
   "metadata": {},
   "source": [
    "#### Exploring the integral of M1\n",
    "Seems like integral components grow qudaratically but our bilinear form of it grows linearly"
   ]
  },
  {
   "cell_type": "code",
   "execution_count": 99,
   "id": "8ea9880e-d2c6-4bf3-a4f2-93091d5a45c8",
   "metadata": {},
   "outputs": [
    {
     "data": {
      "text/plain": [
       "3×3 Matrix{Float64}:\n",
       " 4410.08  4396.83  2205.7\n",
       " 4396.8   4383.49  2199.1\n",
       " 4411.47  4398.14  2206.36"
      ]
     },
     "execution_count": 99,
     "metadata": {},
     "output_type": "execute_result"
    }
   ],
   "source": [
    "integral_m1(100)"
   ]
  },
  {
   "cell_type": "code",
   "execution_count": 128,
   "id": "6a723d3c-2ecf-4607-9200-ed9e162ad1ef",
   "metadata": {},
   "outputs": [
    {
     "data": {
      "image/png": "[encoded data removed]",
      "image/svg+xml": [
       "<?xml version=\"1.0\" encoding=\"utf-8\"?>\n",
       "<svg xmlns=\"http://www.w3.org/2000/svg\" xmlns:xlink=\"http://www.w3.org/1999/xlink\" width=\"600\" height=\"400\" viewBox=\"0 0 2400 1600\">\n",
       "<defs>\n",
       "  <clipPath id=\"clip980\">\n",
       "    <rect x=\"0\" y=\"0\" width=\"2400\" height=\"1600\"/>\n",
       "  </clipPath>\n",
       "</defs>\n",
       "<path clip-path=\"url(#clip980)\" d=\"M0 1600 L2400 1600 L2400 8.88178e-14 L0 8.88178e-14  Z\" fill=\"#ffffff\" fill-rule=\"evenodd\" fill-opacity=\"1\"/>\n",
       "<defs>\n",
       "  <clipPath id=\"clip981\">\n",
       "    <rect x=\"480\" y=\"0\" width=\"1681\" height=\"1600\"/>\n",
       "  </clipPath>\n",
       "</defs>\n",
       "<path clip-path=\"url(#clip980)\" d=\"M110.881 1486.45 L2352.76 1486.45 L2352.76 47.2441 L110.881 47.2441  Z\" fill=\"#ffffff\" fill-rule=\"evenodd\" fill-opacity=\"1\"/>\n",
       "<defs>\n",
       "  <clipPath id=\"clip982\">\n",
       "    <rect x=\"110\" y=\"47\" width=\"2243\" height=\"1440\"/>\n",
       "  </clipPath>\n",
       "</defs>\n",
       "<polyline clip-path=\"url(#clip982)\" style=\"stroke:#000000; stroke-linecap:round; stroke-linejoin:round; stroke-width:2; stroke-opacity:0.1; fill:none\" points=\"132.031,1486.45 132.031,47.2441 \"/>\n",
       "<polyline clip-path=\"url(#clip982)\" style=\"stroke:#000000; stroke-linecap:round; stroke-linejoin:round; stroke-width:2; stroke-opacity:0.1; fill:none\" points=\"555.026,1486.45 555.026,47.2441 \"/>\n",
       "<polyline clip-path=\"url(#clip982)\" style=\"stroke:#000000; stroke-linecap:round; stroke-linejoin:round; stroke-width:2; stroke-opacity:0.1; fill:none\" points=\"978.021,1486.45 978.021,47.2441 \"/>\n",
       "<polyline clip-path=\"url(#clip982)\" style=\"stroke:#000000; stroke-linecap:round; stroke-linejoin:round; stroke-width:2; stroke-opacity:0.1; fill:none\" points=\"1401.02,1486.45 1401.02,47.2441 \"/>\n",
       "<polyline clip-path=\"url(#clip982)\" style=\"stroke:#000000; stroke-linecap:round; stroke-linejoin:round; stroke-width:2; stroke-opacity:0.1; fill:none\" points=\"1824.01,1486.45 1824.01,47.2441 \"/>\n",
       "<polyline clip-path=\"url(#clip982)\" style=\"stroke:#000000; stroke-linecap:round; stroke-linejoin:round; stroke-width:2; stroke-opacity:0.1; fill:none\" points=\"2247.01,1486.45 2247.01,47.2441 \"/>\n",
       "<polyline clip-path=\"url(#clip982)\" style=\"stroke:#000000; stroke-linecap:round; stroke-linejoin:round; stroke-width:2; stroke-opacity:0.1; fill:none\" points=\"110.881,1445.72 2352.76,1445.72 \"/>\n",
       "<polyline clip-path=\"url(#clip982)\" style=\"stroke:#000000; stroke-linecap:round; stroke-linejoin:round; stroke-width:2; stroke-opacity:0.1; fill:none\" points=\"110.881,1071.8 2352.76,1071.8 \"/>\n",
       "<polyline clip-path=\"url(#clip982)\" style=\"stroke:#000000; stroke-linecap:round; stroke-linejoin:round; stroke-width:2; stroke-opacity:0.1; fill:none\" points=\"110.881,697.894 2352.76,697.894 \"/>\n",
       "<polyline clip-path=\"url(#clip982)\" style=\"stroke:#000000; stroke-linecap:round; stroke-linejoin:round; stroke-width:2; stroke-opacity:0.1; fill:none\" points=\"110.881,323.983 2352.76,323.983 \"/>\n",
       "<polyline clip-path=\"url(#clip980)\" style=\"stroke:#000000; stroke-linecap:round; stroke-linejoin:round; stroke-width:4; stroke-opacity:1; fill:none\" points=\"110.881,1486.45 2352.76,1486.45 \"/>\n",
       "<polyline clip-path=\"url(#clip980)\" style=\"stroke:#000000; stroke-linecap:round; stroke-linejoin:round; stroke-width:4; stroke-opacity:1; fill:none\" points=\"132.031,1486.45 132.031,1467.55 \"/>\n",
       "<polyline clip-path=\"url(#clip980)\" style=\"stroke:#000000; stroke-linecap:round; stroke-linejoin:round; stroke-width:4; stroke-opacity:1; fill:none\" points=\"555.026,1486.45 555.026,1467.55 \"/>\n",
       "<polyline clip-path=\"url(#clip980)\" style=\"stroke:#000000; stroke-linecap:round; stroke-linejoin:round; stroke-width:4; stroke-opacity:1; fill:none\" points=\"978.021,1486.45 978.021,1467.55 \"/>\n",
       "<polyline clip-path=\"url(#clip980)\" style=\"stroke:#000000; stroke-linecap:round; stroke-linejoin:round; stroke-width:4; stroke-opacity:1; fill:none\" points=\"1401.02,1486.45 1401.02,1467.55 \"/>\n",
       "<polyline clip-path=\"url(#clip980)\" style=\"stroke:#000000; stroke-linecap:round; stroke-linejoin:round; stroke-width:4; stroke-opacity:1; fill:none\" points=\"1824.01,1486.45 1824.01,1467.55 \"/>\n",
       "<polyline clip-path=\"url(#clip980)\" style=\"stroke:#000000; stroke-linecap:round; stroke-linejoin:round; stroke-width:4; stroke-opacity:1; fill:none\" points=\"2247.01,1486.45 2247.01,1467.55 \"/>\n",
       "<path clip-path=\"url(#clip980)\" d=\"M132.031 1517.37 Q128.42 1517.37 126.591 1520.93 Q124.785 1524.47 124.785 1531.6 Q124.785 1538.71 126.591 1542.27 Q128.42 1545.82 132.031 1545.82 Q135.665 1545.82 137.47 1542.27 Q139.299 1538.71 139.299 1531.6 Q139.299 1524.47 137.47 1520.93 Q135.665 1517.37 132.031 1517.37 M132.031 1513.66 Q137.841 1513.66 140.896 1518.27 Q143.975 1522.85 143.975 1531.6 Q143.975 1540.33 140.896 1544.94 Q137.841 1549.52 132.031 1549.52 Q126.22 1549.52 123.142 1544.94 Q120.086 1540.33 120.086 1531.6 Q120.086 1522.85 123.142 1518.27 Q126.22 1513.66 132.031 1513.66 Z\" fill=\"#000000\" fill-rule=\"nonzero\" fill-opacity=\"1\" /><path clip-path=\"url(#clip980)\" d=\"M529.714 1544.91 L537.352 1544.91 L537.352 1518.55 L529.042 1520.21 L529.042 1515.95 L537.306 1514.29 L541.982 1514.29 L541.982 1544.91 L549.621 1544.91 L549.621 1548.85 L529.714 1548.85 L529.714 1544.91 Z\" fill=\"#000000\" fill-rule=\"nonzero\" fill-opacity=\"1\" /><path clip-path=\"url(#clip980)\" d=\"M569.065 1517.37 Q565.454 1517.37 563.625 1520.93 Q561.82 1524.47 561.82 1531.6 Q561.82 1538.71 563.625 1542.27 Q565.454 1545.82 569.065 1545.82 Q572.699 1545.82 574.505 1542.27 Q576.334 1538.71 576.334 1531.6 Q576.334 1524.47 574.505 1520.93 Q572.699 1517.37 569.065 1517.37 M569.065 1513.66 Q574.875 1513.66 577.931 1518.27 Q581.01 1522.85 581.01 1531.6 Q581.01 1540.33 577.931 1544.94 Q574.875 1549.52 569.065 1549.52 Q563.255 1549.52 560.176 1544.94 Q557.121 1540.33 557.121 1531.6 Q557.121 1522.85 560.176 1518.27 Q563.255 1513.66 569.065 1513.66 Z\" fill=\"#000000\" fill-rule=\"nonzero\" fill-opacity=\"1\" /><path clip-path=\"url(#clip980)\" d=\"M956.794 1544.91 L973.114 1544.91 L973.114 1548.85 L951.17 1548.85 L951.17 1544.91 Q953.832 1542.16 958.415 1537.53 Q963.021 1532.88 964.202 1531.53 Q966.447 1529.01 967.327 1527.27 Q968.23 1525.51 968.23 1523.82 Q968.23 1521.07 966.285 1519.33 Q964.364 1517.6 961.262 1517.6 Q959.063 1517.6 956.609 1518.36 Q954.179 1519.13 951.401 1520.68 L951.401 1515.95 Q954.225 1514.82 956.679 1514.24 Q959.132 1513.66 961.169 1513.66 Q966.54 1513.66 969.734 1516.35 Q972.929 1519.03 972.929 1523.52 Q972.929 1525.65 972.118 1527.57 Q971.331 1529.47 969.225 1532.07 Q968.646 1532.74 965.544 1535.95 Q962.443 1539.15 956.794 1544.91 Z\" fill=\"#000000\" fill-rule=\"nonzero\" fill-opacity=\"1\" /><path clip-path=\"url(#clip980)\" d=\"M992.929 1517.37 Q989.317 1517.37 987.489 1520.93 Q985.683 1524.47 985.683 1531.6 Q985.683 1538.71 987.489 1542.27 Q989.317 1545.82 992.929 1545.82 Q996.563 1545.82 998.368 1542.27 Q1000.2 1538.71 1000.2 1531.6 Q1000.2 1524.47 998.368 1520.93 Q996.563 1517.37 992.929 1517.37 M992.929 1513.66 Q998.739 1513.66 1001.79 1518.27 Q1004.87 1522.85 1004.87 1531.6 Q1004.87 1540.33 1001.79 1544.94 Q998.739 1549.52 992.929 1549.52 Q987.118 1549.52 984.04 1544.94 Q980.984 1540.33 980.984 1531.6 Q980.984 1522.85 984.04 1518.27 Q987.118 1513.66 992.929 1513.66 Z\" fill=\"#000000\" fill-rule=\"nonzero\" fill-opacity=\"1\" /><path clip-path=\"url(#clip980)\" d=\"M1389.86 1530.21 Q1393.22 1530.93 1395.09 1533.2 Q1396.99 1535.47 1396.99 1538.8 Q1396.99 1543.92 1393.47 1546.72 Q1389.95 1549.52 1383.47 1549.52 Q1381.29 1549.52 1378.98 1549.08 Q1376.69 1548.66 1374.23 1547.81 L1374.23 1543.29 Q1376.18 1544.43 1378.49 1545.01 Q1380.81 1545.58 1383.33 1545.58 Q1387.73 1545.58 1390.02 1543.85 Q1392.34 1542.11 1392.34 1538.8 Q1392.34 1535.75 1390.18 1534.03 Q1388.05 1532.3 1384.23 1532.3 L1380.21 1532.3 L1380.21 1528.45 L1384.42 1528.45 Q1387.87 1528.45 1389.7 1527.09 Q1391.53 1525.7 1391.53 1523.11 Q1391.53 1520.45 1389.63 1519.03 Q1387.75 1517.6 1384.23 1517.6 Q1382.31 1517.6 1380.11 1518.01 Q1377.91 1518.43 1375.28 1519.31 L1375.28 1515.14 Q1377.94 1514.4 1380.25 1514.03 Q1382.59 1513.66 1384.65 1513.66 Q1389.97 1513.66 1393.08 1516.09 Q1396.18 1518.5 1396.18 1522.62 Q1396.18 1525.49 1394.54 1527.48 Q1392.89 1529.45 1389.86 1530.21 Z\" fill=\"#000000\" fill-rule=\"nonzero\" fill-opacity=\"1\" /><path clip-path=\"url(#clip980)\" d=\"M1415.85 1517.37 Q1412.24 1517.37 1410.41 1520.93 Q1408.61 1524.47 1408.61 1531.6 Q1408.61 1538.71 1410.41 1542.27 Q1412.24 1545.82 1415.85 1545.82 Q1419.49 1545.82 1421.29 1542.27 Q1423.12 1538.71 1423.12 1531.6 Q1423.12 1524.47 1421.29 1520.93 Q1419.49 1517.37 1415.85 1517.37 M1415.85 1513.66 Q1421.66 1513.66 1424.72 1518.27 Q1427.8 1522.85 1427.8 1531.6 Q1427.8 1540.33 1424.72 1544.94 Q1421.66 1549.52 1415.85 1549.52 Q1410.04 1549.52 1406.97 1544.94 Q1403.91 1540.33 1403.91 1531.6 Q1403.91 1522.85 1406.97 1518.27 Q1410.04 1513.66 1415.85 1513.66 Z\" fill=\"#000000\" fill-rule=\"nonzero\" fill-opacity=\"1\" /><path clip-path=\"url(#clip980)\" d=\"M1812.18 1518.36 L1800.38 1536.81 L1812.18 1536.81 L1812.18 1518.36 M1810.96 1514.29 L1816.84 1514.29 L1816.84 1536.81 L1821.77 1536.81 L1821.77 1540.7 L1816.84 1540.7 L1816.84 1548.85 L1812.18 1548.85 L1812.18 1540.7 L1796.58 1540.7 L1796.58 1536.19 L1810.96 1514.29 Z\" fill=\"#000000\" fill-rule=\"nonzero\" fill-opacity=\"1\" /><path clip-path=\"url(#clip980)\" d=\"M1839.5 1517.37 Q1835.89 1517.37 1834.06 1520.93 Q1832.25 1524.47 1832.25 1531.6 Q1832.25 1538.71 1834.06 1542.27 Q1835.89 1545.82 1839.5 1545.82 Q1843.13 1545.82 1844.94 1542.27 Q1846.77 1538.71 1846.77 1531.6 Q1846.77 1524.47 1844.94 1520.93 Q1843.13 1517.37 1839.5 1517.37 M1839.5 1513.66 Q1845.31 1513.66 1848.36 1518.27 Q1851.44 1522.85 1851.44 1531.6 Q1851.44 1540.33 1848.36 1544.94 Q1845.31 1549.52 1839.5 1549.52 Q1833.69 1549.52 1830.61 1544.94 Q1827.55 1540.33 1827.55 1531.6 Q1827.55 1522.85 1830.61 1518.27 Q1833.69 1513.66 1839.5 1513.66 Z\" fill=\"#000000\" fill-rule=\"nonzero\" fill-opacity=\"1\" /><path clip-path=\"url(#clip980)\" d=\"M2221.71 1514.29 L2240.06 1514.29 L2240.06 1518.22 L2225.99 1518.22 L2225.99 1526.7 Q2227.01 1526.35 2228.03 1526.19 Q2229.04 1526 2230.06 1526 Q2235.85 1526 2239.23 1529.17 Q2242.61 1532.34 2242.61 1537.76 Q2242.61 1543.34 2239.14 1546.44 Q2235.66 1549.52 2229.35 1549.52 Q2227.17 1549.52 2224.9 1549.15 Q2222.66 1548.78 2220.25 1548.04 L2220.25 1543.34 Q2222.33 1544.47 2224.55 1545.03 Q2226.78 1545.58 2229.25 1545.58 Q2233.26 1545.58 2235.6 1543.48 Q2237.93 1541.37 2237.93 1537.76 Q2237.93 1534.15 2235.6 1532.04 Q2233.26 1529.94 2229.25 1529.94 Q2227.38 1529.94 2225.5 1530.35 Q2223.65 1530.77 2221.71 1531.65 L2221.71 1514.29 Z\" fill=\"#000000\" fill-rule=\"nonzero\" fill-opacity=\"1\" /><path clip-path=\"url(#clip980)\" d=\"M2261.82 1517.37 Q2258.21 1517.37 2256.38 1520.93 Q2254.58 1524.47 2254.58 1531.6 Q2254.58 1538.71 2256.38 1542.27 Q2258.21 1545.82 2261.82 1545.82 Q2265.46 1545.82 2267.26 1542.27 Q2269.09 1538.71 2269.09 1531.6 Q2269.09 1524.47 2267.26 1520.93 Q2265.46 1517.37 2261.82 1517.37 M2261.82 1513.66 Q2267.63 1513.66 2270.69 1518.27 Q2273.77 1522.85 2273.77 1531.6 Q2273.77 1540.33 2270.69 1544.94 Q2267.63 1549.52 2261.82 1549.52 Q2256.01 1549.52 2252.93 1544.94 Q2249.88 1540.33 2249.88 1531.6 Q2249.88 1522.85 2252.93 1518.27 Q2256.01 1513.66 2261.82 1513.66 Z\" fill=\"#000000\" fill-rule=\"nonzero\" fill-opacity=\"1\" /><polyline clip-path=\"url(#clip980)\" style=\"stroke:#000000; stroke-linecap:round; stroke-linejoin:round; stroke-width:4; stroke-opacity:1; fill:none\" points=\"110.881,1486.45 110.881,47.2441 \"/>\n",
       "<polyline clip-path=\"url(#clip980)\" style=\"stroke:#000000; stroke-linecap:round; stroke-linejoin:round; stroke-width:4; stroke-opacity:1; fill:none\" points=\"110.881,1445.72 129.779,1445.72 \"/>\n",
       "<polyline clip-path=\"url(#clip980)\" style=\"stroke:#000000; stroke-linecap:round; stroke-linejoin:round; stroke-width:4; stroke-opacity:1; fill:none\" points=\"110.881,1071.8 129.779,1071.8 \"/>\n",
       "<polyline clip-path=\"url(#clip980)\" style=\"stroke:#000000; stroke-linecap:round; stroke-linejoin:round; stroke-width:4; stroke-opacity:1; fill:none\" points=\"110.881,697.894 129.779,697.894 \"/>\n",
       "<polyline clip-path=\"url(#clip980)\" style=\"stroke:#000000; stroke-linecap:round; stroke-linejoin:round; stroke-width:4; stroke-opacity:1; fill:none\" points=\"110.881,323.983 129.779,323.983 \"/>\n",
       "<path clip-path=\"url(#clip980)\" d=\"M62.9365 1431.51 Q59.3254 1431.51 57.4967 1435.08 Q55.6912 1438.62 55.6912 1445.75 Q55.6912 1452.86 57.4967 1456.42 Q59.3254 1459.96 62.9365 1459.96 Q66.5707 1459.96 68.3763 1456.42 Q70.205 1452.86 70.205 1445.75 Q70.205 1438.62 68.3763 1435.08 Q66.5707 1431.51 62.9365 1431.51 M62.9365 1427.81 Q68.7467 1427.81 71.8022 1432.42 Q74.8809 1437 74.8809 1445.75 Q74.8809 1454.48 71.8022 1459.08 Q68.7467 1463.67 62.9365 1463.67 Q57.1264 1463.67 54.0477 1459.08 Q50.9921 1454.48 50.9921 1445.75 Q50.9921 1437 54.0477 1432.42 Q57.1264 1427.81 62.9365 1427.81 Z\" fill=\"#000000\" fill-rule=\"nonzero\" fill-opacity=\"1\" /><path clip-path=\"url(#clip980)\" d=\"M54.9736 1085.15 L62.6124 1085.15 L62.6124 1058.78 L54.3023 1060.45 L54.3023 1056.19 L62.5661 1054.52 L67.242 1054.52 L67.242 1085.15 L74.8809 1085.15 L74.8809 1089.08 L54.9736 1089.08 L54.9736 1085.15 Z\" fill=\"#000000\" fill-rule=\"nonzero\" fill-opacity=\"1\" /><path clip-path=\"url(#clip980)\" d=\"M58.5615 711.239 L74.8809 711.239 L74.8809 715.174 L52.9366 715.174 L52.9366 711.239 Q55.5986 708.484 60.1819 703.855 Q64.7883 699.202 65.9689 697.859 Q68.2143 695.336 69.0939 693.6 Q69.9967 691.841 69.9967 690.151 Q69.9967 687.397 68.0522 685.66 Q66.1309 683.924 63.0291 683.924 Q60.83 683.924 58.3763 684.688 Q55.9458 685.452 53.168 687.003 L53.168 682.281 Q55.9921 681.147 58.4458 680.568 Q60.8995 679.989 62.9365 679.989 Q68.3068 679.989 71.5013 682.674 Q74.6957 685.36 74.6957 689.85 Q74.6957 691.98 73.8855 693.901 Q73.0985 695.799 70.992 698.392 Q70.4133 699.063 67.3115 702.281 Q64.2096 705.475 58.5615 711.239 Z\" fill=\"#000000\" fill-rule=\"nonzero\" fill-opacity=\"1\" /><path clip-path=\"url(#clip980)\" d=\"M67.7513 322.629 Q71.1078 323.347 72.9827 325.615 Q74.8809 327.884 74.8809 331.217 Q74.8809 336.333 71.3624 339.134 Q67.8439 341.935 61.3624 341.935 Q59.1865 341.935 56.8717 341.495 Q54.5801 341.078 52.1264 340.222 L52.1264 335.708 Q54.0708 336.842 56.3856 337.421 Q58.7004 338 61.2236 338 Q65.6217 338 67.9133 336.263 Q70.2281 334.527 70.2281 331.217 Q70.2281 328.162 68.0754 326.449 Q65.9457 324.713 62.1263 324.713 L58.0986 324.713 L58.0986 320.87 L62.3115 320.87 Q65.7606 320.87 67.5893 319.504 Q69.418 318.115 69.418 315.523 Q69.418 312.861 67.5198 311.449 Q65.6448 310.014 62.1263 310.014 Q60.205 310.014 58.006 310.43 Q55.8069 310.847 53.168 311.727 L53.168 307.56 Q55.8301 306.819 58.1449 306.449 Q60.4828 306.078 62.543 306.078 Q67.867 306.078 70.9689 308.509 Q74.0707 310.916 74.0707 315.037 Q74.0707 317.907 72.4272 319.898 Q70.7837 321.865 67.7513 322.629 Z\" fill=\"#000000\" fill-rule=\"nonzero\" fill-opacity=\"1\" /><polyline clip-path=\"url(#clip982)\" style=\"stroke:#009af9; stroke-linecap:round; stroke-linejoin:round; stroke-width:4; stroke-opacity:1; fill:none\" points=\"174.33,1445.72 216.63,1440.11 258.929,1425.57 301.229,1405.32 343.528,1381.65 385.828,1356 428.127,1329.22 470.427,1301.8 512.726,1274.02 555.026,1246.03 597.325,1217.93 639.625,1189.76 681.925,1161.55 724.224,1133.33 766.524,1105.09 808.823,1076.84 851.123,1048.6 893.422,1020.34 935.722,992.092 978.021,963.84 1020.32,935.586 1062.62,907.333 1104.92,879.08 1147.22,850.826 1189.52,822.572 1231.82,794.319 1274.12,766.065 1316.42,737.811 1358.72,709.558 1401.02,681.304 1443.32,653.05 1485.62,624.796 1527.92,596.543 1570.21,568.289 1612.51,540.035 1654.81,511.782 1697.11,483.528 1739.41,455.274 1781.71,427.021 1824.01,398.767 1866.31,370.513 1908.61,342.26 1950.91,314.006 1993.21,285.752 2035.51,257.498 2077.81,229.245 2120.11,200.991 2162.41,172.737 2204.71,144.484 2247.01,116.23 2289.31,87.9763 \"/>\n",
       "<path clip-path=\"url(#clip980)\" d=\"M185.61 198.898 L462.228 198.898 L462.228 95.2176 L185.61 95.2176  Z\" fill=\"#ffffff\" fill-rule=\"evenodd\" fill-opacity=\"1\"/>\n",
       "<polyline clip-path=\"url(#clip980)\" style=\"stroke:#000000; stroke-linecap:round; stroke-linejoin:round; stroke-width:4; stroke-opacity:1; fill:none\" points=\"185.61,198.898 462.228,198.898 462.228,95.2176 185.61,95.2176 185.61,198.898 \"/>\n",
       "<polyline clip-path=\"url(#clip980)\" style=\"stroke:#009af9; stroke-linecap:round; stroke-linejoin:round; stroke-width:4; stroke-opacity:1; fill:none\" points=\"210.52,147.058 359.978,147.058 \"/>\n",
       "<path clip-path=\"url(#clip980)\" d=\"M398.73 166.745 Q396.925 171.375 395.212 172.787 Q393.499 174.199 390.629 174.199 L387.226 174.199 L387.226 170.634 L389.726 170.634 Q391.485 170.634 392.457 169.8 Q393.429 168.967 394.61 165.865 L395.374 163.921 L384.888 138.412 L389.402 138.412 L397.504 158.689 L405.605 138.412 L410.119 138.412 L398.73 166.745 Z\" fill=\"#000000\" fill-rule=\"nonzero\" fill-opacity=\"1\" /><path clip-path=\"url(#clip980)\" d=\"M417.411 160.402 L425.05 160.402 L425.05 134.037 L416.74 135.703 L416.74 131.444 L425.003 129.778 L429.679 129.778 L429.679 160.402 L437.318 160.402 L437.318 164.338 L417.411 164.338 L417.411 160.402 Z\" fill=\"#000000\" fill-rule=\"nonzero\" fill-opacity=\"1\" /></svg>\n"
      ],
      "text/html": [
       "<?xml version=\"1.0\" encoding=\"utf-8\"?>\n",
       "<svg xmlns=\"http://www.w3.org/2000/svg\" xmlns:xlink=\"http://www.w3.org/1999/xlink\" width=\"600\" height=\"400\" viewBox=\"0 0 2400 1600\">\n",
       "<defs>\n",
       "  <clipPath id=\"clip030\">\n",
       "    <rect x=\"0\" y=\"0\" width=\"2400\" height=\"1600\"/>\n",
       "  </clipPath>\n",
       "</defs>\n",
       "<path clip-path=\"url(#clip030)\" d=\"M0 1600 L2400 1600 L2400 8.88178e-14 L0 8.88178e-14  Z\" fill=\"#ffffff\" fill-rule=\"evenodd\" fill-opacity=\"1\"/>\n",
       "<defs>\n",
       "  <clipPath id=\"clip031\">\n",
       "    <rect x=\"480\" y=\"0\" width=\"1681\" height=\"1600\"/>\n",
       "  </clipPath>\n",
       "</defs>\n",
       "<path clip-path=\"url(#clip030)\" d=\"M110.881 1486.45 L2352.76 1486.45 L2352.76 47.2441 L110.881 47.2441  Z\" fill=\"#ffffff\" fill-rule=\"evenodd\" fill-opacity=\"1\"/>\n",
       "<defs>\n",
       "  <clipPath id=\"clip032\">\n",
       "    <rect x=\"110\" y=\"47\" width=\"2243\" height=\"1440\"/>\n",
       "  </clipPath>\n",
       "</defs>\n",
       "<polyline clip-path=\"url(#clip032)\" style=\"stroke:#000000; stroke-linecap:round; stroke-linejoin:round; stroke-width:2; stroke-opacity:0.1; fill:none\" points=\"132.031,1486.45 132.031,47.2441 \"/>\n",
       "<polyline clip-path=\"url(#clip032)\" style=\"stroke:#000000; stroke-linecap:round; stroke-linejoin:round; stroke-width:2; stroke-opacity:0.1; fill:none\" points=\"555.026,1486.45 555.026,47.2441 \"/>\n",
       "<polyline clip-path=\"url(#clip032)\" style=\"stroke:#000000; stroke-linecap:round; stroke-linejoin:round; stroke-width:2; stroke-opacity:0.1; fill:none\" points=\"978.021,1486.45 978.021,47.2441 \"/>\n",
       "<polyline clip-path=\"url(#clip032)\" style=\"stroke:#000000; stroke-linecap:round; stroke-linejoin:round; stroke-width:2; stroke-opacity:0.1; fill:none\" points=\"1401.02,1486.45 1401.02,47.2441 \"/>\n",
       "<polyline clip-path=\"url(#clip032)\" style=\"stroke:#000000; stroke-linecap:round; stroke-linejoin:round; stroke-width:2; stroke-opacity:0.1; fill:none\" points=\"1824.01,1486.45 1824.01,47.2441 \"/>\n",
       "<polyline clip-path=\"url(#clip032)\" style=\"stroke:#000000; stroke-linecap:round; stroke-linejoin:round; stroke-width:2; stroke-opacity:0.1; fill:none\" points=\"2247.01,1486.45 2247.01,47.2441 \"/>\n",
       "<polyline clip-path=\"url(#clip032)\" style=\"stroke:#000000; stroke-linecap:round; stroke-linejoin:round; stroke-width:2; stroke-opacity:0.1; fill:none\" points=\"110.881,1445.72 2352.76,1445.72 \"/>\n",
       "<polyline clip-path=\"url(#clip032)\" style=\"stroke:#000000; stroke-linecap:round; stroke-linejoin:round; stroke-width:2; stroke-opacity:0.1; fill:none\" points=\"110.881,1071.8 2352.76,1071.8 \"/>\n",
       "<polyline clip-path=\"url(#clip032)\" style=\"stroke:#000000; stroke-linecap:round; stroke-linejoin:round; stroke-width:2; stroke-opacity:0.1; fill:none\" points=\"110.881,697.894 2352.76,697.894 \"/>\n",
       "<polyline clip-path=\"url(#clip032)\" style=\"stroke:#000000; stroke-linecap:round; stroke-linejoin:round; stroke-width:2; stroke-opacity:0.1; fill:none\" points=\"110.881,323.983 2352.76,323.983 \"/>\n",
       "<polyline clip-path=\"url(#clip030)\" style=\"stroke:#000000; stroke-linecap:round; stroke-linejoin:round; stroke-width:4; stroke-opacity:1; fill:none\" points=\"110.881,1486.45 2352.76,1486.45 \"/>\n",
       "<polyline clip-path=\"url(#clip030)\" style=\"stroke:#000000; stroke-linecap:round; stroke-linejoin:round; stroke-width:4; stroke-opacity:1; fill:none\" points=\"132.031,1486.45 132.031,1467.55 \"/>\n",
       "<polyline clip-path=\"url(#clip030)\" style=\"stroke:#000000; stroke-linecap:round; stroke-linejoin:round; stroke-width:4; stroke-opacity:1; fill:none\" points=\"555.026,1486.45 555.026,1467.55 \"/>\n",
       "<polyline clip-path=\"url(#clip030)\" style=\"stroke:#000000; stroke-linecap:round; stroke-linejoin:round; stroke-width:4; stroke-opacity:1; fill:none\" points=\"978.021,1486.45 978.021,1467.55 \"/>\n",
       "<polyline clip-path=\"url(#clip030)\" style=\"stroke:#000000; stroke-linecap:round; stroke-linejoin:round; stroke-width:4; stroke-opacity:1; fill:none\" points=\"1401.02,1486.45 1401.02,1467.55 \"/>\n",
       "<polyline clip-path=\"url(#clip030)\" style=\"stroke:#000000; stroke-linecap:round; stroke-linejoin:round; stroke-width:4; stroke-opacity:1; fill:none\" points=\"1824.01,1486.45 1824.01,1467.55 \"/>\n",
       "<polyline clip-path=\"url(#clip030)\" style=\"stroke:#000000; stroke-linecap:round; stroke-linejoin:round; stroke-width:4; stroke-opacity:1; fill:none\" points=\"2247.01,1486.45 2247.01,1467.55 \"/>\n",
       "<path clip-path=\"url(#clip030)\" d=\"M132.031 1517.37 Q128.42 1517.37 126.591 1520.93 Q124.785 1524.47 124.785 1531.6 Q124.785 1538.71 126.591 1542.27 Q128.42 1545.82 132.031 1545.82 Q135.665 1545.82 137.47 1542.27 Q139.299 1538.71 139.299 1531.6 Q139.299 1524.47 137.47 1520.93 Q135.665 1517.37 132.031 1517.37 M132.031 1513.66 Q137.841 1513.66 140.896 1518.27 Q143.975 1522.85 143.975 1531.6 Q143.975 1540.33 140.896 1544.94 Q137.841 1549.52 132.031 1549.52 Q126.22 1549.52 123.142 1544.94 Q120.086 1540.33 120.086 1531.6 Q120.086 1522.85 123.142 1518.27 Q126.22 1513.66 132.031 1513.66 Z\" fill=\"#000000\" fill-rule=\"nonzero\" fill-opacity=\"1\" /><path clip-path=\"url(#clip030)\" d=\"M529.714 1544.91 L537.352 1544.91 L537.352 1518.55 L529.042 1520.21 L529.042 1515.95 L537.306 1514.29 L541.982 1514.29 L541.982 1544.91 L549.621 1544.91 L549.621 1548.85 L529.714 1548.85 L529.714 1544.91 Z\" fill=\"#000000\" fill-rule=\"nonzero\" fill-opacity=\"1\" /><path clip-path=\"url(#clip030)\" d=\"M569.065 1517.37 Q565.454 1517.37 563.625 1520.93 Q561.82 1524.47 561.82 1531.6 Q561.82 1538.71 563.625 1542.27 Q565.454 1545.82 569.065 1545.82 Q572.699 1545.82 574.505 1542.27 Q576.334 1538.71 576.334 1531.6 Q576.334 1524.47 574.505 1520.93 Q572.699 1517.37 569.065 1517.37 M569.065 1513.66 Q574.875 1513.66 577.931 1518.27 Q581.01 1522.85 581.01 1531.6 Q581.01 1540.33 577.931 1544.94 Q574.875 1549.52 569.065 1549.52 Q563.255 1549.52 560.176 1544.94 Q557.121 1540.33 557.121 1531.6 Q557.121 1522.85 560.176 1518.27 Q563.255 1513.66 569.065 1513.66 Z\" fill=\"#000000\" fill-rule=\"nonzero\" fill-opacity=\"1\" /><path clip-path=\"url(#clip030)\" d=\"M956.794 1544.91 L973.114 1544.91 L973.114 1548.85 L951.17 1548.85 L951.17 1544.91 Q953.832 1542.16 958.415 1537.53 Q963.021 1532.88 964.202 1531.53 Q966.447 1529.01 967.327 1527.27 Q968.23 1525.51 968.23 1523.82 Q968.23 1521.07 966.285 1519.33 Q964.364 1517.6 961.262 1517.6 Q959.063 1517.6 956.609 1518.36 Q954.179 1519.13 951.401 1520.68 L951.401 1515.95 Q954.225 1514.82 956.679 1514.24 Q959.132 1513.66 961.169 1513.66 Q966.54 1513.66 969.734 1516.35 Q972.929 1519.03 972.929 1523.52 Q972.929 1525.65 972.118 1527.57 Q971.331 1529.47 969.225 1532.07 Q968.646 1532.74 965.544 1535.95 Q962.443 1539.15 956.794 1544.91 Z\" fill=\"#000000\" fill-rule=\"nonzero\" fill-opacity=\"1\" /><path clip-path=\"url(#clip030)\" d=\"M992.929 1517.37 Q989.317 1517.37 987.489 1520.93 Q985.683 1524.47 985.683 1531.6 Q985.683 1538.71 987.489 1542.27 Q989.317 1545.82 992.929 1545.82 Q996.563 1545.82 998.368 1542.27 Q1000.2 1538.71 1000.2 1531.6 Q1000.2 1524.47 998.368 1520.93 Q996.563 1517.37 992.929 1517.37 M992.929 1513.66 Q998.739 1513.66 1001.79 1518.27 Q1004.87 1522.85 1004.87 1531.6 Q1004.87 1540.33 1001.79 1544.94 Q998.739 1549.52 992.929 1549.52 Q987.118 1549.52 984.04 1544.94 Q980.984 1540.33 980.984 1531.6 Q980.984 1522.85 984.04 1518.27 Q987.118 1513.66 992.929 1513.66 Z\" fill=\"#000000\" fill-rule=\"nonzero\" fill-opacity=\"1\" /><path clip-path=\"url(#clip030)\" d=\"M1389.86 1530.21 Q1393.22 1530.93 1395.09 1533.2 Q1396.99 1535.47 1396.99 1538.8 Q1396.99 1543.92 1393.47 1546.72 Q1389.95 1549.52 1383.47 1549.52 Q1381.29 1549.52 1378.98 1549.08 Q1376.69 1548.66 1374.23 1547.81 L1374.23 1543.29 Q1376.18 1544.43 1378.49 1545.01 Q1380.81 1545.58 1383.33 1545.58 Q1387.73 1545.58 1390.02 1543.85 Q1392.34 1542.11 1392.34 1538.8 Q1392.34 1535.75 1390.18 1534.03 Q1388.05 1532.3 1384.23 1532.3 L1380.21 1532.3 L1380.21 1528.45 L1384.42 1528.45 Q1387.87 1528.45 1389.7 1527.09 Q1391.53 1525.7 1391.53 1523.11 Q1391.53 1520.45 1389.63 1519.03 Q1387.75 1517.6 1384.23 1517.6 Q1382.31 1517.6 1380.11 1518.01 Q1377.91 1518.43 1375.28 1519.31 L1375.28 1515.14 Q1377.94 1514.4 1380.25 1514.03 Q1382.59 1513.66 1384.65 1513.66 Q1389.97 1513.66 1393.08 1516.09 Q1396.18 1518.5 1396.18 1522.62 Q1396.18 1525.49 1394.54 1527.48 Q1392.89 1529.45 1389.86 1530.21 Z\" fill=\"#000000\" fill-rule=\"nonzero\" fill-opacity=\"1\" /><path clip-path=\"url(#clip030)\" d=\"M1415.85 1517.37 Q1412.24 1517.37 1410.41 1520.93 Q1408.61 1524.47 1408.61 1531.6 Q1408.61 1538.71 1410.41 1542.27 Q1412.24 1545.82 1415.85 1545.82 Q1419.49 1545.82 1421.29 1542.27 Q1423.12 1538.71 1423.12 1531.6 Q1423.12 1524.47 1421.29 1520.93 Q1419.49 1517.37 1415.85 1517.37 M1415.85 1513.66 Q1421.66 1513.66 1424.72 1518.27 Q1427.8 1522.85 1427.8 1531.6 Q1427.8 1540.33 1424.72 1544.94 Q1421.66 1549.52 1415.85 1549.52 Q1410.04 1549.52 1406.97 1544.94 Q1403.91 1540.33 1403.91 1531.6 Q1403.91 1522.85 1406.97 1518.27 Q1410.04 1513.66 1415.85 1513.66 Z\" fill=\"#000000\" fill-rule=\"nonzero\" fill-opacity=\"1\" /><path clip-path=\"url(#clip030)\" d=\"M1812.18 1518.36 L1800.38 1536.81 L1812.18 1536.81 L1812.18 1518.36 M1810.96 1514.29 L1816.84 1514.29 L1816.84 1536.81 L1821.77 1536.81 L1821.77 1540.7 L1816.84 1540.7 L1816.84 1548.85 L1812.18 1548.85 L1812.18 1540.7 L1796.58 1540.7 L1796.58 1536.19 L1810.96 1514.29 Z\" fill=\"#000000\" fill-rule=\"nonzero\" fill-opacity=\"1\" /><path clip-path=\"url(#clip030)\" d=\"M1839.5 1517.37 Q1835.89 1517.37 1834.06 1520.93 Q1832.25 1524.47 1832.25 1531.6 Q1832.25 1538.71 1834.06 1542.27 Q1835.89 1545.82 1839.5 1545.82 Q1843.13 1545.82 1844.94 1542.27 Q1846.77 1538.71 1846.77 1531.6 Q1846.77 1524.47 1844.94 1520.93 Q1843.13 1517.37 1839.5 1517.37 M1839.5 1513.66 Q1845.31 1513.66 1848.36 1518.27 Q1851.44 1522.85 1851.44 1531.6 Q1851.44 1540.33 1848.36 1544.94 Q1845.31 1549.52 1839.5 1549.52 Q1833.69 1549.52 1830.61 1544.94 Q1827.55 1540.33 1827.55 1531.6 Q1827.55 1522.85 1830.61 1518.27 Q1833.69 1513.66 1839.5 1513.66 Z\" fill=\"#000000\" fill-rule=\"nonzero\" fill-opacity=\"1\" /><path clip-path=\"url(#clip030)\" d=\"M2221.71 1514.29 L2240.06 1514.29 L2240.06 1518.22 L2225.99 1518.22 L2225.99 1526.7 Q2227.01 1526.35 2228.03 1526.19 Q2229.04 1526 2230.06 1526 Q2235.85 1526 2239.23 1529.17 Q2242.61 1532.34 2242.61 1537.76 Q2242.61 1543.34 2239.14 1546.44 Q2235.66 1549.52 2229.35 1549.52 Q2227.17 1549.52 2224.9 1549.15 Q2222.66 1548.78 2220.25 1548.04 L2220.25 1543.34 Q2222.33 1544.47 2224.55 1545.03 Q2226.78 1545.58 2229.25 1545.58 Q2233.26 1545.58 2235.6 1543.48 Q2237.93 1541.37 2237.93 1537.76 Q2237.93 1534.15 2235.6 1532.04 Q2233.26 1529.94 2229.25 1529.94 Q2227.38 1529.94 2225.5 1530.35 Q2223.65 1530.77 2221.71 1531.65 L2221.71 1514.29 Z\" fill=\"#000000\" fill-rule=\"nonzero\" fill-opacity=\"1\" /><path clip-path=\"url(#clip030)\" d=\"M2261.82 1517.37 Q2258.21 1517.37 2256.38 1520.93 Q2254.58 1524.47 2254.58 1531.6 Q2254.58 1538.71 2256.38 1542.27 Q2258.21 1545.82 2261.82 1545.82 Q2265.46 1545.82 2267.26 1542.27 Q2269.09 1538.71 2269.09 1531.6 Q2269.09 1524.47 2267.26 1520.93 Q2265.46 1517.37 2261.82 1517.37 M2261.82 1513.66 Q2267.63 1513.66 2270.69 1518.27 Q2273.77 1522.85 2273.77 1531.6 Q2273.77 1540.33 2270.69 1544.94 Q2267.63 1549.52 2261.82 1549.52 Q2256.01 1549.52 2252.93 1544.94 Q2249.88 1540.33 2249.88 1531.6 Q2249.88 1522.85 2252.93 1518.27 Q2256.01 1513.66 2261.82 1513.66 Z\" fill=\"#000000\" fill-rule=\"nonzero\" fill-opacity=\"1\" /><polyline clip-path=\"url(#clip030)\" style=\"stroke:#000000; stroke-linecap:round; stroke-linejoin:round; stroke-width:4; stroke-opacity:1; fill:none\" points=\"110.881,1486.45 110.881,47.2441 \"/>\n",
       "<polyline clip-path=\"url(#clip030)\" style=\"stroke:#000000; stroke-linecap:round; stroke-linejoin:round; stroke-width:4; stroke-opacity:1; fill:none\" points=\"110.881,1445.72 129.779,1445.72 \"/>\n",
       "<polyline clip-path=\"url(#clip030)\" style=\"stroke:#000000; stroke-linecap:round; stroke-linejoin:round; stroke-width:4; stroke-opacity:1; fill:none\" points=\"110.881,1071.8 129.779,1071.8 \"/>\n",
       "<polyline clip-path=\"url(#clip030)\" style=\"stroke:#000000; stroke-linecap:round; stroke-linejoin:round; stroke-width:4; stroke-opacity:1; fill:none\" points=\"110.881,697.894 129.779,697.894 \"/>\n",
       "<polyline clip-path=\"url(#clip030)\" style=\"stroke:#000000; stroke-linecap:round; stroke-linejoin:round; stroke-width:4; stroke-opacity:1; fill:none\" points=\"110.881,323.983 129.779,323.983 \"/>\n",
       "<path clip-path=\"url(#clip030)\" d=\"M62.9365 1431.51 Q59.3254 1431.51 57.4967 1435.08 Q55.6912 1438.62 55.6912 1445.75 Q55.6912 1452.86 57.4967 1456.42 Q59.3254 1459.96 62.9365 1459.96 Q66.5707 1459.96 68.3763 1456.42 Q70.205 1452.86 70.205 1445.75 Q70.205 1438.62 68.3763 1435.08 Q66.5707 1431.51 62.9365 1431.51 M62.9365 1427.81 Q68.7467 1427.81 71.8022 1432.42 Q74.8809 1437 74.8809 1445.75 Q74.8809 1454.48 71.8022 1459.08 Q68.7467 1463.67 62.9365 1463.67 Q57.1264 1463.67 54.0477 1459.08 Q50.9921 1454.48 50.9921 1445.75 Q50.9921 1437 54.0477 1432.42 Q57.1264 1427.81 62.9365 1427.81 Z\" fill=\"#000000\" fill-rule=\"nonzero\" fill-opacity=\"1\" /><path clip-path=\"url(#clip030)\" d=\"M54.9736 1085.15 L62.6124 1085.15 L62.6124 1058.78 L54.3023 1060.45 L54.3023 1056.19 L62.5661 1054.52 L67.242 1054.52 L67.242 1085.15 L74.8809 1085.15 L74.8809 1089.08 L54.9736 1089.08 L54.9736 1085.15 Z\" fill=\"#000000\" fill-rule=\"nonzero\" fill-opacity=\"1\" /><path clip-path=\"url(#clip030)\" d=\"M58.5615 711.239 L74.8809 711.239 L74.8809 715.174 L52.9366 715.174 L52.9366 711.239 Q55.5986 708.484 60.1819 703.855 Q64.7883 699.202 65.9689 697.859 Q68.2143 695.336 69.0939 693.6 Q69.9967 691.841 69.9967 690.151 Q69.9967 687.397 68.0522 685.66 Q66.1309 683.924 63.0291 683.924 Q60.83 683.924 58.3763 684.688 Q55.9458 685.452 53.168 687.003 L53.168 682.281 Q55.9921 681.147 58.4458 680.568 Q60.8995 679.989 62.9365 679.989 Q68.3068 679.989 71.5013 682.674 Q74.6957 685.36 74.6957 689.85 Q74.6957 691.98 73.8855 693.901 Q73.0985 695.799 70.992 698.392 Q70.4133 699.063 67.3115 702.281 Q64.2096 705.475 58.5615 711.239 Z\" fill=\"#000000\" fill-rule=\"nonzero\" fill-opacity=\"1\" /><path clip-path=\"url(#clip030)\" d=\"M67.7513 322.629 Q71.1078 323.347 72.9827 325.615 Q74.8809 327.884 74.8809 331.217 Q74.8809 336.333 71.3624 339.134 Q67.8439 341.935 61.3624 341.935 Q59.1865 341.935 56.8717 341.495 Q54.5801 341.078 52.1264 340.222 L52.1264 335.708 Q54.0708 336.842 56.3856 337.421 Q58.7004 338 61.2236 338 Q65.6217 338 67.9133 336.263 Q70.2281 334.527 70.2281 331.217 Q70.2281 328.162 68.0754 326.449 Q65.9457 324.713 62.1263 324.713 L58.0986 324.713 L58.0986 320.87 L62.3115 320.87 Q65.7606 320.87 67.5893 319.504 Q69.418 318.115 69.418 315.523 Q69.418 312.861 67.5198 311.449 Q65.6448 310.014 62.1263 310.014 Q60.205 310.014 58.006 310.43 Q55.8069 310.847 53.168 311.727 L53.168 307.56 Q55.8301 306.819 58.1449 306.449 Q60.4828 306.078 62.543 306.078 Q67.867 306.078 70.9689 308.509 Q74.0707 310.916 74.0707 315.037 Q74.0707 317.907 72.4272 319.898 Q70.7837 321.865 67.7513 322.629 Z\" fill=\"#000000\" fill-rule=\"nonzero\" fill-opacity=\"1\" /><polyline clip-path=\"url(#clip032)\" style=\"stroke:#009af9; stroke-linecap:round; stroke-linejoin:round; stroke-width:4; stroke-opacity:1; fill:none\" points=\"174.33,1445.72 216.63,1440.11 258.929,1425.57 301.229,1405.32 343.528,1381.65 385.828,1356 428.127,1329.22 470.427,1301.8 512.726,1274.02 555.026,1246.03 597.325,1217.93 639.625,1189.76 681.925,1161.55 724.224,1133.33 766.524,1105.09 808.823,1076.84 851.123,1048.6 893.422,1020.34 935.722,992.092 978.021,963.84 1020.32,935.586 1062.62,907.333 1104.92,879.08 1147.22,850.826 1189.52,822.572 1231.82,794.319 1274.12,766.065 1316.42,737.811 1358.72,709.558 1401.02,681.304 1443.32,653.05 1485.62,624.796 1527.92,596.543 1570.21,568.289 1612.51,540.035 1654.81,511.782 1697.11,483.528 1739.41,455.274 1781.71,427.021 1824.01,398.767 1866.31,370.513 1908.61,342.26 1950.91,314.006 1993.21,285.752 2035.51,257.498 2077.81,229.245 2120.11,200.991 2162.41,172.737 2204.71,144.484 2247.01,116.23 2289.31,87.9763 \"/>\n",
       "<path clip-path=\"url(#clip030)\" d=\"M185.61 198.898 L462.228 198.898 L462.228 95.2176 L185.61 95.2176  Z\" fill=\"#ffffff\" fill-rule=\"evenodd\" fill-opacity=\"1\"/>\n",
       "<polyline clip-path=\"url(#clip030)\" style=\"stroke:#000000; stroke-linecap:round; stroke-linejoin:round; stroke-width:4; stroke-opacity:1; fill:none\" points=\"185.61,198.898 462.228,198.898 462.228,95.2176 185.61,95.2176 185.61,198.898 \"/>\n",
       "<polyline clip-path=\"url(#clip030)\" style=\"stroke:#009af9; stroke-linecap:round; stroke-linejoin:round; stroke-width:4; stroke-opacity:1; fill:none\" points=\"210.52,147.058 359.978,147.058 \"/>\n",
       "<path clip-path=\"url(#clip030)\" d=\"M398.73 166.745 Q396.925 171.375 395.212 172.787 Q393.499 174.199 390.629 174.199 L387.226 174.199 L387.226 170.634 L389.726 170.634 Q391.485 170.634 392.457 169.8 Q393.429 168.967 394.61 165.865 L395.374 163.921 L384.888 138.412 L389.402 138.412 L397.504 158.689 L405.605 138.412 L410.119 138.412 L398.73 166.745 Z\" fill=\"#000000\" fill-rule=\"nonzero\" fill-opacity=\"1\" /><path clip-path=\"url(#clip030)\" d=\"M417.411 160.402 L425.05 160.402 L425.05 134.037 L416.74 135.703 L416.74 131.444 L425.003 129.778 L429.679 129.778 L429.679 160.402 L437.318 160.402 L437.318 164.338 L417.411 164.338 L417.411 160.402 Z\" fill=\"#000000\" fill-rule=\"nonzero\" fill-opacity=\"1\" /></svg>\n"
      ]
     },
     "execution_count": 128,
     "metadata": {},
     "output_type": "execute_result"
    }
   ],
   "source": [
    "plot([6πD*Dʰ*integral_m1(t)*D1 for t in 0:0.2:10])"
   ]
  },
  {
   "cell_type": "code",
   "execution_count": 193,
   "id": "36b449f5-8ce3-49e0-8df7-895214d0b593",
   "metadata": {},
   "outputs": [],
   "source": [
    "our_m3_order_3(t) = πD1^3*t^3\n",
    "our_m3_order_2(t) = 6πD1*πD*Dʰ*D1*t^2 \n",
    "our_m3_order_1(t) = -6πD*(one_vec*πD*Dʰ^2 - Dʰ*D*Dʰ)*D1*t - 6πD*Dʰ*integral_m1(t)*D1\n",
    "our_m3_order_0(t) = -6πD*(-one_vec*πD*Dʰ^2  + Dʰ*D*Dʰ)*Dʰₜ(t)*D1;"
   ]
  },
  {
   "cell_type": "code",
   "execution_count": 166,
   "id": "8eb57b1e-bf7c-4da9-91f2-f2b9b8dee5cf",
   "metadata": {},
   "outputs": [],
   "source": [
    "# our_third_moment(t) = (πD1^3*t^3 \n",
    "#                         + 6πD1*πD*Dʰ*D1*t^2 \n",
    "#                         + 6πD*(one_vec*πD*Dʰ^2  + Dʰ*D*Dʰ)*D1*t\n",
    "#                         - 6πD*(one_vec*πD*Dʰ^2  + Dʰ*D*Dʰ)*Dʰₜ(t)*D1\n",
    "#                         - 6πD*Dʰ*integral_m1(t)*D1\n",
    "#                         )"
   ]
  },
  {
   "cell_type": "code",
   "execution_count": 167,
   "id": "91508ab5-368f-43ce-bdf4-7bf8b2feb56e",
   "metadata": {},
   "outputs": [],
   "source": [
    "our_third_moment(t) = our_m3_order_3(t) + our_m3_order_2(t) + our_m3_order_1(t) + our_m3_order_0(t);"
   ]
  },
  {
   "cell_type": "markdown",
   "id": "269d5b1e-fd8c-45ed-a164-f2d680eb4081",
   "metadata": {},
   "source": [
    "### Checking order by order"
   ]
  },
  {
   "cell_type": "markdown",
   "id": "66d1191b-d781-4572-b580-d888ede8fa76",
   "metadata": {},
   "source": [
    "##### Third order"
   ]
  },
  {
   "cell_type": "code",
   "execution_count": 168,
   "id": "62fa2ea0-4fad-4f0c-afe2-ae34048bff85",
   "metadata": {},
   "outputs": [],
   "source": [
    "t = 20;"
   ]
  },
  {
   "cell_type": "code",
   "execution_count": 169,
   "id": "ddc4eeb1-8f5b-49e3-96d9-97e11923b4cb",
   "metadata": {},
   "outputs": [
    {
     "data": {
      "text/plain": [
       "10.710983135111114"
      ]
     },
     "execution_count": 169,
     "metadata": {},
     "output_type": "execute_result"
    }
   ],
   "source": [
    "our_third_moment(t)/t^3"
   ]
  },
  {
   "cell_type": "code",
   "execution_count": 170,
   "id": "9141c283-d115-458a-b87a-314b3019f891",
   "metadata": {},
   "outputs": [
    {
     "ename": "LoadError",
     "evalue": "InterruptException:",
     "output_type": "error",
     "traceback": [
      "InterruptException:",
      "",
      "Stacktrace:",
      "  [1] mul!(out::Matrix{Float64}, a::Bool, B::UniformScaling{Float64}, α::Bool, β::Bool)",
      "    @ LinearAlgebra ~/.julia/juliaup/julia-1.11.5+0.aarch64.apple.darwin14/share/julia/stdlib/v1.11/LinearAlgebra/src/uniformscaling.jl:288",
      "  [2] exp!(A::Matrix{Float64})",
      "    @ LinearAlgebra ~/.julia/juliaup/julia-1.11.5+0.aarch64.apple.darwin14/share/julia/stdlib/v1.11/LinearAlgebra/src/dense.jl:739",
      "  [3] exp(A::Matrix{Float64})",
      "    @ LinearAlgebra ~/.julia/juliaup/julia-1.11.5+0.aarch64.apple.darwin14/share/julia/stdlib/v1.11/LinearAlgebra/src/dense.jl:622",
      "  [4] I0(u1::Float64, u2::Float64, u3::Float64, t::Int64)",
      "    @ Main ./In[9]:2",
      "  [5] #3",
      "    @ ./In[9]:3 [inlined]",
      "  [6] evalrule(f::var\"#3#4\"{Float64, Float64, Int64}, a::Float64, b::Float64, x::Vector{Float64}, w::Vector{Float64}, wg::Vector{Float64}, nrm::typeof(norm))",
      "    @ QuadGK ~/.julia/packages/QuadGK/7rND3/src/evalrule.jl:32",
      "  [7] refine(f::var\"#3#4\"{Float64, Float64, Int64}, segs::Vector{QuadGK.Segment{Float64, Matrix{Float64}, Float64}}, I::Matrix{Float64}, E::Float64, numevals::Int64, x::Vector{Float64}, w::Vector{Float64}, wg::Vector{Float64}, n::Int64, atol::Float64, rtol::Float64, maxevals::Int64, nrm::typeof(norm))",
      "    @ QuadGK ~/.julia/packages/QuadGK/7rND3/src/adapt.jl:115",
      "  [8] adapt(f::var\"#3#4\"{Float64, Float64, Int64}, segs::Vector{QuadGK.Segment{Float64, Matrix{Float64}, Float64}}, I::Matrix{Float64}, E::Float64, numevals::Int64, x::Vector{Float64}, w::Vector{Float64}, wg::Vector{Float64}, n::Int64, atol::Float64, rtol::Float64, maxevals::Int64, nrm::typeof(norm))",
      "    @ QuadGK ~/.julia/packages/QuadGK/7rND3/src/adapt.jl:96",
      "  [9] do_quadgk(f::var\"#3#4\"{Float64, Float64, Int64}, s::Tuple{Float64, Float64}, n::Int64, atol::Nothing, rtol::Nothing, maxevals::Int64, nrm::typeof(norm), _segbuf::Nothing, eval_segbuf::Nothing)",
      "    @ QuadGK ~/.julia/packages/QuadGK/7rND3/src/adapt.jl:87",
      " [10] (::QuadGK.var\"#50#51\"{Nothing, Nothing, Int64, Int64, typeof(norm), Nothing, Nothing})(f::Function, s::Tuple{Float64, Float64}, ::Function)",
      "    @ QuadGK ~/.julia/packages/QuadGK/7rND3/src/api.jl:83",
      " [11] handle_infinities",
      "    @ ~/.julia/packages/QuadGK/7rND3/src/adapt.jl:189 [inlined]",
      " [12] #quadgk#49",
      "    @ ~/.julia/packages/QuadGK/7rND3/src/api.jl:82 [inlined]",
      " [13] quadgk",
      "    @ ~/.julia/packages/QuadGK/7rND3/src/api.jl:80 [inlined]",
      " [14] #quadgk#48",
      "    @ ~/.julia/packages/QuadGK/7rND3/src/api.jl:77 [inlined]",
      " [15] I1(u2::Float64, u3::Float64, t::Int64)",
      "    @ Main ./In[9]:3",
      " [16] #5",
      "    @ ./In[9]:4 [inlined]",
      " [17] evalrule(f::var\"#5#6\"{Float64, Int64}, a::Float64, b::Float64, x::Vector{Float64}, w::Vector{Float64}, wg::Vector{Float64}, nrm::typeof(norm))",
      "    @ QuadGK ~/.julia/packages/QuadGK/7rND3/src/evalrule.jl:32",
      " [18] refine(f::var\"#5#6\"{Float64, Int64}, segs::Vector{QuadGK.Segment{Float64, Matrix{Float64}, Float64}}, I::Matrix{Float64}, E::Float64, numevals::Int64, x::Vector{Float64}, w::Vector{Float64}, wg::Vector{Float64}, n::Int64, atol::Float64, rtol::Float64, maxevals::Int64, nrm::typeof(norm))",
      "    @ QuadGK ~/.julia/packages/QuadGK/7rND3/src/adapt.jl:115",
      " [19] adapt(f::var\"#5#6\"{Float64, Int64}, segs::Vector{QuadGK.Segment{Float64, Matrix{Float64}, Float64}}, I::Matrix{Float64}, E::Float64, numevals::Int64, x::Vector{Float64}, w::Vector{Float64}, wg::Vector{Float64}, n::Int64, atol::Float64, rtol::Float64, maxevals::Int64, nrm::typeof(norm))",
      "    @ QuadGK ~/.julia/packages/QuadGK/7rND3/src/adapt.jl:96",
      " [20] do_quadgk(f::var\"#5#6\"{Float64, Int64}, s::Tuple{Float64, Float64}, n::Int64, atol::Nothing, rtol::Nothing, maxevals::Int64, nrm::typeof(norm), _segbuf::Nothing, eval_segbuf::Nothing)",
      "    @ QuadGK ~/.julia/packages/QuadGK/7rND3/src/adapt.jl:87",
      " [21] (::QuadGK.var\"#50#51\"{Nothing, Nothing, Int64, Int64, typeof(norm), Nothing, Nothing})(f::Function, s::Tuple{Float64, Float64}, ::Function)",
      "    @ QuadGK ~/.julia/packages/QuadGK/7rND3/src/api.jl:83",
      " [22] handle_infinities",
      "    @ ~/.julia/packages/QuadGK/7rND3/src/adapt.jl:189 [inlined]",
      " [23] #quadgk#49",
      "    @ ~/.julia/packages/QuadGK/7rND3/src/api.jl:82 [inlined]",
      " [24] quadgk",
      "    @ ~/.julia/packages/QuadGK/7rND3/src/api.jl:80 [inlined]",
      " [25] #quadgk#48",
      "    @ ~/.julia/packages/QuadGK/7rND3/src/api.jl:77 [inlined]",
      " [26] I2(u3::Float64, t::Int64)",
      "    @ Main ./In[9]:4",
      " [27] evalrule(f::var\"#7#8\"{Int64}, a::Float64, b::Float64, x::Vector{Float64}, w::Vector{Float64}, wg::Vector{Float64}, nrm::typeof(norm))",
      "    @ QuadGK ~/.julia/packages/QuadGK/7rND3/src/evalrule.jl:0",
      " [28] refine(f::var\"#7#8\"{Int64}, segs::Vector{QuadGK.Segment{Float64, Matrix{Float64}, Float64}}, I::Matrix{Float64}, E::Float64, numevals::Int64, x::Vector{Float64}, w::Vector{Float64}, wg::Vector{Float64}, n::Int64, atol::Float64, rtol::Float64, maxevals::Int64, nrm::typeof(norm))",
      "    @ QuadGK ~/.julia/packages/QuadGK/7rND3/src/adapt.jl:115",
      " [29] adapt(f::var\"#7#8\"{Int64}, segs::Vector{QuadGK.Segment{Float64, Matrix{Float64}, Float64}}, I::Matrix{Float64}, E::Float64, numevals::Int64, x::Vector{Float64}, w::Vector{Float64}, wg::Vector{Float64}, n::Int64, atol::Float64, rtol::Float64, maxevals::Int64, nrm::typeof(norm))",
      "    @ QuadGK ~/.julia/packages/QuadGK/7rND3/src/adapt.jl:96",
      " [30] do_quadgk(f::var\"#7#8\"{Int64}, s::Tuple{Int64, Int64}, n::Int64, atol::Nothing, rtol::Nothing, maxevals::Int64, nrm::typeof(norm), _segbuf::Nothing, eval_segbuf::Nothing)",
      "    @ QuadGK ~/.julia/packages/QuadGK/7rND3/src/adapt.jl:87",
      " [31] (::QuadGK.var\"#50#51\"{Nothing, Nothing, Int64, Int64, typeof(norm), Nothing, Nothing})(f::Function, s::Tuple{Int64, Int64}, ::Function)",
      "    @ QuadGK ~/.julia/packages/QuadGK/7rND3/src/api.jl:83",
      " [32] handle_infinities",
      "    @ ~/.julia/packages/QuadGK/7rND3/src/adapt.jl:189 [inlined]",
      " [33] #quadgk#49",
      "    @ ~/.julia/packages/QuadGK/7rND3/src/api.jl:82 [inlined]",
      " [34] I3(t::Int64)",
      "    @ Main ./In[9]:5",
      " [35] M3(t::Int64)",
      "    @ Main ./In[9]:6",
      " [36] third_moment(t::Int64)",
      "    @ Main ./In[9]:7"
     ]
    }
   ],
   "source": [
    "third_moment(t)/t^3"
   ]
  },
  {
   "cell_type": "code",
   "execution_count": 171,
   "id": "226e15b4-aad9-4330-8896-2fd6fe596435",
   "metadata": {},
   "outputs": [
    {
     "data": {
      "text/plain": [
       "10.648000000000003"
      ]
     },
     "execution_count": 171,
     "metadata": {},
     "output_type": "execute_result"
    }
   ],
   "source": [
    "our_m3_order_3(1)"
   ]
  },
  {
   "cell_type": "markdown",
   "id": "90bef89d-7613-4fea-944f-384f4a7bdf79",
   "metadata": {},
   "source": [
    "##### Second order"
   ]
  },
  {
   "cell_type": "code",
   "execution_count": 172,
   "id": "ddc8e904-026d-4a9f-9c72-bbabafc0d4cb",
   "metadata": {},
   "outputs": [],
   "source": [
    "t = 100;"
   ]
  },
  {
   "cell_type": "code",
   "execution_count": 115,
   "id": "7902da0d-ff03-484e-b1c2-c396f794392a",
   "metadata": {},
   "outputs": [
    {
     "data": {
      "text/plain": [
       "1.3013872547555714"
      ]
     },
     "execution_count": 115,
     "metadata": {},
     "output_type": "execute_result"
    }
   ],
   "source": [
    "(our_third_moment(t) - our_m3_order_3(t))/t^2 #This should be an estimate of our_m3_order_2(1)"
   ]
  },
  {
   "cell_type": "code",
   "execution_count": 116,
   "id": "8866515d-315e-4aea-95b3-05c777819fdd",
   "metadata": {},
   "outputs": [
    {
     "data": {
      "text/plain": [
       "1.2938539226984604"
      ]
     },
     "execution_count": 116,
     "metadata": {},
     "output_type": "execute_result"
    }
   ],
   "source": [
    "(third_moment(t) - our_m3_order_3(t))/t^2"
   ]
  },
  {
   "cell_type": "code",
   "execution_count": 117,
   "id": "9124fc05-561a-466d-aa1e-a6bda13bda5a",
   "metadata": {},
   "outputs": [
    {
     "data": {
      "text/plain": [
       "1.3023999999999887"
      ]
     },
     "execution_count": 117,
     "metadata": {},
     "output_type": "execute_result"
    }
   ],
   "source": [
    "our_m3_order_2(1)"
   ]
  },
  {
   "cell_type": "markdown",
   "id": "fe8b14ab-5f4e-4dc5-882a-eb1c9540b2ca",
   "metadata": {},
   "source": [
    "##### First order"
   ]
  },
  {
   "cell_type": "code",
   "execution_count": 180,
   "id": "ef27c001-c0f0-4a06-8798-2e0dd1d282b7",
   "metadata": {},
   "outputs": [],
   "source": [
    "t = 10;"
   ]
  },
  {
   "cell_type": "code",
   "execution_count": 188,
   "id": "cdc57ddc-c72d-4381-828d-2d61dad6500d",
   "metadata": {},
   "outputs": [
    {
     "data": {
      "text/plain": [
       "-0.8520519111111753"
      ]
     },
     "execution_count": 188,
     "metadata": {},
     "output_type": "execute_result"
    }
   ],
   "source": [
    "(our_third_moment(t)  - our_m3_order_3(t) -  our_m3_order_2(t))/t "
   ]
  },
  {
   "cell_type": "code",
   "execution_count": 189,
   "id": "ae96f511-70ff-4a8f-a256-eaa3a89049f4",
   "metadata": {},
   "outputs": [
    {
     "data": {
      "text/plain": [
       "-0.8291171555559231"
      ]
     },
     "execution_count": 189,
     "metadata": {},
     "output_type": "execute_result"
    }
   ],
   "source": [
    "(third_moment(t) - our_m3_order_3(t) - our_m3_order_2(t))/t"
   ]
  },
  {
   "cell_type": "code",
   "execution_count": 190,
   "id": "f97f6a6d-08ee-449b-9ea4-aa5031e22735",
   "metadata": {},
   "outputs": [
    {
     "data": {
      "text/plain": [
       "-0.8419711119238927"
      ]
     },
     "execution_count": 190,
     "metadata": {},
     "output_type": "execute_result"
    }
   ],
   "source": [
    "our_m3_order_1(1000)/1000"
   ]
  },
  {
   "cell_type": "code",
   "execution_count": 194,
   "id": "8ce4695d-2576-4192-8f7a-e999ccf211c4",
   "metadata": {},
   "outputs": [
    {
     "name": "stdout",
     "output_type": "stream",
     "text": [
      "(t, ours[i] - numerical[i]) = (1.0, -3.552713678800501e-15)\n",
      "(t, ours[i] - numerical[i]) = (1.5, 7.105427357601002e-15)\n",
      "(t, ours[i] - numerical[i]) = (2.0, -1.4210854715202004e-14)\n",
      "(t, ours[i] - numerical[i]) = (2.5, -2.842170943040401e-14)\n",
      "(t, ours[i] - numerical[i]) = (3.0, 0.0)\n",
      "(t, ours[i] - numerical[i]) = (3.5, 0.0)\n",
      "(t, ours[i] - numerical[i]) = (4.0, 1.1368683772161603e-13)\n",
      "(t, ours[i] - numerical[i]) = (4.5, 1.1368683772161603e-13)\n",
      "(t, ours[i] - numerical[i]) = (5.0, 4.547473508864641e-13)\n",
      "(t, ours[i] - numerical[i]) = (5.5, 4.547473508864641e-13)\n",
      "(t, ours[i] - numerical[i]) = (6.0, 4.547473508864641e-13)\n",
      "(t, ours[i] - numerical[i]) = (6.5, 1.3642420526593924e-12)\n",
      "(t, ours[i] - numerical[i]) = (7.0, 4.547473508864641e-13)\n",
      "(t, ours[i] - numerical[i]) = (7.5, 2.7284841053187847e-12)\n",
      "(t, ours[i] - numerical[i]) = (8.0, 1.8189894035458565e-12)\n",
      "(t, ours[i] - numerical[i]) = (8.5, 2.7284841053187847e-12)\n",
      "(t, ours[i] - numerical[i]) = (9.0, 8.185452315956354e-12)\n",
      "(t, ours[i] - numerical[i]) = (9.5, 1.4551915228366852e-11)\n",
      "(t, ours[i] - numerical[i]) = (10.0, 1.8189894035458565e-12)\n"
     ]
    }
   ],
   "source": [
    "t_range = 1:0.5:10\n",
    "ours = [our_third_moment(t) for t in t_range]\n",
    "numerical = [third_moment(t) for t in t_range]\n",
    "for (i,t) in enumerate(t_range)\n",
    "    # @show t, ours[i], numerical[i]\n",
    "    @show t, ours[i] - numerical[i]\n",
    "end"
   ]
  },
  {
   "cell_type": "code",
   "execution_count": 192,
   "id": "eb6ead4d-7def-433f-a1cb-41fa2b5b597b",
   "metadata": {},
   "outputs": [
    {
     "data": {
      "text/plain": [
       "288642.490680889"
      ]
     },
     "execution_count": 192,
     "metadata": {},
     "output_type": "execute_result"
    }
   ],
   "source": [
    "our_third_moment(30)"
   ]
  },
  {
   "cell_type": "code",
   "execution_count": 191,
   "id": "1ec8a7ff-0212-4b3a-bdcd-84b969b0edc4",
   "metadata": {},
   "outputs": [
    {
     "data": {
      "text/plain": [
       "288642.72002843505"
      ]
     },
     "execution_count": 191,
     "metadata": {},
     "output_type": "execute_result"
    }
   ],
   "source": [
    "third_moment(30)"
   ]
  },
  {
   "cell_type": "code",
   "execution_count": 159,
   "id": "83d7e4aa-7620-4a4d-abb4-4b4a99f75668",
   "metadata": {},
   "outputs": [
    {
     "data": {
      "image/png": "[encoded data removed]",
      "image/svg+xml": [
       "<?xml version=\"1.0\" encoding=\"utf-8\"?>\n",
       "<svg xmlns=\"http://www.w3.org/2000/svg\" xmlns:xlink=\"http://www.w3.org/1999/xlink\" width=\"600\" height=\"400\" viewBox=\"0 0 2400 1600\">\n",
       "<defs>\n",
       "  <clipPath id=\"clip430\">\n",
       "    <rect x=\"0\" y=\"0\" width=\"2400\" height=\"1600\"/>\n",
       "  </clipPath>\n",
       "</defs>\n",
       "<path clip-path=\"url(#clip430)\" d=\"M0 1600 L2400 1600 L2400 8.88178e-14 L0 8.88178e-14  Z\" fill=\"#ffffff\" fill-rule=\"evenodd\" fill-opacity=\"1\"/>\n",
       "<defs>\n",
       "  <clipPath id=\"clip431\">\n",
       "    <rect x=\"480\" y=\"0\" width=\"1681\" height=\"1600\"/>\n",
       "  </clipPath>\n",
       "</defs>\n",
       "<path clip-path=\"url(#clip430)\" d=\"M112.177 1486.45 L2352.76 1486.45 L2352.76 47.2441 L112.177 47.2441  Z\" fill=\"#ffffff\" fill-rule=\"evenodd\" fill-opacity=\"1\"/>\n",
       "<defs>\n",
       "  <clipPath id=\"clip432\">\n",
       "    <rect x=\"112\" y=\"47\" width=\"2242\" height=\"1440\"/>\n",
       "  </clipPath>\n",
       "</defs>\n",
       "<polyline clip-path=\"url(#clip432)\" style=\"stroke:#000000; stroke-linecap:round; stroke-linejoin:round; stroke-width:2; stroke-opacity:0.1; fill:none\" points=\"410.451,1486.45 410.451,47.2441 \"/>\n",
       "<polyline clip-path=\"url(#clip432)\" style=\"stroke:#000000; stroke-linecap:round; stroke-linejoin:round; stroke-width:2; stroke-opacity:0.1; fill:none\" points=\"880.174,1486.45 880.174,47.2441 \"/>\n",
       "<polyline clip-path=\"url(#clip432)\" style=\"stroke:#000000; stroke-linecap:round; stroke-linejoin:round; stroke-width:2; stroke-opacity:0.1; fill:none\" points=\"1349.9,1486.45 1349.9,47.2441 \"/>\n",
       "<polyline clip-path=\"url(#clip432)\" style=\"stroke:#000000; stroke-linecap:round; stroke-linejoin:round; stroke-width:2; stroke-opacity:0.1; fill:none\" points=\"1819.62,1486.45 1819.62,47.2441 \"/>\n",
       "<polyline clip-path=\"url(#clip432)\" style=\"stroke:#000000; stroke-linecap:round; stroke-linejoin:round; stroke-width:2; stroke-opacity:0.1; fill:none\" points=\"2289.34,1486.45 2289.34,47.2441 \"/>\n",
       "<polyline clip-path=\"url(#clip432)\" style=\"stroke:#000000; stroke-linecap:round; stroke-linejoin:round; stroke-width:2; stroke-opacity:0.1; fill:none\" points=\"112.177,1352.99 2352.76,1352.99 \"/>\n",
       "<polyline clip-path=\"url(#clip432)\" style=\"stroke:#000000; stroke-linecap:round; stroke-linejoin:round; stroke-width:2; stroke-opacity:0.1; fill:none\" points=\"112.177,1153.05 2352.76,1153.05 \"/>\n",
       "<polyline clip-path=\"url(#clip432)\" style=\"stroke:#000000; stroke-linecap:round; stroke-linejoin:round; stroke-width:2; stroke-opacity:0.1; fill:none\" points=\"112.177,953.108 2352.76,953.108 \"/>\n",
       "<polyline clip-path=\"url(#clip432)\" style=\"stroke:#000000; stroke-linecap:round; stroke-linejoin:round; stroke-width:2; stroke-opacity:0.1; fill:none\" points=\"112.177,753.166 2352.76,753.166 \"/>\n",
       "<polyline clip-path=\"url(#clip432)\" style=\"stroke:#000000; stroke-linecap:round; stroke-linejoin:round; stroke-width:2; stroke-opacity:0.1; fill:none\" points=\"112.177,553.224 2352.76,553.224 \"/>\n",
       "<polyline clip-path=\"url(#clip432)\" style=\"stroke:#000000; stroke-linecap:round; stroke-linejoin:round; stroke-width:2; stroke-opacity:0.1; fill:none\" points=\"112.177,353.283 2352.76,353.283 \"/>\n",
       "<polyline clip-path=\"url(#clip432)\" style=\"stroke:#000000; stroke-linecap:round; stroke-linejoin:round; stroke-width:2; stroke-opacity:0.1; fill:none\" points=\"112.177,153.341 2352.76,153.341 \"/>\n",
       "<polyline clip-path=\"url(#clip430)\" style=\"stroke:#000000; stroke-linecap:round; stroke-linejoin:round; stroke-width:4; stroke-opacity:1; fill:none\" points=\"112.177,1486.45 2352.76,1486.45 \"/>\n",
       "<polyline clip-path=\"url(#clip430)\" style=\"stroke:#000000; stroke-linecap:round; stroke-linejoin:round; stroke-width:4; stroke-opacity:1; fill:none\" points=\"410.451,1486.45 410.451,1467.55 \"/>\n",
       "<polyline clip-path=\"url(#clip430)\" style=\"stroke:#000000; stroke-linecap:round; stroke-linejoin:round; stroke-width:4; stroke-opacity:1; fill:none\" points=\"880.174,1486.45 880.174,1467.55 \"/>\n",
       "<polyline clip-path=\"url(#clip430)\" style=\"stroke:#000000; stroke-linecap:round; stroke-linejoin:round; stroke-width:4; stroke-opacity:1; fill:none\" points=\"1349.9,1486.45 1349.9,1467.55 \"/>\n",
       "<polyline clip-path=\"url(#clip430)\" style=\"stroke:#000000; stroke-linecap:round; stroke-linejoin:round; stroke-width:4; stroke-opacity:1; fill:none\" points=\"1819.62,1486.45 1819.62,1467.55 \"/>\n",
       "<polyline clip-path=\"url(#clip430)\" style=\"stroke:#000000; stroke-linecap:round; stroke-linejoin:round; stroke-width:4; stroke-opacity:1; fill:none\" points=\"2289.34,1486.45 2289.34,1467.55 \"/>\n",
       "<path clip-path=\"url(#clip430)\" d=\"M405.104 1544.91 L421.423 1544.91 L421.423 1548.85 L399.479 1548.85 L399.479 1544.91 Q402.141 1542.16 406.724 1537.53 Q411.331 1532.88 412.511 1531.53 Q414.757 1529.01 415.636 1527.27 Q416.539 1525.51 416.539 1523.82 Q416.539 1521.07 414.595 1519.33 Q412.673 1517.6 409.572 1517.6 Q407.373 1517.6 404.919 1518.36 Q402.488 1519.13 399.711 1520.68 L399.711 1515.95 Q402.535 1514.82 404.988 1514.24 Q407.442 1513.66 409.479 1513.66 Q414.849 1513.66 418.044 1516.35 Q421.238 1519.03 421.238 1523.52 Q421.238 1525.65 420.428 1527.57 Q419.641 1529.47 417.535 1532.07 Q416.956 1532.74 413.854 1535.95 Q410.752 1539.15 405.104 1544.91 Z\" fill=\"#000000\" fill-rule=\"nonzero\" fill-opacity=\"1\" /><path clip-path=\"url(#clip430)\" d=\"M883.184 1518.36 L871.378 1536.81 L883.184 1536.81 L883.184 1518.36 M881.957 1514.29 L887.836 1514.29 L887.836 1536.81 L892.767 1536.81 L892.767 1540.7 L887.836 1540.7 L887.836 1548.85 L883.184 1548.85 L883.184 1540.7 L867.582 1540.7 L867.582 1536.19 L881.957 1514.29 Z\" fill=\"#000000\" fill-rule=\"nonzero\" fill-opacity=\"1\" /><path clip-path=\"url(#clip430)\" d=\"M1350.3 1529.7 Q1347.15 1529.7 1345.3 1531.86 Q1343.47 1534.01 1343.47 1537.76 Q1343.47 1541.49 1345.3 1543.66 Q1347.15 1545.82 1350.3 1545.82 Q1353.45 1545.82 1355.28 1543.66 Q1357.13 1541.49 1357.13 1537.76 Q1357.13 1534.01 1355.28 1531.86 Q1353.45 1529.7 1350.3 1529.7 M1359.58 1515.05 L1359.58 1519.31 Q1357.83 1518.48 1356.02 1518.04 Q1354.24 1517.6 1352.48 1517.6 Q1347.85 1517.6 1345.4 1520.72 Q1342.96 1523.85 1342.62 1530.17 Q1343.98 1528.15 1346.04 1527.09 Q1348.1 1526 1350.58 1526 Q1355.79 1526 1358.8 1529.17 Q1361.83 1532.32 1361.83 1537.76 Q1361.83 1543.08 1358.68 1546.3 Q1355.53 1549.52 1350.3 1549.52 Q1344.31 1549.52 1341.14 1544.94 Q1337.96 1540.33 1337.96 1531.6 Q1337.96 1523.41 1341.85 1518.55 Q1345.74 1513.66 1352.29 1513.66 Q1354.05 1513.66 1355.83 1514.01 Q1357.64 1514.36 1359.58 1515.05 Z\" fill=\"#000000\" fill-rule=\"nonzero\" fill-opacity=\"1\" /><path clip-path=\"url(#clip430)\" d=\"M1819.62 1532.44 Q1816.29 1532.44 1814.37 1534.22 Q1812.47 1536 1812.47 1539.13 Q1812.47 1542.25 1814.37 1544.03 Q1816.29 1545.82 1819.62 1545.82 Q1822.95 1545.82 1824.87 1544.03 Q1826.8 1542.23 1826.8 1539.13 Q1826.8 1536 1824.87 1534.22 Q1822.98 1532.44 1819.62 1532.44 M1814.94 1530.45 Q1811.94 1529.7 1810.25 1527.64 Q1808.58 1525.58 1808.58 1522.62 Q1808.58 1518.48 1811.52 1516.07 Q1814.48 1513.66 1819.62 1513.66 Q1824.78 1513.66 1827.72 1516.07 Q1830.66 1518.48 1830.66 1522.62 Q1830.66 1525.58 1828.97 1527.64 Q1827.31 1529.7 1824.32 1530.45 Q1827.7 1531.23 1829.57 1533.52 Q1831.47 1535.82 1831.47 1539.13 Q1831.47 1544.15 1828.39 1546.83 Q1825.34 1549.52 1819.62 1549.52 Q1813.9 1549.52 1810.82 1546.83 Q1807.77 1544.15 1807.77 1539.13 Q1807.77 1535.82 1809.67 1533.52 Q1811.56 1531.23 1814.94 1530.45 M1813.23 1523.06 Q1813.23 1525.75 1814.9 1527.25 Q1816.59 1528.76 1819.62 1528.76 Q1822.63 1528.76 1824.32 1527.25 Q1826.03 1525.75 1826.03 1523.06 Q1826.03 1520.38 1824.32 1518.87 Q1822.63 1517.37 1819.62 1517.37 Q1816.59 1517.37 1814.9 1518.87 Q1813.23 1520.38 1813.23 1523.06 Z\" fill=\"#000000\" fill-rule=\"nonzero\" fill-opacity=\"1\" /><path clip-path=\"url(#clip430)\" d=\"M2264.03 1544.91 L2271.67 1544.91 L2271.67 1518.55 L2263.36 1520.21 L2263.36 1515.95 L2271.62 1514.29 L2276.3 1514.29 L2276.3 1544.91 L2283.94 1544.91 L2283.94 1548.85 L2264.03 1548.85 L2264.03 1544.91 Z\" fill=\"#000000\" fill-rule=\"nonzero\" fill-opacity=\"1\" /><path clip-path=\"url(#clip430)\" d=\"M2303.38 1517.37 Q2299.77 1517.37 2297.94 1520.93 Q2296.14 1524.47 2296.14 1531.6 Q2296.14 1538.71 2297.94 1542.27 Q2299.77 1545.82 2303.38 1545.82 Q2307.02 1545.82 2308.82 1542.27 Q2310.65 1538.71 2310.65 1531.6 Q2310.65 1524.47 2308.82 1520.93 Q2307.02 1517.37 2303.38 1517.37 M2303.38 1513.66 Q2309.19 1513.66 2312.25 1518.27 Q2315.33 1522.85 2315.33 1531.6 Q2315.33 1540.33 2312.25 1544.94 Q2309.19 1549.52 2303.38 1549.52 Q2297.57 1549.52 2294.49 1544.94 Q2291.44 1540.33 2291.44 1531.6 Q2291.44 1522.85 2294.49 1518.27 Q2297.57 1513.66 2303.38 1513.66 Z\" fill=\"#000000\" fill-rule=\"nonzero\" fill-opacity=\"1\" /><polyline clip-path=\"url(#clip430)\" style=\"stroke:#000000; stroke-linecap:round; stroke-linejoin:round; stroke-width:4; stroke-opacity:1; fill:none\" points=\"112.177,1486.45 112.177,47.2441 \"/>\n",
       "<polyline clip-path=\"url(#clip430)\" style=\"stroke:#000000; stroke-linecap:round; stroke-linejoin:round; stroke-width:4; stroke-opacity:1; fill:none\" points=\"112.177,1352.99 131.075,1352.99 \"/>\n",
       "<polyline clip-path=\"url(#clip430)\" style=\"stroke:#000000; stroke-linecap:round; stroke-linejoin:round; stroke-width:4; stroke-opacity:1; fill:none\" points=\"112.177,1153.05 131.075,1153.05 \"/>\n",
       "<polyline clip-path=\"url(#clip430)\" style=\"stroke:#000000; stroke-linecap:round; stroke-linejoin:round; stroke-width:4; stroke-opacity:1; fill:none\" points=\"112.177,953.108 131.075,953.108 \"/>\n",
       "<polyline clip-path=\"url(#clip430)\" style=\"stroke:#000000; stroke-linecap:round; stroke-linejoin:round; stroke-width:4; stroke-opacity:1; fill:none\" points=\"112.177,753.166 131.075,753.166 \"/>\n",
       "<polyline clip-path=\"url(#clip430)\" style=\"stroke:#000000; stroke-linecap:round; stroke-linejoin:round; stroke-width:4; stroke-opacity:1; fill:none\" points=\"112.177,553.224 131.075,553.224 \"/>\n",
       "<polyline clip-path=\"url(#clip430)\" style=\"stroke:#000000; stroke-linecap:round; stroke-linejoin:round; stroke-width:4; stroke-opacity:1; fill:none\" points=\"112.177,353.283 131.075,353.283 \"/>\n",
       "<polyline clip-path=\"url(#clip430)\" style=\"stroke:#000000; stroke-linecap:round; stroke-linejoin:round; stroke-width:4; stroke-opacity:1; fill:none\" points=\"112.177,153.341 131.075,153.341 \"/>\n",
       "<path clip-path=\"url(#clip430)\" d=\"M56.2699 1366.34 L63.9087 1366.34 L63.9087 1339.97 L55.5986 1341.64 L55.5986 1337.38 L63.8624 1335.71 L68.5383 1335.71 L68.5383 1366.34 L76.1772 1366.34 L76.1772 1370.27 L56.2699 1370.27 L56.2699 1366.34 Z\" fill=\"#000000\" fill-rule=\"nonzero\" fill-opacity=\"1\" /><path clip-path=\"url(#clip430)\" d=\"M59.8578 1166.39 L76.1772 1166.39 L76.1772 1170.33 L54.2328 1170.33 L54.2328 1166.39 Q56.8949 1163.64 61.4782 1159.01 Q66.0846 1154.36 67.2652 1153.01 Q69.5105 1150.49 70.3902 1148.76 Q71.2929 1147 71.2929 1145.31 Q71.2929 1142.55 69.3485 1140.82 Q67.4272 1139.08 64.3254 1139.08 Q62.1263 1139.08 59.6726 1139.84 Q57.2421 1140.61 54.4643 1142.16 L54.4643 1137.44 Q57.2884 1136.3 59.7421 1135.72 Q62.1958 1135.14 64.2328 1135.14 Q69.6031 1135.14 72.7976 1137.83 Q75.992 1140.51 75.992 1145.01 Q75.992 1147.14 75.1818 1149.06 Q74.3948 1150.95 72.2883 1153.55 Q71.7096 1154.22 68.6078 1157.44 Q65.5059 1160.63 59.8578 1166.39 Z\" fill=\"#000000\" fill-rule=\"nonzero\" fill-opacity=\"1\" /><path clip-path=\"url(#clip430)\" d=\"M69.0476 951.754 Q72.404 952.471 74.279 954.74 Q76.1772 957.008 76.1772 960.342 Q76.1772 965.457 72.6587 968.258 Q69.1402 971.059 62.6587 971.059 Q60.4828 971.059 58.168 970.619 Q55.8764 970.203 53.4227 969.346 L53.4227 964.832 Q55.3671 965.967 57.6819 966.545 Q59.9967 967.124 62.5198 967.124 Q66.918 967.124 69.2096 965.388 Q71.5244 963.652 71.5244 960.342 Q71.5244 957.286 69.3717 955.573 Q67.242 953.837 63.4226 953.837 L59.3949 953.837 L59.3949 949.994 L63.6078 949.994 Q67.0569 949.994 68.8855 948.629 Q70.7142 947.24 70.7142 944.647 Q70.7142 941.985 68.8161 940.573 Q66.9411 939.138 63.4226 939.138 Q61.5013 939.138 59.3023 939.555 Q57.1032 939.971 54.4643 940.851 L54.4643 936.684 Q57.1264 935.944 59.4412 935.573 Q61.7791 935.203 63.8393 935.203 Q69.1633 935.203 72.2652 937.633 Q75.367 940.041 75.367 944.161 Q75.367 947.032 73.7235 949.022 Q72.08 950.99 69.0476 951.754 Z\" fill=\"#000000\" fill-rule=\"nonzero\" fill-opacity=\"1\" /><path clip-path=\"url(#clip430)\" d=\"M66.5939 739.96 L54.7884 758.409 L66.5939 758.409 L66.5939 739.96 M65.367 735.886 L71.2466 735.886 L71.2466 758.409 L76.1772 758.409 L76.1772 762.298 L71.2466 762.298 L71.2466 770.446 L66.5939 770.446 L66.5939 762.298 L50.9921 762.298 L50.9921 757.784 L65.367 735.886 Z\" fill=\"#000000\" fill-rule=\"nonzero\" fill-opacity=\"1\" /><path clip-path=\"url(#clip430)\" d=\"M55.2745 535.944 L73.6309 535.944 L73.6309 539.88 L59.5569 539.88 L59.5569 548.352 Q60.5754 548.005 61.5939 547.843 Q62.6124 547.657 63.6309 547.657 Q69.418 547.657 72.7976 550.829 Q76.1772 554 76.1772 559.417 Q76.1772 564.995 72.705 568.097 Q69.2328 571.176 62.9134 571.176 Q60.7374 571.176 58.4689 570.805 Q56.2236 570.435 53.8162 569.694 L53.8162 564.995 Q55.8995 566.129 58.1217 566.685 Q60.3439 567.241 62.8208 567.241 Q66.8254 567.241 69.1633 565.134 Q71.5013 563.028 71.5013 559.417 Q71.5013 555.805 69.1633 553.699 Q66.8254 551.593 62.8208 551.593 Q60.9458 551.593 59.0708 552.009 Q57.2189 552.426 55.2745 553.305 L55.2745 535.944 Z\" fill=\"#000000\" fill-rule=\"nonzero\" fill-opacity=\"1\" /><path clip-path=\"url(#clip430)\" d=\"M64.6495 351.419 Q61.5013 351.419 59.6495 353.572 Q57.8208 355.725 57.8208 359.475 Q57.8208 363.202 59.6495 365.378 Q61.5013 367.53 64.6495 367.53 Q67.7976 367.53 69.6263 365.378 Q71.4781 363.202 71.4781 359.475 Q71.4781 355.725 69.6263 353.572 Q67.7976 351.419 64.6495 351.419 M73.9318 336.767 L73.9318 341.026 Q72.1726 340.193 70.367 339.753 Q68.5846 339.313 66.8254 339.313 Q62.1958 339.313 59.7421 342.438 Q57.3115 345.563 56.9643 351.882 Q58.33 349.868 60.3902 348.804 Q62.4504 347.716 64.9272 347.716 Q70.1355 347.716 73.1448 350.887 Q76.1772 354.035 76.1772 359.475 Q76.1772 364.799 73.029 368.016 Q69.8809 371.234 64.6495 371.234 Q58.6541 371.234 55.4828 366.651 Q52.3116 362.044 52.3116 353.317 Q52.3116 345.123 56.2004 340.262 Q60.0893 335.378 66.6402 335.378 Q68.3994 335.378 70.1818 335.725 Q71.9874 336.072 73.9318 336.767 Z\" fill=\"#000000\" fill-rule=\"nonzero\" fill-opacity=\"1\" /><path clip-path=\"url(#clip430)\" d=\"M53.9551 136.061 L76.1772 136.061 L76.1772 138.052 L63.6309 170.621 L58.7467 170.621 L70.5522 139.996 L53.9551 139.996 L53.9551 136.061 Z\" fill=\"#000000\" fill-rule=\"nonzero\" fill-opacity=\"1\" /><polyline clip-path=\"url(#clip432)\" style=\"stroke:#009af9; stroke-linecap:round; stroke-linejoin:round; stroke-width:4; stroke-opacity:1; fill:none\" points=\"175.59,1445.72 293.021,1371.73 410.451,1296.53 527.882,1221.06 645.313,1145.54 762.744,1070 880.174,994.464 997.605,918.923 1115.04,843.383 1232.47,767.842 1349.9,692.301 1467.33,616.761 1584.76,541.22 1702.19,465.679 1819.62,390.139 1937.05,314.598 2054.48,239.058 2171.91,163.517 2289.34,87.9763 \"/>\n",
       "</svg>\n"
      ],
      "text/html": [
       "<?xml version=\"1.0\" encoding=\"utf-8\"?>\n",
       "<svg xmlns=\"http://www.w3.org/2000/svg\" xmlns:xlink=\"http://www.w3.org/1999/xlink\" width=\"600\" height=\"400\" viewBox=\"0 0 2400 1600\">\n",
       "<defs>\n",
       "  <clipPath id=\"clip480\">\n",
       "    <rect x=\"0\" y=\"0\" width=\"2400\" height=\"1600\"/>\n",
       "  </clipPath>\n",
       "</defs>\n",
       "<path clip-path=\"url(#clip480)\" d=\"M0 1600 L2400 1600 L2400 8.88178e-14 L0 8.88178e-14  Z\" fill=\"#ffffff\" fill-rule=\"evenodd\" fill-opacity=\"1\"/>\n",
       "<defs>\n",
       "  <clipPath id=\"clip481\">\n",
       "    <rect x=\"480\" y=\"0\" width=\"1681\" height=\"1600\"/>\n",
       "  </clipPath>\n",
       "</defs>\n",
       "<path clip-path=\"url(#clip480)\" d=\"M112.177 1486.45 L2352.76 1486.45 L2352.76 47.2441 L112.177 47.2441  Z\" fill=\"#ffffff\" fill-rule=\"evenodd\" fill-opacity=\"1\"/>\n",
       "<defs>\n",
       "  <clipPath id=\"clip482\">\n",
       "    <rect x=\"112\" y=\"47\" width=\"2242\" height=\"1440\"/>\n",
       "  </clipPath>\n",
       "</defs>\n",
       "<polyline clip-path=\"url(#clip482)\" style=\"stroke:#000000; stroke-linecap:round; stroke-linejoin:round; stroke-width:2; stroke-opacity:0.1; fill:none\" points=\"410.451,1486.45 410.451,47.2441 \"/>\n",
       "<polyline clip-path=\"url(#clip482)\" style=\"stroke:#000000; stroke-linecap:round; stroke-linejoin:round; stroke-width:2; stroke-opacity:0.1; fill:none\" points=\"880.174,1486.45 880.174,47.2441 \"/>\n",
       "<polyline clip-path=\"url(#clip482)\" style=\"stroke:#000000; stroke-linecap:round; stroke-linejoin:round; stroke-width:2; stroke-opacity:0.1; fill:none\" points=\"1349.9,1486.45 1349.9,47.2441 \"/>\n",
       "<polyline clip-path=\"url(#clip482)\" style=\"stroke:#000000; stroke-linecap:round; stroke-linejoin:round; stroke-width:2; stroke-opacity:0.1; fill:none\" points=\"1819.62,1486.45 1819.62,47.2441 \"/>\n",
       "<polyline clip-path=\"url(#clip482)\" style=\"stroke:#000000; stroke-linecap:round; stroke-linejoin:round; stroke-width:2; stroke-opacity:0.1; fill:none\" points=\"2289.34,1486.45 2289.34,47.2441 \"/>\n",
       "<polyline clip-path=\"url(#clip482)\" style=\"stroke:#000000; stroke-linecap:round; stroke-linejoin:round; stroke-width:2; stroke-opacity:0.1; fill:none\" points=\"112.177,1352.99 2352.76,1352.99 \"/>\n",
       "<polyline clip-path=\"url(#clip482)\" style=\"stroke:#000000; stroke-linecap:round; stroke-linejoin:round; stroke-width:2; stroke-opacity:0.1; fill:none\" points=\"112.177,1153.05 2352.76,1153.05 \"/>\n",
       "<polyline clip-path=\"url(#clip482)\" style=\"stroke:#000000; stroke-linecap:round; stroke-linejoin:round; stroke-width:2; stroke-opacity:0.1; fill:none\" points=\"112.177,953.108 2352.76,953.108 \"/>\n",
       "<polyline clip-path=\"url(#clip482)\" style=\"stroke:#000000; stroke-linecap:round; stroke-linejoin:round; stroke-width:2; stroke-opacity:0.1; fill:none\" points=\"112.177,753.166 2352.76,753.166 \"/>\n",
       "<polyline clip-path=\"url(#clip482)\" style=\"stroke:#000000; stroke-linecap:round; stroke-linejoin:round; stroke-width:2; stroke-opacity:0.1; fill:none\" points=\"112.177,553.224 2352.76,553.224 \"/>\n",
       "<polyline clip-path=\"url(#clip482)\" style=\"stroke:#000000; stroke-linecap:round; stroke-linejoin:round; stroke-width:2; stroke-opacity:0.1; fill:none\" points=\"112.177,353.283 2352.76,353.283 \"/>\n",
       "<polyline clip-path=\"url(#clip482)\" style=\"stroke:#000000; stroke-linecap:round; stroke-linejoin:round; stroke-width:2; stroke-opacity:0.1; fill:none\" points=\"112.177,153.341 2352.76,153.341 \"/>\n",
       "<polyline clip-path=\"url(#clip480)\" style=\"stroke:#000000; stroke-linecap:round; stroke-linejoin:round; stroke-width:4; stroke-opacity:1; fill:none\" points=\"112.177,1486.45 2352.76,1486.45 \"/>\n",
       "<polyline clip-path=\"url(#clip480)\" style=\"stroke:#000000; stroke-linecap:round; stroke-linejoin:round; stroke-width:4; stroke-opacity:1; fill:none\" points=\"410.451,1486.45 410.451,1467.55 \"/>\n",
       "<polyline clip-path=\"url(#clip480)\" style=\"stroke:#000000; stroke-linecap:round; stroke-linejoin:round; stroke-width:4; stroke-opacity:1; fill:none\" points=\"880.174,1486.45 880.174,1467.55 \"/>\n",
       "<polyline clip-path=\"url(#clip480)\" style=\"stroke:#000000; stroke-linecap:round; stroke-linejoin:round; stroke-width:4; stroke-opacity:1; fill:none\" points=\"1349.9,1486.45 1349.9,1467.55 \"/>\n",
       "<polyline clip-path=\"url(#clip480)\" style=\"stroke:#000000; stroke-linecap:round; stroke-linejoin:round; stroke-width:4; stroke-opacity:1; fill:none\" points=\"1819.62,1486.45 1819.62,1467.55 \"/>\n",
       "<polyline clip-path=\"url(#clip480)\" style=\"stroke:#000000; stroke-linecap:round; stroke-linejoin:round; stroke-width:4; stroke-opacity:1; fill:none\" points=\"2289.34,1486.45 2289.34,1467.55 \"/>\n",
       "<path clip-path=\"url(#clip480)\" d=\"M405.104 1544.91 L421.423 1544.91 L421.423 1548.85 L399.479 1548.85 L399.479 1544.91 Q402.141 1542.16 406.724 1537.53 Q411.331 1532.88 412.511 1531.53 Q414.757 1529.01 415.636 1527.27 Q416.539 1525.51 416.539 1523.82 Q416.539 1521.07 414.595 1519.33 Q412.673 1517.6 409.572 1517.6 Q407.373 1517.6 404.919 1518.36 Q402.488 1519.13 399.711 1520.68 L399.711 1515.95 Q402.535 1514.82 404.988 1514.24 Q407.442 1513.66 409.479 1513.66 Q414.849 1513.66 418.044 1516.35 Q421.238 1519.03 421.238 1523.52 Q421.238 1525.65 420.428 1527.57 Q419.641 1529.47 417.535 1532.07 Q416.956 1532.74 413.854 1535.95 Q410.752 1539.15 405.104 1544.91 Z\" fill=\"#000000\" fill-rule=\"nonzero\" fill-opacity=\"1\" /><path clip-path=\"url(#clip480)\" d=\"M883.184 1518.36 L871.378 1536.81 L883.184 1536.81 L883.184 1518.36 M881.957 1514.29 L887.836 1514.29 L887.836 1536.81 L892.767 1536.81 L892.767 1540.7 L887.836 1540.7 L887.836 1548.85 L883.184 1548.85 L883.184 1540.7 L867.582 1540.7 L867.582 1536.19 L881.957 1514.29 Z\" fill=\"#000000\" fill-rule=\"nonzero\" fill-opacity=\"1\" /><path clip-path=\"url(#clip480)\" d=\"M1350.3 1529.7 Q1347.15 1529.7 1345.3 1531.86 Q1343.47 1534.01 1343.47 1537.76 Q1343.47 1541.49 1345.3 1543.66 Q1347.15 1545.82 1350.3 1545.82 Q1353.45 1545.82 1355.28 1543.66 Q1357.13 1541.49 1357.13 1537.76 Q1357.13 1534.01 1355.28 1531.86 Q1353.45 1529.7 1350.3 1529.7 M1359.58 1515.05 L1359.58 1519.31 Q1357.83 1518.48 1356.02 1518.04 Q1354.24 1517.6 1352.48 1517.6 Q1347.85 1517.6 1345.4 1520.72 Q1342.96 1523.85 1342.62 1530.17 Q1343.98 1528.15 1346.04 1527.09 Q1348.1 1526 1350.58 1526 Q1355.79 1526 1358.8 1529.17 Q1361.83 1532.32 1361.83 1537.76 Q1361.83 1543.08 1358.68 1546.3 Q1355.53 1549.52 1350.3 1549.52 Q1344.31 1549.52 1341.14 1544.94 Q1337.96 1540.33 1337.96 1531.6 Q1337.96 1523.41 1341.85 1518.55 Q1345.74 1513.66 1352.29 1513.66 Q1354.05 1513.66 1355.83 1514.01 Q1357.64 1514.36 1359.58 1515.05 Z\" fill=\"#000000\" fill-rule=\"nonzero\" fill-opacity=\"1\" /><path clip-path=\"url(#clip480)\" d=\"M1819.62 1532.44 Q1816.29 1532.44 1814.37 1534.22 Q1812.47 1536 1812.47 1539.13 Q1812.47 1542.25 1814.37 1544.03 Q1816.29 1545.82 1819.62 1545.82 Q1822.95 1545.82 1824.87 1544.03 Q1826.8 1542.23 1826.8 1539.13 Q1826.8 1536 1824.87 1534.22 Q1822.98 1532.44 1819.62 1532.44 M1814.94 1530.45 Q1811.94 1529.7 1810.25 1527.64 Q1808.58 1525.58 1808.58 1522.62 Q1808.58 1518.48 1811.52 1516.07 Q1814.48 1513.66 1819.62 1513.66 Q1824.78 1513.66 1827.72 1516.07 Q1830.66 1518.48 1830.66 1522.62 Q1830.66 1525.58 1828.97 1527.64 Q1827.31 1529.7 1824.32 1530.45 Q1827.7 1531.23 1829.57 1533.52 Q1831.47 1535.82 1831.47 1539.13 Q1831.47 1544.15 1828.39 1546.83 Q1825.34 1549.52 1819.62 1549.52 Q1813.9 1549.52 1810.82 1546.83 Q1807.77 1544.15 1807.77 1539.13 Q1807.77 1535.82 1809.67 1533.52 Q1811.56 1531.23 1814.94 1530.45 M1813.23 1523.06 Q1813.23 1525.75 1814.9 1527.25 Q1816.59 1528.76 1819.62 1528.76 Q1822.63 1528.76 1824.32 1527.25 Q1826.03 1525.75 1826.03 1523.06 Q1826.03 1520.38 1824.32 1518.87 Q1822.63 1517.37 1819.62 1517.37 Q1816.59 1517.37 1814.9 1518.87 Q1813.23 1520.38 1813.23 1523.06 Z\" fill=\"#000000\" fill-rule=\"nonzero\" fill-opacity=\"1\" /><path clip-path=\"url(#clip480)\" d=\"M2264.03 1544.91 L2271.67 1544.91 L2271.67 1518.55 L2263.36 1520.21 L2263.36 1515.95 L2271.62 1514.29 L2276.3 1514.29 L2276.3 1544.91 L2283.94 1544.91 L2283.94 1548.85 L2264.03 1548.85 L2264.03 1544.91 Z\" fill=\"#000000\" fill-rule=\"nonzero\" fill-opacity=\"1\" /><path clip-path=\"url(#clip480)\" d=\"M2303.38 1517.37 Q2299.77 1517.37 2297.94 1520.93 Q2296.14 1524.47 2296.14 1531.6 Q2296.14 1538.71 2297.94 1542.27 Q2299.77 1545.82 2303.38 1545.82 Q2307.02 1545.82 2308.82 1542.27 Q2310.65 1538.71 2310.65 1531.6 Q2310.65 1524.47 2308.82 1520.93 Q2307.02 1517.37 2303.38 1517.37 M2303.38 1513.66 Q2309.19 1513.66 2312.25 1518.27 Q2315.33 1522.85 2315.33 1531.6 Q2315.33 1540.33 2312.25 1544.94 Q2309.19 1549.52 2303.38 1549.52 Q2297.57 1549.52 2294.49 1544.94 Q2291.44 1540.33 2291.44 1531.6 Q2291.44 1522.85 2294.49 1518.27 Q2297.57 1513.66 2303.38 1513.66 Z\" fill=\"#000000\" fill-rule=\"nonzero\" fill-opacity=\"1\" /><polyline clip-path=\"url(#clip480)\" style=\"stroke:#000000; stroke-linecap:round; stroke-linejoin:round; stroke-width:4; stroke-opacity:1; fill:none\" points=\"112.177,1486.45 112.177,47.2441 \"/>\n",
       "<polyline clip-path=\"url(#clip480)\" style=\"stroke:#000000; stroke-linecap:round; stroke-linejoin:round; stroke-width:4; stroke-opacity:1; fill:none\" points=\"112.177,1352.99 131.075,1352.99 \"/>\n",
       "<polyline clip-path=\"url(#clip480)\" style=\"stroke:#000000; stroke-linecap:round; stroke-linejoin:round; stroke-width:4; stroke-opacity:1; fill:none\" points=\"112.177,1153.05 131.075,1153.05 \"/>\n",
       "<polyline clip-path=\"url(#clip480)\" style=\"stroke:#000000; stroke-linecap:round; stroke-linejoin:round; stroke-width:4; stroke-opacity:1; fill:none\" points=\"112.177,953.108 131.075,953.108 \"/>\n",
       "<polyline clip-path=\"url(#clip480)\" style=\"stroke:#000000; stroke-linecap:round; stroke-linejoin:round; stroke-width:4; stroke-opacity:1; fill:none\" points=\"112.177,753.166 131.075,753.166 \"/>\n",
       "<polyline clip-path=\"url(#clip480)\" style=\"stroke:#000000; stroke-linecap:round; stroke-linejoin:round; stroke-width:4; stroke-opacity:1; fill:none\" points=\"112.177,553.224 131.075,553.224 \"/>\n",
       "<polyline clip-path=\"url(#clip480)\" style=\"stroke:#000000; stroke-linecap:round; stroke-linejoin:round; stroke-width:4; stroke-opacity:1; fill:none\" points=\"112.177,353.283 131.075,353.283 \"/>\n",
       "<polyline clip-path=\"url(#clip480)\" style=\"stroke:#000000; stroke-linecap:round; stroke-linejoin:round; stroke-width:4; stroke-opacity:1; fill:none\" points=\"112.177,153.341 131.075,153.341 \"/>\n",
       "<path clip-path=\"url(#clip480)\" d=\"M56.2699 1366.34 L63.9087 1366.34 L63.9087 1339.97 L55.5986 1341.64 L55.5986 1337.38 L63.8624 1335.71 L68.5383 1335.71 L68.5383 1366.34 L76.1772 1366.34 L76.1772 1370.27 L56.2699 1370.27 L56.2699 1366.34 Z\" fill=\"#000000\" fill-rule=\"nonzero\" fill-opacity=\"1\" /><path clip-path=\"url(#clip480)\" d=\"M59.8578 1166.39 L76.1772 1166.39 L76.1772 1170.33 L54.2328 1170.33 L54.2328 1166.39 Q56.8949 1163.64 61.4782 1159.01 Q66.0846 1154.36 67.2652 1153.01 Q69.5105 1150.49 70.3902 1148.76 Q71.2929 1147 71.2929 1145.31 Q71.2929 1142.55 69.3485 1140.82 Q67.4272 1139.08 64.3254 1139.08 Q62.1263 1139.08 59.6726 1139.84 Q57.2421 1140.61 54.4643 1142.16 L54.4643 1137.44 Q57.2884 1136.3 59.7421 1135.72 Q62.1958 1135.14 64.2328 1135.14 Q69.6031 1135.14 72.7976 1137.83 Q75.992 1140.51 75.992 1145.01 Q75.992 1147.14 75.1818 1149.06 Q74.3948 1150.95 72.2883 1153.55 Q71.7096 1154.22 68.6078 1157.44 Q65.5059 1160.63 59.8578 1166.39 Z\" fill=\"#000000\" fill-rule=\"nonzero\" fill-opacity=\"1\" /><path clip-path=\"url(#clip480)\" d=\"M69.0476 951.754 Q72.404 952.471 74.279 954.74 Q76.1772 957.008 76.1772 960.342 Q76.1772 965.457 72.6587 968.258 Q69.1402 971.059 62.6587 971.059 Q60.4828 971.059 58.168 970.619 Q55.8764 970.203 53.4227 969.346 L53.4227 964.832 Q55.3671 965.967 57.6819 966.545 Q59.9967 967.124 62.5198 967.124 Q66.918 967.124 69.2096 965.388 Q71.5244 963.652 71.5244 960.342 Q71.5244 957.286 69.3717 955.573 Q67.242 953.837 63.4226 953.837 L59.3949 953.837 L59.3949 949.994 L63.6078 949.994 Q67.0569 949.994 68.8855 948.629 Q70.7142 947.24 70.7142 944.647 Q70.7142 941.985 68.8161 940.573 Q66.9411 939.138 63.4226 939.138 Q61.5013 939.138 59.3023 939.555 Q57.1032 939.971 54.4643 940.851 L54.4643 936.684 Q57.1264 935.944 59.4412 935.573 Q61.7791 935.203 63.8393 935.203 Q69.1633 935.203 72.2652 937.633 Q75.367 940.041 75.367 944.161 Q75.367 947.032 73.7235 949.022 Q72.08 950.99 69.0476 951.754 Z\" fill=\"#000000\" fill-rule=\"nonzero\" fill-opacity=\"1\" /><path clip-path=\"url(#clip480)\" d=\"M66.5939 739.96 L54.7884 758.409 L66.5939 758.409 L66.5939 739.96 M65.367 735.886 L71.2466 735.886 L71.2466 758.409 L76.1772 758.409 L76.1772 762.298 L71.2466 762.298 L71.2466 770.446 L66.5939 770.446 L66.5939 762.298 L50.9921 762.298 L50.9921 757.784 L65.367 735.886 Z\" fill=\"#000000\" fill-rule=\"nonzero\" fill-opacity=\"1\" /><path clip-path=\"url(#clip480)\" d=\"M55.2745 535.944 L73.6309 535.944 L73.6309 539.88 L59.5569 539.88 L59.5569 548.352 Q60.5754 548.005 61.5939 547.843 Q62.6124 547.657 63.6309 547.657 Q69.418 547.657 72.7976 550.829 Q76.1772 554 76.1772 559.417 Q76.1772 564.995 72.705 568.097 Q69.2328 571.176 62.9134 571.176 Q60.7374 571.176 58.4689 570.805 Q56.2236 570.435 53.8162 569.694 L53.8162 564.995 Q55.8995 566.129 58.1217 566.685 Q60.3439 567.241 62.8208 567.241 Q66.8254 567.241 69.1633 565.134 Q71.5013 563.028 71.5013 559.417 Q71.5013 555.805 69.1633 553.699 Q66.8254 551.593 62.8208 551.593 Q60.9458 551.593 59.0708 552.009 Q57.2189 552.426 55.2745 553.305 L55.2745 535.944 Z\" fill=\"#000000\" fill-rule=\"nonzero\" fill-opacity=\"1\" /><path clip-path=\"url(#clip480)\" d=\"M64.6495 351.419 Q61.5013 351.419 59.6495 353.572 Q57.8208 355.725 57.8208 359.475 Q57.8208 363.202 59.6495 365.378 Q61.5013 367.53 64.6495 367.53 Q67.7976 367.53 69.6263 365.378 Q71.4781 363.202 71.4781 359.475 Q71.4781 355.725 69.6263 353.572 Q67.7976 351.419 64.6495 351.419 M73.9318 336.767 L73.9318 341.026 Q72.1726 340.193 70.367 339.753 Q68.5846 339.313 66.8254 339.313 Q62.1958 339.313 59.7421 342.438 Q57.3115 345.563 56.9643 351.882 Q58.33 349.868 60.3902 348.804 Q62.4504 347.716 64.9272 347.716 Q70.1355 347.716 73.1448 350.887 Q76.1772 354.035 76.1772 359.475 Q76.1772 364.799 73.029 368.016 Q69.8809 371.234 64.6495 371.234 Q58.6541 371.234 55.4828 366.651 Q52.3116 362.044 52.3116 353.317 Q52.3116 345.123 56.2004 340.262 Q60.0893 335.378 66.6402 335.378 Q68.3994 335.378 70.1818 335.725 Q71.9874 336.072 73.9318 336.767 Z\" fill=\"#000000\" fill-rule=\"nonzero\" fill-opacity=\"1\" /><path clip-path=\"url(#clip480)\" d=\"M53.9551 136.061 L76.1772 136.061 L76.1772 138.052 L63.6309 170.621 L58.7467 170.621 L70.5522 139.996 L53.9551 139.996 L53.9551 136.061 Z\" fill=\"#000000\" fill-rule=\"nonzero\" fill-opacity=\"1\" /><polyline clip-path=\"url(#clip482)\" style=\"stroke:#009af9; stroke-linecap:round; stroke-linejoin:round; stroke-width:4; stroke-opacity:1; fill:none\" points=\"175.59,1445.72 293.021,1371.73 410.451,1296.53 527.882,1221.06 645.313,1145.54 762.744,1070 880.174,994.464 997.605,918.923 1115.04,843.383 1232.47,767.842 1349.9,692.301 1467.33,616.761 1584.76,541.22 1702.19,465.679 1819.62,390.139 1937.05,314.598 2054.48,239.058 2171.91,163.517 2289.34,87.9763 \"/>\n",
       "</svg>\n"
      ]
     },
     "execution_count": 159,
     "metadata": {},
     "output_type": "execute_result"
    }
   ],
   "source": [
    "plot(t_range, ours -numerical, label = false)#, label=[\"ours\" \"numerical\"])"
   ]
  },
  {
   "cell_type": "code",
   "execution_count": 160,
   "id": "322c7431-f0eb-4eff-835d-2e75d2ce1bd2",
   "metadata": {},
   "outputs": [
    {
     "data": {
      "image/png": "[encoded data removed]",
      "image/svg+xml": [
       "<?xml version=\"1.0\" encoding=\"utf-8\"?>\n",
       "<svg xmlns=\"http://www.w3.org/2000/svg\" xmlns:xlink=\"http://www.w3.org/1999/xlink\" width=\"600\" height=\"400\" viewBox=\"0 0 2400 1600\">\n",
       "<defs>\n",
       "  <clipPath id=\"clip520\">\n",
       "    <rect x=\"0\" y=\"0\" width=\"2400\" height=\"1600\"/>\n",
       "  </clipPath>\n",
       "</defs>\n",
       "<path clip-path=\"url(#clip520)\" d=\"M0 1600 L2400 1600 L2400 8.88178e-14 L0 8.88178e-14  Z\" fill=\"#ffffff\" fill-rule=\"evenodd\" fill-opacity=\"1\"/>\n",
       "<defs>\n",
       "  <clipPath id=\"clip521\">\n",
       "    <rect x=\"480\" y=\"0\" width=\"1681\" height=\"1600\"/>\n",
       "  </clipPath>\n",
       "</defs>\n",
       "<path clip-path=\"url(#clip520)\" d=\"M229.445 1486.45 L2352.76 1486.45 L2352.76 47.2441 L229.445 47.2441  Z\" fill=\"#ffffff\" fill-rule=\"evenodd\" fill-opacity=\"1\"/>\n",
       "<defs>\n",
       "  <clipPath id=\"clip522\">\n",
       "    <rect x=\"229\" y=\"47\" width=\"2124\" height=\"1440\"/>\n",
       "  </clipPath>\n",
       "</defs>\n",
       "<polyline clip-path=\"url(#clip522)\" style=\"stroke:#000000; stroke-linecap:round; stroke-linejoin:round; stroke-width:2; stroke-opacity:0.1; fill:none\" points=\"512.108,1486.45 512.108,47.2441 \"/>\n",
       "<polyline clip-path=\"url(#clip522)\" style=\"stroke:#000000; stroke-linecap:round; stroke-linejoin:round; stroke-width:2; stroke-opacity:0.1; fill:none\" points=\"957.247,1486.45 957.247,47.2441 \"/>\n",
       "<polyline clip-path=\"url(#clip522)\" style=\"stroke:#000000; stroke-linecap:round; stroke-linejoin:round; stroke-width:2; stroke-opacity:0.1; fill:none\" points=\"1402.39,1486.45 1402.39,47.2441 \"/>\n",
       "<polyline clip-path=\"url(#clip522)\" style=\"stroke:#000000; stroke-linecap:round; stroke-linejoin:round; stroke-width:2; stroke-opacity:0.1; fill:none\" points=\"1847.52,1486.45 1847.52,47.2441 \"/>\n",
       "<polyline clip-path=\"url(#clip522)\" style=\"stroke:#000000; stroke-linecap:round; stroke-linejoin:round; stroke-width:2; stroke-opacity:0.1; fill:none\" points=\"2292.66,1486.45 2292.66,47.2441 \"/>\n",
       "<polyline clip-path=\"url(#clip522)\" style=\"stroke:#000000; stroke-linecap:round; stroke-linejoin:round; stroke-width:2; stroke-opacity:0.1; fill:none\" points=\"229.445,1447.15 2352.76,1447.15 \"/>\n",
       "<polyline clip-path=\"url(#clip522)\" style=\"stroke:#000000; stroke-linecap:round; stroke-linejoin:round; stroke-width:2; stroke-opacity:0.1; fill:none\" points=\"229.445,1131.86 2352.76,1131.86 \"/>\n",
       "<polyline clip-path=\"url(#clip522)\" style=\"stroke:#000000; stroke-linecap:round; stroke-linejoin:round; stroke-width:2; stroke-opacity:0.1; fill:none\" points=\"229.445,816.575 2352.76,816.575 \"/>\n",
       "<polyline clip-path=\"url(#clip522)\" style=\"stroke:#000000; stroke-linecap:round; stroke-linejoin:round; stroke-width:2; stroke-opacity:0.1; fill:none\" points=\"229.445,501.289 2352.76,501.289 \"/>\n",
       "<polyline clip-path=\"url(#clip522)\" style=\"stroke:#000000; stroke-linecap:round; stroke-linejoin:round; stroke-width:2; stroke-opacity:0.1; fill:none\" points=\"229.445,186.002 2352.76,186.002 \"/>\n",
       "<polyline clip-path=\"url(#clip520)\" style=\"stroke:#000000; stroke-linecap:round; stroke-linejoin:round; stroke-width:4; stroke-opacity:1; fill:none\" points=\"229.445,1486.45 2352.76,1486.45 \"/>\n",
       "<polyline clip-path=\"url(#clip520)\" style=\"stroke:#000000; stroke-linecap:round; stroke-linejoin:round; stroke-width:4; stroke-opacity:1; fill:none\" points=\"512.108,1486.45 512.108,1467.55 \"/>\n",
       "<polyline clip-path=\"url(#clip520)\" style=\"stroke:#000000; stroke-linecap:round; stroke-linejoin:round; stroke-width:4; stroke-opacity:1; fill:none\" points=\"957.247,1486.45 957.247,1467.55 \"/>\n",
       "<polyline clip-path=\"url(#clip520)\" style=\"stroke:#000000; stroke-linecap:round; stroke-linejoin:round; stroke-width:4; stroke-opacity:1; fill:none\" points=\"1402.39,1486.45 1402.39,1467.55 \"/>\n",
       "<polyline clip-path=\"url(#clip520)\" style=\"stroke:#000000; stroke-linecap:round; stroke-linejoin:round; stroke-width:4; stroke-opacity:1; fill:none\" points=\"1847.52,1486.45 1847.52,1467.55 \"/>\n",
       "<polyline clip-path=\"url(#clip520)\" style=\"stroke:#000000; stroke-linecap:round; stroke-linejoin:round; stroke-width:4; stroke-opacity:1; fill:none\" points=\"2292.66,1486.45 2292.66,1467.55 \"/>\n",
       "<path clip-path=\"url(#clip520)\" d=\"M506.761 1544.91 L523.08 1544.91 L523.08 1548.85 L501.136 1548.85 L501.136 1544.91 Q503.798 1542.16 508.381 1537.53 Q512.988 1532.88 514.168 1531.53 Q516.414 1529.01 517.293 1527.27 Q518.196 1525.51 518.196 1523.82 Q518.196 1521.07 516.252 1519.33 Q514.33 1517.6 511.228 1517.6 Q509.029 1517.6 506.576 1518.36 Q504.145 1519.13 501.367 1520.68 L501.367 1515.95 Q504.191 1514.82 506.645 1514.24 Q509.099 1513.66 511.136 1513.66 Q516.506 1513.66 519.701 1516.35 Q522.895 1519.03 522.895 1523.52 Q522.895 1525.65 522.085 1527.57 Q521.298 1529.47 519.191 1532.07 Q518.613 1532.74 515.511 1535.95 Q512.409 1539.15 506.761 1544.91 Z\" fill=\"#000000\" fill-rule=\"nonzero\" fill-opacity=\"1\" /><path clip-path=\"url(#clip520)\" d=\"M960.256 1518.36 L948.45 1536.81 L960.256 1536.81 L960.256 1518.36 M959.029 1514.29 L964.909 1514.29 L964.909 1536.81 L969.839 1536.81 L969.839 1540.7 L964.909 1540.7 L964.909 1548.85 L960.256 1548.85 L960.256 1540.7 L944.654 1540.7 L944.654 1536.19 L959.029 1514.29 Z\" fill=\"#000000\" fill-rule=\"nonzero\" fill-opacity=\"1\" /><path clip-path=\"url(#clip520)\" d=\"M1402.79 1529.7 Q1399.64 1529.7 1397.79 1531.86 Q1395.96 1534.01 1395.96 1537.76 Q1395.96 1541.49 1397.79 1543.66 Q1399.64 1545.82 1402.79 1545.82 Q1405.94 1545.82 1407.77 1543.66 Q1409.62 1541.49 1409.62 1537.76 Q1409.62 1534.01 1407.77 1531.86 Q1405.94 1529.7 1402.79 1529.7 M1412.07 1515.05 L1412.07 1519.31 Q1410.31 1518.48 1408.51 1518.04 Q1406.73 1517.6 1404.97 1517.6 Q1400.34 1517.6 1397.88 1520.72 Q1395.45 1523.85 1395.11 1530.17 Q1396.47 1528.15 1398.53 1527.09 Q1400.59 1526 1403.07 1526 Q1408.28 1526 1411.29 1529.17 Q1414.32 1532.32 1414.32 1537.76 Q1414.32 1543.08 1411.17 1546.3 Q1408.02 1549.52 1402.79 1549.52 Q1396.79 1549.52 1393.62 1544.94 Q1390.45 1540.33 1390.45 1531.6 Q1390.45 1523.41 1394.34 1518.55 Q1398.23 1513.66 1404.78 1513.66 Q1406.54 1513.66 1408.32 1514.01 Q1410.13 1514.36 1412.07 1515.05 Z\" fill=\"#000000\" fill-rule=\"nonzero\" fill-opacity=\"1\" /><path clip-path=\"url(#clip520)\" d=\"M1847.52 1532.44 Q1844.19 1532.44 1842.27 1534.22 Q1840.37 1536 1840.37 1539.13 Q1840.37 1542.25 1842.27 1544.03 Q1844.19 1545.82 1847.52 1545.82 Q1850.86 1545.82 1852.78 1544.03 Q1854.7 1542.23 1854.7 1539.13 Q1854.7 1536 1852.78 1534.22 Q1850.88 1532.44 1847.52 1532.44 M1842.85 1530.45 Q1839.84 1529.7 1838.15 1527.64 Q1836.48 1525.58 1836.48 1522.62 Q1836.48 1518.48 1839.42 1516.07 Q1842.38 1513.66 1847.52 1513.66 Q1852.69 1513.66 1855.63 1516.07 Q1858.57 1518.48 1858.57 1522.62 Q1858.57 1525.58 1856.88 1527.64 Q1855.21 1529.7 1852.22 1530.45 Q1855.6 1531.23 1857.48 1533.52 Q1859.38 1535.82 1859.38 1539.13 Q1859.38 1544.15 1856.3 1546.83 Q1853.24 1549.52 1847.52 1549.52 Q1841.81 1549.52 1838.73 1546.83 Q1835.67 1544.15 1835.67 1539.13 Q1835.67 1535.82 1837.57 1533.52 Q1839.47 1531.23 1842.85 1530.45 M1841.13 1523.06 Q1841.13 1525.75 1842.8 1527.25 Q1844.49 1528.76 1847.52 1528.76 Q1850.53 1528.76 1852.22 1527.25 Q1853.94 1525.75 1853.94 1523.06 Q1853.94 1520.38 1852.22 1518.87 Q1850.53 1517.37 1847.52 1517.37 Q1844.49 1517.37 1842.8 1518.87 Q1841.13 1520.38 1841.13 1523.06 Z\" fill=\"#000000\" fill-rule=\"nonzero\" fill-opacity=\"1\" /><path clip-path=\"url(#clip520)\" d=\"M2267.35 1544.91 L2274.99 1544.91 L2274.99 1518.55 L2266.68 1520.21 L2266.68 1515.95 L2274.94 1514.29 L2279.62 1514.29 L2279.62 1544.91 L2287.26 1544.91 L2287.26 1548.85 L2267.35 1548.85 L2267.35 1544.91 Z\" fill=\"#000000\" fill-rule=\"nonzero\" fill-opacity=\"1\" /><path clip-path=\"url(#clip520)\" d=\"M2306.7 1517.37 Q2303.09 1517.37 2301.26 1520.93 Q2299.46 1524.47 2299.46 1531.6 Q2299.46 1538.71 2301.26 1542.27 Q2303.09 1545.82 2306.7 1545.82 Q2310.34 1545.82 2312.14 1542.27 Q2313.97 1538.71 2313.97 1531.6 Q2313.97 1524.47 2312.14 1520.93 Q2310.34 1517.37 2306.7 1517.37 M2306.7 1513.66 Q2312.51 1513.66 2315.57 1518.27 Q2318.65 1522.85 2318.65 1531.6 Q2318.65 1540.33 2315.57 1544.94 Q2312.51 1549.52 2306.7 1549.52 Q2300.89 1549.52 2297.81 1544.94 Q2294.76 1540.33 2294.76 1531.6 Q2294.76 1522.85 2297.81 1518.27 Q2300.89 1513.66 2306.7 1513.66 Z\" fill=\"#000000\" fill-rule=\"nonzero\" fill-opacity=\"1\" /><polyline clip-path=\"url(#clip520)\" style=\"stroke:#000000; stroke-linecap:round; stroke-linejoin:round; stroke-width:4; stroke-opacity:1; fill:none\" points=\"229.445,1486.45 229.445,47.2441 \"/>\n",
       "<polyline clip-path=\"url(#clip520)\" style=\"stroke:#000000; stroke-linecap:round; stroke-linejoin:round; stroke-width:4; stroke-opacity:1; fill:none\" points=\"229.445,1447.15 248.343,1447.15 \"/>\n",
       "<polyline clip-path=\"url(#clip520)\" style=\"stroke:#000000; stroke-linecap:round; stroke-linejoin:round; stroke-width:4; stroke-opacity:1; fill:none\" points=\"229.445,1131.86 248.343,1131.86 \"/>\n",
       "<polyline clip-path=\"url(#clip520)\" style=\"stroke:#000000; stroke-linecap:round; stroke-linejoin:round; stroke-width:4; stroke-opacity:1; fill:none\" points=\"229.445,816.575 248.343,816.575 \"/>\n",
       "<polyline clip-path=\"url(#clip520)\" style=\"stroke:#000000; stroke-linecap:round; stroke-linejoin:round; stroke-width:4; stroke-opacity:1; fill:none\" points=\"229.445,501.289 248.343,501.289 \"/>\n",
       "<polyline clip-path=\"url(#clip520)\" style=\"stroke:#000000; stroke-linecap:round; stroke-linejoin:round; stroke-width:4; stroke-opacity:1; fill:none\" points=\"229.445,186.002 248.343,186.002 \"/>\n",
       "<path clip-path=\"url(#clip520)\" d=\"M181.501 1432.95 Q177.89 1432.95 176.061 1436.51 Q174.255 1440.05 174.255 1447.18 Q174.255 1454.29 176.061 1457.85 Q177.89 1461.4 181.501 1461.4 Q185.135 1461.4 186.94 1457.85 Q188.769 1454.29 188.769 1447.18 Q188.769 1440.05 186.94 1436.51 Q185.135 1432.95 181.501 1432.95 M181.501 1429.24 Q187.311 1429.24 190.366 1433.85 Q193.445 1438.43 193.445 1447.18 Q193.445 1455.91 190.366 1460.52 Q187.311 1465.1 181.501 1465.1 Q175.691 1465.1 172.612 1460.52 Q169.556 1455.91 169.556 1447.18 Q169.556 1438.43 172.612 1433.85 Q175.691 1429.24 181.501 1429.24 Z\" fill=\"#000000\" fill-rule=\"nonzero\" fill-opacity=\"1\" /><path clip-path=\"url(#clip520)\" d=\"M85.0429 1145.21 L101.362 1145.21 L101.362 1149.14 L79.4179 1149.14 L79.4179 1145.21 Q82.0799 1142.45 86.6632 1137.82 Q91.2697 1133.17 92.4502 1131.83 Q94.6956 1129.3 95.5752 1127.57 Q96.478 1125.81 96.478 1124.12 Q96.478 1121.36 94.5336 1119.63 Q92.6123 1117.89 89.5104 1117.89 Q87.3114 1117.89 84.8577 1118.66 Q82.4271 1119.42 79.6494 1120.97 L79.6494 1116.25 Q82.4734 1115.11 84.9271 1114.54 Q87.3808 1113.96 89.4178 1113.96 Q94.7882 1113.96 97.9826 1116.64 Q101.177 1119.33 101.177 1123.82 Q101.177 1125.95 100.367 1127.87 Q99.5798 1129.77 97.4734 1132.36 Q96.8947 1133.03 93.7928 1136.25 Q90.691 1139.44 85.0429 1145.21 Z\" fill=\"#000000\" fill-rule=\"nonzero\" fill-opacity=\"1\" /><path clip-path=\"url(#clip520)\" d=\"M111.223 1114.58 L129.58 1114.58 L129.58 1118.52 L115.506 1118.52 L115.506 1126.99 Q116.524 1126.64 117.543 1126.48 Q118.561 1126.29 119.58 1126.29 Q125.367 1126.29 128.746 1129.47 Q132.126 1132.64 132.126 1138.05 Q132.126 1143.63 128.654 1146.73 Q125.182 1149.81 118.862 1149.81 Q116.686 1149.81 114.418 1149.44 Q112.172 1149.07 109.765 1148.33 L109.765 1143.63 Q111.848 1144.77 114.07 1145.32 Q116.293 1145.88 118.77 1145.88 Q122.774 1145.88 125.112 1143.77 Q127.45 1141.67 127.45 1138.05 Q127.45 1134.44 125.112 1132.34 Q122.774 1130.23 118.77 1130.23 Q116.895 1130.23 115.02 1130.65 Q113.168 1131.06 111.223 1131.94 L111.223 1114.58 Z\" fill=\"#000000\" fill-rule=\"nonzero\" fill-opacity=\"1\" /><path clip-path=\"url(#clip520)\" d=\"M151.339 1117.66 Q147.728 1117.66 145.899 1121.23 Q144.093 1124.77 144.093 1131.9 Q144.093 1139 145.899 1142.57 Q147.728 1146.11 151.339 1146.11 Q154.973 1146.11 156.779 1142.57 Q158.607 1139 158.607 1131.9 Q158.607 1124.77 156.779 1121.23 Q154.973 1117.66 151.339 1117.66 M151.339 1113.96 Q157.149 1113.96 160.205 1118.56 Q163.283 1123.15 163.283 1131.9 Q163.283 1140.62 160.205 1145.23 Q157.149 1149.81 151.339 1149.81 Q145.529 1149.81 142.45 1145.23 Q139.394 1140.62 139.394 1131.9 Q139.394 1123.15 142.45 1118.56 Q145.529 1113.96 151.339 1113.96 Z\" fill=\"#000000\" fill-rule=\"nonzero\" fill-opacity=\"1\" /><path clip-path=\"url(#clip520)\" d=\"M181.501 1117.66 Q177.89 1117.66 176.061 1121.23 Q174.255 1124.77 174.255 1131.9 Q174.255 1139 176.061 1142.57 Q177.89 1146.11 181.501 1146.11 Q185.135 1146.11 186.94 1142.57 Q188.769 1139 188.769 1131.9 Q188.769 1124.77 186.94 1121.23 Q185.135 1117.66 181.501 1117.66 M181.501 1113.96 Q187.311 1113.96 190.366 1118.56 Q193.445 1123.15 193.445 1131.9 Q193.445 1140.62 190.366 1145.23 Q187.311 1149.81 181.501 1149.81 Q175.691 1149.81 172.612 1145.23 Q169.556 1140.62 169.556 1131.9 Q169.556 1123.15 172.612 1118.56 Q175.691 1113.96 181.501 1113.96 Z\" fill=\"#000000\" fill-rule=\"nonzero\" fill-opacity=\"1\" /><path clip-path=\"url(#clip520)\" d=\"M81.0614 799.295 L99.4178 799.295 L99.4178 803.231 L85.3438 803.231 L85.3438 811.703 Q86.3623 811.355 87.3808 811.193 Q88.3993 811.008 89.4178 811.008 Q95.2049 811.008 98.5845 814.18 Q101.964 817.351 101.964 822.767 Q101.964 828.346 98.4919 831.448 Q95.0197 834.527 88.7003 834.527 Q86.5243 834.527 84.2558 834.156 Q82.0105 833.786 79.6031 833.045 L79.6031 828.346 Q81.6864 829.48 83.9086 830.036 Q86.1308 830.591 88.6077 830.591 Q92.6123 830.591 94.9502 828.485 Q97.2882 826.379 97.2882 822.767 Q97.2882 819.156 94.9502 817.05 Q92.6123 814.943 88.6077 814.943 Q86.7327 814.943 84.8577 815.36 Q83.0058 815.777 81.0614 816.656 L81.0614 799.295 Z\" fill=\"#000000\" fill-rule=\"nonzero\" fill-opacity=\"1\" /><path clip-path=\"url(#clip520)\" d=\"M121.177 802.374 Q117.566 802.374 115.737 805.939 Q113.932 809.48 113.932 816.61 Q113.932 823.717 115.737 827.281 Q117.566 830.823 121.177 830.823 Q124.811 830.823 126.617 827.281 Q128.445 823.717 128.445 816.61 Q128.445 809.48 126.617 805.939 Q124.811 802.374 121.177 802.374 M121.177 798.67 Q126.987 798.67 130.043 803.277 Q133.121 807.86 133.121 816.61 Q133.121 825.337 130.043 829.943 Q126.987 834.527 121.177 834.527 Q115.367 834.527 112.288 829.943 Q109.233 825.337 109.233 816.61 Q109.233 807.86 112.288 803.277 Q115.367 798.67 121.177 798.67 Z\" fill=\"#000000\" fill-rule=\"nonzero\" fill-opacity=\"1\" /><path clip-path=\"url(#clip520)\" d=\"M151.339 802.374 Q147.728 802.374 145.899 805.939 Q144.093 809.48 144.093 816.61 Q144.093 823.717 145.899 827.281 Q147.728 830.823 151.339 830.823 Q154.973 830.823 156.779 827.281 Q158.607 823.717 158.607 816.61 Q158.607 809.48 156.779 805.939 Q154.973 802.374 151.339 802.374 M151.339 798.67 Q157.149 798.67 160.205 803.277 Q163.283 807.86 163.283 816.61 Q163.283 825.337 160.205 829.943 Q157.149 834.527 151.339 834.527 Q145.529 834.527 142.45 829.943 Q139.394 825.337 139.394 816.61 Q139.394 807.86 142.45 803.277 Q145.529 798.67 151.339 798.67 Z\" fill=\"#000000\" fill-rule=\"nonzero\" fill-opacity=\"1\" /><path clip-path=\"url(#clip520)\" d=\"M181.501 802.374 Q177.89 802.374 176.061 805.939 Q174.255 809.48 174.255 816.61 Q174.255 823.717 176.061 827.281 Q177.89 830.823 181.501 830.823 Q185.135 830.823 186.94 827.281 Q188.769 823.717 188.769 816.61 Q188.769 809.48 186.94 805.939 Q185.135 802.374 181.501 802.374 M181.501 798.67 Q187.311 798.67 190.366 803.277 Q193.445 807.86 193.445 816.61 Q193.445 825.337 190.366 829.943 Q187.311 834.527 181.501 834.527 Q175.691 834.527 172.612 829.943 Q169.556 825.337 169.556 816.61 Q169.556 807.86 172.612 803.277 Q175.691 798.67 181.501 798.67 Z\" fill=\"#000000\" fill-rule=\"nonzero\" fill-opacity=\"1\" /><path clip-path=\"url(#clip520)\" d=\"M79.8346 484.009 L102.057 484.009 L102.057 485.999 L89.5104 518.569 L84.6262 518.569 L96.4317 487.944 L79.8346 487.944 L79.8346 484.009 Z\" fill=\"#000000\" fill-rule=\"nonzero\" fill-opacity=\"1\" /><path clip-path=\"url(#clip520)\" d=\"M111.223 484.009 L129.58 484.009 L129.58 487.944 L115.506 487.944 L115.506 496.416 Q116.524 496.069 117.543 495.907 Q118.561 495.722 119.58 495.722 Q125.367 495.722 128.746 498.893 Q132.126 502.064 132.126 507.481 Q132.126 513.06 128.654 516.161 Q125.182 519.24 118.862 519.24 Q116.686 519.24 114.418 518.87 Q112.172 518.499 109.765 517.759 L109.765 513.06 Q111.848 514.194 114.07 514.749 Q116.293 515.305 118.77 515.305 Q122.774 515.305 125.112 513.198 Q127.45 511.092 127.45 507.481 Q127.45 503.87 125.112 501.763 Q122.774 499.657 118.77 499.657 Q116.895 499.657 115.02 500.073 Q113.168 500.49 111.223 501.37 L111.223 484.009 Z\" fill=\"#000000\" fill-rule=\"nonzero\" fill-opacity=\"1\" /><path clip-path=\"url(#clip520)\" d=\"M151.339 487.087 Q147.728 487.087 145.899 490.652 Q144.093 494.194 144.093 501.323 Q144.093 508.43 145.899 511.995 Q147.728 515.536 151.339 515.536 Q154.973 515.536 156.779 511.995 Q158.607 508.43 158.607 501.323 Q158.607 494.194 156.779 490.652 Q154.973 487.087 151.339 487.087 M151.339 483.384 Q157.149 483.384 160.205 487.99 Q163.283 492.574 163.283 501.323 Q163.283 510.05 160.205 514.657 Q157.149 519.24 151.339 519.24 Q145.529 519.24 142.45 514.657 Q139.394 510.05 139.394 501.323 Q139.394 492.574 142.45 487.99 Q145.529 483.384 151.339 483.384 Z\" fill=\"#000000\" fill-rule=\"nonzero\" fill-opacity=\"1\" /><path clip-path=\"url(#clip520)\" d=\"M181.501 487.087 Q177.89 487.087 176.061 490.652 Q174.255 494.194 174.255 501.323 Q174.255 508.43 176.061 511.995 Q177.89 515.536 181.501 515.536 Q185.135 515.536 186.94 511.995 Q188.769 508.43 188.769 501.323 Q188.769 494.194 186.94 490.652 Q185.135 487.087 181.501 487.087 M181.501 483.384 Q187.311 483.384 190.366 487.99 Q193.445 492.574 193.445 501.323 Q193.445 510.05 190.366 514.657 Q187.311 519.24 181.501 519.24 Q175.691 519.24 172.612 514.657 Q169.556 510.05 169.556 501.323 Q169.556 492.574 172.612 487.99 Q175.691 483.384 181.501 483.384 Z\" fill=\"#000000\" fill-rule=\"nonzero\" fill-opacity=\"1\" /><path clip-path=\"url(#clip520)\" d=\"M51.6634 199.347 L59.3023 199.347 L59.3023 172.981 L50.9921 174.648 L50.9921 170.389 L59.256 168.722 L63.9319 168.722 L63.9319 199.347 L71.5707 199.347 L71.5707 203.282 L51.6634 203.282 L51.6634 199.347 Z\" fill=\"#000000\" fill-rule=\"nonzero\" fill-opacity=\"1\" /><path clip-path=\"url(#clip520)\" d=\"M91.0151 171.801 Q87.404 171.801 85.5753 175.366 Q83.7697 178.907 83.7697 186.037 Q83.7697 193.143 85.5753 196.708 Q87.404 200.25 91.0151 200.25 Q94.6493 200.25 96.4548 196.708 Q98.2835 193.143 98.2835 186.037 Q98.2835 178.907 96.4548 175.366 Q94.6493 171.801 91.0151 171.801 M91.0151 168.097 Q96.8252 168.097 99.8808 172.704 Q102.959 177.287 102.959 186.037 Q102.959 194.764 99.8808 199.37 Q96.8252 203.953 91.0151 203.953 Q85.2049 203.953 82.1262 199.37 Q79.0707 194.764 79.0707 186.037 Q79.0707 177.287 82.1262 172.704 Q85.2049 168.097 91.0151 168.097 Z\" fill=\"#000000\" fill-rule=\"nonzero\" fill-opacity=\"1\" /><path clip-path=\"url(#clip520)\" d=\"M121.177 171.801 Q117.566 171.801 115.737 175.366 Q113.932 178.907 113.932 186.037 Q113.932 193.143 115.737 196.708 Q117.566 200.25 121.177 200.25 Q124.811 200.25 126.617 196.708 Q128.445 193.143 128.445 186.037 Q128.445 178.907 126.617 175.366 Q124.811 171.801 121.177 171.801 M121.177 168.097 Q126.987 168.097 130.043 172.704 Q133.121 177.287 133.121 186.037 Q133.121 194.764 130.043 199.37 Q126.987 203.953 121.177 203.953 Q115.367 203.953 112.288 199.37 Q109.233 194.764 109.233 186.037 Q109.233 177.287 112.288 172.704 Q115.367 168.097 121.177 168.097 Z\" fill=\"#000000\" fill-rule=\"nonzero\" fill-opacity=\"1\" /><path clip-path=\"url(#clip520)\" d=\"M151.339 171.801 Q147.728 171.801 145.899 175.366 Q144.093 178.907 144.093 186.037 Q144.093 193.143 145.899 196.708 Q147.728 200.25 151.339 200.25 Q154.973 200.25 156.779 196.708 Q158.607 193.143 158.607 186.037 Q158.607 178.907 156.779 175.366 Q154.973 171.801 151.339 171.801 M151.339 168.097 Q157.149 168.097 160.205 172.704 Q163.283 177.287 163.283 186.037 Q163.283 194.764 160.205 199.37 Q157.149 203.953 151.339 203.953 Q145.529 203.953 142.45 199.37 Q139.394 194.764 139.394 186.037 Q139.394 177.287 142.45 172.704 Q145.529 168.097 151.339 168.097 Z\" fill=\"#000000\" fill-rule=\"nonzero\" fill-opacity=\"1\" /><path clip-path=\"url(#clip520)\" d=\"M181.501 171.801 Q177.89 171.801 176.061 175.366 Q174.255 178.907 174.255 186.037 Q174.255 193.143 176.061 196.708 Q177.89 200.25 181.501 200.25 Q185.135 200.25 186.94 196.708 Q188.769 193.143 188.769 186.037 Q188.769 178.907 186.94 175.366 Q185.135 171.801 181.501 171.801 M181.501 168.097 Q187.311 168.097 190.366 172.704 Q193.445 177.287 193.445 186.037 Q193.445 194.764 190.366 199.37 Q187.311 203.953 181.501 203.953 Q175.691 203.953 172.612 199.37 Q169.556 194.764 169.556 186.037 Q169.556 177.287 172.612 172.704 Q175.691 168.097 181.501 168.097 Z\" fill=\"#000000\" fill-rule=\"nonzero\" fill-opacity=\"1\" /><polyline clip-path=\"url(#clip522)\" style=\"stroke:#009af9; stroke-linecap:round; stroke-linejoin:round; stroke-width:4; stroke-opacity:1; fill:none\" points=\"289.539,1445.65 400.823,1442.26 512.108,1435.77 623.393,1425.17 734.677,1409.44 845.962,1387.6 957.247,1358.62 1068.53,1321.5 1179.82,1275.24 1291.1,1218.82 1402.39,1151.25 1513.67,1071.5 1624.95,978.579 1736.24,871.476 1847.52,749.184 1958.81,610.694 2070.09,455.002 2181.38,281.098 2292.66,87.9763 \"/>\n",
       "<polyline clip-path=\"url(#clip522)\" style=\"stroke:#e26f46; stroke-linecap:round; stroke-linejoin:round; stroke-width:4; stroke-opacity:1; fill:none\" points=\"289.539,1445.72 400.823,1442.37 512.108,1435.93 623.393,1425.37 734.677,1409.7 845.962,1387.9 957.247,1358.97 1068.53,1321.9 1179.82,1275.69 1291.1,1219.32 1402.39,1151.79 1513.67,1072.09 1624.95,979.218 1736.24,872.162 1847.52,749.917 1958.81,611.476 2070.09,455.83 2181.38,281.974 2292.66,88.9003 \"/>\n",
       "<path clip-path=\"url(#clip520)\" d=\"M300.222 250.738 L740.191 250.738 L740.191 95.2176 L300.222 95.2176  Z\" fill=\"#ffffff\" fill-rule=\"evenodd\" fill-opacity=\"1\"/>\n",
       "<polyline clip-path=\"url(#clip520)\" style=\"stroke:#000000; stroke-linecap:round; stroke-linejoin:round; stroke-width:4; stroke-opacity:1; fill:none\" points=\"300.222,250.738 740.191,250.738 740.191,95.2176 300.222,95.2176 300.222,250.738 \"/>\n",
       "<polyline clip-path=\"url(#clip520)\" style=\"stroke:#009af9; stroke-linecap:round; stroke-linejoin:round; stroke-width:4; stroke-opacity:1; fill:none\" points=\"323.814,147.058 465.368,147.058 \"/>\n",
       "<path clip-path=\"url(#clip520)\" d=\"M500.859 141.398 Q497.433 141.398 495.442 144.083 Q493.452 146.745 493.452 151.398 Q493.452 156.051 495.419 158.736 Q497.41 161.398 500.859 161.398 Q504.262 161.398 506.252 158.713 Q508.243 156.027 508.243 151.398 Q508.243 146.791 506.252 144.106 Q504.262 141.398 500.859 141.398 M500.859 137.787 Q506.414 137.787 509.586 141.398 Q512.757 145.009 512.757 151.398 Q512.757 157.764 509.586 161.398 Q506.414 165.009 500.859 165.009 Q495.28 165.009 492.109 161.398 Q488.961 157.764 488.961 151.398 Q488.961 145.009 492.109 141.398 Q495.28 137.787 500.859 137.787 Z\" fill=\"#000000\" fill-rule=\"nonzero\" fill-opacity=\"1\" /><path clip-path=\"url(#clip520)\" d=\"M519.377 154.106 L519.377 138.412 L523.637 138.412 L523.637 153.944 Q523.637 157.625 525.072 159.476 Q526.507 161.305 529.377 161.305 Q532.826 161.305 534.817 159.106 Q536.831 156.907 536.831 153.111 L536.831 138.412 L541.09 138.412 L541.09 164.338 L536.831 164.338 L536.831 160.356 Q535.28 162.717 533.22 163.875 Q531.183 165.009 528.475 165.009 Q524.007 165.009 521.692 162.231 Q519.377 159.453 519.377 154.106 M530.095 137.787 L530.095 137.787 Z\" fill=\"#000000\" fill-rule=\"nonzero\" fill-opacity=\"1\" /><path clip-path=\"url(#clip520)\" d=\"M564.886 142.393 Q564.169 141.977 563.312 141.791 Q562.479 141.583 561.46 141.583 Q557.849 141.583 555.905 143.944 Q553.984 146.282 553.984 150.68 L553.984 164.338 L549.701 164.338 L549.701 138.412 L553.984 138.412 L553.984 142.44 Q555.326 140.078 557.479 138.944 Q559.632 137.787 562.71 137.787 Q563.15 137.787 563.683 137.856 Q564.215 137.903 564.863 138.018 L564.886 142.393 Z\" fill=\"#000000\" fill-rule=\"nonzero\" fill-opacity=\"1\" /><path clip-path=\"url(#clip520)\" d=\"M585.882 139.176 L585.882 143.203 Q584.076 142.277 582.132 141.815 Q580.187 141.352 578.104 141.352 Q574.933 141.352 573.335 142.324 Q571.761 143.296 571.761 145.24 Q571.761 146.722 572.896 147.578 Q574.03 148.412 577.456 149.176 L578.914 149.5 Q583.451 150.472 585.349 152.254 Q587.27 154.014 587.27 157.185 Q587.27 160.796 584.4 162.902 Q581.553 165.009 576.553 165.009 Q574.47 165.009 572.201 164.592 Q569.956 164.199 567.456 163.388 L567.456 158.99 Q569.817 160.217 572.109 160.842 Q574.4 161.444 576.646 161.444 Q579.655 161.444 581.275 160.426 Q582.896 159.384 582.896 157.509 Q582.896 155.773 581.715 154.847 Q580.558 153.921 576.599 153.064 L575.118 152.717 Q571.159 151.884 569.4 150.171 Q567.641 148.435 567.641 145.426 Q567.641 141.768 570.234 139.778 Q572.826 137.787 577.595 137.787 Q579.956 137.787 582.039 138.134 Q584.122 138.481 585.882 139.176 Z\" fill=\"#000000\" fill-rule=\"nonzero\" fill-opacity=\"1\" /><polyline clip-path=\"url(#clip520)\" style=\"stroke:#e26f46; stroke-linecap:round; stroke-linejoin:round; stroke-width:4; stroke-opacity:1; fill:none\" points=\"323.814,198.898 465.368,198.898 \"/>\n",
       "<path clip-path=\"url(#clip520)\" d=\"M510.674 200.529 L510.674 216.178 L506.414 216.178 L506.414 200.668 Q506.414 196.988 504.979 195.159 Q503.544 193.33 500.674 193.33 Q497.225 193.33 495.234 195.53 Q493.243 197.729 493.243 201.525 L493.243 216.178 L488.961 216.178 L488.961 190.252 L493.243 190.252 L493.243 194.28 Q494.771 191.942 496.831 190.784 Q498.914 189.627 501.623 189.627 Q506.09 189.627 508.382 192.405 Q510.674 195.159 510.674 200.529 Z\" fill=\"#000000\" fill-rule=\"nonzero\" fill-opacity=\"1\" /><path clip-path=\"url(#clip520)\" d=\"M518.729 205.946 L518.729 190.252 L522.988 190.252 L522.988 205.784 Q522.988 209.465 524.424 211.316 Q525.859 213.145 528.729 213.145 Q532.178 213.145 534.169 210.946 Q536.183 208.747 536.183 204.951 L536.183 190.252 L540.442 190.252 L540.442 216.178 L536.183 216.178 L536.183 212.196 Q534.632 214.557 532.572 215.715 Q530.535 216.849 527.826 216.849 Q523.359 216.849 521.044 214.071 Q518.729 211.293 518.729 205.946 M529.447 189.627 L529.447 189.627 Z\" fill=\"#000000\" fill-rule=\"nonzero\" fill-opacity=\"1\" /><path clip-path=\"url(#clip520)\" d=\"M569.4 195.229 Q570.997 192.358 573.22 190.993 Q575.442 189.627 578.451 189.627 Q582.502 189.627 584.701 192.474 Q586.9 195.298 586.9 200.529 L586.9 216.178 L582.618 216.178 L582.618 200.668 Q582.618 196.942 581.298 195.136 Q579.979 193.33 577.271 193.33 Q573.96 193.33 572.039 195.53 Q570.118 197.729 570.118 201.525 L570.118 216.178 L565.835 216.178 L565.835 200.668 Q565.835 196.918 564.516 195.136 Q563.197 193.33 560.442 193.33 Q557.178 193.33 555.257 195.553 Q553.335 197.752 553.335 201.525 L553.335 216.178 L549.053 216.178 L549.053 190.252 L553.335 190.252 L553.335 194.28 Q554.794 191.895 556.831 190.761 Q558.868 189.627 561.669 189.627 Q564.493 189.627 566.46 191.062 Q568.451 192.497 569.4 195.229 Z\" fill=\"#000000\" fill-rule=\"nonzero\" fill-opacity=\"1\" /><path clip-path=\"url(#clip520)\" d=\"M617.571 202.15 L617.571 204.233 L597.988 204.233 Q598.266 208.631 600.627 210.946 Q603.011 213.238 607.247 213.238 Q609.701 213.238 611.993 212.636 Q614.307 212.034 616.576 210.83 L616.576 214.858 Q614.284 215.83 611.877 216.34 Q609.469 216.849 606.993 216.849 Q600.789 216.849 597.155 213.238 Q593.544 209.627 593.544 203.469 Q593.544 197.104 596.97 193.377 Q600.419 189.627 606.252 189.627 Q611.483 189.627 614.516 193.006 Q617.571 196.363 617.571 202.15 M613.312 200.9 Q613.266 197.405 611.344 195.321 Q609.446 193.238 606.298 193.238 Q602.733 193.238 600.581 195.252 Q598.451 197.266 598.127 200.923 L613.312 200.9 Z\" fill=\"#000000\" fill-rule=\"nonzero\" fill-opacity=\"1\" /><path clip-path=\"url(#clip520)\" d=\"M639.585 194.233 Q638.867 193.817 638.011 193.631 Q637.178 193.423 636.159 193.423 Q632.548 193.423 630.604 195.784 Q628.682 198.122 628.682 202.52 L628.682 216.178 L624.4 216.178 L624.4 190.252 L628.682 190.252 L628.682 194.28 Q630.025 191.918 632.178 190.784 Q634.33 189.627 637.409 189.627 Q637.849 189.627 638.381 189.696 Q638.914 189.743 639.562 189.858 L639.585 194.233 Z\" fill=\"#000000\" fill-rule=\"nonzero\" fill-opacity=\"1\" /><path clip-path=\"url(#clip520)\" d=\"M644.053 190.252 L648.312 190.252 L648.312 216.178 L644.053 216.178 L644.053 190.252 M644.053 180.159 L648.312 180.159 L648.312 185.553 L644.053 185.553 L644.053 180.159 Z\" fill=\"#000000\" fill-rule=\"nonzero\" fill-opacity=\"1\" /><path clip-path=\"url(#clip520)\" d=\"M675.881 191.247 L675.881 195.229 Q674.076 194.233 672.247 193.747 Q670.441 193.238 668.59 193.238 Q664.446 193.238 662.154 195.877 Q659.863 198.492 659.863 203.238 Q659.863 207.983 662.154 210.622 Q664.446 213.238 668.59 213.238 Q670.441 213.238 672.247 212.752 Q674.076 212.242 675.881 211.247 L675.881 215.182 Q674.099 216.016 672.177 216.432 Q670.279 216.849 668.127 216.849 Q662.27 216.849 658.821 213.168 Q655.372 209.488 655.372 203.238 Q655.372 196.895 658.844 193.261 Q662.34 189.627 668.404 189.627 Q670.372 189.627 672.247 190.043 Q674.122 190.437 675.881 191.247 Z\" fill=\"#000000\" fill-rule=\"nonzero\" fill-opacity=\"1\" /><path clip-path=\"url(#clip520)\" d=\"M695.071 203.145 Q689.909 203.145 687.918 204.326 Q685.927 205.506 685.927 208.354 Q685.927 210.622 687.409 211.965 Q688.913 213.284 691.483 213.284 Q695.025 213.284 697.154 210.784 Q699.307 208.261 699.307 204.094 L699.307 203.145 L695.071 203.145 M703.566 201.386 L703.566 216.178 L699.307 216.178 L699.307 212.242 Q697.849 214.603 695.673 215.738 Q693.497 216.849 690.349 216.849 Q686.367 216.849 684.006 214.627 Q681.668 212.381 681.668 208.631 Q681.668 204.256 684.585 202.034 Q687.525 199.812 693.335 199.812 L699.307 199.812 L699.307 199.395 Q699.307 196.455 697.362 194.858 Q695.441 193.238 691.946 193.238 Q689.724 193.238 687.617 193.77 Q685.511 194.303 683.566 195.367 L683.566 191.432 Q685.904 190.53 688.103 190.09 Q690.302 189.627 692.386 189.627 Q698.011 189.627 700.788 192.543 Q703.566 195.46 703.566 201.386 Z\" fill=\"#000000\" fill-rule=\"nonzero\" fill-opacity=\"1\" /><path clip-path=\"url(#clip520)\" d=\"M712.339 180.159 L716.599 180.159 L716.599 216.178 L712.339 216.178 L712.339 180.159 Z\" fill=\"#000000\" fill-rule=\"nonzero\" fill-opacity=\"1\" /></svg>\n"
      ],
      "text/html": [
       "<?xml version=\"1.0\" encoding=\"utf-8\"?>\n",
       "<svg xmlns=\"http://www.w3.org/2000/svg\" xmlns:xlink=\"http://www.w3.org/1999/xlink\" width=\"600\" height=\"400\" viewBox=\"0 0 2400 1600\">\n",
       "<defs>\n",
       "  <clipPath id=\"clip570\">\n",
       "    <rect x=\"0\" y=\"0\" width=\"2400\" height=\"1600\"/>\n",
       "  </clipPath>\n",
       "</defs>\n",
       "<path clip-path=\"url(#clip570)\" d=\"M0 1600 L2400 1600 L2400 8.88178e-14 L0 8.88178e-14  Z\" fill=\"#ffffff\" fill-rule=\"evenodd\" fill-opacity=\"1\"/>\n",
       "<defs>\n",
       "  <clipPath id=\"clip571\">\n",
       "    <rect x=\"480\" y=\"0\" width=\"1681\" height=\"1600\"/>\n",
       "  </clipPath>\n",
       "</defs>\n",
       "<path clip-path=\"url(#clip570)\" d=\"M229.445 1486.45 L2352.76 1486.45 L2352.76 47.2441 L229.445 47.2441  Z\" fill=\"#ffffff\" fill-rule=\"evenodd\" fill-opacity=\"1\"/>\n",
       "<defs>\n",
       "  <clipPath id=\"clip572\">\n",
       "    <rect x=\"229\" y=\"47\" width=\"2124\" height=\"1440\"/>\n",
       "  </clipPath>\n",
       "</defs>\n",
       "<polyline clip-path=\"url(#clip572)\" style=\"stroke:#000000; stroke-linecap:round; stroke-linejoin:round; stroke-width:2; stroke-opacity:0.1; fill:none\" points=\"512.108,1486.45 512.108,47.2441 \"/>\n",
       "<polyline clip-path=\"url(#clip572)\" style=\"stroke:#000000; stroke-linecap:round; stroke-linejoin:round; stroke-width:2; stroke-opacity:0.1; fill:none\" points=\"957.247,1486.45 957.247,47.2441 \"/>\n",
       "<polyline clip-path=\"url(#clip572)\" style=\"stroke:#000000; stroke-linecap:round; stroke-linejoin:round; stroke-width:2; stroke-opacity:0.1; fill:none\" points=\"1402.39,1486.45 1402.39,47.2441 \"/>\n",
       "<polyline clip-path=\"url(#clip572)\" style=\"stroke:#000000; stroke-linecap:round; stroke-linejoin:round; stroke-width:2; stroke-opacity:0.1; fill:none\" points=\"1847.52,1486.45 1847.52,47.2441 \"/>\n",
       "<polyline clip-path=\"url(#clip572)\" style=\"stroke:#000000; stroke-linecap:round; stroke-linejoin:round; stroke-width:2; stroke-opacity:0.1; fill:none\" points=\"2292.66,1486.45 2292.66,47.2441 \"/>\n",
       "<polyline clip-path=\"url(#clip572)\" style=\"stroke:#000000; stroke-linecap:round; stroke-linejoin:round; stroke-width:2; stroke-opacity:0.1; fill:none\" points=\"229.445,1447.15 2352.76,1447.15 \"/>\n",
       "<polyline clip-path=\"url(#clip572)\" style=\"stroke:#000000; stroke-linecap:round; stroke-linejoin:round; stroke-width:2; stroke-opacity:0.1; fill:none\" points=\"229.445,1131.86 2352.76,1131.86 \"/>\n",
       "<polyline clip-path=\"url(#clip572)\" style=\"stroke:#000000; stroke-linecap:round; stroke-linejoin:round; stroke-width:2; stroke-opacity:0.1; fill:none\" points=\"229.445,816.575 2352.76,816.575 \"/>\n",
       "<polyline clip-path=\"url(#clip572)\" style=\"stroke:#000000; stroke-linecap:round; stroke-linejoin:round; stroke-width:2; stroke-opacity:0.1; fill:none\" points=\"229.445,501.289 2352.76,501.289 \"/>\n",
       "<polyline clip-path=\"url(#clip572)\" style=\"stroke:#000000; stroke-linecap:round; stroke-linejoin:round; stroke-width:2; stroke-opacity:0.1; fill:none\" points=\"229.445,186.002 2352.76,186.002 \"/>\n",
       "<polyline clip-path=\"url(#clip570)\" style=\"stroke:#000000; stroke-linecap:round; stroke-linejoin:round; stroke-width:4; stroke-opacity:1; fill:none\" points=\"229.445,1486.45 2352.76,1486.45 \"/>\n",
       "<polyline clip-path=\"url(#clip570)\" style=\"stroke:#000000; stroke-linecap:round; stroke-linejoin:round; stroke-width:4; stroke-opacity:1; fill:none\" points=\"512.108,1486.45 512.108,1467.55 \"/>\n",
       "<polyline clip-path=\"url(#clip570)\" style=\"stroke:#000000; stroke-linecap:round; stroke-linejoin:round; stroke-width:4; stroke-opacity:1; fill:none\" points=\"957.247,1486.45 957.247,1467.55 \"/>\n",
       "<polyline clip-path=\"url(#clip570)\" style=\"stroke:#000000; stroke-linecap:round; stroke-linejoin:round; stroke-width:4; stroke-opacity:1; fill:none\" points=\"1402.39,1486.45 1402.39,1467.55 \"/>\n",
       "<polyline clip-path=\"url(#clip570)\" style=\"stroke:#000000; stroke-linecap:round; stroke-linejoin:round; stroke-width:4; stroke-opacity:1; fill:none\" points=\"1847.52,1486.45 1847.52,1467.55 \"/>\n",
       "<polyline clip-path=\"url(#clip570)\" style=\"stroke:#000000; stroke-linecap:round; stroke-linejoin:round; stroke-width:4; stroke-opacity:1; fill:none\" points=\"2292.66,1486.45 2292.66,1467.55 \"/>\n",
       "<path clip-path=\"url(#clip570)\" d=\"M506.761 1544.91 L523.08 1544.91 L523.08 1548.85 L501.136 1548.85 L501.136 1544.91 Q503.798 1542.16 508.381 1537.53 Q512.988 1532.88 514.168 1531.53 Q516.414 1529.01 517.293 1527.27 Q518.196 1525.51 518.196 1523.82 Q518.196 1521.07 516.252 1519.33 Q514.33 1517.6 511.228 1517.6 Q509.029 1517.6 506.576 1518.36 Q504.145 1519.13 501.367 1520.68 L501.367 1515.95 Q504.191 1514.82 506.645 1514.24 Q509.099 1513.66 511.136 1513.66 Q516.506 1513.66 519.701 1516.35 Q522.895 1519.03 522.895 1523.52 Q522.895 1525.65 522.085 1527.57 Q521.298 1529.47 519.191 1532.07 Q518.613 1532.74 515.511 1535.95 Q512.409 1539.15 506.761 1544.91 Z\" fill=\"#000000\" fill-rule=\"nonzero\" fill-opacity=\"1\" /><path clip-path=\"url(#clip570)\" d=\"M960.256 1518.36 L948.45 1536.81 L960.256 1536.81 L960.256 1518.36 M959.029 1514.29 L964.909 1514.29 L964.909 1536.81 L969.839 1536.81 L969.839 1540.7 L964.909 1540.7 L964.909 1548.85 L960.256 1548.85 L960.256 1540.7 L944.654 1540.7 L944.654 1536.19 L959.029 1514.29 Z\" fill=\"#000000\" fill-rule=\"nonzero\" fill-opacity=\"1\" /><path clip-path=\"url(#clip570)\" d=\"M1402.79 1529.7 Q1399.64 1529.7 1397.79 1531.86 Q1395.96 1534.01 1395.96 1537.76 Q1395.96 1541.49 1397.79 1543.66 Q1399.64 1545.82 1402.79 1545.82 Q1405.94 1545.82 1407.77 1543.66 Q1409.62 1541.49 1409.62 1537.76 Q1409.62 1534.01 1407.77 1531.86 Q1405.94 1529.7 1402.79 1529.7 M1412.07 1515.05 L1412.07 1519.31 Q1410.31 1518.48 1408.51 1518.04 Q1406.73 1517.6 1404.97 1517.6 Q1400.34 1517.6 1397.88 1520.72 Q1395.45 1523.85 1395.11 1530.17 Q1396.47 1528.15 1398.53 1527.09 Q1400.59 1526 1403.07 1526 Q1408.28 1526 1411.29 1529.17 Q1414.32 1532.32 1414.32 1537.76 Q1414.32 1543.08 1411.17 1546.3 Q1408.02 1549.52 1402.79 1549.52 Q1396.79 1549.52 1393.62 1544.94 Q1390.45 1540.33 1390.45 1531.6 Q1390.45 1523.41 1394.34 1518.55 Q1398.23 1513.66 1404.78 1513.66 Q1406.54 1513.66 1408.32 1514.01 Q1410.13 1514.36 1412.07 1515.05 Z\" fill=\"#000000\" fill-rule=\"nonzero\" fill-opacity=\"1\" /><path clip-path=\"url(#clip570)\" d=\"M1847.52 1532.44 Q1844.19 1532.44 1842.27 1534.22 Q1840.37 1536 1840.37 1539.13 Q1840.37 1542.25 1842.27 1544.03 Q1844.19 1545.82 1847.52 1545.82 Q1850.86 1545.82 1852.78 1544.03 Q1854.7 1542.23 1854.7 1539.13 Q1854.7 1536 1852.78 1534.22 Q1850.88 1532.44 1847.52 1532.44 M1842.85 1530.45 Q1839.84 1529.7 1838.15 1527.64 Q1836.48 1525.58 1836.48 1522.62 Q1836.48 1518.48 1839.42 1516.07 Q1842.38 1513.66 1847.52 1513.66 Q1852.69 1513.66 1855.63 1516.07 Q1858.57 1518.48 1858.57 1522.62 Q1858.57 1525.58 1856.88 1527.64 Q1855.21 1529.7 1852.22 1530.45 Q1855.6 1531.23 1857.48 1533.52 Q1859.38 1535.82 1859.38 1539.13 Q1859.38 1544.15 1856.3 1546.83 Q1853.24 1549.52 1847.52 1549.52 Q1841.81 1549.52 1838.73 1546.83 Q1835.67 1544.15 1835.67 1539.13 Q1835.67 1535.82 1837.57 1533.52 Q1839.47 1531.23 1842.85 1530.45 M1841.13 1523.06 Q1841.13 1525.75 1842.8 1527.25 Q1844.49 1528.76 1847.52 1528.76 Q1850.53 1528.76 1852.22 1527.25 Q1853.94 1525.75 1853.94 1523.06 Q1853.94 1520.38 1852.22 1518.87 Q1850.53 1517.37 1847.52 1517.37 Q1844.49 1517.37 1842.8 1518.87 Q1841.13 1520.38 1841.13 1523.06 Z\" fill=\"#000000\" fill-rule=\"nonzero\" fill-opacity=\"1\" /><path clip-path=\"url(#clip570)\" d=\"M2267.35 1544.91 L2274.99 1544.91 L2274.99 1518.55 L2266.68 1520.21 L2266.68 1515.95 L2274.94 1514.29 L2279.62 1514.29 L2279.62 1544.91 L2287.26 1544.91 L2287.26 1548.85 L2267.35 1548.85 L2267.35 1544.91 Z\" fill=\"#000000\" fill-rule=\"nonzero\" fill-opacity=\"1\" /><path clip-path=\"url(#clip570)\" d=\"M2306.7 1517.37 Q2303.09 1517.37 2301.26 1520.93 Q2299.46 1524.47 2299.46 1531.6 Q2299.46 1538.71 2301.26 1542.27 Q2303.09 1545.82 2306.7 1545.82 Q2310.34 1545.82 2312.14 1542.27 Q2313.97 1538.71 2313.97 1531.6 Q2313.97 1524.47 2312.14 1520.93 Q2310.34 1517.37 2306.7 1517.37 M2306.7 1513.66 Q2312.51 1513.66 2315.57 1518.27 Q2318.65 1522.85 2318.65 1531.6 Q2318.65 1540.33 2315.57 1544.94 Q2312.51 1549.52 2306.7 1549.52 Q2300.89 1549.52 2297.81 1544.94 Q2294.76 1540.33 2294.76 1531.6 Q2294.76 1522.85 2297.81 1518.27 Q2300.89 1513.66 2306.7 1513.66 Z\" fill=\"#000000\" fill-rule=\"nonzero\" fill-opacity=\"1\" /><polyline clip-path=\"url(#clip570)\" style=\"stroke:#000000; stroke-linecap:round; stroke-linejoin:round; stroke-width:4; stroke-opacity:1; fill:none\" points=\"229.445,1486.45 229.445,47.2441 \"/>\n",
       "<polyline clip-path=\"url(#clip570)\" style=\"stroke:#000000; stroke-linecap:round; stroke-linejoin:round; stroke-width:4; stroke-opacity:1; fill:none\" points=\"229.445,1447.15 248.343,1447.15 \"/>\n",
       "<polyline clip-path=\"url(#clip570)\" style=\"stroke:#000000; stroke-linecap:round; stroke-linejoin:round; stroke-width:4; stroke-opacity:1; fill:none\" points=\"229.445,1131.86 248.343,1131.86 \"/>\n",
       "<polyline clip-path=\"url(#clip570)\" style=\"stroke:#000000; stroke-linecap:round; stroke-linejoin:round; stroke-width:4; stroke-opacity:1; fill:none\" points=\"229.445,816.575 248.343,816.575 \"/>\n",
       "<polyline clip-path=\"url(#clip570)\" style=\"stroke:#000000; stroke-linecap:round; stroke-linejoin:round; stroke-width:4; stroke-opacity:1; fill:none\" points=\"229.445,501.289 248.343,501.289 \"/>\n",
       "<polyline clip-path=\"url(#clip570)\" style=\"stroke:#000000; stroke-linecap:round; stroke-linejoin:round; stroke-width:4; stroke-opacity:1; fill:none\" points=\"229.445,186.002 248.343,186.002 \"/>\n",
       "<path clip-path=\"url(#clip570)\" d=\"M181.501 1432.95 Q177.89 1432.95 176.061 1436.51 Q174.255 1440.05 174.255 1447.18 Q174.255 1454.29 176.061 1457.85 Q177.89 1461.4 181.501 1461.4 Q185.135 1461.4 186.94 1457.85 Q188.769 1454.29 188.769 1447.18 Q188.769 1440.05 186.94 1436.51 Q185.135 1432.95 181.501 1432.95 M181.501 1429.24 Q187.311 1429.24 190.366 1433.85 Q193.445 1438.43 193.445 1447.18 Q193.445 1455.91 190.366 1460.52 Q187.311 1465.1 181.501 1465.1 Q175.691 1465.1 172.612 1460.52 Q169.556 1455.91 169.556 1447.18 Q169.556 1438.43 172.612 1433.85 Q175.691 1429.24 181.501 1429.24 Z\" fill=\"#000000\" fill-rule=\"nonzero\" fill-opacity=\"1\" /><path clip-path=\"url(#clip570)\" d=\"M85.0429 1145.21 L101.362 1145.21 L101.362 1149.14 L79.4179 1149.14 L79.4179 1145.21 Q82.0799 1142.45 86.6632 1137.82 Q91.2697 1133.17 92.4502 1131.83 Q94.6956 1129.3 95.5752 1127.57 Q96.478 1125.81 96.478 1124.12 Q96.478 1121.36 94.5336 1119.63 Q92.6123 1117.89 89.5104 1117.89 Q87.3114 1117.89 84.8577 1118.66 Q82.4271 1119.42 79.6494 1120.97 L79.6494 1116.25 Q82.4734 1115.11 84.9271 1114.54 Q87.3808 1113.96 89.4178 1113.96 Q94.7882 1113.96 97.9826 1116.64 Q101.177 1119.33 101.177 1123.82 Q101.177 1125.95 100.367 1127.87 Q99.5798 1129.77 97.4734 1132.36 Q96.8947 1133.03 93.7928 1136.25 Q90.691 1139.44 85.0429 1145.21 Z\" fill=\"#000000\" fill-rule=\"nonzero\" fill-opacity=\"1\" /><path clip-path=\"url(#clip570)\" d=\"M111.223 1114.58 L129.58 1114.58 L129.58 1118.52 L115.506 1118.52 L115.506 1126.99 Q116.524 1126.64 117.543 1126.48 Q118.561 1126.29 119.58 1126.29 Q125.367 1126.29 128.746 1129.47 Q132.126 1132.64 132.126 1138.05 Q132.126 1143.63 128.654 1146.73 Q125.182 1149.81 118.862 1149.81 Q116.686 1149.81 114.418 1149.44 Q112.172 1149.07 109.765 1148.33 L109.765 1143.63 Q111.848 1144.77 114.07 1145.32 Q116.293 1145.88 118.77 1145.88 Q122.774 1145.88 125.112 1143.77 Q127.45 1141.67 127.45 1138.05 Q127.45 1134.44 125.112 1132.34 Q122.774 1130.23 118.77 1130.23 Q116.895 1130.23 115.02 1130.65 Q113.168 1131.06 111.223 1131.94 L111.223 1114.58 Z\" fill=\"#000000\" fill-rule=\"nonzero\" fill-opacity=\"1\" /><path clip-path=\"url(#clip570)\" d=\"M151.339 1117.66 Q147.728 1117.66 145.899 1121.23 Q144.093 1124.77 144.093 1131.9 Q144.093 1139 145.899 1142.57 Q147.728 1146.11 151.339 1146.11 Q154.973 1146.11 156.779 1142.57 Q158.607 1139 158.607 1131.9 Q158.607 1124.77 156.779 1121.23 Q154.973 1117.66 151.339 1117.66 M151.339 1113.96 Q157.149 1113.96 160.205 1118.56 Q163.283 1123.15 163.283 1131.9 Q163.283 1140.62 160.205 1145.23 Q157.149 1149.81 151.339 1149.81 Q145.529 1149.81 142.45 1145.23 Q139.394 1140.62 139.394 1131.9 Q139.394 1123.15 142.45 1118.56 Q145.529 1113.96 151.339 1113.96 Z\" fill=\"#000000\" fill-rule=\"nonzero\" fill-opacity=\"1\" /><path clip-path=\"url(#clip570)\" d=\"M181.501 1117.66 Q177.89 1117.66 176.061 1121.23 Q174.255 1124.77 174.255 1131.9 Q174.255 1139 176.061 1142.57 Q177.89 1146.11 181.501 1146.11 Q185.135 1146.11 186.94 1142.57 Q188.769 1139 188.769 1131.9 Q188.769 1124.77 186.94 1121.23 Q185.135 1117.66 181.501 1117.66 M181.501 1113.96 Q187.311 1113.96 190.366 1118.56 Q193.445 1123.15 193.445 1131.9 Q193.445 1140.62 190.366 1145.23 Q187.311 1149.81 181.501 1149.81 Q175.691 1149.81 172.612 1145.23 Q169.556 1140.62 169.556 1131.9 Q169.556 1123.15 172.612 1118.56 Q175.691 1113.96 181.501 1113.96 Z\" fill=\"#000000\" fill-rule=\"nonzero\" fill-opacity=\"1\" /><path clip-path=\"url(#clip570)\" d=\"M81.0614 799.295 L99.4178 799.295 L99.4178 803.231 L85.3438 803.231 L85.3438 811.703 Q86.3623 811.355 87.3808 811.193 Q88.3993 811.008 89.4178 811.008 Q95.2049 811.008 98.5845 814.18 Q101.964 817.351 101.964 822.767 Q101.964 828.346 98.4919 831.448 Q95.0197 834.527 88.7003 834.527 Q86.5243 834.527 84.2558 834.156 Q82.0105 833.786 79.6031 833.045 L79.6031 828.346 Q81.6864 829.48 83.9086 830.036 Q86.1308 830.591 88.6077 830.591 Q92.6123 830.591 94.9502 828.485 Q97.2882 826.379 97.2882 822.767 Q97.2882 819.156 94.9502 817.05 Q92.6123 814.943 88.6077 814.943 Q86.7327 814.943 84.8577 815.36 Q83.0058 815.777 81.0614 816.656 L81.0614 799.295 Z\" fill=\"#000000\" fill-rule=\"nonzero\" fill-opacity=\"1\" /><path clip-path=\"url(#clip570)\" d=\"M121.177 802.374 Q117.566 802.374 115.737 805.939 Q113.932 809.48 113.932 816.61 Q113.932 823.717 115.737 827.281 Q117.566 830.823 121.177 830.823 Q124.811 830.823 126.617 827.281 Q128.445 823.717 128.445 816.61 Q128.445 809.48 126.617 805.939 Q124.811 802.374 121.177 802.374 M121.177 798.67 Q126.987 798.67 130.043 803.277 Q133.121 807.86 133.121 816.61 Q133.121 825.337 130.043 829.943 Q126.987 834.527 121.177 834.527 Q115.367 834.527 112.288 829.943 Q109.233 825.337 109.233 816.61 Q109.233 807.86 112.288 803.277 Q115.367 798.67 121.177 798.67 Z\" fill=\"#000000\" fill-rule=\"nonzero\" fill-opacity=\"1\" /><path clip-path=\"url(#clip570)\" d=\"M151.339 802.374 Q147.728 802.374 145.899 805.939 Q144.093 809.48 144.093 816.61 Q144.093 823.717 145.899 827.281 Q147.728 830.823 151.339 830.823 Q154.973 830.823 156.779 827.281 Q158.607 823.717 158.607 816.61 Q158.607 809.48 156.779 805.939 Q154.973 802.374 151.339 802.374 M151.339 798.67 Q157.149 798.67 160.205 803.277 Q163.283 807.86 163.283 816.61 Q163.283 825.337 160.205 829.943 Q157.149 834.527 151.339 834.527 Q145.529 834.527 142.45 829.943 Q139.394 825.337 139.394 816.61 Q139.394 807.86 142.45 803.277 Q145.529 798.67 151.339 798.67 Z\" fill=\"#000000\" fill-rule=\"nonzero\" fill-opacity=\"1\" /><path clip-path=\"url(#clip570)\" d=\"M181.501 802.374 Q177.89 802.374 176.061 805.939 Q174.255 809.48 174.255 816.61 Q174.255 823.717 176.061 827.281 Q177.89 830.823 181.501 830.823 Q185.135 830.823 186.94 827.281 Q188.769 823.717 188.769 816.61 Q188.769 809.48 186.94 805.939 Q185.135 802.374 181.501 802.374 M181.501 798.67 Q187.311 798.67 190.366 803.277 Q193.445 807.86 193.445 816.61 Q193.445 825.337 190.366 829.943 Q187.311 834.527 181.501 834.527 Q175.691 834.527 172.612 829.943 Q169.556 825.337 169.556 816.61 Q169.556 807.86 172.612 803.277 Q175.691 798.67 181.501 798.67 Z\" fill=\"#000000\" fill-rule=\"nonzero\" fill-opacity=\"1\" /><path clip-path=\"url(#clip570)\" d=\"M79.8346 484.009 L102.057 484.009 L102.057 485.999 L89.5104 518.569 L84.6262 518.569 L96.4317 487.944 L79.8346 487.944 L79.8346 484.009 Z\" fill=\"#000000\" fill-rule=\"nonzero\" fill-opacity=\"1\" /><path clip-path=\"url(#clip570)\" d=\"M111.223 484.009 L129.58 484.009 L129.58 487.944 L115.506 487.944 L115.506 496.416 Q116.524 496.069 117.543 495.907 Q118.561 495.722 119.58 495.722 Q125.367 495.722 128.746 498.893 Q132.126 502.064 132.126 507.481 Q132.126 513.06 128.654 516.161 Q125.182 519.24 118.862 519.24 Q116.686 519.24 114.418 518.87 Q112.172 518.499 109.765 517.759 L109.765 513.06 Q111.848 514.194 114.07 514.749 Q116.293 515.305 118.77 515.305 Q122.774 515.305 125.112 513.198 Q127.45 511.092 127.45 507.481 Q127.45 503.87 125.112 501.763 Q122.774 499.657 118.77 499.657 Q116.895 499.657 115.02 500.073 Q113.168 500.49 111.223 501.37 L111.223 484.009 Z\" fill=\"#000000\" fill-rule=\"nonzero\" fill-opacity=\"1\" /><path clip-path=\"url(#clip570)\" d=\"M151.339 487.087 Q147.728 487.087 145.899 490.652 Q144.093 494.194 144.093 501.323 Q144.093 508.43 145.899 511.995 Q147.728 515.536 151.339 515.536 Q154.973 515.536 156.779 511.995 Q158.607 508.43 158.607 501.323 Q158.607 494.194 156.779 490.652 Q154.973 487.087 151.339 487.087 M151.339 483.384 Q157.149 483.384 160.205 487.99 Q163.283 492.574 163.283 501.323 Q163.283 510.05 160.205 514.657 Q157.149 519.24 151.339 519.24 Q145.529 519.24 142.45 514.657 Q139.394 510.05 139.394 501.323 Q139.394 492.574 142.45 487.99 Q145.529 483.384 151.339 483.384 Z\" fill=\"#000000\" fill-rule=\"nonzero\" fill-opacity=\"1\" /><path clip-path=\"url(#clip570)\" d=\"M181.501 487.087 Q177.89 487.087 176.061 490.652 Q174.255 494.194 174.255 501.323 Q174.255 508.43 176.061 511.995 Q177.89 515.536 181.501 515.536 Q185.135 515.536 186.94 511.995 Q188.769 508.43 188.769 501.323 Q188.769 494.194 186.94 490.652 Q185.135 487.087 181.501 487.087 M181.501 483.384 Q187.311 483.384 190.366 487.99 Q193.445 492.574 193.445 501.323 Q193.445 510.05 190.366 514.657 Q187.311 519.24 181.501 519.24 Q175.691 519.24 172.612 514.657 Q169.556 510.05 169.556 501.323 Q169.556 492.574 172.612 487.99 Q175.691 483.384 181.501 483.384 Z\" fill=\"#000000\" fill-rule=\"nonzero\" fill-opacity=\"1\" /><path clip-path=\"url(#clip570)\" d=\"M51.6634 199.347 L59.3023 199.347 L59.3023 172.981 L50.9921 174.648 L50.9921 170.389 L59.256 168.722 L63.9319 168.722 L63.9319 199.347 L71.5707 199.347 L71.5707 203.282 L51.6634 203.282 L51.6634 199.347 Z\" fill=\"#000000\" fill-rule=\"nonzero\" fill-opacity=\"1\" /><path clip-path=\"url(#clip570)\" d=\"M91.0151 171.801 Q87.404 171.801 85.5753 175.366 Q83.7697 178.907 83.7697 186.037 Q83.7697 193.143 85.5753 196.708 Q87.404 200.25 91.0151 200.25 Q94.6493 200.25 96.4548 196.708 Q98.2835 193.143 98.2835 186.037 Q98.2835 178.907 96.4548 175.366 Q94.6493 171.801 91.0151 171.801 M91.0151 168.097 Q96.8252 168.097 99.8808 172.704 Q102.959 177.287 102.959 186.037 Q102.959 194.764 99.8808 199.37 Q96.8252 203.953 91.0151 203.953 Q85.2049 203.953 82.1262 199.37 Q79.0707 194.764 79.0707 186.037 Q79.0707 177.287 82.1262 172.704 Q85.2049 168.097 91.0151 168.097 Z\" fill=\"#000000\" fill-rule=\"nonzero\" fill-opacity=\"1\" /><path clip-path=\"url(#clip570)\" d=\"M121.177 171.801 Q117.566 171.801 115.737 175.366 Q113.932 178.907 113.932 186.037 Q113.932 193.143 115.737 196.708 Q117.566 200.25 121.177 200.25 Q124.811 200.25 126.617 196.708 Q128.445 193.143 128.445 186.037 Q128.445 178.907 126.617 175.366 Q124.811 171.801 121.177 171.801 M121.177 168.097 Q126.987 168.097 130.043 172.704 Q133.121 177.287 133.121 186.037 Q133.121 194.764 130.043 199.37 Q126.987 203.953 121.177 203.953 Q115.367 203.953 112.288 199.37 Q109.233 194.764 109.233 186.037 Q109.233 177.287 112.288 172.704 Q115.367 168.097 121.177 168.097 Z\" fill=\"#000000\" fill-rule=\"nonzero\" fill-opacity=\"1\" /><path clip-path=\"url(#clip570)\" d=\"M151.339 171.801 Q147.728 171.801 145.899 175.366 Q144.093 178.907 144.093 186.037 Q144.093 193.143 145.899 196.708 Q147.728 200.25 151.339 200.25 Q154.973 200.25 156.779 196.708 Q158.607 193.143 158.607 186.037 Q158.607 178.907 156.779 175.366 Q154.973 171.801 151.339 171.801 M151.339 168.097 Q157.149 168.097 160.205 172.704 Q163.283 177.287 163.283 186.037 Q163.283 194.764 160.205 199.37 Q157.149 203.953 151.339 203.953 Q145.529 203.953 142.45 199.37 Q139.394 194.764 139.394 186.037 Q139.394 177.287 142.45 172.704 Q145.529 168.097 151.339 168.097 Z\" fill=\"#000000\" fill-rule=\"nonzero\" fill-opacity=\"1\" /><path clip-path=\"url(#clip570)\" d=\"M181.501 171.801 Q177.89 171.801 176.061 175.366 Q174.255 178.907 174.255 186.037 Q174.255 193.143 176.061 196.708 Q177.89 200.25 181.501 200.25 Q185.135 200.25 186.94 196.708 Q188.769 193.143 188.769 186.037 Q188.769 178.907 186.94 175.366 Q185.135 171.801 181.501 171.801 M181.501 168.097 Q187.311 168.097 190.366 172.704 Q193.445 177.287 193.445 186.037 Q193.445 194.764 190.366 199.37 Q187.311 203.953 181.501 203.953 Q175.691 203.953 172.612 199.37 Q169.556 194.764 169.556 186.037 Q169.556 177.287 172.612 172.704 Q175.691 168.097 181.501 168.097 Z\" fill=\"#000000\" fill-rule=\"nonzero\" fill-opacity=\"1\" /><polyline clip-path=\"url(#clip572)\" style=\"stroke:#009af9; stroke-linecap:round; stroke-linejoin:round; stroke-width:4; stroke-opacity:1; fill:none\" points=\"289.539,1445.65 400.823,1442.26 512.108,1435.77 623.393,1425.17 734.677,1409.44 845.962,1387.6 957.247,1358.62 1068.53,1321.5 1179.82,1275.24 1291.1,1218.82 1402.39,1151.25 1513.67,1071.5 1624.95,978.579 1736.24,871.476 1847.52,749.184 1958.81,610.694 2070.09,455.002 2181.38,281.098 2292.66,87.9763 \"/>\n",
       "<polyline clip-path=\"url(#clip572)\" style=\"stroke:#e26f46; stroke-linecap:round; stroke-linejoin:round; stroke-width:4; stroke-opacity:1; fill:none\" points=\"289.539,1445.72 400.823,1442.37 512.108,1435.93 623.393,1425.37 734.677,1409.7 845.962,1387.9 957.247,1358.97 1068.53,1321.9 1179.82,1275.69 1291.1,1219.32 1402.39,1151.79 1513.67,1072.09 1624.95,979.218 1736.24,872.162 1847.52,749.917 1958.81,611.476 2070.09,455.83 2181.38,281.974 2292.66,88.9003 \"/>\n",
       "<path clip-path=\"url(#clip570)\" d=\"M300.222 250.738 L740.191 250.738 L740.191 95.2176 L300.222 95.2176  Z\" fill=\"#ffffff\" fill-rule=\"evenodd\" fill-opacity=\"1\"/>\n",
       "<polyline clip-path=\"url(#clip570)\" style=\"stroke:#000000; stroke-linecap:round; stroke-linejoin:round; stroke-width:4; stroke-opacity:1; fill:none\" points=\"300.222,250.738 740.191,250.738 740.191,95.2176 300.222,95.2176 300.222,250.738 \"/>\n",
       "<polyline clip-path=\"url(#clip570)\" style=\"stroke:#009af9; stroke-linecap:round; stroke-linejoin:round; stroke-width:4; stroke-opacity:1; fill:none\" points=\"323.814,147.058 465.368,147.058 \"/>\n",
       "<path clip-path=\"url(#clip570)\" d=\"M500.859 141.398 Q497.433 141.398 495.442 144.083 Q493.452 146.745 493.452 151.398 Q493.452 156.051 495.419 158.736 Q497.41 161.398 500.859 161.398 Q504.262 161.398 506.252 158.713 Q508.243 156.027 508.243 151.398 Q508.243 146.791 506.252 144.106 Q504.262 141.398 500.859 141.398 M500.859 137.787 Q506.414 137.787 509.586 141.398 Q512.757 145.009 512.757 151.398 Q512.757 157.764 509.586 161.398 Q506.414 165.009 500.859 165.009 Q495.28 165.009 492.109 161.398 Q488.961 157.764 488.961 151.398 Q488.961 145.009 492.109 141.398 Q495.28 137.787 500.859 137.787 Z\" fill=\"#000000\" fill-rule=\"nonzero\" fill-opacity=\"1\" /><path clip-path=\"url(#clip570)\" d=\"M519.377 154.106 L519.377 138.412 L523.637 138.412 L523.637 153.944 Q523.637 157.625 525.072 159.476 Q526.507 161.305 529.377 161.305 Q532.826 161.305 534.817 159.106 Q536.831 156.907 536.831 153.111 L536.831 138.412 L541.09 138.412 L541.09 164.338 L536.831 164.338 L536.831 160.356 Q535.28 162.717 533.22 163.875 Q531.183 165.009 528.475 165.009 Q524.007 165.009 521.692 162.231 Q519.377 159.453 519.377 154.106 M530.095 137.787 L530.095 137.787 Z\" fill=\"#000000\" fill-rule=\"nonzero\" fill-opacity=\"1\" /><path clip-path=\"url(#clip570)\" d=\"M564.886 142.393 Q564.169 141.977 563.312 141.791 Q562.479 141.583 561.46 141.583 Q557.849 141.583 555.905 143.944 Q553.984 146.282 553.984 150.68 L553.984 164.338 L549.701 164.338 L549.701 138.412 L553.984 138.412 L553.984 142.44 Q555.326 140.078 557.479 138.944 Q559.632 137.787 562.71 137.787 Q563.15 137.787 563.683 137.856 Q564.215 137.903 564.863 138.018 L564.886 142.393 Z\" fill=\"#000000\" fill-rule=\"nonzero\" fill-opacity=\"1\" /><path clip-path=\"url(#clip570)\" d=\"M585.882 139.176 L585.882 143.203 Q584.076 142.277 582.132 141.815 Q580.187 141.352 578.104 141.352 Q574.933 141.352 573.335 142.324 Q571.761 143.296 571.761 145.24 Q571.761 146.722 572.896 147.578 Q574.03 148.412 577.456 149.176 L578.914 149.5 Q583.451 150.472 585.349 152.254 Q587.27 154.014 587.27 157.185 Q587.27 160.796 584.4 162.902 Q581.553 165.009 576.553 165.009 Q574.47 165.009 572.201 164.592 Q569.956 164.199 567.456 163.388 L567.456 158.99 Q569.817 160.217 572.109 160.842 Q574.4 161.444 576.646 161.444 Q579.655 161.444 581.275 160.426 Q582.896 159.384 582.896 157.509 Q582.896 155.773 581.715 154.847 Q580.558 153.921 576.599 153.064 L575.118 152.717 Q571.159 151.884 569.4 150.171 Q567.641 148.435 567.641 145.426 Q567.641 141.768 570.234 139.778 Q572.826 137.787 577.595 137.787 Q579.956 137.787 582.039 138.134 Q584.122 138.481 585.882 139.176 Z\" fill=\"#000000\" fill-rule=\"nonzero\" fill-opacity=\"1\" /><polyline clip-path=\"url(#clip570)\" style=\"stroke:#e26f46; stroke-linecap:round; stroke-linejoin:round; stroke-width:4; stroke-opacity:1; fill:none\" points=\"323.814,198.898 465.368,198.898 \"/>\n",
       "<path clip-path=\"url(#clip570)\" d=\"M510.674 200.529 L510.674 216.178 L506.414 216.178 L506.414 200.668 Q506.414 196.988 504.979 195.159 Q503.544 193.33 500.674 193.33 Q497.225 193.33 495.234 195.53 Q493.243 197.729 493.243 201.525 L493.243 216.178 L488.961 216.178 L488.961 190.252 L493.243 190.252 L493.243 194.28 Q494.771 191.942 496.831 190.784 Q498.914 189.627 501.623 189.627 Q506.09 189.627 508.382 192.405 Q510.674 195.159 510.674 200.529 Z\" fill=\"#000000\" fill-rule=\"nonzero\" fill-opacity=\"1\" /><path clip-path=\"url(#clip570)\" d=\"M518.729 205.946 L518.729 190.252 L522.988 190.252 L522.988 205.784 Q522.988 209.465 524.424 211.316 Q525.859 213.145 528.729 213.145 Q532.178 213.145 534.169 210.946 Q536.183 208.747 536.183 204.951 L536.183 190.252 L540.442 190.252 L540.442 216.178 L536.183 216.178 L536.183 212.196 Q534.632 214.557 532.572 215.715 Q530.535 216.849 527.826 216.849 Q523.359 216.849 521.044 214.071 Q518.729 211.293 518.729 205.946 M529.447 189.627 L529.447 189.627 Z\" fill=\"#000000\" fill-rule=\"nonzero\" fill-opacity=\"1\" /><path clip-path=\"url(#clip570)\" d=\"M569.4 195.229 Q570.997 192.358 573.22 190.993 Q575.442 189.627 578.451 189.627 Q582.502 189.627 584.701 192.474 Q586.9 195.298 586.9 200.529 L586.9 216.178 L582.618 216.178 L582.618 200.668 Q582.618 196.942 581.298 195.136 Q579.979 193.33 577.271 193.33 Q573.96 193.33 572.039 195.53 Q570.118 197.729 570.118 201.525 L570.118 216.178 L565.835 216.178 L565.835 200.668 Q565.835 196.918 564.516 195.136 Q563.197 193.33 560.442 193.33 Q557.178 193.33 555.257 195.553 Q553.335 197.752 553.335 201.525 L553.335 216.178 L549.053 216.178 L549.053 190.252 L553.335 190.252 L553.335 194.28 Q554.794 191.895 556.831 190.761 Q558.868 189.627 561.669 189.627 Q564.493 189.627 566.46 191.062 Q568.451 192.497 569.4 195.229 Z\" fill=\"#000000\" fill-rule=\"nonzero\" fill-opacity=\"1\" /><path clip-path=\"url(#clip570)\" d=\"M617.571 202.15 L617.571 204.233 L597.988 204.233 Q598.266 208.631 600.627 210.946 Q603.011 213.238 607.247 213.238 Q609.701 213.238 611.993 212.636 Q614.307 212.034 616.576 210.83 L616.576 214.858 Q614.284 215.83 611.877 216.34 Q609.469 216.849 606.993 216.849 Q600.789 216.849 597.155 213.238 Q593.544 209.627 593.544 203.469 Q593.544 197.104 596.97 193.377 Q600.419 189.627 606.252 189.627 Q611.483 189.627 614.516 193.006 Q617.571 196.363 617.571 202.15 M613.312 200.9 Q613.266 197.405 611.344 195.321 Q609.446 193.238 606.298 193.238 Q602.733 193.238 600.581 195.252 Q598.451 197.266 598.127 200.923 L613.312 200.9 Z\" fill=\"#000000\" fill-rule=\"nonzero\" fill-opacity=\"1\" /><path clip-path=\"url(#clip570)\" d=\"M639.585 194.233 Q638.867 193.817 638.011 193.631 Q637.178 193.423 636.159 193.423 Q632.548 193.423 630.604 195.784 Q628.682 198.122 628.682 202.52 L628.682 216.178 L624.4 216.178 L624.4 190.252 L628.682 190.252 L628.682 194.28 Q630.025 191.918 632.178 190.784 Q634.33 189.627 637.409 189.627 Q637.849 189.627 638.381 189.696 Q638.914 189.743 639.562 189.858 L639.585 194.233 Z\" fill=\"#000000\" fill-rule=\"nonzero\" fill-opacity=\"1\" /><path clip-path=\"url(#clip570)\" d=\"M644.053 190.252 L648.312 190.252 L648.312 216.178 L644.053 216.178 L644.053 190.252 M644.053 180.159 L648.312 180.159 L648.312 185.553 L644.053 185.553 L644.053 180.159 Z\" fill=\"#000000\" fill-rule=\"nonzero\" fill-opacity=\"1\" /><path clip-path=\"url(#clip570)\" d=\"M675.881 191.247 L675.881 195.229 Q674.076 194.233 672.247 193.747 Q670.441 193.238 668.59 193.238 Q664.446 193.238 662.154 195.877 Q659.863 198.492 659.863 203.238 Q659.863 207.983 662.154 210.622 Q664.446 213.238 668.59 213.238 Q670.441 213.238 672.247 212.752 Q674.076 212.242 675.881 211.247 L675.881 215.182 Q674.099 216.016 672.177 216.432 Q670.279 216.849 668.127 216.849 Q662.27 216.849 658.821 213.168 Q655.372 209.488 655.372 203.238 Q655.372 196.895 658.844 193.261 Q662.34 189.627 668.404 189.627 Q670.372 189.627 672.247 190.043 Q674.122 190.437 675.881 191.247 Z\" fill=\"#000000\" fill-rule=\"nonzero\" fill-opacity=\"1\" /><path clip-path=\"url(#clip570)\" d=\"M695.071 203.145 Q689.909 203.145 687.918 204.326 Q685.927 205.506 685.927 208.354 Q685.927 210.622 687.409 211.965 Q688.913 213.284 691.483 213.284 Q695.025 213.284 697.154 210.784 Q699.307 208.261 699.307 204.094 L699.307 203.145 L695.071 203.145 M703.566 201.386 L703.566 216.178 L699.307 216.178 L699.307 212.242 Q697.849 214.603 695.673 215.738 Q693.497 216.849 690.349 216.849 Q686.367 216.849 684.006 214.627 Q681.668 212.381 681.668 208.631 Q681.668 204.256 684.585 202.034 Q687.525 199.812 693.335 199.812 L699.307 199.812 L699.307 199.395 Q699.307 196.455 697.362 194.858 Q695.441 193.238 691.946 193.238 Q689.724 193.238 687.617 193.77 Q685.511 194.303 683.566 195.367 L683.566 191.432 Q685.904 190.53 688.103 190.09 Q690.302 189.627 692.386 189.627 Q698.011 189.627 700.788 192.543 Q703.566 195.46 703.566 201.386 Z\" fill=\"#000000\" fill-rule=\"nonzero\" fill-opacity=\"1\" /><path clip-path=\"url(#clip570)\" d=\"M712.339 180.159 L716.599 180.159 L716.599 216.178 L712.339 216.178 L712.339 180.159 Z\" fill=\"#000000\" fill-rule=\"nonzero\" fill-opacity=\"1\" /></svg>\n"
      ]
     },
     "execution_count": 160,
     "metadata": {},
     "output_type": "execute_result"
    }
   ],
   "source": [
    "plot(t_range, hcat(ours,numerical), label=[\"ours\" \"numerical\"])"
   ]
  },
  {
   "cell_type": "code",
   "execution_count": null,
   "id": "1f8975a4-37f9-4501-8716-5db9f8b92955",
   "metadata": {},
   "outputs": [],
   "source": []
  }
 ],
 "metadata": {
  "kernelspec": {
   "display_name": "Julia 1.11.5",
   "language": "julia",
   "name": "julia-1.11"
  },
  "language_info": {
   "file_extension": ".jl",
   "mimetype": "application/julia",
   "name": "julia",
   "version": "1.11.5"
  }
 },
 "nbformat": 4,
 "nbformat_minor": 5
}
