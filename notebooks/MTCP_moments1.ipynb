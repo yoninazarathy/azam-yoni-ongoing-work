{
 "cells": [
  {
   "cell_type": "code",
   "execution_count": 1,
   "id": "dba9d620-dfac-423e-82ca-33ef83f43340",
   "metadata": {},
   "outputs": [],
   "source": [
    "using LinearAlgebra\n",
    "using QuadGK\n",
    "using Plots"
   ]
  },
  {
   "cell_type": "code",
   "execution_count": 2,
   "id": "eca7471c-bf58-40ac-b0c6-59870429fe02",
   "metadata": {},
   "outputs": [],
   "source": [
    "maxevals = 10^2;"
   ]
  },
  {
   "cell_type": "code",
   "execution_count": 3,
   "id": "500b8764-30dd-4b33-a5d6-28b2860f8f9b",
   "metadata": {},
   "outputs": [
    {
     "data": {
      "text/plain": [
       "(0.3333333333333333, 0.0)"
      ]
     },
     "execution_count": 3,
     "metadata": {},
     "output_type": "execute_result"
    }
   ],
   "source": [
    "quadgk((x)->x^2,0,1; maxevals)"
   ]
  },
  {
   "cell_type": "markdown",
   "id": "10275309-46b0-4e2e-aa0a-6ae828dedf0c",
   "metadata": {},
   "source": [
    "$$\n",
    "\\pi Q = 0\n",
    "$$\n",
    "\n",
    "$$\n",
    "Q^\\top \\pi^\\top = 0 \n",
    "$$\n",
    "\n",
    "$$\n",
    "{\\mathbf 1}^\\top \\pi^\\top = 1\n",
    "$$"
   ]
  },
  {
   "cell_type": "code",
   "execution_count": 4,
   "id": "46009835-af81-4fd8-8847-77f0ddfc1e7b",
   "metadata": {},
   "outputs": [],
   "source": [
    "Q = [-2 1.0 1;\n",
    "      1 -2 1;\n",
    "      2 2 -4]\n",
    "\n",
    "D = [1 1 0.5;\n",
    "     0.5 0 1;\n",
    "      2 1 0];"
   ]
  },
  {
   "cell_type": "code",
   "execution_count": 5,
   "id": "deebb54c-aa87-4497-9ebf-8082815c37f8",
   "metadata": {},
   "outputs": [
    {
     "data": {
      "text/plain": [
       "3×3 Matrix{Float64}:\n",
       " -2.0   1.0  2.0\n",
       "  1.0  -2.0  2.0\n",
       "  1.0   1.0  1.0"
      ]
     },
     "execution_count": 5,
     "metadata": {},
     "output_type": "execute_result"
    }
   ],
   "source": [
    "b = vcat(zeros(2), ones(1));\n",
    "A = vcat(Q'[1:2,:], ones(3)')"
   ]
  },
  {
   "cell_type": "code",
   "execution_count": 6,
   "id": "b9667f4d-4c10-4ce6-90a5-66f9a44df6b0",
   "metadata": {},
   "outputs": [
    {
     "data": {
      "text/plain": [
       "1×3 adjoint(::Vector{Float64}) with eltype Float64:\n",
       " 0.4  0.4  0.2"
      ]
     },
     "execution_count": 6,
     "metadata": {},
     "output_type": "execute_result"
    }
   ],
   "source": [
    "π_vec = round.(A \\ b, digits=2)'"
   ]
  },
  {
   "cell_type": "code",
   "execution_count": 7,
   "id": "9faac0f8-3632-4ea4-bf0e-f7c6d3849885",
   "metadata": {},
   "outputs": [
    {
     "data": {
      "text/plain": [
       "1×3 adjoint(::Vector{Float64}) with eltype Float64:\n",
       " 0.0  0.0  0.0"
      ]
     },
     "execution_count": 7,
     "metadata": {},
     "output_type": "execute_result"
    }
   ],
   "source": [
    "π_vec*Q"
   ]
  },
  {
   "cell_type": "code",
   "execution_count": 8,
   "id": "0ccce9cc-d576-4815-abc8-91a84ce3ab34",
   "metadata": {},
   "outputs": [],
   "source": [
    "one_vec = ones(3);"
   ]
  },
  {
   "cell_type": "markdown",
   "id": "0622e299-81bb-45c7-9181-741b8582318d",
   "metadata": {},
   "source": [
    "$$\n",
    "M_3(t)  = 6 \\int_0^t \\int_0^{u_3} \n",
    "\\underbrace{\\int_0^{u_2} \n",
    "\\underbrace{e^{Q u_1} D e^{Q (u_2 - u_1)} D e^{Q (u_3 - u_2)} D e^{Q (t - u_3)}}_{I_0(u_1,u_2,u_3)} \\, du_1}_{I_1} \\, du_2 \\, du_3.\n",
    "$$"
   ]
  },
  {
   "cell_type": "code",
   "execution_count": 9,
   "id": "11f2c8c6-48b3-4042-a191-e040db594757",
   "metadata": {},
   "outputs": [
    {
     "data": {
      "text/plain": [
       "third_moment (generic function with 1 method)"
      ]
     },
     "execution_count": 9,
     "metadata": {},
     "output_type": "execute_result"
    }
   ],
   "source": [
    "maxevals = 10^3;\n",
    "I0(u1,u2,u3,t) = exp(Q*u1)*D*exp(Q*(u2-u1))*D*exp(Q*(u3-u2))*D*exp(Q*(t-u3))\n",
    "I1(u2,u3,t) = quadgk((u1)->I0(u1,u2,u3,t), 0, u2; maxevals = maxevals)[1]\n",
    "I2(u3,t) = quadgk((u2)->I1(u2,u3,t), 0, u3; maxevals = maxevals)[1]\n",
    "I3(t) = quadgk((u3)->I2(u3,t),0,t; maxevals = maxevals)[1]\n",
    "M3(t) = 6*I3(t)\n",
    "third_moment(t) = π_vec*M3(t)*one_vec"
   ]
  },
  {
   "cell_type": "code",
   "execution_count": 10,
   "id": "0dcc998b-a4ad-404c-ae96-3799249bc9f3",
   "metadata": {},
   "outputs": [
    {
     "name": "stdout",
     "output_type": "stream",
     "text": [
      " 21.529381 seconds (276.85 M allocations: 12.919 GiB, 5.02% gc time, 99.80% compilation time)\n"
     ]
    },
    {
     "data": {
      "text/plain": [
       "15.077745680967237"
      ]
     },
     "execution_count": 10,
     "metadata": {},
     "output_type": "execute_result"
    }
   ],
   "source": [
    "@time third_moment(1.1)"
   ]
  },
  {
   "cell_type": "markdown",
   "id": "189e47e5-fd26-435d-8616-54b0ea4760a3",
   "metadata": {},
   "source": [
    "#### Also doing second moment - just to be sure"
   ]
  },
  {
   "cell_type": "markdown",
   "id": "f897d3ed-df83-40a7-b3dd-0cbff1da1681",
   "metadata": {},
   "source": [
    "$$\n",
    "M_2(t)  = 2 \\int_0^t \\int_0^{u_2} e^{Q u_1} D e^{Q (u_2 - u_1)} D e^{Q (t - u_2)} \\, du_1 \\, du_2, \\\\\n",
    "$$"
   ]
  },
  {
   "cell_type": "code",
   "execution_count": 11,
   "id": "f6a17e03-1839-4df2-9d68-c3c6a50dc206",
   "metadata": {},
   "outputs": [
    {
     "data": {
      "text/plain": [
       "second_moment (generic function with 1 method)"
      ]
     },
     "execution_count": 11,
     "metadata": {},
     "output_type": "execute_result"
    }
   ],
   "source": [
    "maxevals = 10^3;\n",
    "I0_2(u1,u2,t) = exp(Q*u1)*D*exp(Q*(u2-u1))*D*exp(Q*(t-u2))\n",
    "I1_2(u2,t) = quadgk((u1)->I0_2(u1,u2,t), 0, u2; maxevals = maxevals)[1]\n",
    "I2_2(t) = quadgk((u2)->I1_2(u2,t), 0, t; maxevals = maxevals)[1]\n",
    "M2(t) = 2*I2_2(t)\n",
    "second_moment(t) = π_vec*M2(t)*one_vec"
   ]
  },
  {
   "cell_type": "code",
   "execution_count": 12,
   "id": "073d9a32-bd7b-4f66-b70a-618a90ebab1c",
   "metadata": {},
   "outputs": [
    {
     "name": "stdout",
     "output_type": "stream",
     "text": [
      "  0.160910 seconds (1.33 M allocations: 66.684 MiB, 99.37% compilation time)\n"
     ]
    },
    {
     "data": {
      "text/plain": [
       "6.017913784781134"
      ]
     },
     "execution_count": 12,
     "metadata": {},
     "output_type": "execute_result"
    }
   ],
   "source": [
    "@time second_moment(1.1)"
   ]
  },
  {
   "cell_type": "markdown",
   "id": "9732d49b-ce09-43ca-b078-4fba9a3f4f2a",
   "metadata": {},
   "source": [
    "## Deviation Matrices"
   ]
  },
  {
   "cell_type": "code",
   "execution_count": 13,
   "id": "c6249a65-33a8-44a8-a5f9-9d59780d13bc",
   "metadata": {},
   "outputs": [
    {
     "data": {
      "text/plain": [
       "3×3 Matrix{Float64}:\n",
       " 0.586667  0.253333  0.16\n",
       " 0.253333  0.586667  0.16\n",
       " 0.32      0.32      0.36"
      ]
     },
     "execution_count": 13,
     "metadata": {},
     "output_type": "execute_result"
    }
   ],
   "source": [
    "Q⁻ = inv(one_vec*π_vec - Q) #fundamental matrix"
   ]
  },
  {
   "cell_type": "code",
   "execution_count": 14,
   "id": "5e1349ed-5b8b-43cb-b53e-d585b1b1649b",
   "metadata": {},
   "outputs": [
    {
     "data": {
      "text/plain": [
       "3×3 Matrix{Float64}:\n",
       "  0.186667  -0.146667  -0.04\n",
       " -0.146667   0.186667  -0.04\n",
       " -0.08      -0.08       0.16"
      ]
     },
     "execution_count": 14,
     "metadata": {},
     "output_type": "execute_result"
    }
   ],
   "source": [
    "Dʰ = Q⁻-one_vec*π_vec"
   ]
  },
  {
   "cell_type": "code",
   "execution_count": 15,
   "id": "558cd4b4-9ad7-4e44-8187-229b58ccf667",
   "metadata": {},
   "outputs": [
    {
     "data": {
      "text/plain": [
       "3-element Vector{Float64}:\n",
       " -1.1102230246251565e-16\n",
       " -2.498001805406602e-16\n",
       " -2.7755575615628914e-16"
      ]
     },
     "execution_count": 15,
     "metadata": {},
     "output_type": "execute_result"
    }
   ],
   "source": [
    "Dʰ*one_vec #should be 0"
   ]
  },
  {
   "cell_type": "code",
   "execution_count": 16,
   "id": "18ed47a0-88df-4df6-aea3-af861ea197ed",
   "metadata": {},
   "outputs": [
    {
     "data": {
      "text/plain": [
       "1×3 adjoint(::Vector{Float64}) with eltype Float64:\n",
       " -4.94604e-17  -1.02196e-16  -5.65104e-17"
      ]
     },
     "execution_count": 16,
     "metadata": {},
     "output_type": "execute_result"
    }
   ],
   "source": [
    "π_vec*Dʰ#should be 0"
   ]
  },
  {
   "cell_type": "code",
   "execution_count": 17,
   "id": "f11f9837-785c-4e5e-a0fe-5e3dcad5bf26",
   "metadata": {},
   "outputs": [
    {
     "data": {
      "text/plain": [
       "Dʰₜ (generic function with 1 method)"
      ]
     },
     "execution_count": 17,
     "metadata": {},
     "output_type": "execute_result"
    }
   ],
   "source": [
    "Dʰₜ(t) = Dʰ*(I-exp(Q*t))"
   ]
  },
  {
   "cell_type": "code",
   "execution_count": 18,
   "id": "a366e7bd-ed7e-4604-82da-b7d0c691b184",
   "metadata": {},
   "outputs": [
    {
     "data": {
      "text/plain": [
       "numerical_check_trans_deviation (generic function with 1 method)"
      ]
     },
     "execution_count": 18,
     "metadata": {},
     "output_type": "execute_result"
    }
   ],
   "source": [
    "numerical_check_trans_deviation(t) = quadgk((u)->(exp(Q*u) - one_vec*π_vec), 0,t)[1]"
   ]
  },
  {
   "cell_type": "code",
   "execution_count": 19,
   "id": "ddac37da-db6c-40ab-9f88-d42b780fad7d",
   "metadata": {},
   "outputs": [
    {
     "data": {
      "text/plain": [
       "3×3 Matrix{Float64}:\n",
       "  0.183263   -0.143323   -0.0399399\n",
       " -0.143323    0.183263   -0.0399399\n",
       " -0.0798797  -0.0798797   0.159759"
      ]
     },
     "execution_count": 19,
     "metadata": {},
     "output_type": "execute_result"
    }
   ],
   "source": [
    "numerical_check_trans_deviation(1.3)"
   ]
  },
  {
   "cell_type": "code",
   "execution_count": 20,
   "id": "5fb9b561-93a4-480d-a912-cd5039d8371b",
   "metadata": {},
   "outputs": [
    {
     "data": {
      "text/plain": [
       "3×3 Matrix{Float64}:\n",
       "  0.183263   -0.143323   -0.0399399\n",
       " -0.143323    0.183263   -0.0399399\n",
       " -0.0798797  -0.0798797   0.159759"
      ]
     },
     "execution_count": 20,
     "metadata": {},
     "output_type": "execute_result"
    }
   ],
   "source": [
    "Dʰₜ(1.3)"
   ]
  },
  {
   "cell_type": "markdown",
   "id": "5ee81d8b-b3f4-4c13-8d30-d204f373597c",
   "metadata": {},
   "source": [
    "### First moment and its integral"
   ]
  },
  {
   "cell_type": "markdown",
   "id": "34087d67-ec60-4c32-87ca-b5aa6e2ce281",
   "metadata": {},
   "source": [
    "$$\n",
    "M_1(t) = \\int_0^t e^{Q u_1} D e^{Q (t - u_1)} \\, du_1\n",
    "$$\n"
   ]
  },
  {
   "cell_type": "code",
   "execution_count": 21,
   "id": "c669d188-6a50-4840-aa99-b455de69b8fd",
   "metadata": {},
   "outputs": [],
   "source": [
    "m1_integrand(u1,t) = exp(Q*u1)*D*exp(Q*(t-u1))\n",
    "m1(t) = quadgk((u1)->m1_integrand(u1,t), 0, t, maxevals = maxevals)[1];"
   ]
  },
  {
   "cell_type": "code",
   "execution_count": 22,
   "id": "5be34d26-46ee-4c76-a420-11a6a79b2241",
   "metadata": {},
   "outputs": [
    {
     "data": {
      "text/plain": [
       "3×3 Matrix{Float64}:\n",
       " 2.12496  1.99241  1.06913\n",
       " 1.99216  1.85846  1.00288\n",
       " 2.13876  2.00526  1.07598"
      ]
     },
     "execution_count": 22,
     "metadata": {},
     "output_type": "execute_result"
    }
   ],
   "source": [
    "m1(2.3)"
   ]
  },
  {
   "cell_type": "code",
   "execution_count": 23,
   "id": "3dc5cf88-eddf-4bf7-b383-581db352097b",
   "metadata": {},
   "outputs": [],
   "source": [
    "integral_m1(t) = quadgk(m1, 0, t, maxevals = maxevals)[1];"
   ]
  },
  {
   "cell_type": "code",
   "execution_count": 24,
   "id": "a3d85c8f-7b67-49aa-9d2f-56145904b21e",
   "metadata": {},
   "outputs": [
    {
     "data": {
      "text/plain": [
       "3×3 Matrix{Float64}:\n",
       " 2.51174  2.287    1.26409\n",
       " 2.25375  1.97391  1.17951\n",
       " 2.59468  2.29251  1.2678"
      ]
     },
     "execution_count": 24,
     "metadata": {},
     "output_type": "execute_result"
    }
   ],
   "source": [
    "integral_m1(2.3)"
   ]
  },
  {
   "cell_type": "markdown",
   "id": "981778f8-5c5b-4d7b-9bb5-e52f3bbd58f2",
   "metadata": {},
   "source": [
    "### Checking our expressions"
   ]
  },
  {
   "cell_type": "code",
   "execution_count": 25,
   "id": "83b13870-774c-43aa-80d5-b9a53bd22807",
   "metadata": {},
   "outputs": [
    {
     "data": {
      "text/plain": [
       "2.2"
      ]
     },
     "execution_count": 25,
     "metadata": {},
     "output_type": "execute_result"
    }
   ],
   "source": [
    "πD1 = π_vec*D*one_vec"
   ]
  },
  {
   "cell_type": "code",
   "execution_count": 26,
   "id": "105277ff-6ee5-4cea-8f16-dedec0e6a148",
   "metadata": {},
   "outputs": [
    {
     "data": {
      "text/plain": [
       "1×3 adjoint(::Vector{Float64}) with eltype Float64:\n",
       " 1.0  0.6  0.6"
      ]
     },
     "execution_count": 26,
     "metadata": {},
     "output_type": "execute_result"
    }
   ],
   "source": [
    "πD = π_vec*D"
   ]
  },
  {
   "cell_type": "code",
   "execution_count": 27,
   "id": "a5174b9f-2a5a-4013-9121-64b75283de1d",
   "metadata": {},
   "outputs": [
    {
     "data": {
      "text/plain": [
       "3-element Vector{Float64}:\n",
       " 2.5\n",
       " 1.5\n",
       " 3.0"
      ]
     },
     "execution_count": 27,
     "metadata": {},
     "output_type": "execute_result"
    }
   ],
   "source": [
    "D1 = D*one_vec"
   ]
  },
  {
   "cell_type": "markdown",
   "id": "7336b30b-fd54-42d9-85e1-e90e74477e3f",
   "metadata": {},
   "source": [
    "##### Second moment"
   ]
  },
  {
   "cell_type": "markdown",
   "id": "71d72c22-3e64-43c5-bad8-d0a32cbebb78",
   "metadata": {},
   "source": [
    "$$\n",
    "\\boldsymbol{\\pi} M_2(t) \\mathbf{1} =\n",
    " (\\boldsymbol{\\pi} D  \\mathbf{1} )^2 t^2 \n",
    " +  2\\boldsymbol{\\pi} D D^{\\sharp}_{Q}  D \\mathbf{1}t\n",
    " -  2 \\boldsymbol{\\pi} D D^{\\sharp}_{Q}  D^{\\sharp}_{Q}(t)\n",
    " D \\mathbf{1}\n",
    "$$"
   ]
  },
  {
   "cell_type": "code",
   "execution_count": 28,
   "id": "05d60a94-2076-457b-8196-be500540a7e7",
   "metadata": {},
   "outputs": [],
   "source": [
    "our_second_moment(t) = πD1^2*t^2 + 2πD*Dʰ*D1*t - 2*π_vec*D*Dʰ*Dʰₜ(t)*D1;"
   ]
  },
  {
   "cell_type": "code",
   "execution_count": 29,
   "id": "d5d62e4e-6233-43d9-89a6-f5845a272e64",
   "metadata": {},
   "outputs": [
    {
     "data": {
      "text/plain": [
       "26.00026714235093"
      ]
     },
     "execution_count": 29,
     "metadata": {},
     "output_type": "execute_result"
    }
   ],
   "source": [
    "our_second_moment(2.3)"
   ]
  },
  {
   "cell_type": "code",
   "execution_count": 30,
   "id": "3fe2ece0-470a-4a67-8ccf-014ef56af0bb",
   "metadata": {},
   "outputs": [
    {
     "data": {
      "text/plain": [
       "26.000267142350936"
      ]
     },
     "execution_count": 30,
     "metadata": {},
     "output_type": "execute_result"
    }
   ],
   "source": [
    "second_moment(2.3)"
   ]
  },
  {
   "cell_type": "code",
   "execution_count": 33,
   "id": "5eab28a3-7cb1-4a40-997d-c2680549bfe3",
   "metadata": {},
   "outputs": [
    {
     "name": "stdout",
     "output_type": "stream",
     "text": [
      "(t, ours[i] - numerical[i]) = (1.0, -2.6645352591003757e-15)\n",
      "(t, ours[i] - numerical[i]) = (1.5, 0.0)\n",
      "(t, ours[i] - numerical[i]) = (2.0, -3.552713678800501e-15)\n",
      "(t, ours[i] - numerical[i]) = (2.5, -7.105427357601002e-15)\n",
      "(t, ours[i] - numerical[i]) = (3.0, 0.0)\n",
      "(t, ours[i] - numerical[i]) = (3.5, -1.4210854715202004e-14)\n",
      "(t, ours[i] - numerical[i]) = (4.0, 0.0)\n",
      "(t, ours[i] - numerical[i]) = (4.5, 0.0)\n",
      "(t, ours[i] - numerical[i]) = (5.0, -2.842170943040401e-14)\n",
      "(t, ours[i] - numerical[i]) = (5.5, 0.0)\n",
      "(t, ours[i] - numerical[i]) = (6.0, 5.684341886080802e-14)\n",
      "(t, ours[i] - numerical[i]) = (6.5, 2.842170943040401e-14)\n",
      "(t, ours[i] - numerical[i]) = (7.0, 2.842170943040401e-14)\n",
      "(t, ours[i] - numerical[i]) = (7.5, 0.0)\n",
      "(t, ours[i] - numerical[i]) = (8.0, 5.684341886080802e-14)\n",
      "(t, ours[i] - numerical[i]) = (8.5, 5.684341886080802e-14)\n",
      "(t, ours[i] - numerical[i]) = (9.0, 1.1368683772161603e-13)\n",
      "(t, ours[i] - numerical[i]) = (9.5, -1.7053025658242404e-13)\n",
      "(t, ours[i] - numerical[i]) = (10.0, -5.684341886080802e-14)\n"
     ]
    }
   ],
   "source": [
    "t_range = 1:0.5:10\n",
    "ours = [our_second_moment(t) for t in t_range]\n",
    "numerical = [second_moment(t) for t in t_range]\n",
    "for (i,t) in enumerate(t_range)\n",
    "    # @show t, ours[i], numerical[i], ours[i]- numerical[i]\n",
    "    @show t, ours[i]- numerical[i]\n",
    "\n",
    "end"
   ]
  },
  {
   "cell_type": "markdown",
   "id": "cc51eea3-c31b-4c91-ad59-28511898b089",
   "metadata": {},
   "source": [
    "##### Third moment"
   ]
  },
  {
   "cell_type": "markdown",
   "id": "7bdfdecb-f8ab-490b-bb99-2d37b7688c66",
   "metadata": {},
   "source": [
    "#### Exploring the integral of M1\n",
    "Seems like integral components grow qudaratically but our bilinear form of it grows linearly"
   ]
  },
  {
   "cell_type": "code",
   "execution_count": 34,
   "id": "8ea9880e-d2c6-4bf3-a4f2-93091d5a45c8",
   "metadata": {},
   "outputs": [
    {
     "data": {
      "text/plain": [
       "3×3 Matrix{Float64}:\n",
       " 4410.08  4396.83  2205.7\n",
       " 4396.8   4383.49  2199.1\n",
       " 4411.47  4398.14  2206.36"
      ]
     },
     "execution_count": 34,
     "metadata": {},
     "output_type": "execute_result"
    }
   ],
   "source": [
    "integral_m1(100)"
   ]
  },
  {
   "cell_type": "code",
   "execution_count": 35,
   "id": "6a723d3c-2ecf-4607-9200-ed9e162ad1ef",
   "metadata": {},
   "outputs": [
    {
     "data": {
      "image/png": "[encoded data removed]",
      "image/svg+xml": [
       "<?xml version=\"1.0\" encoding=\"utf-8\"?>\n",
       "<svg xmlns=\"http://www.w3.org/2000/svg\" xmlns:xlink=\"http://www.w3.org/1999/xlink\" width=\"600\" height=\"400\" viewBox=\"0 0 2400 1600\">\n",
       "<defs>\n",
       "  <clipPath id=\"clip640\">\n",
       "    <rect x=\"0\" y=\"0\" width=\"2400\" height=\"1600\"/>\n",
       "  </clipPath>\n",
       "</defs>\n",
       "<path clip-path=\"url(#clip640)\" d=\"M0 1600 L2400 1600 L2400 8.88178e-14 L0 8.88178e-14  Z\" fill=\"#ffffff\" fill-rule=\"evenodd\" fill-opacity=\"1\"/>\n",
       "<defs>\n",
       "  <clipPath id=\"clip641\">\n",
       "    <rect x=\"480\" y=\"0\" width=\"1681\" height=\"1600\"/>\n",
       "  </clipPath>\n",
       "</defs>\n",
       "<path clip-path=\"url(#clip640)\" d=\"M110.881 1486.45 L2352.76 1486.45 L2352.76 47.2441 L110.881 47.2441  Z\" fill=\"#ffffff\" fill-rule=\"evenodd\" fill-opacity=\"1\"/>\n",
       "<defs>\n",
       "  <clipPath id=\"clip642\">\n",
       "    <rect x=\"110\" y=\"47\" width=\"2243\" height=\"1440\"/>\n",
       "  </clipPath>\n",
       "</defs>\n",
       "<polyline clip-path=\"url(#clip642)\" style=\"stroke:#000000; stroke-linecap:round; stroke-linejoin:round; stroke-width:2; stroke-opacity:0.1; fill:none\" points=\"132.031,1486.45 132.031,47.2441 \"/>\n",
       "<polyline clip-path=\"url(#clip642)\" style=\"stroke:#000000; stroke-linecap:round; stroke-linejoin:round; stroke-width:2; stroke-opacity:0.1; fill:none\" points=\"555.026,1486.45 555.026,47.2441 \"/>\n",
       "<polyline clip-path=\"url(#clip642)\" style=\"stroke:#000000; stroke-linecap:round; stroke-linejoin:round; stroke-width:2; stroke-opacity:0.1; fill:none\" points=\"978.021,1486.45 978.021,47.2441 \"/>\n",
       "<polyline clip-path=\"url(#clip642)\" style=\"stroke:#000000; stroke-linecap:round; stroke-linejoin:round; stroke-width:2; stroke-opacity:0.1; fill:none\" points=\"1401.02,1486.45 1401.02,47.2441 \"/>\n",
       "<polyline clip-path=\"url(#clip642)\" style=\"stroke:#000000; stroke-linecap:round; stroke-linejoin:round; stroke-width:2; stroke-opacity:0.1; fill:none\" points=\"1824.01,1486.45 1824.01,47.2441 \"/>\n",
       "<polyline clip-path=\"url(#clip642)\" style=\"stroke:#000000; stroke-linecap:round; stroke-linejoin:round; stroke-width:2; stroke-opacity:0.1; fill:none\" points=\"2247.01,1486.45 2247.01,47.2441 \"/>\n",
       "<polyline clip-path=\"url(#clip642)\" style=\"stroke:#000000; stroke-linecap:round; stroke-linejoin:round; stroke-width:2; stroke-opacity:0.1; fill:none\" points=\"110.881,1445.72 2352.76,1445.72 \"/>\n",
       "<polyline clip-path=\"url(#clip642)\" style=\"stroke:#000000; stroke-linecap:round; stroke-linejoin:round; stroke-width:2; stroke-opacity:0.1; fill:none\" points=\"110.881,1071.8 2352.76,1071.8 \"/>\n",
       "<polyline clip-path=\"url(#clip642)\" style=\"stroke:#000000; stroke-linecap:round; stroke-linejoin:round; stroke-width:2; stroke-opacity:0.1; fill:none\" points=\"110.881,697.894 2352.76,697.894 \"/>\n",
       "<polyline clip-path=\"url(#clip642)\" style=\"stroke:#000000; stroke-linecap:round; stroke-linejoin:round; stroke-width:2; stroke-opacity:0.1; fill:none\" points=\"110.881,323.983 2352.76,323.983 \"/>\n",
       "<polyline clip-path=\"url(#clip640)\" style=\"stroke:#000000; stroke-linecap:round; stroke-linejoin:round; stroke-width:4; stroke-opacity:1; fill:none\" points=\"110.881,1486.45 2352.76,1486.45 \"/>\n",
       "<polyline clip-path=\"url(#clip640)\" style=\"stroke:#000000; stroke-linecap:round; stroke-linejoin:round; stroke-width:4; stroke-opacity:1; fill:none\" points=\"132.031,1486.45 132.031,1467.55 \"/>\n",
       "<polyline clip-path=\"url(#clip640)\" style=\"stroke:#000000; stroke-linecap:round; stroke-linejoin:round; stroke-width:4; stroke-opacity:1; fill:none\" points=\"555.026,1486.45 555.026,1467.55 \"/>\n",
       "<polyline clip-path=\"url(#clip640)\" style=\"stroke:#000000; stroke-linecap:round; stroke-linejoin:round; stroke-width:4; stroke-opacity:1; fill:none\" points=\"978.021,1486.45 978.021,1467.55 \"/>\n",
       "<polyline clip-path=\"url(#clip640)\" style=\"stroke:#000000; stroke-linecap:round; stroke-linejoin:round; stroke-width:4; stroke-opacity:1; fill:none\" points=\"1401.02,1486.45 1401.02,1467.55 \"/>\n",
       "<polyline clip-path=\"url(#clip640)\" style=\"stroke:#000000; stroke-linecap:round; stroke-linejoin:round; stroke-width:4; stroke-opacity:1; fill:none\" points=\"1824.01,1486.45 1824.01,1467.55 \"/>\n",
       "<polyline clip-path=\"url(#clip640)\" style=\"stroke:#000000; stroke-linecap:round; stroke-linejoin:round; stroke-width:4; stroke-opacity:1; fill:none\" points=\"2247.01,1486.45 2247.01,1467.55 \"/>\n",
       "<path clip-path=\"url(#clip640)\" d=\"M132.031 1517.37 Q128.42 1517.37 126.591 1520.93 Q124.785 1524.47 124.785 1531.6 Q124.785 1538.71 126.591 1542.27 Q128.42 1545.82 132.031 1545.82 Q135.665 1545.82 137.47 1542.27 Q139.299 1538.71 139.299 1531.6 Q139.299 1524.47 137.47 1520.93 Q135.665 1517.37 132.031 1517.37 M132.031 1513.66 Q137.841 1513.66 140.896 1518.27 Q143.975 1522.85 143.975 1531.6 Q143.975 1540.33 140.896 1544.94 Q137.841 1549.52 132.031 1549.52 Q126.22 1549.52 123.142 1544.94 Q120.086 1540.33 120.086 1531.6 Q120.086 1522.85 123.142 1518.27 Q126.22 1513.66 132.031 1513.66 Z\" fill=\"#000000\" fill-rule=\"nonzero\" fill-opacity=\"1\" /><path clip-path=\"url(#clip640)\" d=\"M529.714 1544.91 L537.352 1544.91 L537.352 1518.55 L529.042 1520.21 L529.042 1515.95 L537.306 1514.29 L541.982 1514.29 L541.982 1544.91 L549.621 1544.91 L549.621 1548.85 L529.714 1548.85 L529.714 1544.91 Z\" fill=\"#000000\" fill-rule=\"nonzero\" fill-opacity=\"1\" /><path clip-path=\"url(#clip640)\" d=\"M569.065 1517.37 Q565.454 1517.37 563.625 1520.93 Q561.82 1524.47 561.82 1531.6 Q561.82 1538.71 563.625 1542.27 Q565.454 1545.82 569.065 1545.82 Q572.699 1545.82 574.505 1542.27 Q576.334 1538.71 576.334 1531.6 Q576.334 1524.47 574.505 1520.93 Q572.699 1517.37 569.065 1517.37 M569.065 1513.66 Q574.875 1513.66 577.931 1518.27 Q581.01 1522.85 581.01 1531.6 Q581.01 1540.33 577.931 1544.94 Q574.875 1549.52 569.065 1549.52 Q563.255 1549.52 560.176 1544.94 Q557.121 1540.33 557.121 1531.6 Q557.121 1522.85 560.176 1518.27 Q563.255 1513.66 569.065 1513.66 Z\" fill=\"#000000\" fill-rule=\"nonzero\" fill-opacity=\"1\" /><path clip-path=\"url(#clip640)\" d=\"M956.794 1544.91 L973.114 1544.91 L973.114 1548.85 L951.17 1548.85 L951.17 1544.91 Q953.832 1542.16 958.415 1537.53 Q963.021 1532.88 964.202 1531.53 Q966.447 1529.01 967.327 1527.27 Q968.23 1525.51 968.23 1523.82 Q968.23 1521.07 966.285 1519.33 Q964.364 1517.6 961.262 1517.6 Q959.063 1517.6 956.609 1518.36 Q954.179 1519.13 951.401 1520.68 L951.401 1515.95 Q954.225 1514.82 956.679 1514.24 Q959.132 1513.66 961.169 1513.66 Q966.54 1513.66 969.734 1516.35 Q972.929 1519.03 972.929 1523.52 Q972.929 1525.65 972.118 1527.57 Q971.331 1529.47 969.225 1532.07 Q968.646 1532.74 965.544 1535.95 Q962.443 1539.15 956.794 1544.91 Z\" fill=\"#000000\" fill-rule=\"nonzero\" fill-opacity=\"1\" /><path clip-path=\"url(#clip640)\" d=\"M992.929 1517.37 Q989.317 1517.37 987.489 1520.93 Q985.683 1524.47 985.683 1531.6 Q985.683 1538.71 987.489 1542.27 Q989.317 1545.82 992.929 1545.82 Q996.563 1545.82 998.368 1542.27 Q1000.2 1538.71 1000.2 1531.6 Q1000.2 1524.47 998.368 1520.93 Q996.563 1517.37 992.929 1517.37 M992.929 1513.66 Q998.739 1513.66 1001.79 1518.27 Q1004.87 1522.85 1004.87 1531.6 Q1004.87 1540.33 1001.79 1544.94 Q998.739 1549.52 992.929 1549.52 Q987.118 1549.52 984.04 1544.94 Q980.984 1540.33 980.984 1531.6 Q980.984 1522.85 984.04 1518.27 Q987.118 1513.66 992.929 1513.66 Z\" fill=\"#000000\" fill-rule=\"nonzero\" fill-opacity=\"1\" /><path clip-path=\"url(#clip640)\" d=\"M1389.86 1530.21 Q1393.22 1530.93 1395.09 1533.2 Q1396.99 1535.47 1396.99 1538.8 Q1396.99 1543.92 1393.47 1546.72 Q1389.95 1549.52 1383.47 1549.52 Q1381.29 1549.52 1378.98 1549.08 Q1376.69 1548.66 1374.23 1547.81 L1374.23 1543.29 Q1376.18 1544.43 1378.49 1545.01 Q1380.81 1545.58 1383.33 1545.58 Q1387.73 1545.58 1390.02 1543.85 Q1392.34 1542.11 1392.34 1538.8 Q1392.34 1535.75 1390.18 1534.03 Q1388.05 1532.3 1384.23 1532.3 L1380.21 1532.3 L1380.21 1528.45 L1384.42 1528.45 Q1387.87 1528.45 1389.7 1527.09 Q1391.53 1525.7 1391.53 1523.11 Q1391.53 1520.45 1389.63 1519.03 Q1387.75 1517.6 1384.23 1517.6 Q1382.31 1517.6 1380.11 1518.01 Q1377.91 1518.43 1375.28 1519.31 L1375.28 1515.14 Q1377.94 1514.4 1380.25 1514.03 Q1382.59 1513.66 1384.65 1513.66 Q1389.97 1513.66 1393.08 1516.09 Q1396.18 1518.5 1396.18 1522.62 Q1396.18 1525.49 1394.54 1527.48 Q1392.89 1529.45 1389.86 1530.21 Z\" fill=\"#000000\" fill-rule=\"nonzero\" fill-opacity=\"1\" /><path clip-path=\"url(#clip640)\" d=\"M1415.85 1517.37 Q1412.24 1517.37 1410.41 1520.93 Q1408.61 1524.47 1408.61 1531.6 Q1408.61 1538.71 1410.41 1542.27 Q1412.24 1545.82 1415.85 1545.82 Q1419.49 1545.82 1421.29 1542.27 Q1423.12 1538.71 1423.12 1531.6 Q1423.12 1524.47 1421.29 1520.93 Q1419.49 1517.37 1415.85 1517.37 M1415.85 1513.66 Q1421.66 1513.66 1424.72 1518.27 Q1427.8 1522.85 1427.8 1531.6 Q1427.8 1540.33 1424.72 1544.94 Q1421.66 1549.52 1415.85 1549.52 Q1410.04 1549.52 1406.97 1544.94 Q1403.91 1540.33 1403.91 1531.6 Q1403.91 1522.85 1406.97 1518.27 Q1410.04 1513.66 1415.85 1513.66 Z\" fill=\"#000000\" fill-rule=\"nonzero\" fill-opacity=\"1\" /><path clip-path=\"url(#clip640)\" d=\"M1812.18 1518.36 L1800.38 1536.81 L1812.18 1536.81 L1812.18 1518.36 M1810.96 1514.29 L1816.84 1514.29 L1816.84 1536.81 L1821.77 1536.81 L1821.77 1540.7 L1816.84 1540.7 L1816.84 1548.85 L1812.18 1548.85 L1812.18 1540.7 L1796.58 1540.7 L1796.58 1536.19 L1810.96 1514.29 Z\" fill=\"#000000\" fill-rule=\"nonzero\" fill-opacity=\"1\" /><path clip-path=\"url(#clip640)\" d=\"M1839.5 1517.37 Q1835.89 1517.37 1834.06 1520.93 Q1832.25 1524.47 1832.25 1531.6 Q1832.25 1538.71 1834.06 1542.27 Q1835.89 1545.82 1839.5 1545.82 Q1843.13 1545.82 1844.94 1542.27 Q1846.77 1538.71 1846.77 1531.6 Q1846.77 1524.47 1844.94 1520.93 Q1843.13 1517.37 1839.5 1517.37 M1839.5 1513.66 Q1845.31 1513.66 1848.36 1518.27 Q1851.44 1522.85 1851.44 1531.6 Q1851.44 1540.33 1848.36 1544.94 Q1845.31 1549.52 1839.5 1549.52 Q1833.69 1549.52 1830.61 1544.94 Q1827.55 1540.33 1827.55 1531.6 Q1827.55 1522.85 1830.61 1518.27 Q1833.69 1513.66 1839.5 1513.66 Z\" fill=\"#000000\" fill-rule=\"nonzero\" fill-opacity=\"1\" /><path clip-path=\"url(#clip640)\" d=\"M2221.71 1514.29 L2240.06 1514.29 L2240.06 1518.22 L2225.99 1518.22 L2225.99 1526.7 Q2227.01 1526.35 2228.03 1526.19 Q2229.04 1526 2230.06 1526 Q2235.85 1526 2239.23 1529.17 Q2242.61 1532.34 2242.61 1537.76 Q2242.61 1543.34 2239.14 1546.44 Q2235.66 1549.52 2229.35 1549.52 Q2227.17 1549.52 2224.9 1549.15 Q2222.66 1548.78 2220.25 1548.04 L2220.25 1543.34 Q2222.33 1544.47 2224.55 1545.03 Q2226.78 1545.58 2229.25 1545.58 Q2233.26 1545.58 2235.6 1543.48 Q2237.93 1541.37 2237.93 1537.76 Q2237.93 1534.15 2235.6 1532.04 Q2233.26 1529.94 2229.25 1529.94 Q2227.38 1529.94 2225.5 1530.35 Q2223.65 1530.77 2221.71 1531.65 L2221.71 1514.29 Z\" fill=\"#000000\" fill-rule=\"nonzero\" fill-opacity=\"1\" /><path clip-path=\"url(#clip640)\" d=\"M2261.82 1517.37 Q2258.21 1517.37 2256.38 1520.93 Q2254.58 1524.47 2254.58 1531.6 Q2254.58 1538.71 2256.38 1542.27 Q2258.21 1545.82 2261.82 1545.82 Q2265.46 1545.82 2267.26 1542.27 Q2269.09 1538.71 2269.09 1531.6 Q2269.09 1524.47 2267.26 1520.93 Q2265.46 1517.37 2261.82 1517.37 M2261.82 1513.66 Q2267.63 1513.66 2270.69 1518.27 Q2273.77 1522.85 2273.77 1531.6 Q2273.77 1540.33 2270.69 1544.94 Q2267.63 1549.52 2261.82 1549.52 Q2256.01 1549.52 2252.93 1544.94 Q2249.88 1540.33 2249.88 1531.6 Q2249.88 1522.85 2252.93 1518.27 Q2256.01 1513.66 2261.82 1513.66 Z\" fill=\"#000000\" fill-rule=\"nonzero\" fill-opacity=\"1\" /><polyline clip-path=\"url(#clip640)\" style=\"stroke:#000000; stroke-linecap:round; stroke-linejoin:round; stroke-width:4; stroke-opacity:1; fill:none\" points=\"110.881,1486.45 110.881,47.2441 \"/>\n",
       "<polyline clip-path=\"url(#clip640)\" style=\"stroke:#000000; stroke-linecap:round; stroke-linejoin:round; stroke-width:4; stroke-opacity:1; fill:none\" points=\"110.881,1445.72 129.779,1445.72 \"/>\n",
       "<polyline clip-path=\"url(#clip640)\" style=\"stroke:#000000; stroke-linecap:round; stroke-linejoin:round; stroke-width:4; stroke-opacity:1; fill:none\" points=\"110.881,1071.8 129.779,1071.8 \"/>\n",
       "<polyline clip-path=\"url(#clip640)\" style=\"stroke:#000000; stroke-linecap:round; stroke-linejoin:round; stroke-width:4; stroke-opacity:1; fill:none\" points=\"110.881,697.894 129.779,697.894 \"/>\n",
       "<polyline clip-path=\"url(#clip640)\" style=\"stroke:#000000; stroke-linecap:round; stroke-linejoin:round; stroke-width:4; stroke-opacity:1; fill:none\" points=\"110.881,323.983 129.779,323.983 \"/>\n",
       "<path clip-path=\"url(#clip640)\" d=\"M62.9365 1431.51 Q59.3254 1431.51 57.4967 1435.08 Q55.6912 1438.62 55.6912 1445.75 Q55.6912 1452.86 57.4967 1456.42 Q59.3254 1459.96 62.9365 1459.96 Q66.5707 1459.96 68.3763 1456.42 Q70.205 1452.86 70.205 1445.75 Q70.205 1438.62 68.3763 1435.08 Q66.5707 1431.51 62.9365 1431.51 M62.9365 1427.81 Q68.7467 1427.81 71.8022 1432.42 Q74.8809 1437 74.8809 1445.75 Q74.8809 1454.48 71.8022 1459.08 Q68.7467 1463.67 62.9365 1463.67 Q57.1264 1463.67 54.0477 1459.08 Q50.9921 1454.48 50.9921 1445.75 Q50.9921 1437 54.0477 1432.42 Q57.1264 1427.81 62.9365 1427.81 Z\" fill=\"#000000\" fill-rule=\"nonzero\" fill-opacity=\"1\" /><path clip-path=\"url(#clip640)\" d=\"M54.9736 1085.15 L62.6124 1085.15 L62.6124 1058.78 L54.3023 1060.45 L54.3023 1056.19 L62.5661 1054.52 L67.242 1054.52 L67.242 1085.15 L74.8809 1085.15 L74.8809 1089.08 L54.9736 1089.08 L54.9736 1085.15 Z\" fill=\"#000000\" fill-rule=\"nonzero\" fill-opacity=\"1\" /><path clip-path=\"url(#clip640)\" d=\"M58.5615 711.239 L74.8809 711.239 L74.8809 715.174 L52.9366 715.174 L52.9366 711.239 Q55.5986 708.484 60.1819 703.855 Q64.7883 699.202 65.9689 697.859 Q68.2143 695.336 69.0939 693.6 Q69.9967 691.841 69.9967 690.151 Q69.9967 687.397 68.0522 685.66 Q66.1309 683.924 63.0291 683.924 Q60.83 683.924 58.3763 684.688 Q55.9458 685.452 53.168 687.003 L53.168 682.281 Q55.9921 681.147 58.4458 680.568 Q60.8995 679.989 62.9365 679.989 Q68.3068 679.989 71.5013 682.674 Q74.6957 685.36 74.6957 689.85 Q74.6957 691.98 73.8855 693.901 Q73.0985 695.799 70.992 698.392 Q70.4133 699.063 67.3115 702.281 Q64.2096 705.475 58.5615 711.239 Z\" fill=\"#000000\" fill-rule=\"nonzero\" fill-opacity=\"1\" /><path clip-path=\"url(#clip640)\" d=\"M67.7513 322.629 Q71.1078 323.347 72.9827 325.615 Q74.8809 327.884 74.8809 331.217 Q74.8809 336.333 71.3624 339.134 Q67.8439 341.935 61.3624 341.935 Q59.1865 341.935 56.8717 341.495 Q54.5801 341.078 52.1264 340.222 L52.1264 335.708 Q54.0708 336.842 56.3856 337.421 Q58.7004 338 61.2236 338 Q65.6217 338 67.9133 336.263 Q70.2281 334.527 70.2281 331.217 Q70.2281 328.162 68.0754 326.449 Q65.9457 324.713 62.1263 324.713 L58.0986 324.713 L58.0986 320.87 L62.3115 320.87 Q65.7606 320.87 67.5893 319.504 Q69.418 318.115 69.418 315.523 Q69.418 312.861 67.5198 311.449 Q65.6448 310.014 62.1263 310.014 Q60.205 310.014 58.006 310.43 Q55.8069 310.847 53.168 311.727 L53.168 307.56 Q55.8301 306.819 58.1449 306.449 Q60.4828 306.078 62.543 306.078 Q67.867 306.078 70.9689 308.509 Q74.0707 310.916 74.0707 315.037 Q74.0707 317.907 72.4272 319.898 Q70.7837 321.865 67.7513 322.629 Z\" fill=\"#000000\" fill-rule=\"nonzero\" fill-opacity=\"1\" /><polyline clip-path=\"url(#clip642)\" style=\"stroke:#009af9; stroke-linecap:round; stroke-linejoin:round; stroke-width:4; stroke-opacity:1; fill:none\" points=\"174.33,1445.72 216.63,1440.11 258.929,1425.57 301.229,1405.32 343.528,1381.65 385.828,1356 428.127,1329.22 470.427,1301.8 512.726,1274.02 555.026,1246.03 597.325,1217.93 639.625,1189.76 681.925,1161.55 724.224,1133.33 766.524,1105.09 808.823,1076.84 851.123,1048.6 893.422,1020.34 935.722,992.092 978.021,963.84 1020.32,935.586 1062.62,907.333 1104.92,879.08 1147.22,850.826 1189.52,822.572 1231.82,794.319 1274.12,766.065 1316.42,737.811 1358.72,709.558 1401.02,681.304 1443.32,653.05 1485.62,624.796 1527.92,596.543 1570.21,568.289 1612.51,540.035 1654.81,511.782 1697.11,483.528 1739.41,455.274 1781.71,427.021 1824.01,398.767 1866.31,370.513 1908.61,342.26 1950.91,314.006 1993.21,285.752 2035.51,257.498 2077.81,229.245 2120.11,200.991 2162.41,172.737 2204.71,144.484 2247.01,116.23 2289.31,87.9763 \"/>\n",
       "<path clip-path=\"url(#clip640)\" d=\"M185.61 198.898 L462.228 198.898 L462.228 95.2176 L185.61 95.2176  Z\" fill=\"#ffffff\" fill-rule=\"evenodd\" fill-opacity=\"1\"/>\n",
       "<polyline clip-path=\"url(#clip640)\" style=\"stroke:#000000; stroke-linecap:round; stroke-linejoin:round; stroke-width:4; stroke-opacity:1; fill:none\" points=\"185.61,198.898 462.228,198.898 462.228,95.2176 185.61,95.2176 185.61,198.898 \"/>\n",
       "<polyline clip-path=\"url(#clip640)\" style=\"stroke:#009af9; stroke-linecap:round; stroke-linejoin:round; stroke-width:4; stroke-opacity:1; fill:none\" points=\"210.52,147.058 359.978,147.058 \"/>\n",
       "<path clip-path=\"url(#clip640)\" d=\"M398.73 166.745 Q396.925 171.375 395.212 172.787 Q393.499 174.199 390.629 174.199 L387.226 174.199 L387.226 170.634 L389.726 170.634 Q391.485 170.634 392.457 169.8 Q393.429 168.967 394.61 165.865 L395.374 163.921 L384.888 138.412 L389.402 138.412 L397.504 158.689 L405.605 138.412 L410.119 138.412 L398.73 166.745 Z\" fill=\"#000000\" fill-rule=\"nonzero\" fill-opacity=\"1\" /><path clip-path=\"url(#clip640)\" d=\"M417.411 160.402 L425.05 160.402 L425.05 134.037 L416.74 135.703 L416.74 131.444 L425.003 129.778 L429.679 129.778 L429.679 160.402 L437.318 160.402 L437.318 164.338 L417.411 164.338 L417.411 160.402 Z\" fill=\"#000000\" fill-rule=\"nonzero\" fill-opacity=\"1\" /></svg>\n"
      ],
      "text/html": [
       "<?xml version=\"1.0\" encoding=\"utf-8\"?>\n",
       "<svg xmlns=\"http://www.w3.org/2000/svg\" xmlns:xlink=\"http://www.w3.org/1999/xlink\" width=\"600\" height=\"400\" viewBox=\"0 0 2400 1600\">\n",
       "<defs>\n",
       "  <clipPath id=\"clip690\">\n",
       "    <rect x=\"0\" y=\"0\" width=\"2400\" height=\"1600\"/>\n",
       "  </clipPath>\n",
       "</defs>\n",
       "<path clip-path=\"url(#clip690)\" d=\"M0 1600 L2400 1600 L2400 8.88178e-14 L0 8.88178e-14  Z\" fill=\"#ffffff\" fill-rule=\"evenodd\" fill-opacity=\"1\"/>\n",
       "<defs>\n",
       "  <clipPath id=\"clip691\">\n",
       "    <rect x=\"480\" y=\"0\" width=\"1681\" height=\"1600\"/>\n",
       "  </clipPath>\n",
       "</defs>\n",
       "<path clip-path=\"url(#clip690)\" d=\"M110.881 1486.45 L2352.76 1486.45 L2352.76 47.2441 L110.881 47.2441  Z\" fill=\"#ffffff\" fill-rule=\"evenodd\" fill-opacity=\"1\"/>\n",
       "<defs>\n",
       "  <clipPath id=\"clip692\">\n",
       "    <rect x=\"110\" y=\"47\" width=\"2243\" height=\"1440\"/>\n",
       "  </clipPath>\n",
       "</defs>\n",
       "<polyline clip-path=\"url(#clip692)\" style=\"stroke:#000000; stroke-linecap:round; stroke-linejoin:round; stroke-width:2; stroke-opacity:0.1; fill:none\" points=\"132.031,1486.45 132.031,47.2441 \"/>\n",
       "<polyline clip-path=\"url(#clip692)\" style=\"stroke:#000000; stroke-linecap:round; stroke-linejoin:round; stroke-width:2; stroke-opacity:0.1; fill:none\" points=\"555.026,1486.45 555.026,47.2441 \"/>\n",
       "<polyline clip-path=\"url(#clip692)\" style=\"stroke:#000000; stroke-linecap:round; stroke-linejoin:round; stroke-width:2; stroke-opacity:0.1; fill:none\" points=\"978.021,1486.45 978.021,47.2441 \"/>\n",
       "<polyline clip-path=\"url(#clip692)\" style=\"stroke:#000000; stroke-linecap:round; stroke-linejoin:round; stroke-width:2; stroke-opacity:0.1; fill:none\" points=\"1401.02,1486.45 1401.02,47.2441 \"/>\n",
       "<polyline clip-path=\"url(#clip692)\" style=\"stroke:#000000; stroke-linecap:round; stroke-linejoin:round; stroke-width:2; stroke-opacity:0.1; fill:none\" points=\"1824.01,1486.45 1824.01,47.2441 \"/>\n",
       "<polyline clip-path=\"url(#clip692)\" style=\"stroke:#000000; stroke-linecap:round; stroke-linejoin:round; stroke-width:2; stroke-opacity:0.1; fill:none\" points=\"2247.01,1486.45 2247.01,47.2441 \"/>\n",
       "<polyline clip-path=\"url(#clip692)\" style=\"stroke:#000000; stroke-linecap:round; stroke-linejoin:round; stroke-width:2; stroke-opacity:0.1; fill:none\" points=\"110.881,1445.72 2352.76,1445.72 \"/>\n",
       "<polyline clip-path=\"url(#clip692)\" style=\"stroke:#000000; stroke-linecap:round; stroke-linejoin:round; stroke-width:2; stroke-opacity:0.1; fill:none\" points=\"110.881,1071.8 2352.76,1071.8 \"/>\n",
       "<polyline clip-path=\"url(#clip692)\" style=\"stroke:#000000; stroke-linecap:round; stroke-linejoin:round; stroke-width:2; stroke-opacity:0.1; fill:none\" points=\"110.881,697.894 2352.76,697.894 \"/>\n",
       "<polyline clip-path=\"url(#clip692)\" style=\"stroke:#000000; stroke-linecap:round; stroke-linejoin:round; stroke-width:2; stroke-opacity:0.1; fill:none\" points=\"110.881,323.983 2352.76,323.983 \"/>\n",
       "<polyline clip-path=\"url(#clip690)\" style=\"stroke:#000000; stroke-linecap:round; stroke-linejoin:round; stroke-width:4; stroke-opacity:1; fill:none\" points=\"110.881,1486.45 2352.76,1486.45 \"/>\n",
       "<polyline clip-path=\"url(#clip690)\" style=\"stroke:#000000; stroke-linecap:round; stroke-linejoin:round; stroke-width:4; stroke-opacity:1; fill:none\" points=\"132.031,1486.45 132.031,1467.55 \"/>\n",
       "<polyline clip-path=\"url(#clip690)\" style=\"stroke:#000000; stroke-linecap:round; stroke-linejoin:round; stroke-width:4; stroke-opacity:1; fill:none\" points=\"555.026,1486.45 555.026,1467.55 \"/>\n",
       "<polyline clip-path=\"url(#clip690)\" style=\"stroke:#000000; stroke-linecap:round; stroke-linejoin:round; stroke-width:4; stroke-opacity:1; fill:none\" points=\"978.021,1486.45 978.021,1467.55 \"/>\n",
       "<polyline clip-path=\"url(#clip690)\" style=\"stroke:#000000; stroke-linecap:round; stroke-linejoin:round; stroke-width:4; stroke-opacity:1; fill:none\" points=\"1401.02,1486.45 1401.02,1467.55 \"/>\n",
       "<polyline clip-path=\"url(#clip690)\" style=\"stroke:#000000; stroke-linecap:round; stroke-linejoin:round; stroke-width:4; stroke-opacity:1; fill:none\" points=\"1824.01,1486.45 1824.01,1467.55 \"/>\n",
       "<polyline clip-path=\"url(#clip690)\" style=\"stroke:#000000; stroke-linecap:round; stroke-linejoin:round; stroke-width:4; stroke-opacity:1; fill:none\" points=\"2247.01,1486.45 2247.01,1467.55 \"/>\n",
       "<path clip-path=\"url(#clip690)\" d=\"M132.031 1517.37 Q128.42 1517.37 126.591 1520.93 Q124.785 1524.47 124.785 1531.6 Q124.785 1538.71 126.591 1542.27 Q128.42 1545.82 132.031 1545.82 Q135.665 1545.82 137.47 1542.27 Q139.299 1538.71 139.299 1531.6 Q139.299 1524.47 137.47 1520.93 Q135.665 1517.37 132.031 1517.37 M132.031 1513.66 Q137.841 1513.66 140.896 1518.27 Q143.975 1522.85 143.975 1531.6 Q143.975 1540.33 140.896 1544.94 Q137.841 1549.52 132.031 1549.52 Q126.22 1549.52 123.142 1544.94 Q120.086 1540.33 120.086 1531.6 Q120.086 1522.85 123.142 1518.27 Q126.22 1513.66 132.031 1513.66 Z\" fill=\"#000000\" fill-rule=\"nonzero\" fill-opacity=\"1\" /><path clip-path=\"url(#clip690)\" d=\"M529.714 1544.91 L537.352 1544.91 L537.352 1518.55 L529.042 1520.21 L529.042 1515.95 L537.306 1514.29 L541.982 1514.29 L541.982 1544.91 L549.621 1544.91 L549.621 1548.85 L529.714 1548.85 L529.714 1544.91 Z\" fill=\"#000000\" fill-rule=\"nonzero\" fill-opacity=\"1\" /><path clip-path=\"url(#clip690)\" d=\"M569.065 1517.37 Q565.454 1517.37 563.625 1520.93 Q561.82 1524.47 561.82 1531.6 Q561.82 1538.71 563.625 1542.27 Q565.454 1545.82 569.065 1545.82 Q572.699 1545.82 574.505 1542.27 Q576.334 1538.71 576.334 1531.6 Q576.334 1524.47 574.505 1520.93 Q572.699 1517.37 569.065 1517.37 M569.065 1513.66 Q574.875 1513.66 577.931 1518.27 Q581.01 1522.85 581.01 1531.6 Q581.01 1540.33 577.931 1544.94 Q574.875 1549.52 569.065 1549.52 Q563.255 1549.52 560.176 1544.94 Q557.121 1540.33 557.121 1531.6 Q557.121 1522.85 560.176 1518.27 Q563.255 1513.66 569.065 1513.66 Z\" fill=\"#000000\" fill-rule=\"nonzero\" fill-opacity=\"1\" /><path clip-path=\"url(#clip690)\" d=\"M956.794 1544.91 L973.114 1544.91 L973.114 1548.85 L951.17 1548.85 L951.17 1544.91 Q953.832 1542.16 958.415 1537.53 Q963.021 1532.88 964.202 1531.53 Q966.447 1529.01 967.327 1527.27 Q968.23 1525.51 968.23 1523.82 Q968.23 1521.07 966.285 1519.33 Q964.364 1517.6 961.262 1517.6 Q959.063 1517.6 956.609 1518.36 Q954.179 1519.13 951.401 1520.68 L951.401 1515.95 Q954.225 1514.82 956.679 1514.24 Q959.132 1513.66 961.169 1513.66 Q966.54 1513.66 969.734 1516.35 Q972.929 1519.03 972.929 1523.52 Q972.929 1525.65 972.118 1527.57 Q971.331 1529.47 969.225 1532.07 Q968.646 1532.74 965.544 1535.95 Q962.443 1539.15 956.794 1544.91 Z\" fill=\"#000000\" fill-rule=\"nonzero\" fill-opacity=\"1\" /><path clip-path=\"url(#clip690)\" d=\"M992.929 1517.37 Q989.317 1517.37 987.489 1520.93 Q985.683 1524.47 985.683 1531.6 Q985.683 1538.71 987.489 1542.27 Q989.317 1545.82 992.929 1545.82 Q996.563 1545.82 998.368 1542.27 Q1000.2 1538.71 1000.2 1531.6 Q1000.2 1524.47 998.368 1520.93 Q996.563 1517.37 992.929 1517.37 M992.929 1513.66 Q998.739 1513.66 1001.79 1518.27 Q1004.87 1522.85 1004.87 1531.6 Q1004.87 1540.33 1001.79 1544.94 Q998.739 1549.52 992.929 1549.52 Q987.118 1549.52 984.04 1544.94 Q980.984 1540.33 980.984 1531.6 Q980.984 1522.85 984.04 1518.27 Q987.118 1513.66 992.929 1513.66 Z\" fill=\"#000000\" fill-rule=\"nonzero\" fill-opacity=\"1\" /><path clip-path=\"url(#clip690)\" d=\"M1389.86 1530.21 Q1393.22 1530.93 1395.09 1533.2 Q1396.99 1535.47 1396.99 1538.8 Q1396.99 1543.92 1393.47 1546.72 Q1389.95 1549.52 1383.47 1549.52 Q1381.29 1549.52 1378.98 1549.08 Q1376.69 1548.66 1374.23 1547.81 L1374.23 1543.29 Q1376.18 1544.43 1378.49 1545.01 Q1380.81 1545.58 1383.33 1545.58 Q1387.73 1545.58 1390.02 1543.85 Q1392.34 1542.11 1392.34 1538.8 Q1392.34 1535.75 1390.18 1534.03 Q1388.05 1532.3 1384.23 1532.3 L1380.21 1532.3 L1380.21 1528.45 L1384.42 1528.45 Q1387.87 1528.45 1389.7 1527.09 Q1391.53 1525.7 1391.53 1523.11 Q1391.53 1520.45 1389.63 1519.03 Q1387.75 1517.6 1384.23 1517.6 Q1382.31 1517.6 1380.11 1518.01 Q1377.91 1518.43 1375.28 1519.31 L1375.28 1515.14 Q1377.94 1514.4 1380.25 1514.03 Q1382.59 1513.66 1384.65 1513.66 Q1389.97 1513.66 1393.08 1516.09 Q1396.18 1518.5 1396.18 1522.62 Q1396.18 1525.49 1394.54 1527.48 Q1392.89 1529.45 1389.86 1530.21 Z\" fill=\"#000000\" fill-rule=\"nonzero\" fill-opacity=\"1\" /><path clip-path=\"url(#clip690)\" d=\"M1415.85 1517.37 Q1412.24 1517.37 1410.41 1520.93 Q1408.61 1524.47 1408.61 1531.6 Q1408.61 1538.71 1410.41 1542.27 Q1412.24 1545.82 1415.85 1545.82 Q1419.49 1545.82 1421.29 1542.27 Q1423.12 1538.71 1423.12 1531.6 Q1423.12 1524.47 1421.29 1520.93 Q1419.49 1517.37 1415.85 1517.37 M1415.85 1513.66 Q1421.66 1513.66 1424.72 1518.27 Q1427.8 1522.85 1427.8 1531.6 Q1427.8 1540.33 1424.72 1544.94 Q1421.66 1549.52 1415.85 1549.52 Q1410.04 1549.52 1406.97 1544.94 Q1403.91 1540.33 1403.91 1531.6 Q1403.91 1522.85 1406.97 1518.27 Q1410.04 1513.66 1415.85 1513.66 Z\" fill=\"#000000\" fill-rule=\"nonzero\" fill-opacity=\"1\" /><path clip-path=\"url(#clip690)\" d=\"M1812.18 1518.36 L1800.38 1536.81 L1812.18 1536.81 L1812.18 1518.36 M1810.96 1514.29 L1816.84 1514.29 L1816.84 1536.81 L1821.77 1536.81 L1821.77 1540.7 L1816.84 1540.7 L1816.84 1548.85 L1812.18 1548.85 L1812.18 1540.7 L1796.58 1540.7 L1796.58 1536.19 L1810.96 1514.29 Z\" fill=\"#000000\" fill-rule=\"nonzero\" fill-opacity=\"1\" /><path clip-path=\"url(#clip690)\" d=\"M1839.5 1517.37 Q1835.89 1517.37 1834.06 1520.93 Q1832.25 1524.47 1832.25 1531.6 Q1832.25 1538.71 1834.06 1542.27 Q1835.89 1545.82 1839.5 1545.82 Q1843.13 1545.82 1844.94 1542.27 Q1846.77 1538.71 1846.77 1531.6 Q1846.77 1524.47 1844.94 1520.93 Q1843.13 1517.37 1839.5 1517.37 M1839.5 1513.66 Q1845.31 1513.66 1848.36 1518.27 Q1851.44 1522.85 1851.44 1531.6 Q1851.44 1540.33 1848.36 1544.94 Q1845.31 1549.52 1839.5 1549.52 Q1833.69 1549.52 1830.61 1544.94 Q1827.55 1540.33 1827.55 1531.6 Q1827.55 1522.85 1830.61 1518.27 Q1833.69 1513.66 1839.5 1513.66 Z\" fill=\"#000000\" fill-rule=\"nonzero\" fill-opacity=\"1\" /><path clip-path=\"url(#clip690)\" d=\"M2221.71 1514.29 L2240.06 1514.29 L2240.06 1518.22 L2225.99 1518.22 L2225.99 1526.7 Q2227.01 1526.35 2228.03 1526.19 Q2229.04 1526 2230.06 1526 Q2235.85 1526 2239.23 1529.17 Q2242.61 1532.34 2242.61 1537.76 Q2242.61 1543.34 2239.14 1546.44 Q2235.66 1549.52 2229.35 1549.52 Q2227.17 1549.52 2224.9 1549.15 Q2222.66 1548.78 2220.25 1548.04 L2220.25 1543.34 Q2222.33 1544.47 2224.55 1545.03 Q2226.78 1545.58 2229.25 1545.58 Q2233.26 1545.58 2235.6 1543.48 Q2237.93 1541.37 2237.93 1537.76 Q2237.93 1534.15 2235.6 1532.04 Q2233.26 1529.94 2229.25 1529.94 Q2227.38 1529.94 2225.5 1530.35 Q2223.65 1530.77 2221.71 1531.65 L2221.71 1514.29 Z\" fill=\"#000000\" fill-rule=\"nonzero\" fill-opacity=\"1\" /><path clip-path=\"url(#clip690)\" d=\"M2261.82 1517.37 Q2258.21 1517.37 2256.38 1520.93 Q2254.58 1524.47 2254.58 1531.6 Q2254.58 1538.71 2256.38 1542.27 Q2258.21 1545.82 2261.82 1545.82 Q2265.46 1545.82 2267.26 1542.27 Q2269.09 1538.71 2269.09 1531.6 Q2269.09 1524.47 2267.26 1520.93 Q2265.46 1517.37 2261.82 1517.37 M2261.82 1513.66 Q2267.63 1513.66 2270.69 1518.27 Q2273.77 1522.85 2273.77 1531.6 Q2273.77 1540.33 2270.69 1544.94 Q2267.63 1549.52 2261.82 1549.52 Q2256.01 1549.52 2252.93 1544.94 Q2249.88 1540.33 2249.88 1531.6 Q2249.88 1522.85 2252.93 1518.27 Q2256.01 1513.66 2261.82 1513.66 Z\" fill=\"#000000\" fill-rule=\"nonzero\" fill-opacity=\"1\" /><polyline clip-path=\"url(#clip690)\" style=\"stroke:#000000; stroke-linecap:round; stroke-linejoin:round; stroke-width:4; stroke-opacity:1; fill:none\" points=\"110.881,1486.45 110.881,47.2441 \"/>\n",
       "<polyline clip-path=\"url(#clip690)\" style=\"stroke:#000000; stroke-linecap:round; stroke-linejoin:round; stroke-width:4; stroke-opacity:1; fill:none\" points=\"110.881,1445.72 129.779,1445.72 \"/>\n",
       "<polyline clip-path=\"url(#clip690)\" style=\"stroke:#000000; stroke-linecap:round; stroke-linejoin:round; stroke-width:4; stroke-opacity:1; fill:none\" points=\"110.881,1071.8 129.779,1071.8 \"/>\n",
       "<polyline clip-path=\"url(#clip690)\" style=\"stroke:#000000; stroke-linecap:round; stroke-linejoin:round; stroke-width:4; stroke-opacity:1; fill:none\" points=\"110.881,697.894 129.779,697.894 \"/>\n",
       "<polyline clip-path=\"url(#clip690)\" style=\"stroke:#000000; stroke-linecap:round; stroke-linejoin:round; stroke-width:4; stroke-opacity:1; fill:none\" points=\"110.881,323.983 129.779,323.983 \"/>\n",
       "<path clip-path=\"url(#clip690)\" d=\"M62.9365 1431.51 Q59.3254 1431.51 57.4967 1435.08 Q55.6912 1438.62 55.6912 1445.75 Q55.6912 1452.86 57.4967 1456.42 Q59.3254 1459.96 62.9365 1459.96 Q66.5707 1459.96 68.3763 1456.42 Q70.205 1452.86 70.205 1445.75 Q70.205 1438.62 68.3763 1435.08 Q66.5707 1431.51 62.9365 1431.51 M62.9365 1427.81 Q68.7467 1427.81 71.8022 1432.42 Q74.8809 1437 74.8809 1445.75 Q74.8809 1454.48 71.8022 1459.08 Q68.7467 1463.67 62.9365 1463.67 Q57.1264 1463.67 54.0477 1459.08 Q50.9921 1454.48 50.9921 1445.75 Q50.9921 1437 54.0477 1432.42 Q57.1264 1427.81 62.9365 1427.81 Z\" fill=\"#000000\" fill-rule=\"nonzero\" fill-opacity=\"1\" /><path clip-path=\"url(#clip690)\" d=\"M54.9736 1085.15 L62.6124 1085.15 L62.6124 1058.78 L54.3023 1060.45 L54.3023 1056.19 L62.5661 1054.52 L67.242 1054.52 L67.242 1085.15 L74.8809 1085.15 L74.8809 1089.08 L54.9736 1089.08 L54.9736 1085.15 Z\" fill=\"#000000\" fill-rule=\"nonzero\" fill-opacity=\"1\" /><path clip-path=\"url(#clip690)\" d=\"M58.5615 711.239 L74.8809 711.239 L74.8809 715.174 L52.9366 715.174 L52.9366 711.239 Q55.5986 708.484 60.1819 703.855 Q64.7883 699.202 65.9689 697.859 Q68.2143 695.336 69.0939 693.6 Q69.9967 691.841 69.9967 690.151 Q69.9967 687.397 68.0522 685.66 Q66.1309 683.924 63.0291 683.924 Q60.83 683.924 58.3763 684.688 Q55.9458 685.452 53.168 687.003 L53.168 682.281 Q55.9921 681.147 58.4458 680.568 Q60.8995 679.989 62.9365 679.989 Q68.3068 679.989 71.5013 682.674 Q74.6957 685.36 74.6957 689.85 Q74.6957 691.98 73.8855 693.901 Q73.0985 695.799 70.992 698.392 Q70.4133 699.063 67.3115 702.281 Q64.2096 705.475 58.5615 711.239 Z\" fill=\"#000000\" fill-rule=\"nonzero\" fill-opacity=\"1\" /><path clip-path=\"url(#clip690)\" d=\"M67.7513 322.629 Q71.1078 323.347 72.9827 325.615 Q74.8809 327.884 74.8809 331.217 Q74.8809 336.333 71.3624 339.134 Q67.8439 341.935 61.3624 341.935 Q59.1865 341.935 56.8717 341.495 Q54.5801 341.078 52.1264 340.222 L52.1264 335.708 Q54.0708 336.842 56.3856 337.421 Q58.7004 338 61.2236 338 Q65.6217 338 67.9133 336.263 Q70.2281 334.527 70.2281 331.217 Q70.2281 328.162 68.0754 326.449 Q65.9457 324.713 62.1263 324.713 L58.0986 324.713 L58.0986 320.87 L62.3115 320.87 Q65.7606 320.87 67.5893 319.504 Q69.418 318.115 69.418 315.523 Q69.418 312.861 67.5198 311.449 Q65.6448 310.014 62.1263 310.014 Q60.205 310.014 58.006 310.43 Q55.8069 310.847 53.168 311.727 L53.168 307.56 Q55.8301 306.819 58.1449 306.449 Q60.4828 306.078 62.543 306.078 Q67.867 306.078 70.9689 308.509 Q74.0707 310.916 74.0707 315.037 Q74.0707 317.907 72.4272 319.898 Q70.7837 321.865 67.7513 322.629 Z\" fill=\"#000000\" fill-rule=\"nonzero\" fill-opacity=\"1\" /><polyline clip-path=\"url(#clip692)\" style=\"stroke:#009af9; stroke-linecap:round; stroke-linejoin:round; stroke-width:4; stroke-opacity:1; fill:none\" points=\"174.33,1445.72 216.63,1440.11 258.929,1425.57 301.229,1405.32 343.528,1381.65 385.828,1356 428.127,1329.22 470.427,1301.8 512.726,1274.02 555.026,1246.03 597.325,1217.93 639.625,1189.76 681.925,1161.55 724.224,1133.33 766.524,1105.09 808.823,1076.84 851.123,1048.6 893.422,1020.34 935.722,992.092 978.021,963.84 1020.32,935.586 1062.62,907.333 1104.92,879.08 1147.22,850.826 1189.52,822.572 1231.82,794.319 1274.12,766.065 1316.42,737.811 1358.72,709.558 1401.02,681.304 1443.32,653.05 1485.62,624.796 1527.92,596.543 1570.21,568.289 1612.51,540.035 1654.81,511.782 1697.11,483.528 1739.41,455.274 1781.71,427.021 1824.01,398.767 1866.31,370.513 1908.61,342.26 1950.91,314.006 1993.21,285.752 2035.51,257.498 2077.81,229.245 2120.11,200.991 2162.41,172.737 2204.71,144.484 2247.01,116.23 2289.31,87.9763 \"/>\n",
       "<path clip-path=\"url(#clip690)\" d=\"M185.61 198.898 L462.228 198.898 L462.228 95.2176 L185.61 95.2176  Z\" fill=\"#ffffff\" fill-rule=\"evenodd\" fill-opacity=\"1\"/>\n",
       "<polyline clip-path=\"url(#clip690)\" style=\"stroke:#000000; stroke-linecap:round; stroke-linejoin:round; stroke-width:4; stroke-opacity:1; fill:none\" points=\"185.61,198.898 462.228,198.898 462.228,95.2176 185.61,95.2176 185.61,198.898 \"/>\n",
       "<polyline clip-path=\"url(#clip690)\" style=\"stroke:#009af9; stroke-linecap:round; stroke-linejoin:round; stroke-width:4; stroke-opacity:1; fill:none\" points=\"210.52,147.058 359.978,147.058 \"/>\n",
       "<path clip-path=\"url(#clip690)\" d=\"M398.73 166.745 Q396.925 171.375 395.212 172.787 Q393.499 174.199 390.629 174.199 L387.226 174.199 L387.226 170.634 L389.726 170.634 Q391.485 170.634 392.457 169.8 Q393.429 168.967 394.61 165.865 L395.374 163.921 L384.888 138.412 L389.402 138.412 L397.504 158.689 L405.605 138.412 L410.119 138.412 L398.73 166.745 Z\" fill=\"#000000\" fill-rule=\"nonzero\" fill-opacity=\"1\" /><path clip-path=\"url(#clip690)\" d=\"M417.411 160.402 L425.05 160.402 L425.05 134.037 L416.74 135.703 L416.74 131.444 L425.003 129.778 L429.679 129.778 L429.679 160.402 L437.318 160.402 L437.318 164.338 L417.411 164.338 L417.411 160.402 Z\" fill=\"#000000\" fill-rule=\"nonzero\" fill-opacity=\"1\" /></svg>\n"
      ]
     },
     "execution_count": 35,
     "metadata": {},
     "output_type": "execute_result"
    }
   ],
   "source": [
    "plot([6πD*Dʰ*integral_m1(t)*D1 for t in 0:0.2:10])"
   ]
  },
  {
   "cell_type": "code",
   "execution_count": 45,
   "id": "36b449f5-8ce3-49e0-8df7-895214d0b593",
   "metadata": {},
   "outputs": [],
   "source": [
    "Dstar = Dʰ*D*Dʰ - one_vec*πD*Dʰ^2\n",
    "our_m3_order_3(t) = πD1^3*t^3\n",
    "our_m3_order_2(t) = 6πD1*πD*Dʰ*D1*t^2 \n",
    "our_m3_order_1(t) = +6πD*d*D1*t - 6πD*Dʰ*integral_m1(t)*D1\n",
    "our_m3_order_0(t) = -6πD*Dstar*Dʰₜ(t)*D1;\n"
   ]
  },
  {
   "cell_type": "code",
   "execution_count": 46,
   "id": "91508ab5-368f-43ce-bdf4-7bf8b2feb56e",
   "metadata": {},
   "outputs": [],
   "source": [
    "our_third_moment(t) = our_m3_order_3(t) + our_m3_order_2(t) + our_m3_order_1(t) + our_m3_order_0(t);"
   ]
  },
  {
   "cell_type": "code",
   "execution_count": 48,
   "id": "8ce4695d-2576-4192-8f7a-e999ccf211c4",
   "metadata": {},
   "outputs": [
    {
     "name": "stdout",
     "output_type": "stream",
     "text": [
      "(t, ours[i] - numerical[i]) = (1.0, -3.552713678800501e-15)\n",
      "(t, ours[i] - numerical[i]) = (1.5, 7.105427357601002e-15)\n",
      "(t, ours[i] - numerical[i]) = (2.0, -1.4210854715202004e-14)\n",
      "(t, ours[i] - numerical[i]) = (2.5, -2.842170943040401e-14)\n",
      "(t, ours[i] - numerical[i]) = (3.0, 0.0)\n",
      "(t, ours[i] - numerical[i]) = (3.5, 0.0)\n",
      "(t, ours[i] - numerical[i]) = (4.0, 1.1368683772161603e-13)\n",
      "(t, ours[i] - numerical[i]) = (4.5, 1.1368683772161603e-13)\n",
      "(t, ours[i] - numerical[i]) = (5.0, 4.547473508864641e-13)\n",
      "(t, ours[i] - numerical[i]) = (5.5, 4.547473508864641e-13)\n",
      "(t, ours[i] - numerical[i]) = (6.0, 4.547473508864641e-13)\n",
      "(t, ours[i] - numerical[i]) = (6.5, 1.3642420526593924e-12)\n",
      "(t, ours[i] - numerical[i]) = (7.0, 4.547473508864641e-13)\n",
      "(t, ours[i] - numerical[i]) = (7.5, 2.7284841053187847e-12)\n",
      "(t, ours[i] - numerical[i]) = (8.0, 1.8189894035458565e-12)\n",
      "(t, ours[i] - numerical[i]) = (8.5, 2.7284841053187847e-12)\n",
      "(t, ours[i] - numerical[i]) = (9.0, 8.185452315956354e-12)\n",
      "(t, ours[i] - numerical[i]) = (9.5, 1.4551915228366852e-11)\n",
      "(t, ours[i] - numerical[i]) = (10.0, 1.8189894035458565e-12)\n"
     ]
    }
   ],
   "source": [
    "t_range = 1:0.5:10\n",
    "ours = [our_third_moment(t) for t in t_range]\n",
    "numerical = [third_moment(t) for t in t_range]\n",
    "for (i,t) in enumerate(t_range)\n",
    "    # @show t, ours[i], numerical[i]\n",
    "    @show t, ours[i] - numerical[i]\n",
    "end"
   ]
  },
  {
   "cell_type": "code",
   "execution_count": null,
   "id": "2a6cdc96-7150-4dc1-999b-fcf65fed95f0",
   "metadata": {},
   "outputs": [],
   "source": []
  }
 ],
 "metadata": {
  "kernelspec": {
   "display_name": "Julia 1.11.5",
   "language": "julia",
   "name": "julia-1.11"
  },
  "language_info": {
   "file_extension": ".jl",
   "mimetype": "application/julia",
   "name": "julia",
   "version": "1.11.5"
  }
 },
 "nbformat": 4,
 "nbformat_minor": 5
}
