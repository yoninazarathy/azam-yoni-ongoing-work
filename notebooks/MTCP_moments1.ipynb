{
 "cells": [
  {
   "cell_type": "code",
   "execution_count": 1,
   "id": "dba9d620-dfac-423e-82ca-33ef83f43340",
   "metadata": {},
   "outputs": [],
   "source": [
    "using LinearAlgebra\n",
    "using QuadGK\n",
    "using Plots"
   ]
  },
  {
   "cell_type": "code",
   "execution_count": 2,
   "id": "eca7471c-bf58-40ac-b0c6-59870429fe02",
   "metadata": {},
   "outputs": [],
   "source": [
    "maxevals = 10^2;"
   ]
  },
  {
   "cell_type": "code",
   "execution_count": 3,
   "id": "500b8764-30dd-4b33-a5d6-28b2860f8f9b",
   "metadata": {},
   "outputs": [
    {
     "data": {
      "text/plain": [
       "(0.3333333333333333, 0.0)"
      ]
     },
     "execution_count": 3,
     "metadata": {},
     "output_type": "execute_result"
    }
   ],
   "source": [
    "quadgk((x)->x^2,0,1; maxevals)"
   ]
  },
  {
   "cell_type": "markdown",
   "id": "10275309-46b0-4e2e-aa0a-6ae828dedf0c",
   "metadata": {},
   "source": [
    "$$\n",
    "\\pi Q = 0\n",
    "$$\n",
    "\n",
    "$$\n",
    "Q^\\top \\pi^\\top = 0 \n",
    "$$\n",
    "\n",
    "$$\n",
    "{\\mathbf 1}^\\top \\pi^\\top = 1\n",
    "$$"
   ]
  },
  {
   "cell_type": "code",
   "execution_count": 4,
   "id": "46009835-af81-4fd8-8847-77f0ddfc1e7b",
   "metadata": {},
   "outputs": [],
   "source": [
    "Q = [-2 1.0 1;\n",
    "      1 -2 1;\n",
    "      2 2 -4]\n",
    "\n",
    "D = [1 1 0.5;\n",
    "     0.5 0 1;\n",
    "      2 1 0];"
   ]
  },
  {
   "cell_type": "code",
   "execution_count": 5,
   "id": "deebb54c-aa87-4497-9ebf-8082815c37f8",
   "metadata": {},
   "outputs": [
    {
     "data": {
      "text/plain": [
       "3×3 Matrix{Float64}:\n",
       " -2.0   1.0  2.0\n",
       "  1.0  -2.0  2.0\n",
       "  1.0   1.0  1.0"
      ]
     },
     "execution_count": 5,
     "metadata": {},
     "output_type": "execute_result"
    }
   ],
   "source": [
    "b = vcat(zeros(2), ones(1));\n",
    "A = vcat(Q'[1:2,:], ones(3)')"
   ]
  },
  {
   "cell_type": "code",
   "execution_count": 6,
   "id": "b9667f4d-4c10-4ce6-90a5-66f9a44df6b0",
   "metadata": {},
   "outputs": [
    {
     "data": {
      "text/plain": [
       "1×3 adjoint(::Vector{Float64}) with eltype Float64:\n",
       " 0.4  0.4  0.2"
      ]
     },
     "execution_count": 6,
     "metadata": {},
     "output_type": "execute_result"
    }
   ],
   "source": [
    "π_vec = round.(A \\ b, digits=2)'"
   ]
  },
  {
   "cell_type": "code",
   "execution_count": 7,
   "id": "9faac0f8-3632-4ea4-bf0e-f7c6d3849885",
   "metadata": {},
   "outputs": [
    {
     "data": {
      "text/plain": [
       "1×3 adjoint(::Vector{Float64}) with eltype Float64:\n",
       " 0.0  0.0  0.0"
      ]
     },
     "execution_count": 7,
     "metadata": {},
     "output_type": "execute_result"
    }
   ],
   "source": [
    "π_vec*Q"
   ]
  },
  {
   "cell_type": "code",
   "execution_count": 8,
   "id": "0ccce9cc-d576-4815-abc8-91a84ce3ab34",
   "metadata": {},
   "outputs": [],
   "source": [
    "one_vec = ones(3);\n",
    "one_vec_6 = ones(6); #usefull for 2p (MTCP)"
   ]
  },
  {
   "cell_type": "markdown",
   "id": "e5de58e7-a843-4a5b-bcea-e4a047faf6b0",
   "metadata": {},
   "source": [
    "## Checking Sylvester equation"
   ]
  },
  {
   "cell_type": "code",
   "execution_count": 9,
   "id": "65a404de-7e0e-4ca8-ae0e-cb98babcd9de",
   "metadata": {},
   "outputs": [
    {
     "data": {
      "text/plain": [
       "M0 (generic function with 1 method)"
      ]
     },
     "execution_count": 9,
     "metadata": {},
     "output_type": "execute_result"
    }
   ],
   "source": [
    "M0(t) = exp(Q*t)"
   ]
  },
  {
   "cell_type": "code",
   "execution_count": 10,
   "id": "0baa2e6b-5153-4fcf-b06c-6c636ac16691",
   "metadata": {},
   "outputs": [
    {
     "data": {
      "text/plain": [
       "M1 (generic function with 1 method)"
      ]
     },
     "execution_count": 10,
     "metadata": {},
     "output_type": "execute_result"
    }
   ],
   "source": [
    "M1(t) = quadgk((u1)->exp(Q*u1)*D*exp(Q*(t-u1)), 0, t; maxevals = maxevals)[1]"
   ]
  },
  {
   "cell_type": "code",
   "execution_count": 13,
   "id": "51e96029-132e-4cf4-9792-697ec5a0ba66",
   "metadata": {},
   "outputs": [
    {
     "data": {
      "text/plain": [
       "3×3 Matrix{Float64}:\n",
       "  0.000137339  -0.399724      0.0998623\n",
       "  0.399724     -0.000137339   0.300136\n",
       " -0.200274     -0.599723     -8.88178e-16"
      ]
     },
     "execution_count": 13,
     "metadata": {},
     "output_type": "execute_result"
    }
   ],
   "source": [
    "Q*M1(2.5) - M1(2.5)*Q "
   ]
  },
  {
   "cell_type": "code",
   "execution_count": 14,
   "id": "d6f5724a-57ff-4744-a5e2-3e6c641ac7ee",
   "metadata": {},
   "outputs": [
    {
     "data": {
      "text/plain": [
       "3×3 Matrix{Float64}:\n",
       "  0.000137339  -0.399724     0.0998623\n",
       "  0.399724     -0.000137339  0.300136\n",
       " -0.200274     -0.599723     1.11022e-16"
      ]
     },
     "execution_count": 14,
     "metadata": {},
     "output_type": "execute_result"
    }
   ],
   "source": [
    "1*(M0(2.5)*D-D*M0(2.5))"
   ]
  },
  {
   "cell_type": "code",
   "execution_count": 23,
   "id": "2ee7ea1e-7643-47d9-bfda-112efb97b2c5",
   "metadata": {},
   "outputs": [
    {
     "data": {
      "text/plain": [
       "M2 (generic function with 1 method)"
      ]
     },
     "execution_count": 23,
     "metadata": {},
     "output_type": "execute_result"
    }
   ],
   "source": [
    "M2(t) = 2*quadgk((u)->M1(u)*D*exp(Q*(t-u)), 0, t; maxevals = maxevals)[1]"
   ]
  },
  {
   "cell_type": "code",
   "execution_count": 24,
   "id": "6d61b6fe-af3d-4796-81c0-6ea1dec23b86",
   "metadata": {},
   "outputs": [
    {
     "data": {
      "text/plain": [
       "3×3 Matrix{Float64}:\n",
       " 13.2192  11.9205  6.66159\n",
       " 11.974   10.7637  6.034\n",
       " 13.4158  12.1085  6.76013"
      ]
     },
     "execution_count": 24,
     "metadata": {},
     "output_type": "execute_result"
    }
   ],
   "source": [
    "M2(2.5)"
   ]
  },
  {
   "cell_type": "code",
   "execution_count": 29,
   "id": "442319a5-1bbc-4d11-b127-0ac5c540dc95",
   "metadata": {},
   "outputs": [
    {
     "data": {
      "text/plain": [
       "M2a (generic function with 1 method)"
      ]
     },
     "execution_count": 29,
     "metadata": {},
     "output_type": "execute_result"
    }
   ],
   "source": [
    "M2a(t) = 2*quadgk((u)->exp(Q*(t-u))*D*M1(u), 0, t; maxevals = maxevals)[1]"
   ]
  },
  {
   "cell_type": "code",
   "execution_count": 30,
   "id": "81535877-aef0-48fd-93ad-6f86b41dce86",
   "metadata": {},
   "outputs": [
    {
     "data": {
      "text/plain": [
       "3×3 Matrix{Float64}:\n",
       " 13.2192  11.9205  6.66159\n",
       " 11.974   10.7637  6.034\n",
       " 13.4158  12.1085  6.76013"
      ]
     },
     "execution_count": 30,
     "metadata": {},
     "output_type": "execute_result"
    }
   ],
   "source": [
    "M2a(2.5)"
   ]
  },
  {
   "cell_type": "code",
   "execution_count": 25,
   "id": "4ee76803-4ad8-4c8f-97b6-d0a850e8b6c0",
   "metadata": {},
   "outputs": [
    {
     "data": {
      "text/plain": [
       "3×3 Matrix{Float64}:\n",
       "  0.1462   -3.67018     0.977596\n",
       "  3.80333  -0.0130504   2.75198\n",
       " -2.07397  -5.78463    -0.13315"
      ]
     },
     "execution_count": 25,
     "metadata": {},
     "output_type": "execute_result"
    }
   ],
   "source": [
    "Q*M2(2.5) - M2(2.5)*Q "
   ]
  },
  {
   "cell_type": "code",
   "execution_count": 26,
   "id": "9ecebb61-c962-4482-a83c-0caee982059e",
   "metadata": {},
   "outputs": [
    {
     "data": {
      "text/plain": [
       "3×3 Matrix{Float64}:\n",
       "  0.1462   -3.67018     0.977596\n",
       "  3.80333  -0.0130504   2.75198\n",
       " -2.07397  -5.78463    -0.13315"
      ]
     },
     "execution_count": 26,
     "metadata": {},
     "output_type": "execute_result"
    }
   ],
   "source": [
    "2*(M1(2.5)*D-D*M1(2.5))"
   ]
  },
  {
   "cell_type": "markdown",
   "id": "59755c81-39a6-48b6-933a-c2fd2f46031f",
   "metadata": {},
   "source": [
    "## Third moment"
   ]
  },
  {
   "cell_type": "markdown",
   "id": "0622e299-81bb-45c7-9181-741b8582318d",
   "metadata": {},
   "source": [
    "$$\n",
    "M_3(t)  = 6 \\int_0^t \\int_0^{u_3} \n",
    "\\underbrace{\\int_0^{u_2} \n",
    "\\underbrace{e^{Q u_1} D e^{Q (u_2 - u_1)} D e^{Q (u_3 - u_2)} D e^{Q (t - u_3)}}_{I_0(u_1,u_2,u_3)} \\, du_1}_{I_1} \\, du_2 \\, du_3.\n",
    "$$"
   ]
  },
  {
   "cell_type": "code",
   "execution_count": 9,
   "id": "11f2c8c6-48b3-4042-a191-e040db594757",
   "metadata": {},
   "outputs": [
    {
     "data": {
      "text/plain": [
       "third_moment (generic function with 1 method)"
      ]
     },
     "execution_count": 9,
     "metadata": {},
     "output_type": "execute_result"
    }
   ],
   "source": [
    "maxevals = 10^3;\n",
    "I0(u1,u2,u3,t) = exp(Q*u1)*D*exp(Q*(u2-u1))*D*exp(Q*(u3-u2))*D*exp(Q*(t-u3))\n",
    "I1(u2,u3,t) = quadgk((u1)->I0(u1,u2,u3,t), 0, u2; maxevals = maxevals)[1]\n",
    "I2(u3,t) = quadgk((u2)->I1(u2,u3,t), 0, u3; maxevals = maxevals)[1]\n",
    "I3(t) = quadgk((u3)->I2(u3,t),0,t; maxevals = maxevals)[1]\n",
    "M3(t) = 6*I3(t)\n",
    "third_moment(t) = π_vec*M3(t)*one_vec"
   ]
  },
  {
   "cell_type": "code",
   "execution_count": 10,
   "id": "0dcc998b-a4ad-404c-ae96-3799249bc9f3",
   "metadata": {},
   "outputs": [
    {
     "name": "stdout",
     "output_type": "stream",
     "text": [
      " 25.763746 seconds (278.61 M allocations: 13.123 GiB, 4.83% gc time, 99.89% compilation time)\n"
     ]
    },
    {
     "data": {
      "text/plain": [
       "15.077745680967237"
      ]
     },
     "execution_count": 10,
     "metadata": {},
     "output_type": "execute_result"
    }
   ],
   "source": [
    "@time third_moment(1.1)"
   ]
  },
  {
   "cell_type": "markdown",
   "id": "189e47e5-fd26-435d-8616-54b0ea4760a3",
   "metadata": {},
   "source": [
    "#### Also doing second moment - just to be sure"
   ]
  },
  {
   "cell_type": "markdown",
   "id": "f897d3ed-df83-40a7-b3dd-0cbff1da1681",
   "metadata": {},
   "source": [
    "$$\n",
    "M_2(t)  = 2 \\int_0^t \\int_0^{u_2} e^{Q u_1} D e^{Q (u_2 - u_1)} D e^{Q (t - u_2)} \\, du_1 \\, du_2, \\\\\n",
    "$$"
   ]
  },
  {
   "cell_type": "markdown",
   "id": "94ebc493-06e7-4c2d-aa1a-5bcbdf39cadb",
   "metadata": {},
   "source": [
    "$$\n",
    "\\text{Var}_{\\boldsymbol{\\pi}}(N(t))=\\boldsymbol{\\pi}M_2(t) \\mathbf{1}+\\boldsymbol{\\pi}M_1(t) \\mathbf{1}-(\\boldsymbol{\\pi}M_1(t) \\mathbf{1})^2.\n",
    "$$"
   ]
  },
  {
   "cell_type": "code",
   "execution_count": 1,
   "id": "f6a17e03-1839-4df2-9d68-c3c6a50dc206",
   "metadata": {},
   "outputs": [
    {
     "data": {
      "text/plain": [
       "brute_second_moment (generic function with 1 method)"
      ]
     },
     "execution_count": 1,
     "metadata": {},
     "output_type": "execute_result"
    }
   ],
   "source": [
    "maxevals = 10^3;\n",
    "I0_2(u1,u2,t) = exp(Q*u1)*D*exp(Q*(u2-u1))*D*exp(Q*(t-u2))\n",
    "I1_2(u2,t) = quadgk((u1)->I0_2(u1,u2,t), 0, u2; maxevals = maxevals)[1]\n",
    "I2_2(t) = quadgk((u2)->I1_2(u2,t), 0, t; maxevals = maxevals)[1]\n",
    "M2(t) = 2*I2_2(t)\n",
    "brute_second_moment(t) = π_vec*M2(t)*one_vec"
   ]
  },
  {
   "cell_type": "code",
   "execution_count": 12,
   "id": "073d9a32-bd7b-4f66-b70a-618a90ebab1c",
   "metadata": {},
   "outputs": [
    {
     "name": "stdout",
     "output_type": "stream",
     "text": [
      "  0.180277 seconds (1.34 M allocations: 67.588 MiB, 6.38% gc time, 99.48% compilation time)\n"
     ]
    },
    {
     "data": {
      "text/plain": [
       "6.017913784781134"
      ]
     },
     "execution_count": 12,
     "metadata": {},
     "output_type": "execute_result"
    }
   ],
   "source": [
    "@time brute_second_moment(1.1)"
   ]
  },
  {
   "cell_type": "code",
   "execution_count": null,
   "id": "3303b7f5-6ca3-4658-ae86-6c9f9e8eb56a",
   "metadata": {},
   "outputs": [],
   "source": [
    "brute_second_moment(t) = π_vec*M2(t)*one_vec"
   ]
  },
  {
   "cell_type": "markdown",
   "id": "9732d49b-ce09-43ca-b078-4fba9a3f4f2a",
   "metadata": {},
   "source": [
    "## Deviation Matrices"
   ]
  },
  {
   "cell_type": "code",
   "execution_count": 13,
   "id": "c6249a65-33a8-44a8-a5f9-9d59780d13bc",
   "metadata": {},
   "outputs": [
    {
     "data": {
      "text/plain": [
       "3×3 Matrix{Float64}:\n",
       " 0.586667  0.253333  0.16\n",
       " 0.253333  0.586667  0.16\n",
       " 0.32      0.32      0.36"
      ]
     },
     "execution_count": 13,
     "metadata": {},
     "output_type": "execute_result"
    }
   ],
   "source": [
    "Q⁻ = inv(one_vec*π_vec - Q) #fundamental matrix"
   ]
  },
  {
   "cell_type": "code",
   "execution_count": 14,
   "id": "5e1349ed-5b8b-43cb-b53e-d585b1b1649b",
   "metadata": {},
   "outputs": [
    {
     "data": {
      "text/plain": [
       "3×3 Matrix{Float64}:\n",
       "  0.186667  -0.146667  -0.04\n",
       " -0.146667   0.186667  -0.04\n",
       " -0.08      -0.08       0.16"
      ]
     },
     "execution_count": 14,
     "metadata": {},
     "output_type": "execute_result"
    }
   ],
   "source": [
    "Dʰ = Q⁻-one_vec*π_vec"
   ]
  },
  {
   "cell_type": "code",
   "execution_count": 15,
   "id": "558cd4b4-9ad7-4e44-8187-229b58ccf667",
   "metadata": {},
   "outputs": [
    {
     "data": {
      "text/plain": [
       "3-element Vector{Float64}:\n",
       " -1.1102230246251565e-16\n",
       " -2.498001805406602e-16\n",
       " -2.7755575615628914e-16"
      ]
     },
     "execution_count": 15,
     "metadata": {},
     "output_type": "execute_result"
    }
   ],
   "source": [
    "Dʰ*one_vec #should be 0"
   ]
  },
  {
   "cell_type": "code",
   "execution_count": 16,
   "id": "18ed47a0-88df-4df6-aea3-af861ea197ed",
   "metadata": {},
   "outputs": [
    {
     "data": {
      "text/plain": [
       "1×3 adjoint(::Vector{Float64}) with eltype Float64:\n",
       " -4.94604e-17  -1.02196e-16  -5.65104e-17"
      ]
     },
     "execution_count": 16,
     "metadata": {},
     "output_type": "execute_result"
    }
   ],
   "source": [
    "π_vec*Dʰ#should be 0"
   ]
  },
  {
   "cell_type": "code",
   "execution_count": 17,
   "id": "f11f9837-785c-4e5e-a0fe-5e3dcad5bf26",
   "metadata": {},
   "outputs": [
    {
     "data": {
      "text/plain": [
       "Dʰₜ (generic function with 1 method)"
      ]
     },
     "execution_count": 17,
     "metadata": {},
     "output_type": "execute_result"
    }
   ],
   "source": [
    "Dʰₜ(t) = Dʰ*(I-exp(Q*t))"
   ]
  },
  {
   "cell_type": "code",
   "execution_count": 18,
   "id": "a366e7bd-ed7e-4604-82da-b7d0c691b184",
   "metadata": {},
   "outputs": [
    {
     "data": {
      "text/plain": [
       "numerical_check_trans_deviation (generic function with 1 method)"
      ]
     },
     "execution_count": 18,
     "metadata": {},
     "output_type": "execute_result"
    }
   ],
   "source": [
    "numerical_check_trans_deviation(t) = quadgk((u)->(exp(Q*u) - one_vec*π_vec), 0,t)[1]"
   ]
  },
  {
   "cell_type": "code",
   "execution_count": 19,
   "id": "ddac37da-db6c-40ab-9f88-d42b780fad7d",
   "metadata": {},
   "outputs": [
    {
     "data": {
      "text/plain": [
       "3×3 Matrix{Float64}:\n",
       "  0.183263   -0.143323   -0.0399399\n",
       " -0.143323    0.183263   -0.0399399\n",
       " -0.0798797  -0.0798797   0.159759"
      ]
     },
     "execution_count": 19,
     "metadata": {},
     "output_type": "execute_result"
    }
   ],
   "source": [
    "numerical_check_trans_deviation(1.3)"
   ]
  },
  {
   "cell_type": "code",
   "execution_count": 20,
   "id": "5fb9b561-93a4-480d-a912-cd5039d8371b",
   "metadata": {},
   "outputs": [
    {
     "data": {
      "text/plain": [
       "3×3 Matrix{Float64}:\n",
       "  0.183263   -0.143323   -0.0399399\n",
       " -0.143323    0.183263   -0.0399399\n",
       " -0.0798797  -0.0798797   0.159759"
      ]
     },
     "execution_count": 20,
     "metadata": {},
     "output_type": "execute_result"
    }
   ],
   "source": [
    "Dʰₜ(1.3)"
   ]
  },
  {
   "cell_type": "markdown",
   "id": "5ee81d8b-b3f4-4c13-8d30-d204f373597c",
   "metadata": {},
   "source": [
    "### First moment and its integral"
   ]
  },
  {
   "cell_type": "markdown",
   "id": "34087d67-ec60-4c32-87ca-b5aa6e2ce281",
   "metadata": {},
   "source": [
    "$$\n",
    "M_1(t) = \\int_0^t e^{Q u_1} D e^{Q (t - u_1)} \\, du_1\n",
    "$$\n"
   ]
  },
  {
   "cell_type": "code",
   "execution_count": 21,
   "id": "c669d188-6a50-4840-aa99-b455de69b8fd",
   "metadata": {},
   "outputs": [],
   "source": [
    "m1_integrand(u1,t) = exp(Q*u1)*D*exp(Q*(t-u1))\n",
    "m1(t) = quadgk((u1)->m1_integrand(u1,t), 0, t, maxevals = maxevals)[1];"
   ]
  },
  {
   "cell_type": "code",
   "execution_count": 22,
   "id": "5be34d26-46ee-4c76-a420-11a6a79b2241",
   "metadata": {},
   "outputs": [
    {
     "data": {
      "text/plain": [
       "3×3 Matrix{Float64}:\n",
       " 2.12496  1.99241  1.06913\n",
       " 1.99216  1.85846  1.00288\n",
       " 2.13876  2.00526  1.07598"
      ]
     },
     "execution_count": 22,
     "metadata": {},
     "output_type": "execute_result"
    }
   ],
   "source": [
    "m1(2.3)"
   ]
  },
  {
   "cell_type": "code",
   "execution_count": 23,
   "id": "3dc5cf88-eddf-4bf7-b383-581db352097b",
   "metadata": {},
   "outputs": [],
   "source": [
    "integral_m1(t) = quadgk(m1, 0, t, maxevals = maxevals)[1];"
   ]
  },
  {
   "cell_type": "code",
   "execution_count": 24,
   "id": "a3d85c8f-7b67-49aa-9d2f-56145904b21e",
   "metadata": {},
   "outputs": [
    {
     "data": {
      "text/plain": [
       "3×3 Matrix{Float64}:\n",
       " 17673.1  17646.5  8837.87\n",
       " 17646.4  17619.7  8824.59\n",
       " 17675.8  17649.1  8839.2"
      ]
     },
     "execution_count": 24,
     "metadata": {},
     "output_type": "execute_result"
    }
   ],
   "source": [
    "integral_m1(200.3)"
   ]
  },
  {
   "cell_type": "code",
   "execution_count": 25,
   "id": "b339d182-d0d3-4280-8b68-0e0d3a040b83",
   "metadata": {},
   "outputs": [
    {
     "data": {
      "image/png": "[encoded data removed]",
      "image/svg+xml": [
       "<?xml version=\"1.0\" encoding=\"utf-8\"?>\n",
       "<svg xmlns=\"http://www.w3.org/2000/svg\" xmlns:xlink=\"http://www.w3.org/1999/xlink\" width=\"600\" height=\"400\" viewBox=\"0 0 2400 1600\">\n",
       "<defs>\n",
       "  <clipPath id=\"clip730\">\n",
       "    <rect x=\"0\" y=\"0\" width=\"2400\" height=\"1600\"/>\n",
       "  </clipPath>\n",
       "</defs>\n",
       "<path clip-path=\"url(#clip730)\" d=\"M0 1600 L2400 1600 L2400 8.88178e-14 L0 8.88178e-14  Z\" fill=\"#ffffff\" fill-rule=\"evenodd\" fill-opacity=\"1\"/>\n",
       "<defs>\n",
       "  <clipPath id=\"clip731\">\n",
       "    <rect x=\"480\" y=\"0\" width=\"1681\" height=\"1600\"/>\n",
       "  </clipPath>\n",
       "</defs>\n",
       "<path clip-path=\"url(#clip730)\" d=\"M202.177 1486.45 L2352.76 1486.45 L2352.76 47.2441 L202.177 47.2441  Z\" fill=\"#ffffff\" fill-rule=\"evenodd\" fill-opacity=\"1\"/>\n",
       "<defs>\n",
       "  <clipPath id=\"clip732\">\n",
       "    <rect x=\"202\" y=\"47\" width=\"2152\" height=\"1440\"/>\n",
       "  </clipPath>\n",
       "</defs>\n",
       "<polyline clip-path=\"url(#clip732)\" style=\"stroke:#000000; stroke-linecap:round; stroke-linejoin:round; stroke-width:2; stroke-opacity:0.1; fill:none\" points=\"690.168,1486.45 690.168,47.2441 \"/>\n",
       "<polyline clip-path=\"url(#clip732)\" style=\"stroke:#000000; stroke-linecap:round; stroke-linejoin:round; stroke-width:2; stroke-opacity:0.1; fill:none\" points=\"1224.08,1486.45 1224.08,47.2441 \"/>\n",
       "<polyline clip-path=\"url(#clip732)\" style=\"stroke:#000000; stroke-linecap:round; stroke-linejoin:round; stroke-width:2; stroke-opacity:0.1; fill:none\" points=\"1757.98,1486.45 1757.98,47.2441 \"/>\n",
       "<polyline clip-path=\"url(#clip732)\" style=\"stroke:#000000; stroke-linecap:round; stroke-linejoin:round; stroke-width:2; stroke-opacity:0.1; fill:none\" points=\"2291.89,1486.45 2291.89,47.2441 \"/>\n",
       "<polyline clip-path=\"url(#clip732)\" style=\"stroke:#000000; stroke-linecap:round; stroke-linejoin:round; stroke-width:2; stroke-opacity:0.1; fill:none\" points=\"202.177,1449.21 2352.76,1449.21 \"/>\n",
       "<polyline clip-path=\"url(#clip732)\" style=\"stroke:#000000; stroke-linecap:round; stroke-linejoin:round; stroke-width:2; stroke-opacity:0.1; fill:none\" points=\"202.177,1140.28 2352.76,1140.28 \"/>\n",
       "<polyline clip-path=\"url(#clip732)\" style=\"stroke:#000000; stroke-linecap:round; stroke-linejoin:round; stroke-width:2; stroke-opacity:0.1; fill:none\" points=\"202.177,831.361 2352.76,831.361 \"/>\n",
       "<polyline clip-path=\"url(#clip732)\" style=\"stroke:#000000; stroke-linecap:round; stroke-linejoin:round; stroke-width:2; stroke-opacity:0.1; fill:none\" points=\"202.177,522.438 2352.76,522.438 \"/>\n",
       "<polyline clip-path=\"url(#clip732)\" style=\"stroke:#000000; stroke-linecap:round; stroke-linejoin:round; stroke-width:2; stroke-opacity:0.1; fill:none\" points=\"202.177,213.516 2352.76,213.516 \"/>\n",
       "<polyline clip-path=\"url(#clip730)\" style=\"stroke:#000000; stroke-linecap:round; stroke-linejoin:round; stroke-width:4; stroke-opacity:1; fill:none\" points=\"202.177,1486.45 2352.76,1486.45 \"/>\n",
       "<polyline clip-path=\"url(#clip730)\" style=\"stroke:#000000; stroke-linecap:round; stroke-linejoin:round; stroke-width:4; stroke-opacity:1; fill:none\" points=\"690.168,1486.45 690.168,1467.55 \"/>\n",
       "<polyline clip-path=\"url(#clip730)\" style=\"stroke:#000000; stroke-linecap:round; stroke-linejoin:round; stroke-width:4; stroke-opacity:1; fill:none\" points=\"1224.08,1486.45 1224.08,1467.55 \"/>\n",
       "<polyline clip-path=\"url(#clip730)\" style=\"stroke:#000000; stroke-linecap:round; stroke-linejoin:round; stroke-width:4; stroke-opacity:1; fill:none\" points=\"1757.98,1486.45 1757.98,1467.55 \"/>\n",
       "<polyline clip-path=\"url(#clip730)\" style=\"stroke:#000000; stroke-linecap:round; stroke-linejoin:round; stroke-width:4; stroke-opacity:1; fill:none\" points=\"2291.89,1486.45 2291.89,1467.55 \"/>\n",
       "<path clip-path=\"url(#clip730)\" d=\"M680.446 1514.29 L698.802 1514.29 L698.802 1518.22 L684.728 1518.22 L684.728 1526.7 Q685.747 1526.35 686.765 1526.19 Q687.784 1526 688.802 1526 Q694.589 1526 697.969 1529.17 Q701.349 1532.34 701.349 1537.76 Q701.349 1543.34 697.876 1546.44 Q694.404 1549.52 688.085 1549.52 Q685.909 1549.52 683.64 1549.15 Q681.395 1548.78 678.988 1548.04 L678.988 1543.34 Q681.071 1544.47 683.293 1545.03 Q685.515 1545.58 687.992 1545.58 Q691.997 1545.58 694.335 1543.48 Q696.673 1541.37 696.673 1537.76 Q696.673 1534.15 694.335 1532.04 Q691.997 1529.94 687.992 1529.94 Q686.117 1529.94 684.242 1530.35 Q682.39 1530.77 680.446 1531.65 L680.446 1514.29 Z\" fill=\"#000000\" fill-rule=\"nonzero\" fill-opacity=\"1\" /><path clip-path=\"url(#clip730)\" d=\"M1198.76 1544.91 L1206.4 1544.91 L1206.4 1518.55 L1198.09 1520.21 L1198.09 1515.95 L1206.36 1514.29 L1211.03 1514.29 L1211.03 1544.91 L1218.67 1544.91 L1218.67 1548.85 L1198.76 1548.85 L1198.76 1544.91 Z\" fill=\"#000000\" fill-rule=\"nonzero\" fill-opacity=\"1\" /><path clip-path=\"url(#clip730)\" d=\"M1238.11 1517.37 Q1234.5 1517.37 1232.68 1520.93 Q1230.87 1524.47 1230.87 1531.6 Q1230.87 1538.71 1232.68 1542.27 Q1234.5 1545.82 1238.11 1545.82 Q1241.75 1545.82 1243.55 1542.27 Q1245.38 1538.71 1245.38 1531.6 Q1245.38 1524.47 1243.55 1520.93 Q1241.75 1517.37 1238.11 1517.37 M1238.11 1513.66 Q1243.92 1513.66 1246.98 1518.27 Q1250.06 1522.85 1250.06 1531.6 Q1250.06 1540.33 1246.98 1544.94 Q1243.92 1549.52 1238.11 1549.52 Q1232.3 1549.52 1229.23 1544.94 Q1226.17 1540.33 1226.17 1531.6 Q1226.17 1522.85 1229.23 1518.27 Q1232.3 1513.66 1238.11 1513.66 Z\" fill=\"#000000\" fill-rule=\"nonzero\" fill-opacity=\"1\" /><path clip-path=\"url(#clip730)\" d=\"M1733.17 1544.91 L1740.81 1544.91 L1740.81 1518.55 L1732.5 1520.21 L1732.5 1515.95 L1740.76 1514.29 L1745.44 1514.29 L1745.44 1544.91 L1753.08 1544.91 L1753.08 1548.85 L1733.17 1548.85 L1733.17 1544.91 Z\" fill=\"#000000\" fill-rule=\"nonzero\" fill-opacity=\"1\" /><path clip-path=\"url(#clip730)\" d=\"M1762.57 1514.29 L1780.92 1514.29 L1780.92 1518.22 L1766.85 1518.22 L1766.85 1526.7 Q1767.87 1526.35 1768.89 1526.19 Q1769.9 1526 1770.92 1526 Q1776.71 1526 1780.09 1529.17 Q1783.47 1532.34 1783.47 1537.76 Q1783.47 1543.34 1780 1546.44 Q1776.52 1549.52 1770.21 1549.52 Q1768.03 1549.52 1765.76 1549.15 Q1763.52 1548.78 1761.11 1548.04 L1761.11 1543.34 Q1763.19 1544.47 1765.41 1545.03 Q1767.64 1545.58 1770.11 1545.58 Q1774.12 1545.58 1776.46 1543.48 Q1778.79 1541.37 1778.79 1537.76 Q1778.79 1534.15 1776.46 1532.04 Q1774.12 1529.94 1770.11 1529.94 Q1768.24 1529.94 1766.36 1530.35 Q1764.51 1530.77 1762.57 1531.65 L1762.57 1514.29 Z\" fill=\"#000000\" fill-rule=\"nonzero\" fill-opacity=\"1\" /><path clip-path=\"url(#clip730)\" d=\"M2270.66 1544.91 L2286.98 1544.91 L2286.98 1548.85 L2265.04 1548.85 L2265.04 1544.91 Q2267.7 1542.16 2272.28 1537.53 Q2276.89 1532.88 2278.07 1531.53 Q2280.32 1529.01 2281.2 1527.27 Q2282.1 1525.51 2282.1 1523.82 Q2282.1 1521.07 2280.15 1519.33 Q2278.23 1517.6 2275.13 1517.6 Q2272.93 1517.6 2270.48 1518.36 Q2268.05 1519.13 2265.27 1520.68 L2265.27 1515.95 Q2268.09 1514.82 2270.55 1514.24 Q2273 1513.66 2275.04 1513.66 Q2280.41 1513.66 2283.6 1516.35 Q2286.8 1519.03 2286.8 1523.52 Q2286.8 1525.65 2285.99 1527.57 Q2285.2 1529.47 2283.09 1532.07 Q2282.52 1532.74 2279.41 1535.95 Q2276.31 1539.15 2270.66 1544.91 Z\" fill=\"#000000\" fill-rule=\"nonzero\" fill-opacity=\"1\" /><path clip-path=\"url(#clip730)\" d=\"M2306.8 1517.37 Q2303.19 1517.37 2301.36 1520.93 Q2299.55 1524.47 2299.55 1531.6 Q2299.55 1538.71 2301.36 1542.27 Q2303.19 1545.82 2306.8 1545.82 Q2310.43 1545.82 2312.24 1542.27 Q2314.07 1538.71 2314.07 1531.6 Q2314.07 1524.47 2312.24 1520.93 Q2310.43 1517.37 2306.8 1517.37 M2306.8 1513.66 Q2312.61 1513.66 2315.66 1518.27 Q2318.74 1522.85 2318.74 1531.6 Q2318.74 1540.33 2315.66 1544.94 Q2312.61 1549.52 2306.8 1549.52 Q2300.99 1549.52 2297.91 1544.94 Q2294.85 1540.33 2294.85 1531.6 Q2294.85 1522.85 2297.91 1518.27 Q2300.99 1513.66 2306.8 1513.66 Z\" fill=\"#000000\" fill-rule=\"nonzero\" fill-opacity=\"1\" /><polyline clip-path=\"url(#clip730)\" style=\"stroke:#000000; stroke-linecap:round; stroke-linejoin:round; stroke-width:4; stroke-opacity:1; fill:none\" points=\"202.177,1486.45 202.177,47.2441 \"/>\n",
       "<polyline clip-path=\"url(#clip730)\" style=\"stroke:#000000; stroke-linecap:round; stroke-linejoin:round; stroke-width:4; stroke-opacity:1; fill:none\" points=\"202.177,1449.21 221.074,1449.21 \"/>\n",
       "<polyline clip-path=\"url(#clip730)\" style=\"stroke:#000000; stroke-linecap:round; stroke-linejoin:round; stroke-width:4; stroke-opacity:1; fill:none\" points=\"202.177,1140.28 221.074,1140.28 \"/>\n",
       "<polyline clip-path=\"url(#clip730)\" style=\"stroke:#000000; stroke-linecap:round; stroke-linejoin:round; stroke-width:4; stroke-opacity:1; fill:none\" points=\"202.177,831.361 221.074,831.361 \"/>\n",
       "<polyline clip-path=\"url(#clip730)\" style=\"stroke:#000000; stroke-linecap:round; stroke-linejoin:round; stroke-width:4; stroke-opacity:1; fill:none\" points=\"202.177,522.438 221.074,522.438 \"/>\n",
       "<polyline clip-path=\"url(#clip730)\" style=\"stroke:#000000; stroke-linecap:round; stroke-linejoin:round; stroke-width:4; stroke-opacity:1; fill:none\" points=\"202.177,213.516 221.074,213.516 \"/>\n",
       "<path clip-path=\"url(#clip730)\" d=\"M154.232 1435 Q150.621 1435 148.793 1438.57 Q146.987 1442.11 146.987 1449.24 Q146.987 1456.35 148.793 1459.91 Q150.621 1463.45 154.232 1463.45 Q157.867 1463.45 159.672 1459.91 Q161.501 1456.35 161.501 1449.24 Q161.501 1442.11 159.672 1438.57 Q157.867 1435 154.232 1435 M154.232 1431.3 Q160.042 1431.3 163.098 1435.91 Q166.177 1440.49 166.177 1449.24 Q166.177 1457.97 163.098 1462.57 Q160.042 1467.16 154.232 1467.16 Q148.422 1467.16 145.343 1462.57 Q142.288 1457.97 142.288 1449.24 Q142.288 1440.49 145.343 1435.91 Q148.422 1431.3 154.232 1431.3 Z\" fill=\"#000000\" fill-rule=\"nonzero\" fill-opacity=\"1\" /><path clip-path=\"url(#clip730)\" d=\"M57.7745 1153.63 L74.0939 1153.63 L74.0939 1157.56 L52.1495 1157.56 L52.1495 1153.63 Q54.8115 1150.87 59.3949 1146.24 Q64.0013 1141.59 65.1819 1140.25 Q67.4272 1137.73 68.3068 1135.99 Q69.2096 1134.23 69.2096 1132.54 Q69.2096 1129.79 67.2652 1128.05 Q65.3439 1126.31 62.2421 1126.31 Q60.043 1126.31 57.5893 1127.08 Q55.1588 1127.84 52.381 1129.39 L52.381 1124.67 Q55.2051 1123.54 57.6588 1122.96 Q60.1124 1122.38 62.1495 1122.38 Q67.5198 1122.38 70.7142 1125.06 Q73.9087 1127.75 73.9087 1132.24 Q73.9087 1134.37 73.0985 1136.29 Q72.3115 1138.19 70.205 1140.78 Q69.6263 1141.45 66.5245 1144.67 Q63.4226 1147.86 57.7745 1153.63 Z\" fill=\"#000000\" fill-rule=\"nonzero\" fill-opacity=\"1\" /><path clip-path=\"url(#clip730)\" d=\"M93.9086 1126.08 Q90.2975 1126.08 88.4688 1129.65 Q86.6632 1133.19 86.6632 1140.32 Q86.6632 1147.42 88.4688 1150.99 Q90.2975 1154.53 93.9086 1154.53 Q97.5428 1154.53 99.3483 1150.99 Q101.177 1147.42 101.177 1140.32 Q101.177 1133.19 99.3483 1129.65 Q97.5428 1126.08 93.9086 1126.08 M93.9086 1122.38 Q99.7187 1122.38 102.774 1126.98 Q105.853 1131.57 105.853 1140.32 Q105.853 1149.04 102.774 1153.65 Q99.7187 1158.23 93.9086 1158.23 Q88.0984 1158.23 85.0197 1153.65 Q81.9642 1149.04 81.9642 1140.32 Q81.9642 1131.57 85.0197 1126.98 Q88.0984 1122.38 93.9086 1122.38 Z\" fill=\"#000000\" fill-rule=\"nonzero\" fill-opacity=\"1\" /><path clip-path=\"url(#clip730)\" d=\"M124.07 1126.08 Q120.459 1126.08 118.631 1129.65 Q116.825 1133.19 116.825 1140.32 Q116.825 1147.42 118.631 1150.99 Q120.459 1154.53 124.07 1154.53 Q127.705 1154.53 129.51 1150.99 Q131.339 1147.42 131.339 1140.32 Q131.339 1133.19 129.51 1129.65 Q127.705 1126.08 124.07 1126.08 M124.07 1122.38 Q129.881 1122.38 132.936 1126.98 Q136.015 1131.57 136.015 1140.32 Q136.015 1149.04 132.936 1153.65 Q129.881 1158.23 124.07 1158.23 Q118.26 1158.23 115.182 1153.65 Q112.126 1149.04 112.126 1140.32 Q112.126 1131.57 115.182 1126.98 Q118.26 1122.38 124.07 1122.38 Z\" fill=\"#000000\" fill-rule=\"nonzero\" fill-opacity=\"1\" /><path clip-path=\"url(#clip730)\" d=\"M154.232 1126.08 Q150.621 1126.08 148.793 1129.65 Q146.987 1133.19 146.987 1140.32 Q146.987 1147.42 148.793 1150.99 Q150.621 1154.53 154.232 1154.53 Q157.867 1154.53 159.672 1150.99 Q161.501 1147.42 161.501 1140.32 Q161.501 1133.19 159.672 1129.65 Q157.867 1126.08 154.232 1126.08 M154.232 1122.38 Q160.042 1122.38 163.098 1126.98 Q166.177 1131.57 166.177 1140.32 Q166.177 1149.04 163.098 1153.65 Q160.042 1158.23 154.232 1158.23 Q148.422 1158.23 145.343 1153.65 Q142.288 1149.04 142.288 1140.32 Q142.288 1131.57 145.343 1126.98 Q148.422 1122.38 154.232 1122.38 Z\" fill=\"#000000\" fill-rule=\"nonzero\" fill-opacity=\"1\" /><path clip-path=\"url(#clip730)\" d=\"M66.5939 818.155 L54.7884 836.604 L66.5939 836.604 L66.5939 818.155 M65.367 814.081 L71.2466 814.081 L71.2466 836.604 L76.1772 836.604 L76.1772 840.493 L71.2466 840.493 L71.2466 848.641 L66.5939 848.641 L66.5939 840.493 L50.9921 840.493 L50.9921 835.979 L65.367 814.081 Z\" fill=\"#000000\" fill-rule=\"nonzero\" fill-opacity=\"1\" /><path clip-path=\"url(#clip730)\" d=\"M93.9086 817.16 Q90.2975 817.16 88.4688 820.724 Q86.6632 824.266 86.6632 831.396 Q86.6632 838.502 88.4688 842.067 Q90.2975 845.608 93.9086 845.608 Q97.5428 845.608 99.3483 842.067 Q101.177 838.502 101.177 831.396 Q101.177 824.266 99.3483 820.724 Q97.5428 817.16 93.9086 817.16 M93.9086 813.456 Q99.7187 813.456 102.774 818.062 Q105.853 822.646 105.853 831.396 Q105.853 840.122 102.774 844.729 Q99.7187 849.312 93.9086 849.312 Q88.0984 849.312 85.0197 844.729 Q81.9642 840.122 81.9642 831.396 Q81.9642 822.646 85.0197 818.062 Q88.0984 813.456 93.9086 813.456 Z\" fill=\"#000000\" fill-rule=\"nonzero\" fill-opacity=\"1\" /><path clip-path=\"url(#clip730)\" d=\"M124.07 817.16 Q120.459 817.16 118.631 820.724 Q116.825 824.266 116.825 831.396 Q116.825 838.502 118.631 842.067 Q120.459 845.608 124.07 845.608 Q127.705 845.608 129.51 842.067 Q131.339 838.502 131.339 831.396 Q131.339 824.266 129.51 820.724 Q127.705 817.16 124.07 817.16 M124.07 813.456 Q129.881 813.456 132.936 818.062 Q136.015 822.646 136.015 831.396 Q136.015 840.122 132.936 844.729 Q129.881 849.312 124.07 849.312 Q118.26 849.312 115.182 844.729 Q112.126 840.122 112.126 831.396 Q112.126 822.646 115.182 818.062 Q118.26 813.456 124.07 813.456 Z\" fill=\"#000000\" fill-rule=\"nonzero\" fill-opacity=\"1\" /><path clip-path=\"url(#clip730)\" d=\"M154.232 817.16 Q150.621 817.16 148.793 820.724 Q146.987 824.266 146.987 831.396 Q146.987 838.502 148.793 842.067 Q150.621 845.608 154.232 845.608 Q157.867 845.608 159.672 842.067 Q161.501 838.502 161.501 831.396 Q161.501 824.266 159.672 820.724 Q157.867 817.16 154.232 817.16 M154.232 813.456 Q160.042 813.456 163.098 818.062 Q166.177 822.646 166.177 831.396 Q166.177 840.122 163.098 844.729 Q160.042 849.312 154.232 849.312 Q148.422 849.312 145.343 844.729 Q142.288 840.122 142.288 831.396 Q142.288 822.646 145.343 818.062 Q148.422 813.456 154.232 813.456 Z\" fill=\"#000000\" fill-rule=\"nonzero\" fill-opacity=\"1\" /><path clip-path=\"url(#clip730)\" d=\"M64.3254 520.575 Q61.1773 520.575 59.3254 522.728 Q57.4967 524.88 57.4967 528.63 Q57.4967 532.357 59.3254 534.533 Q61.1773 536.686 64.3254 536.686 Q67.4735 536.686 69.3022 534.533 Q71.1541 532.357 71.1541 528.63 Q71.1541 524.88 69.3022 522.728 Q67.4735 520.575 64.3254 520.575 M73.6077 505.922 L73.6077 510.181 Q71.8485 509.348 70.0429 508.908 Q68.2606 508.468 66.5013 508.468 Q61.8717 508.468 59.418 511.593 Q56.9875 514.718 56.6402 521.038 Q58.006 519.024 60.0662 517.959 Q62.1263 516.871 64.6032 516.871 Q69.8115 516.871 72.8207 520.042 Q75.8531 523.191 75.8531 528.63 Q75.8531 533.954 72.705 537.172 Q69.5568 540.39 64.3254 540.39 Q58.33 540.39 55.1588 535.806 Q51.9875 531.2 51.9875 522.473 Q51.9875 514.279 55.8764 509.418 Q59.7652 504.533 66.3161 504.533 Q68.0754 504.533 69.8578 504.881 Q71.6633 505.228 73.6077 505.922 Z\" fill=\"#000000\" fill-rule=\"nonzero\" fill-opacity=\"1\" /><path clip-path=\"url(#clip730)\" d=\"M93.9086 508.237 Q90.2975 508.237 88.4688 511.802 Q86.6632 515.343 86.6632 522.473 Q86.6632 529.579 88.4688 533.144 Q90.2975 536.686 93.9086 536.686 Q97.5428 536.686 99.3483 533.144 Q101.177 529.579 101.177 522.473 Q101.177 515.343 99.3483 511.802 Q97.5428 508.237 93.9086 508.237 M93.9086 504.533 Q99.7187 504.533 102.774 509.14 Q105.853 513.723 105.853 522.473 Q105.853 531.2 102.774 535.806 Q99.7187 540.39 93.9086 540.39 Q88.0984 540.39 85.0197 535.806 Q81.9642 531.2 81.9642 522.473 Q81.9642 513.723 85.0197 509.14 Q88.0984 504.533 93.9086 504.533 Z\" fill=\"#000000\" fill-rule=\"nonzero\" fill-opacity=\"1\" /><path clip-path=\"url(#clip730)\" d=\"M124.07 508.237 Q120.459 508.237 118.631 511.802 Q116.825 515.343 116.825 522.473 Q116.825 529.579 118.631 533.144 Q120.459 536.686 124.07 536.686 Q127.705 536.686 129.51 533.144 Q131.339 529.579 131.339 522.473 Q131.339 515.343 129.51 511.802 Q127.705 508.237 124.07 508.237 M124.07 504.533 Q129.881 504.533 132.936 509.14 Q136.015 513.723 136.015 522.473 Q136.015 531.2 132.936 535.806 Q129.881 540.39 124.07 540.39 Q118.26 540.39 115.182 535.806 Q112.126 531.2 112.126 522.473 Q112.126 513.723 115.182 509.14 Q118.26 504.533 124.07 504.533 Z\" fill=\"#000000\" fill-rule=\"nonzero\" fill-opacity=\"1\" /><path clip-path=\"url(#clip730)\" d=\"M154.232 508.237 Q150.621 508.237 148.793 511.802 Q146.987 515.343 146.987 522.473 Q146.987 529.579 148.793 533.144 Q150.621 536.686 154.232 536.686 Q157.867 536.686 159.672 533.144 Q161.501 529.579 161.501 522.473 Q161.501 515.343 159.672 511.802 Q157.867 508.237 154.232 508.237 M154.232 504.533 Q160.042 504.533 163.098 509.14 Q166.177 513.723 166.177 522.473 Q166.177 531.2 163.098 535.806 Q160.042 540.39 154.232 540.39 Q148.422 540.39 145.343 535.806 Q142.288 531.2 142.288 522.473 Q142.288 513.723 145.343 509.14 Q148.422 504.533 154.232 504.533 Z\" fill=\"#000000\" fill-rule=\"nonzero\" fill-opacity=\"1\" /><path clip-path=\"url(#clip730)\" d=\"M63.7467 214.384 Q60.4134 214.384 58.4921 216.166 Q56.5939 217.949 56.5939 221.074 Q56.5939 224.199 58.4921 225.981 Q60.4134 227.763 63.7467 227.763 Q67.08 227.763 69.0013 225.981 Q70.9226 224.175 70.9226 221.074 Q70.9226 217.949 69.0013 216.166 Q67.1032 214.384 63.7467 214.384 M59.0708 212.393 Q56.0615 211.652 54.3717 209.592 Q52.7051 207.532 52.7051 204.569 Q52.7051 200.426 55.6449 198.018 Q58.6078 195.611 63.7467 195.611 Q68.9087 195.611 71.8485 198.018 Q74.7883 200.426 74.7883 204.569 Q74.7883 207.532 73.0985 209.592 Q71.4318 211.652 68.4457 212.393 Q71.8253 213.18 73.7003 215.472 Q75.5985 217.763 75.5985 221.074 Q75.5985 226.097 72.5198 228.782 Q69.4642 231.467 63.7467 231.467 Q58.0291 231.467 54.9504 228.782 Q51.8949 226.097 51.8949 221.074 Q51.8949 217.763 53.793 215.472 Q55.6912 213.18 59.0708 212.393 M57.3578 205.009 Q57.3578 207.694 59.0245 209.199 Q60.7143 210.703 63.7467 210.703 Q66.7559 210.703 68.4457 209.199 Q70.1587 207.694 70.1587 205.009 Q70.1587 202.324 68.4457 200.819 Q66.7559 199.314 63.7467 199.314 Q60.7143 199.314 59.0245 200.819 Q57.3578 202.324 57.3578 205.009 Z\" fill=\"#000000\" fill-rule=\"nonzero\" fill-opacity=\"1\" /><path clip-path=\"url(#clip730)\" d=\"M93.9086 199.314 Q90.2975 199.314 88.4688 202.879 Q86.6632 206.421 86.6632 213.55 Q86.6632 220.657 88.4688 224.222 Q90.2975 227.763 93.9086 227.763 Q97.5428 227.763 99.3483 224.222 Q101.177 220.657 101.177 213.55 Q101.177 206.421 99.3483 202.879 Q97.5428 199.314 93.9086 199.314 M93.9086 195.611 Q99.7187 195.611 102.774 200.217 Q105.853 204.801 105.853 213.55 Q105.853 222.277 102.774 226.884 Q99.7187 231.467 93.9086 231.467 Q88.0984 231.467 85.0197 226.884 Q81.9642 222.277 81.9642 213.55 Q81.9642 204.801 85.0197 200.217 Q88.0984 195.611 93.9086 195.611 Z\" fill=\"#000000\" fill-rule=\"nonzero\" fill-opacity=\"1\" /><path clip-path=\"url(#clip730)\" d=\"M124.07 199.314 Q120.459 199.314 118.631 202.879 Q116.825 206.421 116.825 213.55 Q116.825 220.657 118.631 224.222 Q120.459 227.763 124.07 227.763 Q127.705 227.763 129.51 224.222 Q131.339 220.657 131.339 213.55 Q131.339 206.421 129.51 202.879 Q127.705 199.314 124.07 199.314 M124.07 195.611 Q129.881 195.611 132.936 200.217 Q136.015 204.801 136.015 213.55 Q136.015 222.277 132.936 226.884 Q129.881 231.467 124.07 231.467 Q118.26 231.467 115.182 226.884 Q112.126 222.277 112.126 213.55 Q112.126 204.801 115.182 200.217 Q118.26 195.611 124.07 195.611 Z\" fill=\"#000000\" fill-rule=\"nonzero\" fill-opacity=\"1\" /><path clip-path=\"url(#clip730)\" d=\"M154.232 199.314 Q150.621 199.314 148.793 202.879 Q146.987 206.421 146.987 213.55 Q146.987 220.657 148.793 224.222 Q150.621 227.763 154.232 227.763 Q157.867 227.763 159.672 224.222 Q161.501 220.657 161.501 213.55 Q161.501 206.421 159.672 202.879 Q157.867 199.314 154.232 199.314 M154.232 195.611 Q160.042 195.611 163.098 200.217 Q166.177 204.801 166.177 213.55 Q166.177 222.277 163.098 226.884 Q160.042 231.467 154.232 231.467 Q148.422 231.467 145.343 226.884 Q142.288 222.277 142.288 213.55 Q142.288 204.801 145.343 200.217 Q148.422 195.611 154.232 195.611 Z\" fill=\"#000000\" fill-rule=\"nonzero\" fill-opacity=\"1\" /><polyline clip-path=\"url(#clip732)\" style=\"stroke:#009af9; stroke-linecap:round; stroke-linejoin:round; stroke-width:4; stroke-opacity:1; fill:none\" points=\"263.042,1445.72 369.824,1435.42 476.605,1418.33 583.387,1394.45 690.168,1363.76 796.95,1326.29 903.731,1282.01 1010.51,1230.94 1117.29,1173.07 1224.08,1108.41 1330.86,1036.95 1437.64,958.693 1544.42,873.641 1651.2,781.792 1757.98,683.147 1864.76,577.705 1971.55,465.467 2078.33,346.433 2185.11,220.603 2291.89,87.9763 \"/>\n",
       "</svg>\n"
      ],
      "text/html": [
       "<img src=\"data:image/png;base64,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\" />"
      ]
     },
     "execution_count": 25,
     "metadata": {},
     "output_type": "execute_result"
    }
   ],
   "source": [
    "plot([integral_m1(t)[3,3] for t in 10:10:200], label=false)"
   ]
  },
  {
   "cell_type": "markdown",
   "id": "981778f8-5c5b-4d7b-9bb5-e52f3bbd58f2",
   "metadata": {},
   "source": [
    "### Checking our expressions"
   ]
  },
  {
   "cell_type": "code",
   "execution_count": 26,
   "id": "83b13870-774c-43aa-80d5-b9a53bd22807",
   "metadata": {},
   "outputs": [
    {
     "data": {
      "text/plain": [
       "2.2"
      ]
     },
     "execution_count": 26,
     "metadata": {},
     "output_type": "execute_result"
    }
   ],
   "source": [
    "πD1 = π_vec*D*one_vec"
   ]
  },
  {
   "cell_type": "code",
   "execution_count": 27,
   "id": "105277ff-6ee5-4cea-8f16-dedec0e6a148",
   "metadata": {},
   "outputs": [
    {
     "data": {
      "text/plain": [
       "1×3 adjoint(::Vector{Float64}) with eltype Float64:\n",
       " 1.0  0.6  0.6"
      ]
     },
     "execution_count": 27,
     "metadata": {},
     "output_type": "execute_result"
    }
   ],
   "source": [
    "πD = π_vec*D"
   ]
  },
  {
   "cell_type": "code",
   "execution_count": 28,
   "id": "a5174b9f-2a5a-4013-9121-64b75283de1d",
   "metadata": {},
   "outputs": [
    {
     "data": {
      "text/plain": [
       "3-element Vector{Float64}:\n",
       " 2.5\n",
       " 1.5\n",
       " 3.0"
      ]
     },
     "execution_count": 28,
     "metadata": {},
     "output_type": "execute_result"
    }
   ],
   "source": [
    "D1 = D*one_vec"
   ]
  },
  {
   "cell_type": "markdown",
   "id": "7336b30b-fd54-42d9-85e1-e90e74477e3f",
   "metadata": {},
   "source": [
    "##### Second moment"
   ]
  },
  {
   "cell_type": "markdown",
   "id": "71d72c22-3e64-43c5-bad8-d0a32cbebb78",
   "metadata": {},
   "source": [
    "$$\n",
    "\\boldsymbol{\\pi} M_2(t) \\mathbf{1} =\n",
    " (\\boldsymbol{\\pi} D  \\mathbf{1} )^2 t^2 \n",
    " +  2\\boldsymbol{\\pi} D D^{\\sharp}_{Q}  D \\mathbf{1}t\n",
    " -  2 \\boldsymbol{\\pi} D D^{\\sharp}_{Q}  D^{\\sharp}_{Q}(t)\n",
    " D \\mathbf{1}\n",
    "$$"
   ]
  },
  {
   "cell_type": "code",
   "execution_count": 29,
   "id": "05d60a94-2076-457b-8196-be500540a7e7",
   "metadata": {},
   "outputs": [],
   "source": [
    "our_second_moment(t) = πD1^2*t^2 + 2πD*Dʰ*D1*t - 2*π_vec*D*Dʰ*Dʰₜ(t)*D1;"
   ]
  },
  {
   "cell_type": "code",
   "execution_count": 30,
   "id": "d5d62e4e-6233-43d9-89a6-f5845a272e64",
   "metadata": {},
   "outputs": [
    {
     "data": {
      "text/plain": [
       "26.00026714235093"
      ]
     },
     "execution_count": 30,
     "metadata": {},
     "output_type": "execute_result"
    }
   ],
   "source": [
    "our_second_moment(2.3)"
   ]
  },
  {
   "cell_type": "code",
   "execution_count": 31,
   "id": "3fe2ece0-470a-4a67-8ccf-014ef56af0bb",
   "metadata": {},
   "outputs": [
    {
     "data": {
      "text/plain": [
       "26.000267142350936"
      ]
     },
     "execution_count": 31,
     "metadata": {},
     "output_type": "execute_result"
    }
   ],
   "source": [
    "second_moment(2.3)"
   ]
  },
  {
   "cell_type": "code",
   "execution_count": 32,
   "id": "5eab28a3-7cb1-4a40-997d-c2680549bfe3",
   "metadata": {},
   "outputs": [
    {
     "name": "stdout",
     "output_type": "stream",
     "text": [
      "(t, ours[i] - numerical[i]) = (1.0, -2.6645352591003757e-15)\n",
      "(t, ours[i] - numerical[i]) = (1.5, 0.0)\n",
      "(t, ours[i] - numerical[i]) = (2.0, -3.552713678800501e-15)\n",
      "(t, ours[i] - numerical[i]) = (2.5, -7.105427357601002e-15)\n",
      "(t, ours[i] - numerical[i]) = (3.0, 0.0)\n",
      "(t, ours[i] - numerical[i]) = (3.5, -1.4210854715202004e-14)\n",
      "(t, ours[i] - numerical[i]) = (4.0, 0.0)\n",
      "(t, ours[i] - numerical[i]) = (4.5, 0.0)\n",
      "(t, ours[i] - numerical[i]) = (5.0, -2.842170943040401e-14)\n",
      "(t, ours[i] - numerical[i]) = (5.5, 0.0)\n",
      "(t, ours[i] - numerical[i]) = (6.0, 5.684341886080802e-14)\n",
      "(t, ours[i] - numerical[i]) = (6.5, 2.842170943040401e-14)\n",
      "(t, ours[i] - numerical[i]) = (7.0, 2.842170943040401e-14)\n",
      "(t, ours[i] - numerical[i]) = (7.5, 0.0)\n",
      "(t, ours[i] - numerical[i]) = (8.0, 5.684341886080802e-14)\n",
      "(t, ours[i] - numerical[i]) = (8.5, 5.684341886080802e-14)\n",
      "(t, ours[i] - numerical[i]) = (9.0, 1.1368683772161603e-13)\n",
      "(t, ours[i] - numerical[i]) = (9.5, -1.7053025658242404e-13)\n",
      "(t, ours[i] - numerical[i]) = (10.0, -5.684341886080802e-14)\n"
     ]
    }
   ],
   "source": [
    "t_range = 1:0.5:10\n",
    "ours = [our_second_moment(t) for t in t_range]\n",
    "numerical = [second_moment(t) for t in t_range]\n",
    "for (i,t) in enumerate(t_range)\n",
    "    # @show t, ours[i], numerical[i], ours[i]- numerical[i]\n",
    "    @show t, ours[i]- numerical[i]\n",
    "\n",
    "end"
   ]
  },
  {
   "cell_type": "markdown",
   "id": "cc51eea3-c31b-4c91-ad59-28511898b089",
   "metadata": {},
   "source": [
    "##### Third moment"
   ]
  },
  {
   "cell_type": "markdown",
   "id": "7bdfdecb-f8ab-490b-bb99-2d37b7688c66",
   "metadata": {},
   "source": [
    "#### Exploring the integral of M1\n",
    "Seems like integral components grow qudaratically but our bilinear form of it grows linearly"
   ]
  },
  {
   "cell_type": "code",
   "execution_count": 33,
   "id": "8ea9880e-d2c6-4bf3-a4f2-93091d5a45c8",
   "metadata": {},
   "outputs": [
    {
     "data": {
      "text/plain": [
       "3×3 Matrix{Float64}:\n",
       " 4410.08  4396.83  2205.7\n",
       " 4396.8   4383.49  2199.1\n",
       " 4411.47  4398.14  2206.36"
      ]
     },
     "execution_count": 33,
     "metadata": {},
     "output_type": "execute_result"
    }
   ],
   "source": [
    "integral_m1(100)"
   ]
  },
  {
   "cell_type": "code",
   "execution_count": 34,
   "id": "5f83175b-48a3-45af-a240-3e4bb54b968c",
   "metadata": {},
   "outputs": [
    {
     "data": {
      "text/plain": [
       "3×3 Matrix{Float64}:\n",
       "      4.40097e5  4.39969e5  220055.0\n",
       "      4.39969e5  4.39841e5       2.19991e5\n",
       " 440110.0        4.39982e5       2.20061e5"
      ]
     },
     "execution_count": 34,
     "metadata": {},
     "output_type": "execute_result"
    }
   ],
   "source": [
    "integral_m1(1000)"
   ]
  },
  {
   "cell_type": "code",
   "execution_count": 35,
   "id": "6a723d3c-2ecf-4607-9200-ed9e162ad1ef",
   "metadata": {},
   "outputs": [
    {
     "data": {
      "image/png": "[encoded data removed]",
      "image/svg+xml": [
       "<?xml version=\"1.0\" encoding=\"utf-8\"?>\n",
       "<svg xmlns=\"http://www.w3.org/2000/svg\" xmlns:xlink=\"http://www.w3.org/1999/xlink\" width=\"600\" height=\"400\" viewBox=\"0 0 2400 1600\">\n",
       "<defs>\n",
       "  <clipPath id=\"clip790\">\n",
       "    <rect x=\"0\" y=\"0\" width=\"2400\" height=\"1600\"/>\n",
       "  </clipPath>\n",
       "</defs>\n",
       "<path clip-path=\"url(#clip790)\" d=\"M0 1600 L2400 1600 L2400 8.88178e-14 L0 8.88178e-14  Z\" fill=\"#ffffff\" fill-rule=\"evenodd\" fill-opacity=\"1\"/>\n",
       "<defs>\n",
       "  <clipPath id=\"clip791\">\n",
       "    <rect x=\"480\" y=\"0\" width=\"1681\" height=\"1600\"/>\n",
       "  </clipPath>\n",
       "</defs>\n",
       "<path clip-path=\"url(#clip790)\" d=\"M170.857 1486.45 L2352.76 1486.45 L2352.76 47.2441 L170.857 47.2441  Z\" fill=\"#ffffff\" fill-rule=\"evenodd\" fill-opacity=\"1\"/>\n",
       "<defs>\n",
       "  <clipPath id=\"clip792\">\n",
       "    <rect x=\"170\" y=\"47\" width=\"2183\" height=\"1440\"/>\n",
       "  </clipPath>\n",
       "</defs>\n",
       "<polyline clip-path=\"url(#clip792)\" style=\"stroke:#000000; stroke-linecap:round; stroke-linejoin:round; stroke-width:2; stroke-opacity:0.1; fill:none\" points=\"557.619,1486.45 557.619,47.2441 \"/>\n",
       "<polyline clip-path=\"url(#clip792)\" style=\"stroke:#000000; stroke-linecap:round; stroke-linejoin:round; stroke-width:2; stroke-opacity:0.1; fill:none\" points=\"990.965,1486.45 990.965,47.2441 \"/>\n",
       "<polyline clip-path=\"url(#clip792)\" style=\"stroke:#000000; stroke-linecap:round; stroke-linejoin:round; stroke-width:2; stroke-opacity:0.1; fill:none\" points=\"1424.31,1486.45 1424.31,47.2441 \"/>\n",
       "<polyline clip-path=\"url(#clip792)\" style=\"stroke:#000000; stroke-linecap:round; stroke-linejoin:round; stroke-width:2; stroke-opacity:0.1; fill:none\" points=\"1857.66,1486.45 1857.66,47.2441 \"/>\n",
       "<polyline clip-path=\"url(#clip792)\" style=\"stroke:#000000; stroke-linecap:round; stroke-linejoin:round; stroke-width:2; stroke-opacity:0.1; fill:none\" points=\"2291,1486.45 2291,47.2441 \"/>\n",
       "<polyline clip-path=\"url(#clip792)\" style=\"stroke:#000000; stroke-linecap:round; stroke-linejoin:round; stroke-width:2; stroke-opacity:0.1; fill:none\" points=\"170.857,1322.21 2352.76,1322.21 \"/>\n",
       "<polyline clip-path=\"url(#clip792)\" style=\"stroke:#000000; stroke-linecap:round; stroke-linejoin:round; stroke-width:2; stroke-opacity:0.1; fill:none\" points=\"170.857,1124.63 2352.76,1124.63 \"/>\n",
       "<polyline clip-path=\"url(#clip792)\" style=\"stroke:#000000; stroke-linecap:round; stroke-linejoin:round; stroke-width:2; stroke-opacity:0.1; fill:none\" points=\"170.857,927.056 2352.76,927.056 \"/>\n",
       "<polyline clip-path=\"url(#clip792)\" style=\"stroke:#000000; stroke-linecap:round; stroke-linejoin:round; stroke-width:2; stroke-opacity:0.1; fill:none\" points=\"170.857,729.481 2352.76,729.481 \"/>\n",
       "<polyline clip-path=\"url(#clip792)\" style=\"stroke:#000000; stroke-linecap:round; stroke-linejoin:round; stroke-width:2; stroke-opacity:0.1; fill:none\" points=\"170.857,531.906 2352.76,531.906 \"/>\n",
       "<polyline clip-path=\"url(#clip792)\" style=\"stroke:#000000; stroke-linecap:round; stroke-linejoin:round; stroke-width:2; stroke-opacity:0.1; fill:none\" points=\"170.857,334.331 2352.76,334.331 \"/>\n",
       "<polyline clip-path=\"url(#clip792)\" style=\"stroke:#000000; stroke-linecap:round; stroke-linejoin:round; stroke-width:2; stroke-opacity:0.1; fill:none\" points=\"170.857,136.755 2352.76,136.755 \"/>\n",
       "<polyline clip-path=\"url(#clip790)\" style=\"stroke:#000000; stroke-linecap:round; stroke-linejoin:round; stroke-width:4; stroke-opacity:1; fill:none\" points=\"170.857,1486.45 2352.76,1486.45 \"/>\n",
       "<polyline clip-path=\"url(#clip790)\" style=\"stroke:#000000; stroke-linecap:round; stroke-linejoin:round; stroke-width:4; stroke-opacity:1; fill:none\" points=\"557.619,1486.45 557.619,1467.55 \"/>\n",
       "<polyline clip-path=\"url(#clip790)\" style=\"stroke:#000000; stroke-linecap:round; stroke-linejoin:round; stroke-width:4; stroke-opacity:1; fill:none\" points=\"990.965,1486.45 990.965,1467.55 \"/>\n",
       "<polyline clip-path=\"url(#clip790)\" style=\"stroke:#000000; stroke-linecap:round; stroke-linejoin:round; stroke-width:4; stroke-opacity:1; fill:none\" points=\"1424.31,1486.45 1424.31,1467.55 \"/>\n",
       "<polyline clip-path=\"url(#clip790)\" style=\"stroke:#000000; stroke-linecap:round; stroke-linejoin:round; stroke-width:4; stroke-opacity:1; fill:none\" points=\"1857.66,1486.45 1857.66,1467.55 \"/>\n",
       "<polyline clip-path=\"url(#clip790)\" style=\"stroke:#000000; stroke-linecap:round; stroke-linejoin:round; stroke-width:4; stroke-opacity:1; fill:none\" points=\"2291,1486.45 2291,1467.55 \"/>\n",
       "<path clip-path=\"url(#clip790)\" d=\"M521.311 1544.91 L537.631 1544.91 L537.631 1548.85 L515.686 1548.85 L515.686 1544.91 Q518.348 1542.16 522.932 1537.53 Q527.538 1532.88 528.719 1531.53 Q530.964 1529.01 531.844 1527.27 Q532.746 1525.51 532.746 1523.82 Q532.746 1521.07 530.802 1519.33 Q528.881 1517.6 525.779 1517.6 Q523.58 1517.6 521.126 1518.36 Q518.696 1519.13 515.918 1520.68 L515.918 1515.95 Q518.742 1514.82 521.196 1514.24 Q523.649 1513.66 525.686 1513.66 Q531.057 1513.66 534.251 1516.35 Q537.445 1519.03 537.445 1523.52 Q537.445 1525.65 536.635 1527.57 Q535.848 1529.47 533.742 1532.07 Q533.163 1532.74 530.061 1535.95 Q526.959 1539.15 521.311 1544.91 Z\" fill=\"#000000\" fill-rule=\"nonzero\" fill-opacity=\"1\" /><path clip-path=\"url(#clip790)\" d=\"M557.445 1517.37 Q553.834 1517.37 552.006 1520.93 Q550.2 1524.47 550.2 1531.6 Q550.2 1538.71 552.006 1542.27 Q553.834 1545.82 557.445 1545.82 Q561.08 1545.82 562.885 1542.27 Q564.714 1538.71 564.714 1531.6 Q564.714 1524.47 562.885 1520.93 Q561.08 1517.37 557.445 1517.37 M557.445 1513.66 Q563.256 1513.66 566.311 1518.27 Q569.39 1522.85 569.39 1531.6 Q569.39 1540.33 566.311 1544.94 Q563.256 1549.52 557.445 1549.52 Q551.635 1549.52 548.557 1544.94 Q545.501 1540.33 545.501 1531.6 Q545.501 1522.85 548.557 1518.27 Q551.635 1513.66 557.445 1513.66 Z\" fill=\"#000000\" fill-rule=\"nonzero\" fill-opacity=\"1\" /><path clip-path=\"url(#clip790)\" d=\"M587.607 1517.37 Q583.996 1517.37 582.167 1520.93 Q580.362 1524.47 580.362 1531.6 Q580.362 1538.71 582.167 1542.27 Q583.996 1545.82 587.607 1545.82 Q591.241 1545.82 593.047 1542.27 Q594.876 1538.71 594.876 1531.6 Q594.876 1524.47 593.047 1520.93 Q591.241 1517.37 587.607 1517.37 M587.607 1513.66 Q593.417 1513.66 596.473 1518.27 Q599.552 1522.85 599.552 1531.6 Q599.552 1540.33 596.473 1544.94 Q593.417 1549.52 587.607 1549.52 Q581.797 1549.52 578.718 1544.94 Q575.663 1540.33 575.663 1531.6 Q575.663 1522.85 578.718 1518.27 Q581.797 1513.66 587.607 1513.66 Z\" fill=\"#000000\" fill-rule=\"nonzero\" fill-opacity=\"1\" /><path clip-path=\"url(#clip790)\" d=\"M964.056 1518.36 L952.25 1536.81 L964.056 1536.81 L964.056 1518.36 M962.829 1514.29 L968.708 1514.29 L968.708 1536.81 L973.639 1536.81 L973.639 1540.7 L968.708 1540.7 L968.708 1548.85 L964.056 1548.85 L964.056 1540.7 L948.454 1540.7 L948.454 1536.19 L962.829 1514.29 Z\" fill=\"#000000\" fill-rule=\"nonzero\" fill-opacity=\"1\" /><path clip-path=\"url(#clip790)\" d=\"M991.37 1517.37 Q987.759 1517.37 985.931 1520.93 Q984.125 1524.47 984.125 1531.6 Q984.125 1538.71 985.931 1542.27 Q987.759 1545.82 991.37 1545.82 Q995.005 1545.82 996.81 1542.27 Q998.639 1538.71 998.639 1531.6 Q998.639 1524.47 996.81 1520.93 Q995.005 1517.37 991.37 1517.37 M991.37 1513.66 Q997.18 1513.66 1000.24 1518.27 Q1003.31 1522.85 1003.31 1531.6 Q1003.31 1540.33 1000.24 1544.94 Q997.18 1549.52 991.37 1549.52 Q985.56 1549.52 982.481 1544.94 Q979.426 1540.33 979.426 1531.6 Q979.426 1522.85 982.481 1518.27 Q985.56 1513.66 991.37 1513.66 Z\" fill=\"#000000\" fill-rule=\"nonzero\" fill-opacity=\"1\" /><path clip-path=\"url(#clip790)\" d=\"M1021.53 1517.37 Q1017.92 1517.37 1016.09 1520.93 Q1014.29 1524.47 1014.29 1531.6 Q1014.29 1538.71 1016.09 1542.27 Q1017.92 1545.82 1021.53 1545.82 Q1025.17 1545.82 1026.97 1542.27 Q1028.8 1538.71 1028.8 1531.6 Q1028.8 1524.47 1026.97 1520.93 Q1025.17 1517.37 1021.53 1517.37 M1021.53 1513.66 Q1027.34 1513.66 1030.4 1518.27 Q1033.48 1522.85 1033.48 1531.6 Q1033.48 1540.33 1030.4 1544.94 Q1027.34 1549.52 1021.53 1549.52 Q1015.72 1549.52 1012.64 1544.94 Q1009.59 1540.33 1009.59 1531.6 Q1009.59 1522.85 1012.64 1518.27 Q1015.72 1513.66 1021.53 1513.66 Z\" fill=\"#000000\" fill-rule=\"nonzero\" fill-opacity=\"1\" /><path clip-path=\"url(#clip790)\" d=\"M1394.64 1529.7 Q1391.49 1529.7 1389.64 1531.86 Q1387.81 1534.01 1387.81 1537.76 Q1387.81 1541.49 1389.64 1543.66 Q1391.49 1545.82 1394.64 1545.82 Q1397.78 1545.82 1399.61 1543.66 Q1401.46 1541.49 1401.46 1537.76 Q1401.46 1534.01 1399.61 1531.86 Q1397.78 1529.7 1394.64 1529.7 M1403.92 1515.05 L1403.92 1519.31 Q1402.16 1518.48 1400.35 1518.04 Q1398.57 1517.6 1396.81 1517.6 Q1392.18 1517.6 1389.73 1520.72 Q1387.3 1523.85 1386.95 1530.17 Q1388.32 1528.15 1390.38 1527.09 Q1392.44 1526 1394.91 1526 Q1400.12 1526 1403.13 1529.17 Q1406.16 1532.32 1406.16 1537.76 Q1406.16 1543.08 1403.02 1546.3 Q1399.87 1549.52 1394.64 1549.52 Q1388.64 1549.52 1385.47 1544.94 Q1382.3 1540.33 1382.3 1531.6 Q1382.3 1523.41 1386.19 1518.55 Q1390.08 1513.66 1396.63 1513.66 Q1398.39 1513.66 1400.17 1514.01 Q1401.97 1514.36 1403.92 1515.05 Z\" fill=\"#000000\" fill-rule=\"nonzero\" fill-opacity=\"1\" /><path clip-path=\"url(#clip790)\" d=\"M1424.22 1517.37 Q1420.61 1517.37 1418.78 1520.93 Q1416.97 1524.47 1416.97 1531.6 Q1416.97 1538.71 1418.78 1542.27 Q1420.61 1545.82 1424.22 1545.82 Q1427.85 1545.82 1429.66 1542.27 Q1431.49 1538.71 1431.49 1531.6 Q1431.49 1524.47 1429.66 1520.93 Q1427.85 1517.37 1424.22 1517.37 M1424.22 1513.66 Q1430.03 1513.66 1433.08 1518.27 Q1436.16 1522.85 1436.16 1531.6 Q1436.16 1540.33 1433.08 1544.94 Q1430.03 1549.52 1424.22 1549.52 Q1418.41 1549.52 1415.33 1544.94 Q1412.27 1540.33 1412.27 1531.6 Q1412.27 1522.85 1415.33 1518.27 Q1418.41 1513.66 1424.22 1513.66 Z\" fill=\"#000000\" fill-rule=\"nonzero\" fill-opacity=\"1\" /><path clip-path=\"url(#clip790)\" d=\"M1454.38 1517.37 Q1450.77 1517.37 1448.94 1520.93 Q1447.14 1524.47 1447.14 1531.6 Q1447.14 1538.71 1448.94 1542.27 Q1450.77 1545.82 1454.38 1545.82 Q1458.02 1545.82 1459.82 1542.27 Q1461.65 1538.71 1461.65 1531.6 Q1461.65 1524.47 1459.82 1520.93 Q1458.02 1517.37 1454.38 1517.37 M1454.38 1513.66 Q1460.19 1513.66 1463.25 1518.27 Q1466.33 1522.85 1466.33 1531.6 Q1466.33 1540.33 1463.25 1544.94 Q1460.19 1549.52 1454.38 1549.52 Q1448.57 1549.52 1445.49 1544.94 Q1442.44 1540.33 1442.44 1531.6 Q1442.44 1522.85 1445.49 1518.27 Q1448.57 1513.66 1454.38 1513.66 Z\" fill=\"#000000\" fill-rule=\"nonzero\" fill-opacity=\"1\" /><path clip-path=\"url(#clip790)\" d=\"M1827.45 1532.44 Q1824.12 1532.44 1822.2 1534.22 Q1820.3 1536 1820.3 1539.13 Q1820.3 1542.25 1822.2 1544.03 Q1824.12 1545.82 1827.45 1545.82 Q1830.78 1545.82 1832.7 1544.03 Q1834.63 1542.23 1834.63 1539.13 Q1834.63 1536 1832.7 1534.22 Q1830.81 1532.44 1827.45 1532.44 M1822.77 1530.45 Q1819.76 1529.7 1818.07 1527.64 Q1816.41 1525.58 1816.41 1522.62 Q1816.41 1518.48 1819.35 1516.07 Q1822.31 1513.66 1827.45 1513.66 Q1832.61 1513.66 1835.55 1516.07 Q1838.49 1518.48 1838.49 1522.62 Q1838.49 1525.58 1836.8 1527.64 Q1835.13 1529.7 1832.15 1530.45 Q1835.53 1531.23 1837.4 1533.52 Q1839.3 1535.82 1839.3 1539.13 Q1839.3 1544.15 1836.22 1546.83 Q1833.17 1549.52 1827.45 1549.52 Q1821.73 1549.52 1818.65 1546.83 Q1815.6 1544.15 1815.6 1539.13 Q1815.6 1535.82 1817.5 1533.52 Q1819.39 1531.23 1822.77 1530.45 M1821.06 1523.06 Q1821.06 1525.75 1822.73 1527.25 Q1824.42 1528.76 1827.45 1528.76 Q1830.46 1528.76 1832.15 1527.25 Q1833.86 1525.75 1833.86 1523.06 Q1833.86 1520.38 1832.15 1518.87 Q1830.46 1517.37 1827.45 1517.37 Q1824.42 1517.37 1822.73 1518.87 Q1821.06 1520.38 1821.06 1523.06 Z\" fill=\"#000000\" fill-rule=\"nonzero\" fill-opacity=\"1\" /><path clip-path=\"url(#clip790)\" d=\"M1857.61 1517.37 Q1854 1517.37 1852.17 1520.93 Q1850.37 1524.47 1850.37 1531.6 Q1850.37 1538.71 1852.17 1542.27 Q1854 1545.82 1857.61 1545.82 Q1861.25 1545.82 1863.05 1542.27 Q1864.88 1538.71 1864.88 1531.6 Q1864.88 1524.47 1863.05 1520.93 Q1861.25 1517.37 1857.61 1517.37 M1857.61 1513.66 Q1863.42 1513.66 1866.48 1518.27 Q1869.56 1522.85 1869.56 1531.6 Q1869.56 1540.33 1866.48 1544.94 Q1863.42 1549.52 1857.61 1549.52 Q1851.8 1549.52 1848.72 1544.94 Q1845.67 1540.33 1845.67 1531.6 Q1845.67 1522.85 1848.72 1518.27 Q1851.8 1513.66 1857.61 1513.66 Z\" fill=\"#000000\" fill-rule=\"nonzero\" fill-opacity=\"1\" /><path clip-path=\"url(#clip790)\" d=\"M1887.77 1517.37 Q1884.16 1517.37 1882.33 1520.93 Q1880.53 1524.47 1880.53 1531.6 Q1880.53 1538.71 1882.33 1542.27 Q1884.16 1545.82 1887.77 1545.82 Q1891.41 1545.82 1893.21 1542.27 Q1895.04 1538.71 1895.04 1531.6 Q1895.04 1524.47 1893.21 1520.93 Q1891.41 1517.37 1887.77 1517.37 M1887.77 1513.66 Q1893.58 1513.66 1896.64 1518.27 Q1899.72 1522.85 1899.72 1531.6 Q1899.72 1540.33 1896.64 1544.94 Q1893.58 1549.52 1887.77 1549.52 Q1881.96 1549.52 1878.88 1544.94 Q1875.83 1540.33 1875.83 1531.6 Q1875.83 1522.85 1878.88 1518.27 Q1881.96 1513.66 1887.77 1513.66 Z\" fill=\"#000000\" fill-rule=\"nonzero\" fill-opacity=\"1\" /><path clip-path=\"url(#clip790)\" d=\"M2235.53 1544.91 L2243.17 1544.91 L2243.17 1518.55 L2234.86 1520.21 L2234.86 1515.95 L2243.12 1514.29 L2247.8 1514.29 L2247.8 1544.91 L2255.44 1544.91 L2255.44 1548.85 L2235.53 1548.85 L2235.53 1544.91 Z\" fill=\"#000000\" fill-rule=\"nonzero\" fill-opacity=\"1\" /><path clip-path=\"url(#clip790)\" d=\"M2274.88 1517.37 Q2271.27 1517.37 2269.44 1520.93 Q2267.64 1524.47 2267.64 1531.6 Q2267.64 1538.71 2269.44 1542.27 Q2271.27 1545.82 2274.88 1545.82 Q2278.52 1545.82 2280.32 1542.27 Q2282.15 1538.71 2282.15 1531.6 Q2282.15 1524.47 2280.32 1520.93 Q2278.52 1517.37 2274.88 1517.37 M2274.88 1513.66 Q2280.69 1513.66 2283.75 1518.27 Q2286.83 1522.85 2286.83 1531.6 Q2286.83 1540.33 2283.75 1544.94 Q2280.69 1549.52 2274.88 1549.52 Q2269.07 1549.52 2265.99 1544.94 Q2262.94 1540.33 2262.94 1531.6 Q2262.94 1522.85 2265.99 1518.27 Q2269.07 1513.66 2274.88 1513.66 Z\" fill=\"#000000\" fill-rule=\"nonzero\" fill-opacity=\"1\" /><path clip-path=\"url(#clip790)\" d=\"M2305.04 1517.37 Q2301.43 1517.37 2299.6 1520.93 Q2297.8 1524.47 2297.8 1531.6 Q2297.8 1538.71 2299.6 1542.27 Q2301.43 1545.82 2305.04 1545.82 Q2308.68 1545.82 2310.48 1542.27 Q2312.31 1538.71 2312.31 1531.6 Q2312.31 1524.47 2310.48 1520.93 Q2308.68 1517.37 2305.04 1517.37 M2305.04 1513.66 Q2310.85 1513.66 2313.91 1518.27 Q2316.99 1522.85 2316.99 1531.6 Q2316.99 1540.33 2313.91 1544.94 Q2310.85 1549.52 2305.04 1549.52 Q2299.23 1549.52 2296.15 1544.94 Q2293.1 1540.33 2293.1 1531.6 Q2293.1 1522.85 2296.15 1518.27 Q2299.23 1513.66 2305.04 1513.66 Z\" fill=\"#000000\" fill-rule=\"nonzero\" fill-opacity=\"1\" /><path clip-path=\"url(#clip790)\" d=\"M2335.21 1517.37 Q2331.59 1517.37 2329.77 1520.93 Q2327.96 1524.47 2327.96 1531.6 Q2327.96 1538.71 2329.77 1542.27 Q2331.59 1545.82 2335.21 1545.82 Q2338.84 1545.82 2340.64 1542.27 Q2342.47 1538.71 2342.47 1531.6 Q2342.47 1524.47 2340.64 1520.93 Q2338.84 1517.37 2335.21 1517.37 M2335.21 1513.66 Q2341.02 1513.66 2344.07 1518.27 Q2347.15 1522.85 2347.15 1531.6 Q2347.15 1540.33 2344.07 1544.94 Q2341.02 1549.52 2335.21 1549.52 Q2329.4 1549.52 2326.32 1544.94 Q2323.26 1540.33 2323.26 1531.6 Q2323.26 1522.85 2326.32 1518.27 Q2329.4 1513.66 2335.21 1513.66 Z\" fill=\"#000000\" fill-rule=\"nonzero\" fill-opacity=\"1\" /><polyline clip-path=\"url(#clip790)\" style=\"stroke:#000000; stroke-linecap:round; stroke-linejoin:round; stroke-width:4; stroke-opacity:1; fill:none\" points=\"170.857,1486.45 170.857,47.2441 \"/>\n",
       "<polyline clip-path=\"url(#clip790)\" style=\"stroke:#000000; stroke-linecap:round; stroke-linejoin:round; stroke-width:4; stroke-opacity:1; fill:none\" points=\"170.857,1322.21 189.755,1322.21 \"/>\n",
       "<polyline clip-path=\"url(#clip790)\" style=\"stroke:#000000; stroke-linecap:round; stroke-linejoin:round; stroke-width:4; stroke-opacity:1; fill:none\" points=\"170.857,1124.63 189.755,1124.63 \"/>\n",
       "<polyline clip-path=\"url(#clip790)\" style=\"stroke:#000000; stroke-linecap:round; stroke-linejoin:round; stroke-width:4; stroke-opacity:1; fill:none\" points=\"170.857,927.056 189.755,927.056 \"/>\n",
       "<polyline clip-path=\"url(#clip790)\" style=\"stroke:#000000; stroke-linecap:round; stroke-linejoin:round; stroke-width:4; stroke-opacity:1; fill:none\" points=\"170.857,729.481 189.755,729.481 \"/>\n",
       "<polyline clip-path=\"url(#clip790)\" style=\"stroke:#000000; stroke-linecap:round; stroke-linejoin:round; stroke-width:4; stroke-opacity:1; fill:none\" points=\"170.857,531.906 189.755,531.906 \"/>\n",
       "<polyline clip-path=\"url(#clip790)\" style=\"stroke:#000000; stroke-linecap:round; stroke-linejoin:round; stroke-width:4; stroke-opacity:1; fill:none\" points=\"170.857,334.331 189.755,334.331 \"/>\n",
       "<polyline clip-path=\"url(#clip790)\" style=\"stroke:#000000; stroke-linecap:round; stroke-linejoin:round; stroke-width:4; stroke-opacity:1; fill:none\" points=\"170.857,136.755 189.755,136.755 \"/>\n",
       "<path clip-path=\"url(#clip790)\" d=\"M82.7975 1304.93 L101.154 1304.93 L101.154 1308.86 L87.0799 1308.86 L87.0799 1317.33 Q88.0984 1316.99 89.1169 1316.82 Q90.1354 1316.64 91.1539 1316.64 Q96.941 1316.64 100.321 1319.81 Q103.7 1322.98 103.7 1328.4 Q103.7 1333.98 100.228 1337.08 Q96.7558 1340.16 90.4364 1340.16 Q88.2604 1340.16 85.9919 1339.79 Q83.7466 1339.42 81.3392 1338.68 L81.3392 1333.98 Q83.4225 1335.11 85.6447 1335.67 Q87.8669 1336.22 90.3438 1336.22 Q94.3484 1336.22 96.6863 1334.12 Q99.0243 1332.01 99.0243 1328.4 Q99.0243 1324.79 96.6863 1322.68 Q94.3484 1320.57 90.3438 1320.57 Q88.4688 1320.57 86.5938 1320.99 Q84.7419 1321.41 82.7975 1322.29 L82.7975 1304.93 Z\" fill=\"#000000\" fill-rule=\"nonzero\" fill-opacity=\"1\" /><path clip-path=\"url(#clip790)\" d=\"M122.913 1308.01 Q119.302 1308.01 117.473 1311.57 Q115.668 1315.11 115.668 1322.24 Q115.668 1329.35 117.473 1332.91 Q119.302 1336.45 122.913 1336.45 Q126.547 1336.45 128.353 1332.91 Q130.182 1329.35 130.182 1322.24 Q130.182 1315.11 128.353 1311.57 Q126.547 1308.01 122.913 1308.01 M122.913 1304.3 Q128.723 1304.3 131.779 1308.91 Q134.857 1313.49 134.857 1322.24 Q134.857 1330.97 131.779 1335.57 Q128.723 1340.16 122.913 1340.16 Q117.103 1340.16 114.024 1335.57 Q110.969 1330.97 110.969 1322.24 Q110.969 1313.49 114.024 1308.91 Q117.103 1304.3 122.913 1304.3 Z\" fill=\"#000000\" fill-rule=\"nonzero\" fill-opacity=\"1\" /><path clip-path=\"url(#clip790)\" d=\"M53.3995 1137.98 L61.0384 1137.98 L61.0384 1111.61 L52.7282 1113.28 L52.7282 1109.02 L60.9921 1107.35 L65.668 1107.35 L65.668 1137.98 L73.3068 1137.98 L73.3068 1141.91 L53.3995 1141.91 L53.3995 1137.98 Z\" fill=\"#000000\" fill-rule=\"nonzero\" fill-opacity=\"1\" /><path clip-path=\"url(#clip790)\" d=\"M92.7512 1110.43 Q89.1401 1110.43 87.3114 1113.99 Q85.5058 1117.54 85.5058 1124.67 Q85.5058 1131.77 87.3114 1135.34 Q89.1401 1138.88 92.7512 1138.88 Q96.3854 1138.88 98.1909 1135.34 Q100.02 1131.77 100.02 1124.67 Q100.02 1117.54 98.1909 1113.99 Q96.3854 1110.43 92.7512 1110.43 M92.7512 1106.73 Q98.5613 1106.73 101.617 1111.33 Q104.696 1115.92 104.696 1124.67 Q104.696 1133.39 101.617 1138 Q98.5613 1142.58 92.7512 1142.58 Q86.941 1142.58 83.8623 1138 Q80.8068 1133.39 80.8068 1124.67 Q80.8068 1115.92 83.8623 1111.33 Q86.941 1106.73 92.7512 1106.73 Z\" fill=\"#000000\" fill-rule=\"nonzero\" fill-opacity=\"1\" /><path clip-path=\"url(#clip790)\" d=\"M122.913 1110.43 Q119.302 1110.43 117.473 1113.99 Q115.668 1117.54 115.668 1124.67 Q115.668 1131.77 117.473 1135.34 Q119.302 1138.88 122.913 1138.88 Q126.547 1138.88 128.353 1135.34 Q130.182 1131.77 130.182 1124.67 Q130.182 1117.54 128.353 1113.99 Q126.547 1110.43 122.913 1110.43 M122.913 1106.73 Q128.723 1106.73 131.779 1111.33 Q134.857 1115.92 134.857 1124.67 Q134.857 1133.39 131.779 1138 Q128.723 1142.58 122.913 1142.58 Q117.103 1142.58 114.024 1138 Q110.969 1133.39 110.969 1124.67 Q110.969 1115.92 114.024 1111.33 Q117.103 1106.73 122.913 1106.73 Z\" fill=\"#000000\" fill-rule=\"nonzero\" fill-opacity=\"1\" /><path clip-path=\"url(#clip790)\" d=\"M53.3995 940.401 L61.0384 940.401 L61.0384 914.035 L52.7282 915.702 L52.7282 911.443 L60.9921 909.776 L65.668 909.776 L65.668 940.401 L73.3068 940.401 L73.3068 944.336 L53.3995 944.336 L53.3995 940.401 Z\" fill=\"#000000\" fill-rule=\"nonzero\" fill-opacity=\"1\" /><path clip-path=\"url(#clip790)\" d=\"M82.7975 909.776 L101.154 909.776 L101.154 913.711 L87.0799 913.711 L87.0799 922.183 Q88.0984 921.836 89.1169 921.674 Q90.1354 921.489 91.1539 921.489 Q96.941 921.489 100.321 924.66 Q103.7 927.832 103.7 933.248 Q103.7 938.827 100.228 941.929 Q96.7558 945.007 90.4364 945.007 Q88.2604 945.007 85.9919 944.637 Q83.7466 944.267 81.3392 943.526 L81.3392 938.827 Q83.4225 939.961 85.6447 940.517 Q87.8669 941.072 90.3438 941.072 Q94.3484 941.072 96.6863 938.966 Q99.0243 936.859 99.0243 933.248 Q99.0243 929.637 96.6863 927.531 Q94.3484 925.424 90.3438 925.424 Q88.4688 925.424 86.5938 925.841 Q84.7419 926.257 82.7975 927.137 L82.7975 909.776 Z\" fill=\"#000000\" fill-rule=\"nonzero\" fill-opacity=\"1\" /><path clip-path=\"url(#clip790)\" d=\"M122.913 912.855 Q119.302 912.855 117.473 916.42 Q115.668 919.961 115.668 927.091 Q115.668 934.197 117.473 937.762 Q119.302 941.304 122.913 941.304 Q126.547 941.304 128.353 937.762 Q130.182 934.197 130.182 927.091 Q130.182 919.961 128.353 916.42 Q126.547 912.855 122.913 912.855 M122.913 909.151 Q128.723 909.151 131.779 913.758 Q134.857 918.341 134.857 927.091 Q134.857 935.818 131.779 940.424 Q128.723 945.007 122.913 945.007 Q117.103 945.007 114.024 940.424 Q110.969 935.818 110.969 927.091 Q110.969 918.341 114.024 913.758 Q117.103 909.151 122.913 909.151 Z\" fill=\"#000000\" fill-rule=\"nonzero\" fill-opacity=\"1\" /><path clip-path=\"url(#clip790)\" d=\"M56.6171 742.826 L72.9365 742.826 L72.9365 746.761 L50.9921 746.761 L50.9921 742.826 Q53.6541 740.071 58.2375 735.442 Q62.8439 730.789 64.0245 729.446 Q66.2698 726.923 67.1494 725.187 Q68.0522 723.428 68.0522 721.738 Q68.0522 718.983 66.1078 717.247 Q64.1865 715.511 61.0847 715.511 Q58.8856 715.511 56.4319 716.275 Q54.0014 717.039 51.2236 718.59 L51.2236 713.868 Q54.0477 712.733 56.5014 712.155 Q58.955 711.576 60.9921 711.576 Q66.3624 711.576 69.5568 714.261 Q72.7513 716.946 72.7513 721.437 Q72.7513 723.567 71.9411 725.488 Q71.1541 727.386 69.0476 729.979 Q68.4689 730.65 65.367 733.867 Q62.2652 737.062 56.6171 742.826 Z\" fill=\"#000000\" fill-rule=\"nonzero\" fill-opacity=\"1\" /><path clip-path=\"url(#clip790)\" d=\"M92.7512 715.28 Q89.1401 715.28 87.3114 718.844 Q85.5058 722.386 85.5058 729.516 Q85.5058 736.622 87.3114 740.187 Q89.1401 743.729 92.7512 743.729 Q96.3854 743.729 98.1909 740.187 Q100.02 736.622 100.02 729.516 Q100.02 722.386 98.1909 718.844 Q96.3854 715.28 92.7512 715.28 M92.7512 711.576 Q98.5613 711.576 101.617 716.182 Q104.696 720.766 104.696 729.516 Q104.696 738.242 101.617 742.849 Q98.5613 747.432 92.7512 747.432 Q86.941 747.432 83.8623 742.849 Q80.8068 738.242 80.8068 729.516 Q80.8068 720.766 83.8623 716.182 Q86.941 711.576 92.7512 711.576 Z\" fill=\"#000000\" fill-rule=\"nonzero\" fill-opacity=\"1\" /><path clip-path=\"url(#clip790)\" d=\"M122.913 715.28 Q119.302 715.28 117.473 718.844 Q115.668 722.386 115.668 729.516 Q115.668 736.622 117.473 740.187 Q119.302 743.729 122.913 743.729 Q126.547 743.729 128.353 740.187 Q130.182 736.622 130.182 729.516 Q130.182 722.386 128.353 718.844 Q126.547 715.28 122.913 715.28 M122.913 711.576 Q128.723 711.576 131.779 716.182 Q134.857 720.766 134.857 729.516 Q134.857 738.242 131.779 742.849 Q128.723 747.432 122.913 747.432 Q117.103 747.432 114.024 742.849 Q110.969 738.242 110.969 729.516 Q110.969 720.766 114.024 716.182 Q117.103 711.576 122.913 711.576 Z\" fill=\"#000000\" fill-rule=\"nonzero\" fill-opacity=\"1\" /><path clip-path=\"url(#clip790)\" d=\"M56.6171 545.251 L72.9365 545.251 L72.9365 549.186 L50.9921 549.186 L50.9921 545.251 Q53.6541 542.496 58.2375 537.866 Q62.8439 533.214 64.0245 531.871 Q66.2698 529.348 67.1494 527.612 Q68.0522 525.853 68.0522 524.163 Q68.0522 521.408 66.1078 519.672 Q64.1865 517.936 61.0847 517.936 Q58.8856 517.936 56.4319 518.7 Q54.0014 519.464 51.2236 521.015 L51.2236 516.292 Q54.0477 515.158 56.5014 514.579 Q58.955 514.001 60.9921 514.001 Q66.3624 514.001 69.5568 516.686 Q72.7513 519.371 72.7513 523.862 Q72.7513 525.991 71.9411 527.913 Q71.1541 529.811 69.0476 532.403 Q68.4689 533.075 65.367 536.292 Q62.2652 539.487 56.6171 545.251 Z\" fill=\"#000000\" fill-rule=\"nonzero\" fill-opacity=\"1\" /><path clip-path=\"url(#clip790)\" d=\"M82.7975 514.626 L101.154 514.626 L101.154 518.561 L87.0799 518.561 L87.0799 527.033 Q88.0984 526.686 89.1169 526.524 Q90.1354 526.339 91.1539 526.339 Q96.941 526.339 100.321 529.51 Q103.7 532.681 103.7 538.098 Q103.7 543.676 100.228 546.778 Q96.7558 549.857 90.4364 549.857 Q88.2604 549.857 85.9919 549.487 Q83.7466 549.116 81.3392 548.376 L81.3392 543.676 Q83.4225 544.811 85.6447 545.366 Q87.8669 545.922 90.3438 545.922 Q94.3484 545.922 96.6863 543.815 Q99.0243 541.709 99.0243 538.098 Q99.0243 534.487 96.6863 532.38 Q94.3484 530.274 90.3438 530.274 Q88.4688 530.274 86.5938 530.69 Q84.7419 531.107 82.7975 531.987 L82.7975 514.626 Z\" fill=\"#000000\" fill-rule=\"nonzero\" fill-opacity=\"1\" /><path clip-path=\"url(#clip790)\" d=\"M122.913 517.704 Q119.302 517.704 117.473 521.269 Q115.668 524.811 115.668 531.94 Q115.668 539.047 117.473 542.612 Q119.302 546.153 122.913 546.153 Q126.547 546.153 128.353 542.612 Q130.182 539.047 130.182 531.94 Q130.182 524.811 128.353 521.269 Q126.547 517.704 122.913 517.704 M122.913 514.001 Q128.723 514.001 131.779 518.607 Q134.857 523.19 134.857 531.94 Q134.857 540.667 131.779 545.274 Q128.723 549.857 122.913 549.857 Q117.103 549.857 114.024 545.274 Q110.969 540.667 110.969 531.94 Q110.969 523.19 114.024 518.607 Q117.103 514.001 122.913 514.001 Z\" fill=\"#000000\" fill-rule=\"nonzero\" fill-opacity=\"1\" /><path clip-path=\"url(#clip790)\" d=\"M66.7559 332.976 Q70.1124 333.694 71.9874 335.962 Q73.8855 338.231 73.8855 341.564 Q73.8855 346.68 70.367 349.481 Q66.8485 352.282 60.3671 352.282 Q58.1912 352.282 55.8764 351.842 Q53.5847 351.425 51.131 350.569 L51.131 346.055 Q53.0754 347.189 55.3903 347.768 Q57.7051 348.347 60.2282 348.347 Q64.6263 348.347 66.918 346.611 Q69.2328 344.874 69.2328 341.564 Q69.2328 338.509 67.08 336.796 Q64.9504 335.06 61.131 335.06 L57.1032 335.06 L57.1032 331.217 L61.3161 331.217 Q64.7652 331.217 66.5939 329.851 Q68.4226 328.463 68.4226 325.87 Q68.4226 323.208 66.5245 321.796 Q64.6495 320.361 61.131 320.361 Q59.2097 320.361 57.0106 320.777 Q54.8115 321.194 52.1727 322.074 L52.1727 317.907 Q54.8347 317.166 57.1495 316.796 Q59.4875 316.426 61.5476 316.426 Q66.8717 316.426 69.9735 318.856 Q73.0753 321.264 73.0753 325.384 Q73.0753 328.254 71.4318 330.245 Q69.7883 332.213 66.7559 332.976 Z\" fill=\"#000000\" fill-rule=\"nonzero\" fill-opacity=\"1\" /><path clip-path=\"url(#clip790)\" d=\"M92.7512 320.129 Q89.1401 320.129 87.3114 323.694 Q85.5058 327.236 85.5058 334.365 Q85.5058 341.472 87.3114 345.037 Q89.1401 348.578 92.7512 348.578 Q96.3854 348.578 98.1909 345.037 Q100.02 341.472 100.02 334.365 Q100.02 327.236 98.1909 323.694 Q96.3854 320.129 92.7512 320.129 M92.7512 316.426 Q98.5613 316.426 101.617 321.032 Q104.696 325.615 104.696 334.365 Q104.696 343.092 101.617 347.699 Q98.5613 352.282 92.7512 352.282 Q86.941 352.282 83.8623 347.699 Q80.8068 343.092 80.8068 334.365 Q80.8068 325.615 83.8623 321.032 Q86.941 316.426 92.7512 316.426 Z\" fill=\"#000000\" fill-rule=\"nonzero\" fill-opacity=\"1\" /><path clip-path=\"url(#clip790)\" d=\"M122.913 320.129 Q119.302 320.129 117.473 323.694 Q115.668 327.236 115.668 334.365 Q115.668 341.472 117.473 345.037 Q119.302 348.578 122.913 348.578 Q126.547 348.578 128.353 345.037 Q130.182 341.472 130.182 334.365 Q130.182 327.236 128.353 323.694 Q126.547 320.129 122.913 320.129 M122.913 316.426 Q128.723 316.426 131.779 321.032 Q134.857 325.615 134.857 334.365 Q134.857 343.092 131.779 347.699 Q128.723 352.282 122.913 352.282 Q117.103 352.282 114.024 347.699 Q110.969 343.092 110.969 334.365 Q110.969 325.615 114.024 321.032 Q117.103 316.426 122.913 316.426 Z\" fill=\"#000000\" fill-rule=\"nonzero\" fill-opacity=\"1\" /><path clip-path=\"url(#clip790)\" d=\"M66.7559 135.401 Q70.1124 136.119 71.9874 138.387 Q73.8855 140.656 73.8855 143.989 Q73.8855 149.105 70.367 151.906 Q66.8485 154.707 60.3671 154.707 Q58.1912 154.707 55.8764 154.267 Q53.5847 153.85 51.131 152.994 L51.131 148.48 Q53.0754 149.614 55.3903 150.193 Q57.7051 150.772 60.2282 150.772 Q64.6263 150.772 66.918 149.035 Q69.2328 147.299 69.2328 143.989 Q69.2328 140.934 67.08 139.221 Q64.9504 137.485 61.131 137.485 L57.1032 137.485 L57.1032 133.642 L61.3161 133.642 Q64.7652 133.642 66.5939 132.276 Q68.4226 130.887 68.4226 128.295 Q68.4226 125.633 66.5245 124.221 Q64.6495 122.786 61.131 122.786 Q59.2097 122.786 57.0106 123.202 Q54.8115 123.619 52.1727 124.499 L52.1727 120.332 Q54.8347 119.591 57.1495 119.221 Q59.4875 118.85 61.5476 118.85 Q66.8717 118.85 69.9735 121.281 Q73.0753 123.688 73.0753 127.809 Q73.0753 130.679 71.4318 132.67 Q69.7883 134.637 66.7559 135.401 Z\" fill=\"#000000\" fill-rule=\"nonzero\" fill-opacity=\"1\" /><path clip-path=\"url(#clip790)\" d=\"M82.7975 119.475 L101.154 119.475 L101.154 123.411 L87.0799 123.411 L87.0799 131.883 Q88.0984 131.536 89.1169 131.373 Q90.1354 131.188 91.1539 131.188 Q96.941 131.188 100.321 134.36 Q103.7 137.531 103.7 142.947 Q103.7 148.526 100.228 151.628 Q96.7558 154.707 90.4364 154.707 Q88.2604 154.707 85.9919 154.336 Q83.7466 153.966 81.3392 153.225 L81.3392 148.526 Q83.4225 149.66 85.6447 150.216 Q87.8669 150.772 90.3438 150.772 Q94.3484 150.772 96.6863 148.665 Q99.0243 146.559 99.0243 142.947 Q99.0243 139.336 96.6863 137.23 Q94.3484 135.123 90.3438 135.123 Q88.4688 135.123 86.5938 135.54 Q84.7419 135.957 82.7975 136.836 L82.7975 119.475 Z\" fill=\"#000000\" fill-rule=\"nonzero\" fill-opacity=\"1\" /><path clip-path=\"url(#clip790)\" d=\"M122.913 122.554 Q119.302 122.554 117.473 126.119 Q115.668 129.661 115.668 136.79 Q115.668 143.897 117.473 147.461 Q119.302 151.003 122.913 151.003 Q126.547 151.003 128.353 147.461 Q130.182 143.897 130.182 136.79 Q130.182 129.661 128.353 126.119 Q126.547 122.554 122.913 122.554 M122.913 118.85 Q128.723 118.85 131.779 123.457 Q134.857 128.04 134.857 136.79 Q134.857 145.517 131.779 150.123 Q128.723 154.707 122.913 154.707 Q117.103 154.707 114.024 150.123 Q110.969 145.517 110.969 136.79 Q110.969 128.04 114.024 123.457 Q117.103 118.85 122.913 118.85 Z\" fill=\"#000000\" fill-rule=\"nonzero\" fill-opacity=\"1\" /><polyline clip-path=\"url(#clip792)\" style=\"stroke:#009af9; stroke-linecap:round; stroke-linejoin:round; stroke-width:4; stroke-opacity:1; fill:none\" points=\"232.609,1445.72 340.946,1371.07 449.282,1296.42 557.619,1221.78 665.956,1147.13 774.292,1072.48 882.629,997.836 990.965,923.19 1099.3,848.543 1207.64,773.897 1315.97,698.683 1424.31,624.031 1532.65,549.381 1640.98,474.733 1749.32,400.085 1857.66,325.438 1965.99,250.791 2074.33,176.144 2182.67,101.498 2291,87.9763 \"/>\n",
       "<path clip-path=\"url(#clip790)\" d=\"M243.587 198.898 L514.207 198.898 L514.207 95.2176 L243.587 95.2176  Z\" fill=\"#ffffff\" fill-rule=\"evenodd\" fill-opacity=\"1\"/>\n",
       "<polyline clip-path=\"url(#clip790)\" style=\"stroke:#000000; stroke-linecap:round; stroke-linejoin:round; stroke-width:4; stroke-opacity:1; fill:none\" points=\"243.587,198.898 514.207,198.898 514.207,95.2176 243.587,95.2176 243.587,198.898 \"/>\n",
       "<polyline clip-path=\"url(#clip790)\" style=\"stroke:#009af9; stroke-linecap:round; stroke-linejoin:round; stroke-width:4; stroke-opacity:1; fill:none\" points=\"267.831,147.058 413.291,147.058 \"/>\n",
       "<path clip-path=\"url(#clip790)\" d=\"M451.376 166.745 Q449.571 171.375 447.858 172.787 Q446.145 174.199 443.275 174.199 L439.872 174.199 L439.872 170.634 L442.372 170.634 Q444.131 170.634 445.103 169.8 Q446.076 168.967 447.256 165.865 L448.02 163.921 L437.534 138.412 L442.048 138.412 L450.15 158.689 L458.251 138.412 L462.765 138.412 L451.376 166.745 Z\" fill=\"#000000\" fill-rule=\"nonzero\" fill-opacity=\"1\" /><path clip-path=\"url(#clip790)\" d=\"M470.057 160.402 L477.696 160.402 L477.696 134.037 L469.386 135.703 L469.386 131.444 L477.649 129.778 L482.325 129.778 L482.325 160.402 L489.964 160.402 L489.964 164.338 L470.057 164.338 L470.057 160.402 Z\" fill=\"#000000\" fill-rule=\"nonzero\" fill-opacity=\"1\" /></svg>\n"
      ],
      "text/html": [
       "<img src=\"data:image/png;base64,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\" />"
      ]
     },
     "execution_count": 35,
     "metadata": {},
     "output_type": "execute_result"
    }
   ],
   "source": [
    "plot( 50:50:1000, [6πD*Dʰ*integral_m1(t)*D1 for t in 50:50:1000]) #numerical issue at about t=1000"
   ]
  },
  {
   "cell_type": "code",
   "execution_count": 36,
   "id": "36b449f5-8ce3-49e0-8df7-895214d0b593",
   "metadata": {},
   "outputs": [],
   "source": [
    "Dstar = Dʰ*D*Dʰ - one_vec*πD*Dʰ^2\n",
    "our_m3_order_3(t) = πD1^3*t^3\n",
    "our_m3_order_2(t) = 6πD1*πD*Dʰ*D1*t^2 \n",
    "our_m3_order_1(t) = +6πD*Dstar*D1*t - 6πD*Dʰ*integral_m1(t)*D1\n",
    "our_m3_order_0(t) = -6πD*Dstar*Dʰₜ(t)*D1;"
   ]
  },
  {
   "cell_type": "code",
   "execution_count": 37,
   "id": "91508ab5-368f-43ce-bdf4-7bf8b2feb56e",
   "metadata": {},
   "outputs": [],
   "source": [
    "our_third_moment(t) = our_m3_order_3(t) + our_m3_order_2(t) + our_m3_order_1(t) + our_m3_order_0(t);"
   ]
  },
  {
   "cell_type": "code",
   "execution_count": 38,
   "id": "8ce4695d-2576-4192-8f7a-e999ccf211c4",
   "metadata": {},
   "outputs": [
    {
     "name": "stdout",
     "output_type": "stream",
     "text": [
      "(t, ours[i] - numerical[i]) = (1.0, -3.552713678800501e-15)\n",
      "(t, ours[i] - numerical[i]) = (1.5, 7.105427357601002e-15)\n",
      "(t, ours[i] - numerical[i]) = (2.0, -1.4210854715202004e-14)\n",
      "(t, ours[i] - numerical[i]) = (2.5, -2.842170943040401e-14)\n",
      "(t, ours[i] - numerical[i]) = (3.0, 0.0)\n",
      "(t, ours[i] - numerical[i]) = (3.5, 0.0)\n",
      "(t, ours[i] - numerical[i]) = (4.0, 1.1368683772161603e-13)\n",
      "(t, ours[i] - numerical[i]) = (4.5, 1.1368683772161603e-13)\n",
      "(t, ours[i] - numerical[i]) = (5.0, 4.547473508864641e-13)\n",
      "(t, ours[i] - numerical[i]) = (5.5, 4.547473508864641e-13)\n",
      "(t, ours[i] - numerical[i]) = (6.0, 4.547473508864641e-13)\n",
      "(t, ours[i] - numerical[i]) = (6.5, 1.3642420526593924e-12)\n",
      "(t, ours[i] - numerical[i]) = (7.0, 4.547473508864641e-13)\n",
      "(t, ours[i] - numerical[i]) = (7.5, 2.7284841053187847e-12)\n",
      "(t, ours[i] - numerical[i]) = (8.0, 1.8189894035458565e-12)\n",
      "(t, ours[i] - numerical[i]) = (8.5, 2.7284841053187847e-12)\n",
      "(t, ours[i] - numerical[i]) = (9.0, 8.185452315956354e-12)\n",
      "(t, ours[i] - numerical[i]) = (9.5, 1.4551915228366852e-11)\n",
      "(t, ours[i] - numerical[i]) = (10.0, 1.8189894035458565e-12)\n"
     ]
    }
   ],
   "source": [
    "t_range = 1:0.5:10\n",
    "ours = [our_third_moment(t) for t in t_range]\n",
    "numerical = [third_moment(t) for t in t_range]\n",
    "for (i,t) in enumerate(t_range)\n",
    "    # @show t, ours[i], numerical[i]\n",
    "    @show t, ours[i] - numerical[i]\n",
    "end"
   ]
  },
  {
   "cell_type": "markdown",
   "id": "8982cfb0-bb9f-443a-bf48-71612a48c93d",
   "metadata": {},
   "source": [
    "# SMMPP vs MMTCP"
   ]
  },
  {
   "cell_type": "code",
   "execution_count": 39,
   "id": "4dd07dff-f4fd-4fe0-9163-99fde2cc6366",
   "metadata": {},
   "outputs": [],
   "source": [
    "λ = [3.0, 4.0, 5.0]; #Can be any vector of positive values (MMPP)\n",
    "Q_mmpp = [-2.0 1.0 1;\n",
    "          1 -2 1;\n",
    "          2 2 -4]; #Can be any generator matrix (MMPP)"
   ]
  },
  {
   "cell_type": "code",
   "execution_count": 40,
   "id": "b9248817-35c8-4656-818e-e5c25f937fbf",
   "metadata": {},
   "outputs": [
    {
     "data": {
      "text/plain": [
       "3×3 Diagonal{Float64, Vector{Float64}}:\n",
       " 3.0   ⋅    ⋅ \n",
       "  ⋅   4.0   ⋅ \n",
       "  ⋅    ⋅   5.0"
      ]
     },
     "execution_count": 40,
     "metadata": {},
     "output_type": "execute_result"
    }
   ],
   "source": [
    "D_mmpp = Diagonal(λ) #MMPP"
   ]
  },
  {
   "cell_type": "code",
   "execution_count": 41,
   "id": "de6800c2-6131-47ad-b280-d14b2838c524",
   "metadata": {},
   "outputs": [
    {
     "data": {
      "text/plain": [
       "3×3 Matrix{Float64}:\n",
       " -5.0   1.0   1.0\n",
       "  1.0  -6.0   1.0\n",
       "  2.0   2.0  -9.0"
      ]
     },
     "execution_count": 41,
     "metadata": {},
     "output_type": "execute_result"
    }
   ],
   "source": [
    "C_mmpp = Q_mmpp - D_mmpp"
   ]
  },
  {
   "cell_type": "code",
   "execution_count": 42,
   "id": "59634bdd-a5a1-462b-be35-cb167825cd86",
   "metadata": {},
   "outputs": [
    {
     "data": {
      "text/plain": [
       "3-element Vector{Float64}:\n",
       " 2.0\n",
       " 2.0\n",
       " 4.0"
      ]
     },
     "execution_count": 42,
     "metadata": {},
     "output_type": "execute_result"
    }
   ],
   "source": [
    "s_mmpp = [sum(Q_mmpp[i,j] for j in setdiff(1:3,i)) for i in 1:3]"
   ]
  },
  {
   "cell_type": "code",
   "execution_count": 43,
   "id": "c9b1d7b4-06a9-4a57-a746-05e360ece840",
   "metadata": {},
   "outputs": [
    {
     "data": {
      "text/plain": [
       "true"
      ]
     },
     "execution_count": 43,
     "metadata": {},
     "output_type": "execute_result"
    }
   ],
   "source": [
    "all(s_mmpp .< λ) #check we have a slow MMPP"
   ]
  },
  {
   "cell_type": "code",
   "execution_count": 44,
   "id": "d8870fee-6084-43f6-a482-ebd568e3e327",
   "metadata": {},
   "outputs": [
    {
     "data": {
      "text/plain": [
       "H (generic function with 1 method)"
      ]
     },
     "execution_count": 44,
     "metadata": {},
     "output_type": "execute_result"
    }
   ],
   "source": [
    "Λ(i) = [-λ[i] λ[i]-s_mmpp[i];\n",
    "        λ[i]-s_mmpp[i] -λ[i]]\n",
    "H(i,j) = Diagonal(fill(Q_mmpp[i,j],2))"
   ]
  },
  {
   "cell_type": "code",
   "execution_count": 45,
   "id": "bd12234d-ff86-4e81-8be8-b5b20a158d2e",
   "metadata": {},
   "outputs": [
    {
     "data": {
      "text/plain": [
       "2×2 Matrix{Float64}:\n",
       " -5.0   1.0\n",
       "  1.0  -5.0"
      ]
     },
     "execution_count": 45,
     "metadata": {},
     "output_type": "execute_result"
    }
   ],
   "source": [
    "Λ(3)"
   ]
  },
  {
   "cell_type": "code",
   "execution_count": 46,
   "id": "c0cdea9f-b17e-423d-a28c-c006aec3af35",
   "metadata": {},
   "outputs": [
    {
     "data": {
      "text/plain": [
       "2×2 Diagonal{Float64, Vector{Float64}}:\n",
       " 2.0   ⋅ \n",
       "  ⋅   2.0"
      ]
     },
     "execution_count": 46,
     "metadata": {},
     "output_type": "execute_result"
    }
   ],
   "source": [
    "H(3,2)"
   ]
  },
  {
   "cell_type": "code",
   "execution_count": 47,
   "id": "9af6f07c-a799-47dc-8579-b3ecb274a7d7",
   "metadata": {},
   "outputs": [
    {
     "data": {
      "text/plain": [
       "6×6 Matrix{Float64}:\n",
       " 0.0  0.0  0.0  0.0  0.0  0.0\n",
       " 0.0  0.0  0.0  0.0  0.0  0.0\n",
       " 0.0  0.0  0.0  0.0  0.0  0.0\n",
       " 0.0  0.0  0.0  0.0  0.0  0.0\n",
       " 0.0  0.0  0.0  0.0  0.0  0.0\n",
       " 0.0  0.0  0.0  0.0  0.0  0.0"
      ]
     },
     "execution_count": 47,
     "metadata": {},
     "output_type": "execute_result"
    }
   ],
   "source": [
    "Q_mtcp = zeros(2*3, 2*3)"
   ]
  },
  {
   "cell_type": "code",
   "execution_count": 48,
   "id": "ff084d3b-4aa3-41bc-9274-02cdd8eef894",
   "metadata": {},
   "outputs": [
    {
     "data": {
      "text/plain": [
       "6×6 Matrix{Float64}:\n",
       " -3.0   1.0   1.0   0.0   1.0   0.0\n",
       "  1.0  -3.0   0.0   1.0   0.0   1.0\n",
       "  1.0   0.0  -4.0   2.0   1.0   0.0\n",
       "  0.0   1.0   2.0  -4.0   0.0   1.0\n",
       "  2.0   0.0   2.0   0.0  -5.0   1.0\n",
       "  0.0   2.0   0.0   2.0   1.0  -5.0"
      ]
     },
     "execution_count": 48,
     "metadata": {},
     "output_type": "execute_result"
    }
   ],
   "source": [
    "for i in 1:3\n",
    "    for j in 1:3\n",
    "        #i and j are block indexes the actual indexes are h and k\n",
    "        h = 2*(i-1)+1\n",
    "        k = 2*(j-1)+1\n",
    "        if i == j\n",
    "            Q_mtcp[h:h+1,k:k+1] = Λ(i)\n",
    "        else\n",
    "            Q_mtcp[h:h+1,k:k+1] = H(i,j)\n",
    "        end\n",
    "    end\n",
    "end\n",
    "Q_mtcp"
   ]
  },
  {
   "cell_type": "code",
   "execution_count": 49,
   "id": "f758aada-03b4-4887-8a7e-7ab5a519a381",
   "metadata": {},
   "outputs": [
    {
     "data": {
      "text/plain": [
       "6×6 Matrix{Float64}:\n",
       " 0.0  1.0  1.0  0.0  1.0  0.0\n",
       " 1.0  0.0  0.0  1.0  0.0  1.0\n",
       " 1.0  0.0  0.0  2.0  1.0  0.0\n",
       " 0.0  1.0  2.0  0.0  0.0  1.0\n",
       " 2.0  0.0  2.0  0.0  0.0  1.0\n",
       " 0.0  2.0  0.0  2.0  1.0  0.0"
      ]
     },
     "execution_count": 49,
     "metadata": {},
     "output_type": "execute_result"
    }
   ],
   "source": [
    "D_mtcp = Q_mtcp-Diagonal(Q_mtcp)"
   ]
  },
  {
   "cell_type": "code",
   "execution_count": 50,
   "id": "2faf4084-26f3-498e-a027-6443f2cda4b8",
   "metadata": {},
   "outputs": [
    {
     "data": {
      "text/plain": [
       "6×6 Matrix{Float64}:\n",
       " -3.0   0.0   0.0   0.0   0.0   0.0\n",
       "  0.0  -3.0   0.0   0.0   0.0   0.0\n",
       "  0.0   0.0  -4.0   0.0   0.0   0.0\n",
       "  0.0   0.0   0.0  -4.0   0.0   0.0\n",
       "  0.0   0.0   0.0   0.0  -5.0   0.0\n",
       "  0.0   0.0   0.0   0.0   0.0  -5.0"
      ]
     },
     "execution_count": 50,
     "metadata": {},
     "output_type": "execute_result"
    }
   ],
   "source": [
    "C_mtcp = Q_mtcp-D_mtcp"
   ]
  },
  {
   "cell_type": "code",
   "execution_count": 51,
   "id": "c967132d-c0d5-4107-b67f-a1b81c4e8b10",
   "metadata": {},
   "outputs": [
    {
     "data": {
      "text/plain": [
       "1×3 adjoint(::Vector{Float64}) with eltype Float64:\n",
       " 0.4  0.4  0.2"
      ]
     },
     "execution_count": 51,
     "metadata": {},
     "output_type": "execute_result"
    }
   ],
   "source": [
    "b_mmpp = vcat(zeros(2), ones(1));\n",
    "A_mmpp = vcat(Q_mmpp'[1:2,:], ones(3)')\n",
    "π_vec_mmpp = round.(A_mmpp \\ b_mmpp, digits=2)'"
   ]
  },
  {
   "cell_type": "code",
   "execution_count": 52,
   "id": "10fdb3f4-e7ad-4593-8da9-dada6400d21b",
   "metadata": {},
   "outputs": [
    {
     "data": {
      "text/plain": [
       "1×6 adjoint(::Vector{Float64}) with eltype Float64:\n",
       " 0.2  0.2  0.2  0.2  0.1  0.1"
      ]
     },
     "execution_count": 52,
     "metadata": {},
     "output_type": "execute_result"
    }
   ],
   "source": [
    "b_mtcp = vcat(zeros(5), ones(1));\n",
    "A_mtcp = vcat(Q_mtcp'[1:5,:], ones(6)')\n",
    "π_vec_mtcp = round.(A_mtcp \\ b_mtcp, digits=2)'"
   ]
  },
  {
   "cell_type": "code",
   "execution_count": 53,
   "id": "2504ac91-cdb6-41d8-aaa1-6d5f911dc5af",
   "metadata": {},
   "outputs": [
    {
     "data": {
      "text/plain": [
       "3×3 Matrix{Float64}:\n",
       " 0.586667  0.253333  0.16\n",
       " 0.253333  0.586667  0.16\n",
       " 0.32      0.32      0.36"
      ]
     },
     "execution_count": 53,
     "metadata": {},
     "output_type": "execute_result"
    }
   ],
   "source": [
    "Q⁻_mmpp = inv(one_vec*π_vec_mmpp - Q_mmpp) #fundamental matrix"
   ]
  },
  {
   "cell_type": "code",
   "execution_count": 54,
   "id": "9181ffd5-cc7b-43ff-bb01-3b1ee3f9f7eb",
   "metadata": {},
   "outputs": [
    {
     "data": {
      "text/plain": [
       "6×6 Matrix{Float64}:\n",
       " 0.442456   0.144211   0.161754   0.0915789  0.110702   0.0492982\n",
       " 0.144211   0.442456   0.0915789  0.161754   0.0492982  0.110702\n",
       " 0.161754   0.0915789  0.389825   0.196842   0.10193    0.0580702\n",
       " 0.0915789  0.161754   0.196842   0.389825   0.0580702  0.10193\n",
       " 0.221404   0.0985965  0.20386    0.11614    0.280877   0.0791228\n",
       " 0.0985965  0.221404   0.11614    0.20386    0.0791228  0.280877"
      ]
     },
     "execution_count": 54,
     "metadata": {},
     "output_type": "execute_result"
    }
   ],
   "source": [
    "Q⁻_mtcp = inv(one_vec_6*π_vec_mtcp - Q_mtcp) #fundamental matrix"
   ]
  },
  {
   "cell_type": "code",
   "execution_count": 55,
   "id": "ce189d43-4d5b-4ba5-a9d3-1fc8b1974a4e",
   "metadata": {},
   "outputs": [
    {
     "data": {
      "text/plain": [
       "3×3 Matrix{Float64}:\n",
       "  0.186667  -0.146667  -0.04\n",
       " -0.146667   0.186667  -0.04\n",
       " -0.08      -0.08       0.16"
      ]
     },
     "execution_count": 55,
     "metadata": {},
     "output_type": "execute_result"
    }
   ],
   "source": [
    "Dʰ_mmpp = Q⁻_mmpp-one_vec*π_vec_mmpp"
   ]
  },
  {
   "cell_type": "code",
   "execution_count": 56,
   "id": "5f4dcdf5-73d5-4241-8253-41b5817d3b1a",
   "metadata": {},
   "outputs": [
    {
     "data": {
      "text/plain": [
       "6×6 Matrix{Float64}:\n",
       "  0.242456   -0.0557895  -0.0382456   -0.108421     0.0107018   -0.0507018\n",
       " -0.0557895   0.242456   -0.108421    -0.0382456   -0.0507018    0.0107018\n",
       " -0.0382456  -0.108421    0.189825    -0.00315789   0.00192982  -0.0419298\n",
       " -0.108421   -0.0382456  -0.00315789   0.189825    -0.0419298    0.00192982\n",
       "  0.0214035  -0.101404    0.00385965  -0.0838596    0.180877    -0.0208772\n",
       " -0.101404    0.0214035  -0.0838596    0.00385965  -0.0208772    0.180877"
      ]
     },
     "execution_count": 56,
     "metadata": {},
     "output_type": "execute_result"
    }
   ],
   "source": [
    "Dʰ_mtcp = Q⁻_mtcp-one_vec_6*π_vec_mtcp"
   ]
  },
  {
   "cell_type": "code",
   "execution_count": 57,
   "id": "c6856257-8909-4af7-b997-b502507ac69c",
   "metadata": {},
   "outputs": [
    {
     "data": {
      "text/plain": [
       "3-element Vector{Float64}:\n",
       " -1.1102230246251565e-16\n",
       " -2.498001805406602e-16\n",
       " -2.7755575615628914e-16"
      ]
     },
     "execution_count": 57,
     "metadata": {},
     "output_type": "execute_result"
    }
   ],
   "source": [
    "Dʰ_mmpp*one_vec #should be 0"
   ]
  },
  {
   "cell_type": "code",
   "execution_count": 58,
   "id": "df208ca1-4ecc-4df2-88a0-ac3a65538e9a",
   "metadata": {},
   "outputs": [
    {
     "data": {
      "text/plain": [
       "6-element Vector{Float64}:\n",
       " -2.0816681711721685e-16\n",
       " -1.8041124150158794e-16\n",
       " -1.942890293094024e-16\n",
       " -1.5265566588595902e-16\n",
       " -1.942890293094024e-16\n",
       " -2.220446049250313e-16"
      ]
     },
     "execution_count": 58,
     "metadata": {},
     "output_type": "execute_result"
    }
   ],
   "source": [
    "Dʰ_mtcp*one_vec_6 #should be 0"
   ]
  },
  {
   "cell_type": "code",
   "execution_count": 59,
   "id": "1f6e1db7-fbca-4594-b127-de41ab957732",
   "metadata": {},
   "outputs": [
    {
     "data": {
      "text/plain": [
       "1×3 adjoint(::Vector{Float64}) with eltype Float64:\n",
       " -4.94604e-17  -1.02196e-16  -5.65104e-17"
      ]
     },
     "execution_count": 59,
     "metadata": {},
     "output_type": "execute_result"
    }
   ],
   "source": [
    "π_vec_mmpp*Dʰ_mmpp#should be 0"
   ]
  },
  {
   "cell_type": "code",
   "execution_count": 60,
   "id": "a6742374-4d3d-4a92-bf00-01c6c4b91781",
   "metadata": {},
   "outputs": [
    {
     "data": {
      "text/plain": [
       "1×6 adjoint(::Vector{Float64}) with eltype Float64:\n",
       " -5.0176e-17  -3.76982e-17  -2.47516e-17  …  -1.86774e-17  -2.67515e-17"
      ]
     },
     "execution_count": 60,
     "metadata": {},
     "output_type": "execute_result"
    }
   ],
   "source": [
    "π_vec_mtcp*Dʰ_mtcp#should be 0"
   ]
  },
  {
   "cell_type": "code",
   "execution_count": 61,
   "id": "6196e598-beb7-4477-9459-c621ffc390ff",
   "metadata": {},
   "outputs": [
    {
     "data": {
      "text/plain": [
       "Dʰₜ_mmpp (generic function with 1 method)"
      ]
     },
     "execution_count": 61,
     "metadata": {},
     "output_type": "execute_result"
    }
   ],
   "source": [
    "Dʰₜ_mmpp(t) = Dʰ_mmpp*(I-exp(Q_mmpp*t))"
   ]
  },
  {
   "cell_type": "code",
   "execution_count": 62,
   "id": "9da72919-2146-4c2a-9dbd-1f505549b662",
   "metadata": {},
   "outputs": [
    {
     "data": {
      "text/plain": [
       "3×3 Matrix{Float64}:\n",
       "  0.186498   -0.146499   -0.0399996\n",
       " -0.146499    0.186498   -0.0399996\n",
       " -0.0799992  -0.0799992   0.159998"
      ]
     },
     "execution_count": 62,
     "metadata": {},
     "output_type": "execute_result"
    }
   ],
   "source": [
    "Dʰₜ_mmpp(2.3)"
   ]
  },
  {
   "cell_type": "code",
   "execution_count": 63,
   "id": "8c2408b7-23ff-4486-a33f-3846c3742fb9",
   "metadata": {},
   "outputs": [
    {
     "data": {
      "text/plain": [
       "Dʰₜ_mtcp (generic function with 1 method)"
      ]
     },
     "execution_count": 63,
     "metadata": {},
     "output_type": "execute_result"
    }
   ],
   "source": [
    "Dʰₜ_mtcp(t) = Dʰ_mtcp*(I-exp(Q_mtcp*t))"
   ]
  },
  {
   "cell_type": "code",
   "execution_count": 64,
   "id": "1d66af6a-a846-4013-b5cf-34f8d9a0fa03",
   "metadata": {},
   "outputs": [
    {
     "data": {
      "text/plain": [
       "3.8000000000000003"
      ]
     },
     "execution_count": 64,
     "metadata": {},
     "output_type": "execute_result"
    }
   ],
   "source": [
    "πD1_mmpp = π_vec_mmpp*D_mmpp*one_vec"
   ]
  },
  {
   "cell_type": "code",
   "execution_count": 65,
   "id": "d7d04454-1012-4c09-8ff1-7566a77f6fe5",
   "metadata": {},
   "outputs": [
    {
     "data": {
      "text/plain": [
       "3.8"
      ]
     },
     "execution_count": 65,
     "metadata": {},
     "output_type": "execute_result"
    }
   ],
   "source": [
    "πD1_mtcp = π_vec_mtcp*D_mtcp*one_vec_6"
   ]
  },
  {
   "cell_type": "code",
   "execution_count": 66,
   "id": "6578e7c4-d8bf-431d-b14e-18cbed749bd9",
   "metadata": {},
   "outputs": [
    {
     "data": {
      "text/plain": [
       "1×3 adjoint(::Vector{Float64}) with eltype Float64:\n",
       " 1.2  1.6  1.0"
      ]
     },
     "execution_count": 66,
     "metadata": {},
     "output_type": "execute_result"
    }
   ],
   "source": [
    "πD_mmpp = π_vec_mmpp*D_mmpp"
   ]
  },
  {
   "cell_type": "code",
   "execution_count": 67,
   "id": "309df54a-c587-47c3-bc0c-69df438088dc",
   "metadata": {},
   "outputs": [
    {
     "data": {
      "text/plain": [
       "1×6 adjoint(::Vector{Float64}) with eltype Float64:\n",
       " 0.6  0.6  0.8  0.8  0.5  0.5"
      ]
     },
     "execution_count": 67,
     "metadata": {},
     "output_type": "execute_result"
    }
   ],
   "source": [
    "πD_mtcp = π_vec_mtcp*D_mtcp"
   ]
  },
  {
   "cell_type": "code",
   "execution_count": 68,
   "id": "9b221ef6-03cd-4fe5-a925-421def3f25e2",
   "metadata": {},
   "outputs": [
    {
     "data": {
      "text/plain": [
       "3-element Vector{Float64}:\n",
       " 3.0\n",
       " 4.0\n",
       " 5.0"
      ]
     },
     "execution_count": 68,
     "metadata": {},
     "output_type": "execute_result"
    }
   ],
   "source": [
    "D1_mmpp = D_mmpp*one_vec"
   ]
  },
  {
   "cell_type": "code",
   "execution_count": 69,
   "id": "ebeb366c-aea4-4a51-bc69-72b002bf785b",
   "metadata": {},
   "outputs": [
    {
     "data": {
      "text/plain": [
       "6-element Vector{Float64}:\n",
       " 3.0\n",
       " 3.0\n",
       " 4.0\n",
       " 4.0\n",
       " 5.0\n",
       " 5.0"
      ]
     },
     "execution_count": 69,
     "metadata": {},
     "output_type": "execute_result"
    }
   ],
   "source": [
    "D1_mtcp = D_mtcp*one_vec_6"
   ]
  },
  {
   "cell_type": "code",
   "execution_count": 70,
   "id": "845dc9f3-eca1-406c-add0-6adb3eb1f36d",
   "metadata": {},
   "outputs": [
    {
     "data": {
      "text/plain": [
       "4.440892098500626e-16"
      ]
     },
     "execution_count": 70,
     "metadata": {},
     "output_type": "execute_result"
    }
   ],
   "source": [
    "π_vec_mmpp*D1_mmpp - π_vec_mtcp*D1_mtcp #just a check first moment"
   ]
  },
  {
   "cell_type": "code",
   "execution_count": 71,
   "id": "5b3dc2a5-4b60-4ccb-bd06-6e84c5a22b5a",
   "metadata": {},
   "outputs": [],
   "source": [
    "our_second_moment_mmpp(t) = πD1_mmpp^2*t^2 + 2πD_mmpp*Dʰ_mmpp*D1_mmpp*t - 2*π_vec_mmpp*D_mmpp*Dʰ_mmpp*Dʰₜ_mmpp(t)*D1_mmpp;\n",
    "our_second_moment_mtcp(t) = πD1_mtcp^2*t^2 + 2πD_mtcp*Dʰ_mtcp*D1_mtcp*t - 2*π_vec_mtcp*D_mtcp*Dʰ_mtcp*Dʰₜ_mtcp(t)*D1_mtcp;"
   ]
  },
  {
   "cell_type": "code",
   "execution_count": 72,
   "id": "4be90f6f-25e5-483e-9ee1-daca52264d9e",
   "metadata": {},
   "outputs": [
    {
     "data": {
      "text/plain": [
       "5.684341886080802e-14"
      ]
     },
     "execution_count": 72,
     "metadata": {},
     "output_type": "execute_result"
    }
   ],
   "source": [
    "maximum(abs,[our_second_moment_mmpp(t) - our_second_moment_mtcp(t) for t in 0:0.1:5]) #check variance"
   ]
  },
  {
   "cell_type": "code",
   "execution_count": 73,
   "id": "fe0934cd-8842-45a9-8728-1eda2c0d7c4e",
   "metadata": {},
   "outputs": [
    {
     "data": {
      "text/plain": [
       "3×3 Matrix{Float64}:\n",
       "  0.2336     -0.193067  -0.0405333\n",
       " -0.148622    0.202489  -0.0538667\n",
       " -0.0348444  -0.105956   0.1408"
      ]
     },
     "execution_count": 73,
     "metadata": {},
     "output_type": "execute_result"
    }
   ],
   "source": [
    "Dstar_mmpp = Dʰ_mmpp*D_mmpp*Dʰ_mmpp - one_vec*πD_mmpp*Dʰ_mmpp^2"
   ]
  },
  {
   "cell_type": "code",
   "execution_count": 74,
   "id": "44374442-201e-4f56-999a-8b7716fa39a2",
   "metadata": {},
   "outputs": [
    {
     "data": {
      "text/plain": [
       "6×6 Matrix{Float64}:\n",
       "  0.0364707   0.0104627   0.0136575   -0.0600575    0.0336284  -0.0341617\n",
       "  0.0104627   0.0364707  -0.0600575    0.0136575   -0.0341617   0.0336284\n",
       "  0.0358797  -0.0378353   0.00290957   0.0129127    0.0166508  -0.0305175\n",
       " -0.0378353   0.0358797   0.0129127    0.00290957  -0.0305175   0.0166508\n",
       "  0.0903679  -0.0452123   0.0341906   -0.0601461    0.0102907  -0.0294907\n",
       " -0.0452123   0.0903679  -0.0601461    0.0341906   -0.0294907   0.0102907"
      ]
     },
     "execution_count": 74,
     "metadata": {},
     "output_type": "execute_result"
    }
   ],
   "source": [
    "Dstar_mtcp = Dʰ_mtcp*D_mtcp*Dʰ_mtcp - one_vec_6*πD_mtcp*Dʰ_mtcp^2"
   ]
  },
  {
   "cell_type": "code",
   "execution_count": 75,
   "id": "6af85950-135a-4e9c-86a0-bd17cd74df70",
   "metadata": {},
   "outputs": [],
   "source": [
    "m1_integrand_mmpp(u1,t) = exp(Q_mmpp*u1)*D_mmpp*exp(Q_mmpp*(t-u1))\n",
    "m1_mmpp(t) = quadgk((u1)->m1_integrand_mmpp(u1,t), 0, t, maxevals = maxevals)[1];"
   ]
  },
  {
   "cell_type": "code",
   "execution_count": 76,
   "id": "fc09ebd8-0aca-4b6c-8e7c-0adeac4d2667",
   "metadata": {},
   "outputs": [],
   "source": [
    "m1_integrand_mtcp(u1,t) = exp(Q_mtcp*u1)*D_mtcp*exp(Q_mtcp*(t-u1))\n",
    "m1_mtcp(t) = quadgk((u1)->m1_integrand_mtcp(u1,t), 0, t, maxevals = maxevals)[1];"
   ]
  },
  {
   "cell_type": "code",
   "execution_count": 77,
   "id": "a5f778d8-540f-4484-abbc-03634774176a",
   "metadata": {},
   "outputs": [
    {
     "data": {
      "text/plain": [
       "3×3 Matrix{Float64}:\n",
       " 7.87467  8.008    4.03067\n",
       " 8.008    8.14133  4.09733\n",
       " 8.06133  8.19467  4.124"
      ]
     },
     "execution_count": 77,
     "metadata": {},
     "output_type": "execute_result"
    }
   ],
   "source": [
    "m1_mmpp(5.3)"
   ]
  },
  {
   "cell_type": "code",
   "execution_count": 78,
   "id": "a0f7001a-d630-4859-afca-fdc284573481",
   "metadata": {},
   "outputs": [
    {
     "data": {
      "text/plain": [
       "6×6 Matrix{Float64}:\n",
       " 3.93734  3.93733  4.004    4.004    2.01533  2.01533\n",
       " 3.93733  3.93734  4.004    4.004    2.01533  2.01533\n",
       " 4.004    4.004    4.07067  4.07067  2.04867  2.04867\n",
       " 4.004    4.004    4.07067  4.07067  2.04867  2.04867\n",
       " 4.03067  4.03066  4.09733  4.09733  2.062    2.062\n",
       " 4.03066  4.03067  4.09733  4.09733  2.062    2.062"
      ]
     },
     "execution_count": 78,
     "metadata": {},
     "output_type": "execute_result"
    }
   ],
   "source": [
    "m1_mtcp(5.3)"
   ]
  },
  {
   "cell_type": "code",
   "execution_count": 79,
   "id": "568c154b-34b4-4f5f-b8ef-76e0dc1d49c2",
   "metadata": {},
   "outputs": [],
   "source": [
    "integral_m1_mmpp(t) = quadgk(m1_mmpp, 0, t, maxevals = maxevals)[1];"
   ]
  },
  {
   "cell_type": "code",
   "execution_count": 80,
   "id": "c9361195-6bbe-4d46-a14e-606783c08672",
   "metadata": {},
   "outputs": [],
   "source": [
    "integral_m1_mtcp(t) = quadgk(m1_mtcp, 0, t, maxevals = maxevals)[1];"
   ]
  },
  {
   "cell_type": "code",
   "execution_count": 81,
   "id": "173100f7-9d88-46be-9ab3-39e82a14ec4c",
   "metadata": {},
   "outputs": [
    {
     "data": {
      "text/plain": [
       "(54.87200000000001, 54.87199999999999)"
      ]
     },
     "execution_count": 81,
     "metadata": {},
     "output_type": "execute_result"
    }
   ],
   "source": [
    "our_m3_order_3_mmpp(t) = πD1_mmpp^3*t^3\n",
    "our_m3_order_3_mtcp(t) = πD1_mtcp^3*t^3\n",
    "our_m3_order_3_mmpp(1.0), our_m3_order_3_mtcp(1.0)"
   ]
  },
  {
   "cell_type": "code",
   "execution_count": 82,
   "id": "ca7bae1a-c47e-4823-bbe0-9aaddc2ce9c7",
   "metadata": {},
   "outputs": [
    {
     "data": {
      "text/plain": [
       "(3.161599999999927, 3.1615999999999387)"
      ]
     },
     "execution_count": 82,
     "metadata": {},
     "output_type": "execute_result"
    }
   ],
   "source": [
    "our_m3_order_2_mmpp(t) = 6πD1_mmpp*πD_mmpp*Dʰ_mmpp*D1_mmpp*t^2 \n",
    "our_m3_order_2_mtcp(t) = 6πD1_mtcp*πD_mtcp*Dʰ_mtcp*D1_mtcp*t^2 \n",
    "our_m3_order_2_mmpp(1.0), our_m3_order_2_mtcp(1.0)"
   ]
  },
  {
   "cell_type": "code",
   "execution_count": 83,
   "id": "c7d23a7d-336a-49bf-8ea2-aeb405079396",
   "metadata": {},
   "outputs": [
    {
     "data": {
      "text/plain": [
       "(-0.8106981, -1.4530108)"
      ]
     },
     "execution_count": 83,
     "metadata": {},
     "output_type": "execute_result"
    }
   ],
   "source": [
    "our_m3_order_1_mmpp(t) = +6πD_mmpp*Dstar_mmpp*D1_mmpp*t - 6πD_mmpp*Dʰ_mmpp*integral_m1_mmpp(t)*D1_mmpp\n",
    "our_m3_order_1_mtcp(t) = +6πD_mtcp*Dstar_mtcp*D1_mtcp*t - 6πD_mtcp*Dʰ_mtcp*integral_m1_mtcp(t)*D1_mtcp\n",
    "round(our_m3_order_1_mmpp(1.0), digits = 7), round(our_m3_order_1_mtcp(1.0), digits = 7) #order 1 is different!!!!"
   ]
  },
  {
   "cell_type": "code",
   "execution_count": 84,
   "id": "c036b566-b04d-435c-8670-2d052213651d",
   "metadata": {},
   "outputs": [
    {
     "data": {
      "text/plain": [
       "(0.0095917, 0.2221046)"
      ]
     },
     "execution_count": 84,
     "metadata": {},
     "output_type": "execute_result"
    }
   ],
   "source": [
    "our_m3_order_0_mmpp(t) = -6πD_mmpp*Dstar_mmpp*Dʰₜ_mmpp(t)*D1_mmpp\n",
    "our_m3_order_0_mtcp(t) = -6πD_mtcp*Dstar_mtcp*Dʰₜ_mtcp(t)*D1_mtcp\n",
    "round(our_m3_order_0_mmpp(1.0), digits = 7), round(our_m3_order_0_mtcp(1.0), digits = 7)"
   ]
  },
  {
   "cell_type": "code",
   "execution_count": 85,
   "id": "566fb7a0-fd6e-49ad-801e-0f2df6ed7c24",
   "metadata": {},
   "outputs": [
    {
     "data": {
      "text/plain": [
       "(0.0105813, 0.2303147)"
      ]
     },
     "execution_count": 85,
     "metadata": {},
     "output_type": "execute_result"
    }
   ],
   "source": [
    "tt = 1000.0\n",
    "round(our_m3_order_0_mmpp(tt), digits = 7), round(our_m3_order_0_mtcp(tt), digits = 7) #final constant term also differs"
   ]
  },
  {
   "cell_type": "code",
   "execution_count": null,
   "id": "ed5e1c29-9d33-4237-992d-7b19d9d4f786",
   "metadata": {},
   "outputs": [],
   "source": []
  }
 ],
 "metadata": {
  "kernelspec": {
   "display_name": "Julia 1.11.7",
   "language": "julia",
   "name": "julia-1.11"
  },
  "language_info": {
   "file_extension": ".jl",
   "mimetype": "application/julia",
   "name": "julia",
   "version": "1.11.7"
  }
 },
 "nbformat": 4,
 "nbformat_minor": 5
}
