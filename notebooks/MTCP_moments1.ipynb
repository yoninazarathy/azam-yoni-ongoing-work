{
 "cells": [
  {
   "cell_type": "code",
   "execution_count": 1,
   "id": "1e24bd0c-9541-416f-b53b-79b4a169e3c1",
   "metadata": {},
   "outputs": [],
   "source": [
    "# using Pkg\n",
    "# Pkg.add(\"HCubature\")\n",
    "# Pkg.add(\"QuadGK\")"
   ]
  },
  {
   "cell_type": "code",
   "execution_count": 58,
   "id": "dba9d620-dfac-423e-82ca-33ef83f43340",
   "metadata": {},
   "outputs": [],
   "source": [
    "using LinearAlgebra\n",
    "using QuadGK\n",
    "using Plots"
   ]
  },
  {
   "cell_type": "code",
   "execution_count": 4,
   "id": "eca7471c-bf58-40ac-b0c6-59870429fe02",
   "metadata": {},
   "outputs": [],
   "source": [
    "maxevals = 10^2;"
   ]
  },
  {
   "cell_type": "code",
   "execution_count": 5,
   "id": "500b8764-30dd-4b33-a5d6-28b2860f8f9b",
   "metadata": {},
   "outputs": [
    {
     "data": {
      "text/plain": [
       "(0.3333333333333333, 0.0)"
      ]
     },
     "execution_count": 5,
     "metadata": {},
     "output_type": "execute_result"
    }
   ],
   "source": [
    "quadgk((x)->x^2,0,1; maxevals)"
   ]
  },
  {
   "cell_type": "markdown",
   "id": "10275309-46b0-4e2e-aa0a-6ae828dedf0c",
   "metadata": {},
   "source": [
    "$$\n",
    "\\pi Q = 0\n",
    "$$\n",
    "\n",
    "$$\n",
    "Q^\\top \\pi^\\top = 0 \n",
    "$$\n",
    "\n",
    "$$\n",
    "{\\mathbf 1}^\\top \\pi^\\top = 1\n",
    "$$"
   ]
  },
  {
   "cell_type": "code",
   "execution_count": 6,
   "id": "46009835-af81-4fd8-8847-77f0ddfc1e7b",
   "metadata": {},
   "outputs": [],
   "source": [
    "Q = [-2 1.0 1;\n",
    "      1 -2 1;\n",
    "      2 2 -4]\n",
    "\n",
    "D = [1 1 0.5;\n",
    "     0.5 0 1;\n",
    "      2 1 0];"
   ]
  },
  {
   "cell_type": "code",
   "execution_count": 7,
   "id": "deebb54c-aa87-4497-9ebf-8082815c37f8",
   "metadata": {},
   "outputs": [
    {
     "data": {
      "text/plain": [
       "3×3 Matrix{Float64}:\n",
       " -2.0   1.0  2.0\n",
       "  1.0  -2.0  2.0\n",
       "  1.0   1.0  1.0"
      ]
     },
     "execution_count": 7,
     "metadata": {},
     "output_type": "execute_result"
    }
   ],
   "source": [
    "b = vcat(zeros(2), ones(1));\n",
    "A = vcat(Q'[1:2,:], ones(3)')"
   ]
  },
  {
   "cell_type": "code",
   "execution_count": 8,
   "id": "b9667f4d-4c10-4ce6-90a5-66f9a44df6b0",
   "metadata": {},
   "outputs": [
    {
     "data": {
      "text/plain": [
       "1×3 adjoint(::Vector{Float64}) with eltype Float64:\n",
       " 0.4  0.4  0.2"
      ]
     },
     "execution_count": 8,
     "metadata": {},
     "output_type": "execute_result"
    }
   ],
   "source": [
    "π_vec = round.(A \\ b, digits=2)'"
   ]
  },
  {
   "cell_type": "code",
   "execution_count": 9,
   "id": "9faac0f8-3632-4ea4-bf0e-f7c6d3849885",
   "metadata": {},
   "outputs": [
    {
     "data": {
      "text/plain": [
       "1×3 adjoint(::Vector{Float64}) with eltype Float64:\n",
       " 0.0  0.0  0.0"
      ]
     },
     "execution_count": 9,
     "metadata": {},
     "output_type": "execute_result"
    }
   ],
   "source": [
    "π_vec*Q"
   ]
  },
  {
   "cell_type": "code",
   "execution_count": 10,
   "id": "0ccce9cc-d576-4815-abc8-91a84ce3ab34",
   "metadata": {},
   "outputs": [],
   "source": [
    "one_vec = ones(3);"
   ]
  },
  {
   "cell_type": "markdown",
   "id": "0622e299-81bb-45c7-9181-741b8582318d",
   "metadata": {},
   "source": [
    "$$\n",
    "M_3(t)  = 6 \\int_0^t \\int_0^{u_3} \n",
    "\\underbrace{\\int_0^{u_2} \n",
    "\\underbrace{e^{Q u_1} D e^{Q (u_2 - u_1)} D e^{Q (u_3 - u_2)} D e^{Q (t - u_3)}}_{I_0(u_1,u_2,u_3)} \\, du_1}_{I_1} \\, du_2 \\, du_3.\n",
    "$$"
   ]
  },
  {
   "cell_type": "code",
   "execution_count": 11,
   "id": "11f2c8c6-48b3-4042-a191-e040db594757",
   "metadata": {},
   "outputs": [
    {
     "data": {
      "text/plain": [
       "third_moment (generic function with 1 method)"
      ]
     },
     "execution_count": 11,
     "metadata": {},
     "output_type": "execute_result"
    }
   ],
   "source": [
    "maxevals = 10^3;\n",
    "I0(u1,u2,u3,t) = exp(Q*u1)*D*exp(Q*(u2-u1))*D*exp(Q*(u3-u2))*D*exp(Q*(t-u3))\n",
    "I1(u2,u3,t) = quadgk((u1)->I0(u1,u2,u3,t), 0, u2; maxevals = maxevals)[1]\n",
    "I2(u3,t) = quadgk((u2)->I1(u2,u3,t), 0, u3; maxevals = maxevals)[1]\n",
    "I3(t) = quadgk((u3)->I2(u3,t),0,t; maxevals = maxevals)[1]\n",
    "M3(t) = 6*I3(t)\n",
    "third_moment(t) = π_vec*M3(t)*one_vec"
   ]
  },
  {
   "cell_type": "code",
   "execution_count": 12,
   "id": "0dcc998b-a4ad-404c-ae96-3799249bc9f3",
   "metadata": {},
   "outputs": [
    {
     "name": "stdout",
     "output_type": "stream",
     "text": [
      " 14.855431 seconds (186.76 M allocations: 8.690 GiB, 4.61% gc time, 99.88% compilation time)\n"
     ]
    },
    {
     "data": {
      "text/plain": [
       "15.077745680967237"
      ]
     },
     "execution_count": 12,
     "metadata": {},
     "output_type": "execute_result"
    }
   ],
   "source": [
    "@time third_moment(1.1)"
   ]
  },
  {
   "cell_type": "markdown",
   "id": "189e47e5-fd26-435d-8616-54b0ea4760a3",
   "metadata": {},
   "source": [
    "#### Also doing second moment - just to be sure"
   ]
  },
  {
   "cell_type": "markdown",
   "id": "f897d3ed-df83-40a7-b3dd-0cbff1da1681",
   "metadata": {},
   "source": [
    "$$\n",
    "M_2(t)  = 2 \\int_0^t \\int_0^{u_2} e^{Q u_1} D e^{Q (u_2 - u_1)} D e^{Q (t - u_2)} \\, du_1 \\, du_2, \\\\\n",
    "$$"
   ]
  },
  {
   "cell_type": "code",
   "execution_count": 96,
   "id": "f6a17e03-1839-4df2-9d68-c3c6a50dc206",
   "metadata": {},
   "outputs": [
    {
     "data": {
      "text/plain": [
       "second_moment (generic function with 1 method)"
      ]
     },
     "execution_count": 96,
     "metadata": {},
     "output_type": "execute_result"
    }
   ],
   "source": [
    "maxevals = 10^3;\n",
    "I0_2(u1,u2,t) = exp(Q*u1)*D*exp(Q*(u2-u1))*D*exp(Q*(t-u2))\n",
    "I1_2(u2,t) = quadgk((u1)->I0_2(u1,u2,t), 0, u2; maxevals = maxevals)[1]\n",
    "I2_2(t) = quadgk((u2)->I1_2(u2,t), 0, t; maxevals = maxevals)[1]\n",
    "M2(t) = 2*I2_2(t)\n",
    "second_moment(t) = π_vec*M2(t)*one_vec"
   ]
  },
  {
   "cell_type": "code",
   "execution_count": 97,
   "id": "073d9a32-bd7b-4f66-b70a-618a90ebab1c",
   "metadata": {},
   "outputs": [
    {
     "name": "stdout",
     "output_type": "stream",
     "text": [
      "  0.143655 seconds (1.32 M allocations: 66.120 MiB, 5.80% gc time, 99.44% compilation time)\n"
     ]
    },
    {
     "data": {
      "text/plain": [
       "6.017913784781134"
      ]
     },
     "execution_count": 97,
     "metadata": {},
     "output_type": "execute_result"
    }
   ],
   "source": [
    "@time second_moment(1.1)"
   ]
  },
  {
   "cell_type": "markdown",
   "id": "9732d49b-ce09-43ca-b078-4fba9a3f4f2a",
   "metadata": {},
   "source": [
    "## Deviation Matrices"
   ]
  },
  {
   "cell_type": "code",
   "execution_count": 15,
   "id": "c6249a65-33a8-44a8-a5f9-9d59780d13bc",
   "metadata": {},
   "outputs": [
    {
     "data": {
      "text/plain": [
       "3×3 Matrix{Float64}:\n",
       " 0.586667  0.253333  0.16\n",
       " 0.253333  0.586667  0.16\n",
       " 0.32      0.32      0.36"
      ]
     },
     "execution_count": 15,
     "metadata": {},
     "output_type": "execute_result"
    }
   ],
   "source": [
    "Q⁻ = inv(one_vec*π_vec - Q) #fundamental matrix"
   ]
  },
  {
   "cell_type": "code",
   "execution_count": 16,
   "id": "5e1349ed-5b8b-43cb-b53e-d585b1b1649b",
   "metadata": {},
   "outputs": [
    {
     "data": {
      "text/plain": [
       "3×3 Matrix{Float64}:\n",
       "  0.186667  -0.146667  -0.04\n",
       " -0.146667   0.186667  -0.04\n",
       " -0.08      -0.08       0.16"
      ]
     },
     "execution_count": 16,
     "metadata": {},
     "output_type": "execute_result"
    }
   ],
   "source": [
    "Dʰ = Q⁻-one_vec*π_vec"
   ]
  },
  {
   "cell_type": "code",
   "execution_count": 17,
   "id": "558cd4b4-9ad7-4e44-8187-229b58ccf667",
   "metadata": {},
   "outputs": [
    {
     "data": {
      "text/plain": [
       "3-element Vector{Float64}:\n",
       " -1.1102230246251565e-16\n",
       " -2.498001805406602e-16\n",
       " -2.7755575615628914e-16"
      ]
     },
     "execution_count": 17,
     "metadata": {},
     "output_type": "execute_result"
    }
   ],
   "source": [
    "Dʰ*one_vec #should be 0"
   ]
  },
  {
   "cell_type": "code",
   "execution_count": 18,
   "id": "18ed47a0-88df-4df6-aea3-af861ea197ed",
   "metadata": {},
   "outputs": [
    {
     "data": {
      "text/plain": [
       "1×3 adjoint(::Vector{Float64}) with eltype Float64:\n",
       " -4.94604e-17  -1.02196e-16  -5.65104e-17"
      ]
     },
     "execution_count": 18,
     "metadata": {},
     "output_type": "execute_result"
    }
   ],
   "source": [
    "π_vec*Dʰ#should be 0"
   ]
  },
  {
   "cell_type": "code",
   "execution_count": 19,
   "id": "f11f9837-785c-4e5e-a0fe-5e3dcad5bf26",
   "metadata": {},
   "outputs": [
    {
     "data": {
      "text/plain": [
       "Dʰₜ (generic function with 1 method)"
      ]
     },
     "execution_count": 19,
     "metadata": {},
     "output_type": "execute_result"
    }
   ],
   "source": [
    "Dʰₜ(t) = Dʰ*(I-exp(Q*t))"
   ]
  },
  {
   "cell_type": "code",
   "execution_count": 20,
   "id": "a366e7bd-ed7e-4604-82da-b7d0c691b184",
   "metadata": {},
   "outputs": [
    {
     "data": {
      "text/plain": [
       "numerical_check_trans_deviation (generic function with 1 method)"
      ]
     },
     "execution_count": 20,
     "metadata": {},
     "output_type": "execute_result"
    }
   ],
   "source": [
    "numerical_check_trans_deviation(t) = quadgk((u)->(exp(Q*u) - one_vec*π_vec), 0,t)[1]"
   ]
  },
  {
   "cell_type": "code",
   "execution_count": 21,
   "id": "ddac37da-db6c-40ab-9f88-d42b780fad7d",
   "metadata": {},
   "outputs": [
    {
     "data": {
      "text/plain": [
       "3×3 Matrix{Float64}:\n",
       "  0.183263   -0.143323   -0.0399399\n",
       " -0.143323    0.183263   -0.0399399\n",
       " -0.0798797  -0.0798797   0.159759"
      ]
     },
     "execution_count": 21,
     "metadata": {},
     "output_type": "execute_result"
    }
   ],
   "source": [
    "numerical_check_trans_deviation(1.3)"
   ]
  },
  {
   "cell_type": "code",
   "execution_count": 22,
   "id": "5fb9b561-93a4-480d-a912-cd5039d8371b",
   "metadata": {},
   "outputs": [
    {
     "data": {
      "text/plain": [
       "3×3 Matrix{Float64}:\n",
       "  0.183263   -0.143323   -0.0399399\n",
       " -0.143323    0.183263   -0.0399399\n",
       " -0.0798797  -0.0798797   0.159759"
      ]
     },
     "execution_count": 22,
     "metadata": {},
     "output_type": "execute_result"
    }
   ],
   "source": [
    "Dʰₜ(1.3)"
   ]
  },
  {
   "cell_type": "markdown",
   "id": "5ee81d8b-b3f4-4c13-8d30-d204f373597c",
   "metadata": {},
   "source": [
    "### First moment and its integral"
   ]
  },
  {
   "cell_type": "markdown",
   "id": "34087d67-ec60-4c32-87ca-b5aa6e2ce281",
   "metadata": {},
   "source": [
    "$$\n",
    "M_1(t) = \\int_0^t e^{Q u_1} D e^{Q (t - u_1)} \\, du_1\n",
    "$$\n"
   ]
  },
  {
   "cell_type": "code",
   "execution_count": 25,
   "id": "c669d188-6a50-4840-aa99-b455de69b8fd",
   "metadata": {},
   "outputs": [],
   "source": [
    "m1_integrand(u1,t) = exp(Q*u1)*D*exp(Q*(t-u1))\n",
    "m1(t) = quadgk((u1)->m1_integrand(u1,t), 0, t, maxevals = maxevals)[1];"
   ]
  },
  {
   "cell_type": "code",
   "execution_count": 26,
   "id": "5be34d26-46ee-4c76-a420-11a6a79b2241",
   "metadata": {},
   "outputs": [
    {
     "data": {
      "text/plain": [
       "3×3 Matrix{Float64}:\n",
       " 2.12496  1.99241  1.06913\n",
       " 1.99216  1.85846  1.00288\n",
       " 2.13876  2.00526  1.07598"
      ]
     },
     "execution_count": 26,
     "metadata": {},
     "output_type": "execute_result"
    }
   ],
   "source": [
    "m1(2.3)"
   ]
  },
  {
   "cell_type": "code",
   "execution_count": 29,
   "id": "3dc5cf88-eddf-4bf7-b383-581db352097b",
   "metadata": {},
   "outputs": [],
   "source": [
    "integral_m1(t) = quadgk(m1, 0, t, maxevals = maxevals)[1];"
   ]
  },
  {
   "cell_type": "code",
   "execution_count": 30,
   "id": "a3d85c8f-7b67-49aa-9d2f-56145904b21e",
   "metadata": {},
   "outputs": [
    {
     "data": {
      "text/plain": [
       "3×3 Matrix{Float64}:\n",
       " 2.51174  2.287    1.26409\n",
       " 2.25375  1.97391  1.17951\n",
       " 2.59468  2.29251  1.2678"
      ]
     },
     "execution_count": 30,
     "metadata": {},
     "output_type": "execute_result"
    }
   ],
   "source": [
    "integral_m1(2.3)"
   ]
  },
  {
   "cell_type": "markdown",
   "id": "981778f8-5c5b-4d7b-9bb5-e52f3bbd58f2",
   "metadata": {},
   "source": [
    "### Checking our expressions"
   ]
  },
  {
   "cell_type": "code",
   "execution_count": 31,
   "id": "83b13870-774c-43aa-80d5-b9a53bd22807",
   "metadata": {},
   "outputs": [
    {
     "data": {
      "text/plain": [
       "2.2"
      ]
     },
     "execution_count": 31,
     "metadata": {},
     "output_type": "execute_result"
    }
   ],
   "source": [
    "πD1 = π_vec*D*one_vec"
   ]
  },
  {
   "cell_type": "code",
   "execution_count": 32,
   "id": "105277ff-6ee5-4cea-8f16-dedec0e6a148",
   "metadata": {},
   "outputs": [
    {
     "data": {
      "text/plain": [
       "1×3 adjoint(::Vector{Float64}) with eltype Float64:\n",
       " 1.0  0.6  0.6"
      ]
     },
     "execution_count": 32,
     "metadata": {},
     "output_type": "execute_result"
    }
   ],
   "source": [
    "πD = π_vec*D"
   ]
  },
  {
   "cell_type": "code",
   "execution_count": 33,
   "id": "a5174b9f-2a5a-4013-9121-64b75283de1d",
   "metadata": {},
   "outputs": [
    {
     "data": {
      "text/plain": [
       "3-element Vector{Float64}:\n",
       " 2.5\n",
       " 1.5\n",
       " 3.0"
      ]
     },
     "execution_count": 33,
     "metadata": {},
     "output_type": "execute_result"
    }
   ],
   "source": [
    "D1 = D*one_vec"
   ]
  },
  {
   "cell_type": "markdown",
   "id": "7336b30b-fd54-42d9-85e1-e90e74477e3f",
   "metadata": {},
   "source": [
    "##### Second moment"
   ]
  },
  {
   "cell_type": "markdown",
   "id": "71d72c22-3e64-43c5-bad8-d0a32cbebb78",
   "metadata": {},
   "source": [
    "$$\n",
    "\\boldsymbol{\\pi} M_2(t) \\mathbf{1} =\n",
    " (\\boldsymbol{\\pi} D  \\mathbf{1} )^2 t^2 \n",
    " +  2\\boldsymbol{\\pi} D D^{\\sharp}_{Q}  D \\mathbf{1}t\n",
    " -  2 \\boldsymbol{\\pi} D D^{\\sharp}_{Q}  D^{\\sharp}_{Q}(t)\n",
    " D \\mathbf{1}\n",
    "$$"
   ]
  },
  {
   "cell_type": "code",
   "execution_count": 139,
   "id": "05d60a94-2076-457b-8196-be500540a7e7",
   "metadata": {},
   "outputs": [],
   "source": [
    "our_second_moment(t) = πD1^2*t^2 + 2πD*Dʰ*D1*t - 2*π_vec*D*Dʰ*Dʰₜ(t)*D1;"
   ]
  },
  {
   "cell_type": "code",
   "execution_count": 140,
   "id": "d5d62e4e-6233-43d9-89a6-f5845a272e64",
   "metadata": {},
   "outputs": [
    {
     "data": {
      "text/plain": [
       "26.00026714235093"
      ]
     },
     "execution_count": 140,
     "metadata": {},
     "output_type": "execute_result"
    }
   ],
   "source": [
    "our_second_moment(2.3)"
   ]
  },
  {
   "cell_type": "code",
   "execution_count": 141,
   "id": "3fe2ece0-470a-4a67-8ccf-014ef56af0bb",
   "metadata": {},
   "outputs": [
    {
     "data": {
      "text/plain": [
       "26.000267142350936"
      ]
     },
     "execution_count": 141,
     "metadata": {},
     "output_type": "execute_result"
    }
   ],
   "source": [
    "second_moment(2.3)"
   ]
  },
  {
   "cell_type": "code",
   "execution_count": 131,
   "id": "8b8beb8a-9bac-4c42-8ae2-55383805dd80",
   "metadata": {},
   "outputs": [
    {
     "data": {
      "text/plain": [
       "4.841967608888889"
      ]
     },
     "execution_count": 131,
     "metadata": {},
     "output_type": "execute_result"
    }
   ],
   "source": [
    "our_second_moment(100)/100^2"
   ]
  },
  {
   "cell_type": "code",
   "execution_count": 132,
   "id": "b55b04d4-f3b2-4cc5-9fae-6dc51e34b4ae",
   "metadata": {},
   "outputs": [
    {
     "data": {
      "text/plain": [
       "4.841967608888879"
      ]
     },
     "execution_count": 132,
     "metadata": {},
     "output_type": "execute_result"
    }
   ],
   "source": [
    "second_moment(100)/100^2"
   ]
  },
  {
   "cell_type": "code",
   "execution_count": 133,
   "id": "78968de4-174e-4143-95d1-6356d039da69",
   "metadata": {},
   "outputs": [
    {
     "data": {
      "text/plain": [
       "0.19676088888882076"
      ]
     },
     "execution_count": 133,
     "metadata": {},
     "output_type": "execute_result"
    }
   ],
   "source": [
    "(our_second_moment(100) - πD1^2*100^2) /100"
   ]
  },
  {
   "cell_type": "code",
   "execution_count": 134,
   "id": "2b8b7ee4-55a3-4f2a-afb5-86b0836052d6",
   "metadata": {},
   "outputs": [
    {
     "data": {
      "text/plain": [
       "0.1967608888878749"
      ]
     },
     "execution_count": 134,
     "metadata": {},
     "output_type": "execute_result"
    }
   ],
   "source": [
    "(second_moment(100) - πD1^2*100^2) /100"
   ]
  },
  {
   "cell_type": "code",
   "execution_count": 135,
   "id": "6ba925c3-c28b-42ed-bbf6-1f5b072ed9c4",
   "metadata": {},
   "outputs": [
    {
     "data": {
      "text/plain": [
       "-0.05724444445107579"
      ]
     },
     "execution_count": 135,
     "metadata": {},
     "output_type": "execute_result"
    }
   ],
   "source": [
    "(our_second_moment(100) - πD1^2*100^2 - 2πD*Dʰ*D1*100)"
   ]
  },
  {
   "cell_type": "code",
   "execution_count": 136,
   "id": "d1ef7a7f-9d06-446e-819a-ab72f4401790",
   "metadata": {},
   "outputs": [
    {
     "data": {
      "text/plain": [
       "-0.05724444454566324"
      ]
     },
     "execution_count": 136,
     "metadata": {},
     "output_type": "execute_result"
    }
   ],
   "source": [
    "(second_moment(100) - πD1^2*100^2 - 2πD*Dʰ*D1*100)"
   ]
  },
  {
   "cell_type": "code",
   "execution_count": 91,
   "id": "5eab28a3-7cb1-4a40-997d-c2680549bfe3",
   "metadata": {},
   "outputs": [
    {
     "name": "stdout",
     "output_type": "stream",
     "text": [
      "(t, ours[i] - numerical[i]) = (1.0, 0.054945440128726375)\n",
      "(t, ours[i] - numerical[i]) = (1.5, 0.056743631785028725)\n",
      "(t, ours[i] - numerical[i]) = (2.0, 0.05713369656193379)\n",
      "(t, ours[i] - numerical[i]) = (2.5, 0.05721981521571351)\n",
      "(t, ours[i] - numerical[i]) = (3.0, 0.05723895564871384)\n",
      "(t, ours[i] - numerical[i]) = (3.5, 0.05724322028083151)\n",
      "(t, ours[i] - numerical[i]) = (4.0, 0.05724417134196358)\n",
      "(t, ours[i] - numerical[i]) = (4.5, 0.05724438351076344)\n",
      "(t, ours[i] - numerical[i]) = (5.0, 0.057244430848584216)\n",
      "(t, ours[i] - numerical[i]) = (5.5, 0.057244441410830404)\n",
      "(t, ours[i] - numerical[i]) = (6.0, 0.057244443767615394)\n",
      "(t, ours[i] - numerical[i]) = (6.5, 0.05724444429344544)\n",
      "(t, ours[i] - numerical[i]) = (7.0, 0.05724444441077026)\n",
      "(t, ours[i] - numerical[i]) = (7.5, 0.05724444443694665)\n",
      "(t, ours[i] - numerical[i]) = (8.0, 0.05724444444280152)\n",
      "(t, ours[i] - numerical[i]) = (8.5, 0.05724444444410892)\n",
      "(t, ours[i] - numerical[i]) = (9.0, 0.05724444444444998)\n",
      "(t, ours[i] - numerical[i]) = (9.5, 0.05724444444427945)\n",
      "(t, ours[i] - numerical[i]) = (10.0, 0.05724444444439314)\n"
     ]
    }
   ],
   "source": [
    "t_range = 1:0.5:10\n",
    "ours = [our_second_moment(t) for t in t_range]\n",
    "numerical = [second_moment(t) for t in t_range]\n",
    "for (i,t) in enumerate(t_range)\n",
    "    # @show t, ours[i], numerical[i], ours[i]- numerical[i]\n",
    "    @show t, ours[i]- numerical[i]\n",
    "\n",
    "end"
   ]
  },
  {
   "cell_type": "markdown",
   "id": "cc51eea3-c31b-4c91-ad59-28511898b089",
   "metadata": {},
   "source": [
    "##### Third moment"
   ]
  },
  {
   "cell_type": "markdown",
   "id": "b67edc6f-da0c-4ba2-82ac-6e4f930804db",
   "metadata": {},
   "source": [
    "$$\n",
    "{\\pi} M_3(t) \\mathbf{1}= \n",
    "({\\pi} D\\mathbf{1})^3\n",
    "t^3\n",
    "+\n",
    "6{\\pi} D \\mathbf{1} {\\pi} D D_Q^\\sharp D \n",
    "\\mathbf{1}\n",
    "t^2\n",
    "+\n",
    "6{\\pi} D\n",
    "\\big(\n",
    " \\mathbf{1} {\\pi} D (D_Q^\\sharp)^2\n",
    "+\n",
    " D_Q^\\sharp D D_Q^\\sharp  \n",
    "\\big)\n",
    "D \\mathbf{1}\n",
    "t\n",
    "-\n",
    "6{\\pi} D\n",
    "\\big(  \\mathbf{1} {\\pi} D (D_Q^\\sharp)^2 \n",
    "+\n",
    " D_Q^\\sharp D D_Q^\\sharp \n",
    " \\big)\n",
    " D_Q^\\sharp(t)\n",
    " D \\mathbf{1}\n",
    "- \n",
    " 6{\\pi} D D^\\sharp_Q\n",
    " \\int_0^t M_1(u) du D \\mathbf{1}\n",
    "$$"
   ]
  },
  {
   "cell_type": "code",
   "execution_count": 142,
   "id": "8eb57b1e-bf7c-4da9-91f2-f2b9b8dee5cf",
   "metadata": {},
   "outputs": [
    {
     "data": {
      "text/plain": [
       "our_third_moment (generic function with 1 method)"
      ]
     },
     "execution_count": 142,
     "metadata": {},
     "output_type": "execute_result"
    }
   ],
   "source": [
    "our_third_moment(t) = (πD1^3*t^3 \n",
    "                        + 6πD1*πD*D*Dʰ*D1*t^2 \n",
    "                        + 6πD*(one_vec*πD*Dʰ^2  + Dʰ*D*Dʰ)*D1*t\n",
    "                        - 6πD*(one_vec*πD*Dʰ^2  + Dʰ*D*Dʰ)*Dʰₜ(t)*D1\n",
    "                        - 6πD*Dʰ*integral_m1(t)*D1\n",
    "                        )"
   ]
  },
  {
   "cell_type": "code",
   "execution_count": 165,
   "id": "e04a54c3-9a43-4517-ae8f-d7ea3177fe55",
   "metadata": {},
   "outputs": [
    {
     "data": {
      "text/plain": [
       "10.860875747555559"
      ]
     },
     "execution_count": 165,
     "metadata": {},
     "output_type": "execute_result"
    }
   ],
   "source": [
    "our_third_moment(t)/t^3"
   ]
  },
  {
   "cell_type": "code",
   "execution_count": 166,
   "id": "9141c283-d115-458a-b87a-314b3019f891",
   "metadata": {},
   "outputs": [
    {
     "data": {
      "text/plain": [
       "10.769948828444443"
      ]
     },
     "execution_count": 166,
     "metadata": {},
     "output_type": "execute_result"
    }
   ],
   "source": [
    "third_moment(t)/t^3"
   ]
  },
  {
   "cell_type": "code",
   "execution_count": 92,
   "id": "8ce4695d-2576-4192-8f7a-e999ccf211c4",
   "metadata": {},
   "outputs": [
    {
     "name": "stdout",
     "output_type": "stream",
     "text": [
      "(t, ours[i] - numerical[i]) = (1.0, 1.3722429376302472)\n",
      "(t, ours[i] - numerical[i]) = (1.5, 2.7872835602611588)\n",
      "(t, ours[i] - numerical[i]) = (2.0, 4.626392045691134)\n",
      "(t, ours[i] - numerical[i]) = (2.5, 6.884827395763324)\n",
      "(t, ours[i] - numerical[i]) = (3.0, 9.561556588254177)\n",
      "(t, ours[i] - numerical[i]) = (3.5, 12.656351163531838)\n",
      "(t, ours[i] - numerical[i]) = (4.0, 16.169160312715462)\n",
      "(t, ours[i] - numerical[i]) = (4.5, 20.099972712548606)\n",
      "(t, ours[i] - numerical[i]) = (5.0, 24.44878583759919)\n",
      "(t, ours[i] - numerical[i]) = (5.5, 29.21559912445923)\n",
      "(t, ours[i] - numerical[i]) = (6.0, 34.400412447422696)\n",
      "(t, ours[i] - numerical[i]) = (6.5, 40.00322577844281)\n",
      "(t, ours[i] - numerical[i]) = (7.0, 46.024039111258844)\n",
      "(t, ours[i] - numerical[i]) = (7.5, 52.46285244447972)\n",
      "(t, ours[i] - numerical[i]) = (8.0, 59.31966577778621)\n",
      "(t, ours[i] - numerical[i]) = (8.5, 66.5944791111142)\n",
      "(t, ours[i] - numerical[i]) = (9.0, 74.28729244445276)\n",
      "(t, ours[i] - numerical[i]) = (9.5, 82.39810577779281)\n",
      "(t, ours[i] - numerical[i]) = (10.0, 90.92691911111615)\n"
     ]
    }
   ],
   "source": [
    "t_range = 1:0.5:10\n",
    "ours = [our_third_moment(t) for t in t_range]\n",
    "numerical = [third_moment(t) for t in t_range]\n",
    "for (i,t) in enumerate(t_range)\n",
    "    # @show t, ours[i], numerical[i]\n",
    "    @show t, ours[i] - numerical[i]\n",
    "end"
   ]
  },
  {
   "cell_type": "code",
   "execution_count": 93,
   "id": "83d7e4aa-7620-4a4d-abb4-4b4a99f75668",
   "metadata": {},
   "outputs": [
    {
     "data": {
      "image/png": "[encoded data removed]",
      "image/svg+xml": [
       "<?xml version=\"1.0\" encoding=\"utf-8\"?>\n",
       "<svg xmlns=\"http://www.w3.org/2000/svg\" xmlns:xlink=\"http://www.w3.org/1999/xlink\" width=\"600\" height=\"400\" viewBox=\"0 0 2400 1600\">\n",
       "<defs>\n",
       "  <clipPath id=\"clip940\">\n",
       "    <rect x=\"0\" y=\"0\" width=\"2400\" height=\"1600\"/>\n",
       "  </clipPath>\n",
       "</defs>\n",
       "<path clip-path=\"url(#clip940)\" d=\"M0 1600 L2400 1600 L2400 8.88178e-14 L0 8.88178e-14  Z\" fill=\"#ffffff\" fill-rule=\"evenodd\" fill-opacity=\"1\"/>\n",
       "<defs>\n",
       "  <clipPath id=\"clip941\">\n",
       "    <rect x=\"480\" y=\"0\" width=\"1681\" height=\"1600\"/>\n",
       "  </clipPath>\n",
       "</defs>\n",
       "<path clip-path=\"url(#clip940)\" d=\"M141.853 1486.45 L2352.76 1486.45 L2352.76 47.2441 L141.853 47.2441  Z\" fill=\"#ffffff\" fill-rule=\"evenodd\" fill-opacity=\"1\"/>\n",
       "<defs>\n",
       "  <clipPath id=\"clip942\">\n",
       "    <rect x=\"141\" y=\"47\" width=\"2212\" height=\"1440\"/>\n",
       "  </clipPath>\n",
       "</defs>\n",
       "<polyline clip-path=\"url(#clip942)\" style=\"stroke:#000000; stroke-linecap:round; stroke-linejoin:round; stroke-width:2; stroke-opacity:0.1; fill:none\" points=\"436.177,1486.45 436.177,47.2441 \"/>\n",
       "<polyline clip-path=\"url(#clip942)\" style=\"stroke:#000000; stroke-linecap:round; stroke-linejoin:round; stroke-width:2; stroke-opacity:0.1; fill:none\" points=\"899.678,1486.45 899.678,47.2441 \"/>\n",
       "<polyline clip-path=\"url(#clip942)\" style=\"stroke:#000000; stroke-linecap:round; stroke-linejoin:round; stroke-width:2; stroke-opacity:0.1; fill:none\" points=\"1363.18,1486.45 1363.18,47.2441 \"/>\n",
       "<polyline clip-path=\"url(#clip942)\" style=\"stroke:#000000; stroke-linecap:round; stroke-linejoin:round; stroke-width:2; stroke-opacity:0.1; fill:none\" points=\"1826.68,1486.45 1826.68,47.2441 \"/>\n",
       "<polyline clip-path=\"url(#clip942)\" style=\"stroke:#000000; stroke-linecap:round; stroke-linejoin:round; stroke-width:2; stroke-opacity:0.1; fill:none\" points=\"2290.18,1486.45 2290.18,47.2441 \"/>\n",
       "<polyline clip-path=\"url(#clip942)\" style=\"stroke:#000000; stroke-linecap:round; stroke-linejoin:round; stroke-width:2; stroke-opacity:0.1; fill:none\" points=\"141.853,1466.52 2352.76,1466.52 \"/>\n",
       "<polyline clip-path=\"url(#clip942)\" style=\"stroke:#000000; stroke-linecap:round; stroke-linejoin:round; stroke-width:2; stroke-opacity:0.1; fill:none\" points=\"141.853,1163.3 2352.76,1163.3 \"/>\n",
       "<polyline clip-path=\"url(#clip942)\" style=\"stroke:#000000; stroke-linecap:round; stroke-linejoin:round; stroke-width:2; stroke-opacity:0.1; fill:none\" points=\"141.853,860.08 2352.76,860.08 \"/>\n",
       "<polyline clip-path=\"url(#clip942)\" style=\"stroke:#000000; stroke-linecap:round; stroke-linejoin:round; stroke-width:2; stroke-opacity:0.1; fill:none\" points=\"141.853,556.86 2352.76,556.86 \"/>\n",
       "<polyline clip-path=\"url(#clip942)\" style=\"stroke:#000000; stroke-linecap:round; stroke-linejoin:round; stroke-width:2; stroke-opacity:0.1; fill:none\" points=\"141.853,253.639 2352.76,253.639 \"/>\n",
       "<polyline clip-path=\"url(#clip940)\" style=\"stroke:#000000; stroke-linecap:round; stroke-linejoin:round; stroke-width:4; stroke-opacity:1; fill:none\" points=\"141.853,1486.45 2352.76,1486.45 \"/>\n",
       "<polyline clip-path=\"url(#clip940)\" style=\"stroke:#000000; stroke-linecap:round; stroke-linejoin:round; stroke-width:4; stroke-opacity:1; fill:none\" points=\"436.177,1486.45 436.177,1467.55 \"/>\n",
       "<polyline clip-path=\"url(#clip940)\" style=\"stroke:#000000; stroke-linecap:round; stroke-linejoin:round; stroke-width:4; stroke-opacity:1; fill:none\" points=\"899.678,1486.45 899.678,1467.55 \"/>\n",
       "<polyline clip-path=\"url(#clip940)\" style=\"stroke:#000000; stroke-linecap:round; stroke-linejoin:round; stroke-width:4; stroke-opacity:1; fill:none\" points=\"1363.18,1486.45 1363.18,1467.55 \"/>\n",
       "<polyline clip-path=\"url(#clip940)\" style=\"stroke:#000000; stroke-linecap:round; stroke-linejoin:round; stroke-width:4; stroke-opacity:1; fill:none\" points=\"1826.68,1486.45 1826.68,1467.55 \"/>\n",
       "<polyline clip-path=\"url(#clip940)\" style=\"stroke:#000000; stroke-linecap:round; stroke-linejoin:round; stroke-width:4; stroke-opacity:1; fill:none\" points=\"2290.18,1486.45 2290.18,1467.55 \"/>\n",
       "<path clip-path=\"url(#clip940)\" d=\"M430.829 1544.91 L447.149 1544.91 L447.149 1548.85 L425.204 1548.85 L425.204 1544.91 Q427.866 1542.16 432.45 1537.53 Q437.056 1532.88 438.237 1531.53 Q440.482 1529.01 441.362 1527.27 Q442.264 1525.51 442.264 1523.82 Q442.264 1521.07 440.32 1519.33 Q438.399 1517.6 435.297 1517.6 Q433.098 1517.6 430.644 1518.36 Q428.214 1519.13 425.436 1520.68 L425.436 1515.95 Q428.26 1514.82 430.714 1514.24 Q433.167 1513.66 435.204 1513.66 Q440.575 1513.66 443.769 1516.35 Q446.963 1519.03 446.963 1523.52 Q446.963 1525.65 446.153 1527.57 Q445.366 1529.47 443.26 1532.07 Q442.681 1532.74 439.579 1535.95 Q436.477 1539.15 430.829 1544.91 Z\" fill=\"#000000\" fill-rule=\"nonzero\" fill-opacity=\"1\" /><path clip-path=\"url(#clip940)\" d=\"M902.687 1518.36 L890.882 1536.81 L902.687 1536.81 L902.687 1518.36 M901.461 1514.29 L907.34 1514.29 L907.34 1536.81 L912.271 1536.81 L912.271 1540.7 L907.34 1540.7 L907.34 1548.85 L902.687 1548.85 L902.687 1540.7 L887.086 1540.7 L887.086 1536.19 L901.461 1514.29 Z\" fill=\"#000000\" fill-rule=\"nonzero\" fill-opacity=\"1\" /><path clip-path=\"url(#clip940)\" d=\"M1363.58 1529.7 Q1360.44 1529.7 1358.58 1531.86 Q1356.76 1534.01 1356.76 1537.76 Q1356.76 1541.49 1358.58 1543.66 Q1360.44 1545.82 1363.58 1545.82 Q1366.73 1545.82 1368.56 1543.66 Q1370.41 1541.49 1370.41 1537.76 Q1370.41 1534.01 1368.56 1531.86 Q1366.73 1529.7 1363.58 1529.7 M1372.87 1515.05 L1372.87 1519.31 Q1371.11 1518.48 1369.3 1518.04 Q1367.52 1517.6 1365.76 1517.6 Q1361.13 1517.6 1358.68 1520.72 Q1356.25 1523.85 1355.9 1530.17 Q1357.27 1528.15 1359.33 1527.09 Q1361.39 1526 1363.86 1526 Q1369.07 1526 1372.08 1529.17 Q1375.11 1532.32 1375.11 1537.76 Q1375.11 1543.08 1371.96 1546.3 Q1368.82 1549.52 1363.58 1549.52 Q1357.59 1549.52 1354.42 1544.94 Q1351.25 1540.33 1351.25 1531.6 Q1351.25 1523.41 1355.14 1518.55 Q1359.02 1513.66 1365.58 1513.66 Q1367.33 1513.66 1369.12 1514.01 Q1370.92 1514.36 1372.87 1515.05 Z\" fill=\"#000000\" fill-rule=\"nonzero\" fill-opacity=\"1\" /><path clip-path=\"url(#clip940)\" d=\"M1826.68 1532.44 Q1823.35 1532.44 1821.43 1534.22 Q1819.53 1536 1819.53 1539.13 Q1819.53 1542.25 1821.43 1544.03 Q1823.35 1545.82 1826.68 1545.82 Q1830.01 1545.82 1831.94 1544.03 Q1833.86 1542.23 1833.86 1539.13 Q1833.86 1536 1831.94 1534.22 Q1830.04 1532.44 1826.68 1532.44 M1822.01 1530.45 Q1819 1529.7 1817.31 1527.64 Q1815.64 1525.58 1815.64 1522.62 Q1815.64 1518.48 1818.58 1516.07 Q1821.54 1513.66 1826.68 1513.66 Q1831.84 1513.66 1834.78 1516.07 Q1837.72 1518.48 1837.72 1522.62 Q1837.72 1525.58 1836.03 1527.64 Q1834.37 1529.7 1831.38 1530.45 Q1834.76 1531.23 1836.64 1533.52 Q1838.53 1535.82 1838.53 1539.13 Q1838.53 1544.15 1835.45 1546.83 Q1832.4 1549.52 1826.68 1549.52 Q1820.96 1549.52 1817.89 1546.83 Q1814.83 1544.15 1814.83 1539.13 Q1814.83 1535.82 1816.73 1533.52 Q1818.63 1531.23 1822.01 1530.45 M1820.29 1523.06 Q1820.29 1525.75 1821.96 1527.25 Q1823.65 1528.76 1826.68 1528.76 Q1829.69 1528.76 1831.38 1527.25 Q1833.09 1525.75 1833.09 1523.06 Q1833.09 1520.38 1831.38 1518.87 Q1829.69 1517.37 1826.68 1517.37 Q1823.65 1517.37 1821.96 1518.87 Q1820.29 1520.38 1820.29 1523.06 Z\" fill=\"#000000\" fill-rule=\"nonzero\" fill-opacity=\"1\" /><path clip-path=\"url(#clip940)\" d=\"M2264.87 1544.91 L2272.51 1544.91 L2272.51 1518.55 L2264.2 1520.21 L2264.2 1515.95 L2272.46 1514.29 L2277.14 1514.29 L2277.14 1544.91 L2284.78 1544.91 L2284.78 1548.85 L2264.87 1548.85 L2264.87 1544.91 Z\" fill=\"#000000\" fill-rule=\"nonzero\" fill-opacity=\"1\" /><path clip-path=\"url(#clip940)\" d=\"M2304.22 1517.37 Q2300.61 1517.37 2298.78 1520.93 Q2296.98 1524.47 2296.98 1531.6 Q2296.98 1538.71 2298.78 1542.27 Q2300.61 1545.82 2304.22 1545.82 Q2307.86 1545.82 2309.66 1542.27 Q2311.49 1538.71 2311.49 1531.6 Q2311.49 1524.47 2309.66 1520.93 Q2307.86 1517.37 2304.22 1517.37 M2304.22 1513.66 Q2310.03 1513.66 2313.09 1518.27 Q2316.17 1522.85 2316.17 1531.6 Q2316.17 1540.33 2313.09 1544.94 Q2310.03 1549.52 2304.22 1549.52 Q2298.41 1549.52 2295.33 1544.94 Q2292.28 1540.33 2292.28 1531.6 Q2292.28 1522.85 2295.33 1518.27 Q2298.41 1513.66 2304.22 1513.66 Z\" fill=\"#000000\" fill-rule=\"nonzero\" fill-opacity=\"1\" /><polyline clip-path=\"url(#clip940)\" style=\"stroke:#000000; stroke-linecap:round; stroke-linejoin:round; stroke-width:4; stroke-opacity:1; fill:none\" points=\"141.853,1486.45 141.853,47.2441 \"/>\n",
       "<polyline clip-path=\"url(#clip940)\" style=\"stroke:#000000; stroke-linecap:round; stroke-linejoin:round; stroke-width:4; stroke-opacity:1; fill:none\" points=\"141.853,1466.52 160.751,1466.52 \"/>\n",
       "<polyline clip-path=\"url(#clip940)\" style=\"stroke:#000000; stroke-linecap:round; stroke-linejoin:round; stroke-width:4; stroke-opacity:1; fill:none\" points=\"141.853,1163.3 160.751,1163.3 \"/>\n",
       "<polyline clip-path=\"url(#clip940)\" style=\"stroke:#000000; stroke-linecap:round; stroke-linejoin:round; stroke-width:4; stroke-opacity:1; fill:none\" points=\"141.853,860.08 160.751,860.08 \"/>\n",
       "<polyline clip-path=\"url(#clip940)\" style=\"stroke:#000000; stroke-linecap:round; stroke-linejoin:round; stroke-width:4; stroke-opacity:1; fill:none\" points=\"141.853,556.86 160.751,556.86 \"/>\n",
       "<polyline clip-path=\"url(#clip940)\" style=\"stroke:#000000; stroke-linecap:round; stroke-linejoin:round; stroke-width:4; stroke-opacity:1; fill:none\" points=\"141.853,253.639 160.751,253.639 \"/>\n",
       "<path clip-path=\"url(#clip940)\" d=\"M93.9086 1452.32 Q90.2975 1452.32 88.4688 1455.88 Q86.6632 1459.43 86.6632 1466.56 Q86.6632 1473.66 88.4688 1477.23 Q90.2975 1480.77 93.9086 1480.77 Q97.5428 1480.77 99.3483 1477.23 Q101.177 1473.66 101.177 1466.56 Q101.177 1459.43 99.3483 1455.88 Q97.5428 1452.32 93.9086 1452.32 M93.9086 1448.62 Q99.7187 1448.62 102.774 1453.22 Q105.853 1457.81 105.853 1466.56 Q105.853 1475.28 102.774 1479.89 Q99.7187 1484.47 93.9086 1484.47 Q88.0984 1484.47 85.0197 1479.89 Q81.9642 1475.28 81.9642 1466.56 Q81.9642 1457.81 85.0197 1453.22 Q88.0984 1448.62 93.9086 1448.62 Z\" fill=\"#000000\" fill-rule=\"nonzero\" fill-opacity=\"1\" /><path clip-path=\"url(#clip940)\" d=\"M57.7745 1176.64 L74.0939 1176.64 L74.0939 1180.58 L52.1495 1180.58 L52.1495 1176.64 Q54.8115 1173.89 59.3949 1169.26 Q64.0013 1164.61 65.1819 1163.27 Q67.4272 1160.74 68.3068 1159.01 Q69.2096 1157.25 69.2096 1155.56 Q69.2096 1152.8 67.2652 1151.07 Q65.3439 1149.33 62.2421 1149.33 Q60.043 1149.33 57.5893 1150.09 Q55.1588 1150.86 52.381 1152.41 L52.381 1147.69 Q55.2051 1146.55 57.6588 1145.97 Q60.1124 1145.4 62.1495 1145.4 Q67.5198 1145.4 70.7142 1148.08 Q73.9087 1150.77 73.9087 1155.26 Q73.9087 1157.39 73.0985 1159.31 Q72.3115 1161.21 70.205 1163.8 Q69.6263 1164.47 66.5245 1167.69 Q63.4226 1170.88 57.7745 1176.64 Z\" fill=\"#000000\" fill-rule=\"nonzero\" fill-opacity=\"1\" /><path clip-path=\"url(#clip940)\" d=\"M93.9086 1149.1 Q90.2975 1149.1 88.4688 1152.66 Q86.6632 1156.21 86.6632 1163.33 Q86.6632 1170.44 88.4688 1174.01 Q90.2975 1177.55 93.9086 1177.55 Q97.5428 1177.55 99.3483 1174.01 Q101.177 1170.44 101.177 1163.33 Q101.177 1156.21 99.3483 1152.66 Q97.5428 1149.1 93.9086 1149.1 M93.9086 1145.4 Q99.7187 1145.4 102.774 1150 Q105.853 1154.58 105.853 1163.33 Q105.853 1172.06 102.774 1176.67 Q99.7187 1181.25 93.9086 1181.25 Q88.0984 1181.25 85.0197 1176.67 Q81.9642 1172.06 81.9642 1163.33 Q81.9642 1154.58 85.0197 1150 Q88.0984 1145.4 93.9086 1145.4 Z\" fill=\"#000000\" fill-rule=\"nonzero\" fill-opacity=\"1\" /><path clip-path=\"url(#clip940)\" d=\"M66.5939 846.874 L54.7884 865.323 L66.5939 865.323 L66.5939 846.874 M65.367 842.8 L71.2466 842.8 L71.2466 865.323 L76.1772 865.323 L76.1772 869.212 L71.2466 869.212 L71.2466 877.36 L66.5939 877.36 L66.5939 869.212 L50.9921 869.212 L50.9921 864.698 L65.367 842.8 Z\" fill=\"#000000\" fill-rule=\"nonzero\" fill-opacity=\"1\" /><path clip-path=\"url(#clip940)\" d=\"M93.9086 845.879 Q90.2975 845.879 88.4688 849.443 Q86.6632 852.985 86.6632 860.115 Q86.6632 867.221 88.4688 870.786 Q90.2975 874.327 93.9086 874.327 Q97.5428 874.327 99.3483 870.786 Q101.177 867.221 101.177 860.115 Q101.177 852.985 99.3483 849.443 Q97.5428 845.879 93.9086 845.879 M93.9086 842.175 Q99.7187 842.175 102.774 846.781 Q105.853 851.365 105.853 860.115 Q105.853 868.841 102.774 873.448 Q99.7187 878.031 93.9086 878.031 Q88.0984 878.031 85.0197 873.448 Q81.9642 868.841 81.9642 860.115 Q81.9642 851.365 85.0197 846.781 Q88.0984 842.175 93.9086 842.175 Z\" fill=\"#000000\" fill-rule=\"nonzero\" fill-opacity=\"1\" /><path clip-path=\"url(#clip940)\" d=\"M64.3254 554.996 Q61.1773 554.996 59.3254 557.149 Q57.4967 559.302 57.4967 563.052 Q57.4967 566.779 59.3254 568.954 Q61.1773 571.107 64.3254 571.107 Q67.4735 571.107 69.3022 568.954 Q71.1541 566.779 71.1541 563.052 Q71.1541 559.302 69.3022 557.149 Q67.4735 554.996 64.3254 554.996 M73.6077 540.344 L73.6077 544.603 Q71.8485 543.769 70.0429 543.33 Q68.2606 542.89 66.5013 542.89 Q61.8717 542.89 59.418 546.015 Q56.9875 549.14 56.6402 555.459 Q58.006 553.445 60.0662 552.38 Q62.1263 551.293 64.6032 551.293 Q69.8115 551.293 72.8207 554.464 Q75.8531 557.612 75.8531 563.052 Q75.8531 568.376 72.705 571.593 Q69.5568 574.811 64.3254 574.811 Q58.33 574.811 55.1588 570.228 Q51.9875 565.621 51.9875 556.894 Q51.9875 548.7 55.8764 543.839 Q59.7652 538.955 66.3161 538.955 Q68.0754 538.955 69.8578 539.302 Q71.6633 539.649 73.6077 540.344 Z\" fill=\"#000000\" fill-rule=\"nonzero\" fill-opacity=\"1\" /><path clip-path=\"url(#clip940)\" d=\"M93.9086 542.658 Q90.2975 542.658 88.4688 546.223 Q86.6632 549.765 86.6632 556.894 Q86.6632 564.001 88.4688 567.566 Q90.2975 571.107 93.9086 571.107 Q97.5428 571.107 99.3483 567.566 Q101.177 564.001 101.177 556.894 Q101.177 549.765 99.3483 546.223 Q97.5428 542.658 93.9086 542.658 M93.9086 538.955 Q99.7187 538.955 102.774 543.561 Q105.853 548.144 105.853 556.894 Q105.853 565.621 102.774 570.228 Q99.7187 574.811 93.9086 574.811 Q88.0984 574.811 85.0197 570.228 Q81.9642 565.621 81.9642 556.894 Q81.9642 548.144 85.0197 543.561 Q88.0984 538.955 93.9086 538.955 Z\" fill=\"#000000\" fill-rule=\"nonzero\" fill-opacity=\"1\" /><path clip-path=\"url(#clip940)\" d=\"M63.7467 254.507 Q60.4134 254.507 58.4921 256.29 Q56.5939 258.072 56.5939 261.197 Q56.5939 264.322 58.4921 266.105 Q60.4134 267.887 63.7467 267.887 Q67.08 267.887 69.0013 266.105 Q70.9226 264.299 70.9226 261.197 Q70.9226 258.072 69.0013 256.29 Q67.1032 254.507 63.7467 254.507 M59.0708 252.517 Q56.0615 251.776 54.3717 249.716 Q52.7051 247.656 52.7051 244.693 Q52.7051 240.549 55.6449 238.142 Q58.6078 235.734 63.7467 235.734 Q68.9087 235.734 71.8485 238.142 Q74.7883 240.549 74.7883 244.693 Q74.7883 247.656 73.0985 249.716 Q71.4318 251.776 68.4457 252.517 Q71.8253 253.304 73.7003 255.595 Q75.5985 257.887 75.5985 261.197 Q75.5985 266.22 72.5198 268.906 Q69.4642 271.591 63.7467 271.591 Q58.0291 271.591 54.9504 268.906 Q51.8949 266.22 51.8949 261.197 Q51.8949 257.887 53.793 255.595 Q55.6912 253.304 59.0708 252.517 M57.3578 245.133 Q57.3578 247.818 59.0245 249.322 Q60.7143 250.827 63.7467 250.827 Q66.7559 250.827 68.4457 249.322 Q70.1587 247.818 70.1587 245.133 Q70.1587 242.447 68.4457 240.943 Q66.7559 239.438 63.7467 239.438 Q60.7143 239.438 59.0245 240.943 Q57.3578 242.447 57.3578 245.133 Z\" fill=\"#000000\" fill-rule=\"nonzero\" fill-opacity=\"1\" /><path clip-path=\"url(#clip940)\" d=\"M93.9086 239.438 Q90.2975 239.438 88.4688 243.003 Q86.6632 246.545 86.6632 253.674 Q86.6632 260.781 88.4688 264.345 Q90.2975 267.887 93.9086 267.887 Q97.5428 267.887 99.3483 264.345 Q101.177 260.781 101.177 253.674 Q101.177 246.545 99.3483 243.003 Q97.5428 239.438 93.9086 239.438 M93.9086 235.734 Q99.7187 235.734 102.774 240.341 Q105.853 244.924 105.853 253.674 Q105.853 262.401 102.774 267.007 Q99.7187 271.591 93.9086 271.591 Q88.0984 271.591 85.0197 267.007 Q81.9642 262.401 81.9642 253.674 Q81.9642 244.924 85.0197 240.341 Q88.0984 235.734 93.9086 235.734 Z\" fill=\"#000000\" fill-rule=\"nonzero\" fill-opacity=\"1\" /><polyline clip-path=\"url(#clip942)\" style=\"stroke:#009af9; stroke-linecap:round; stroke-linejoin:round; stroke-width:4; stroke-opacity:1; fill:none\" points=\"204.426,1445.72 320.301,1424.26 436.177,1396.38 552.052,1362.14 667.927,1321.56 783.803,1274.64 899.678,1221.38 1015.55,1161.78 1131.43,1095.85 1247.3,1023.58 1363.18,944.975 1479.06,860.031 1594.93,768.749 1710.81,671.13 1826.68,567.174 1942.56,456.881 2058.43,340.25 2174.31,217.282 2290.18,87.9763 \"/>\n",
       "</svg>\n"
      ],
      "text/html": [
       "<?xml version=\"1.0\" encoding=\"utf-8\"?>\n",
       "<svg xmlns=\"http://www.w3.org/2000/svg\" xmlns:xlink=\"http://www.w3.org/1999/xlink\" width=\"600\" height=\"400\" viewBox=\"0 0 2400 1600\">\n",
       "<defs>\n",
       "  <clipPath id=\"clip990\">\n",
       "    <rect x=\"0\" y=\"0\" width=\"2400\" height=\"1600\"/>\n",
       "  </clipPath>\n",
       "</defs>\n",
       "<path clip-path=\"url(#clip990)\" d=\"M0 1600 L2400 1600 L2400 8.88178e-14 L0 8.88178e-14  Z\" fill=\"#ffffff\" fill-rule=\"evenodd\" fill-opacity=\"1\"/>\n",
       "<defs>\n",
       "  <clipPath id=\"clip991\">\n",
       "    <rect x=\"480\" y=\"0\" width=\"1681\" height=\"1600\"/>\n",
       "  </clipPath>\n",
       "</defs>\n",
       "<path clip-path=\"url(#clip990)\" d=\"M141.853 1486.45 L2352.76 1486.45 L2352.76 47.2441 L141.853 47.2441  Z\" fill=\"#ffffff\" fill-rule=\"evenodd\" fill-opacity=\"1\"/>\n",
       "<defs>\n",
       "  <clipPath id=\"clip992\">\n",
       "    <rect x=\"141\" y=\"47\" width=\"2212\" height=\"1440\"/>\n",
       "  </clipPath>\n",
       "</defs>\n",
       "<polyline clip-path=\"url(#clip992)\" style=\"stroke:#000000; stroke-linecap:round; stroke-linejoin:round; stroke-width:2; stroke-opacity:0.1; fill:none\" points=\"436.177,1486.45 436.177,47.2441 \"/>\n",
       "<polyline clip-path=\"url(#clip992)\" style=\"stroke:#000000; stroke-linecap:round; stroke-linejoin:round; stroke-width:2; stroke-opacity:0.1; fill:none\" points=\"899.678,1486.45 899.678,47.2441 \"/>\n",
       "<polyline clip-path=\"url(#clip992)\" style=\"stroke:#000000; stroke-linecap:round; stroke-linejoin:round; stroke-width:2; stroke-opacity:0.1; fill:none\" points=\"1363.18,1486.45 1363.18,47.2441 \"/>\n",
       "<polyline clip-path=\"url(#clip992)\" style=\"stroke:#000000; stroke-linecap:round; stroke-linejoin:round; stroke-width:2; stroke-opacity:0.1; fill:none\" points=\"1826.68,1486.45 1826.68,47.2441 \"/>\n",
       "<polyline clip-path=\"url(#clip992)\" style=\"stroke:#000000; stroke-linecap:round; stroke-linejoin:round; stroke-width:2; stroke-opacity:0.1; fill:none\" points=\"2290.18,1486.45 2290.18,47.2441 \"/>\n",
       "<polyline clip-path=\"url(#clip992)\" style=\"stroke:#000000; stroke-linecap:round; stroke-linejoin:round; stroke-width:2; stroke-opacity:0.1; fill:none\" points=\"141.853,1466.52 2352.76,1466.52 \"/>\n",
       "<polyline clip-path=\"url(#clip992)\" style=\"stroke:#000000; stroke-linecap:round; stroke-linejoin:round; stroke-width:2; stroke-opacity:0.1; fill:none\" points=\"141.853,1163.3 2352.76,1163.3 \"/>\n",
       "<polyline clip-path=\"url(#clip992)\" style=\"stroke:#000000; stroke-linecap:round; stroke-linejoin:round; stroke-width:2; stroke-opacity:0.1; fill:none\" points=\"141.853,860.08 2352.76,860.08 \"/>\n",
       "<polyline clip-path=\"url(#clip992)\" style=\"stroke:#000000; stroke-linecap:round; stroke-linejoin:round; stroke-width:2; stroke-opacity:0.1; fill:none\" points=\"141.853,556.86 2352.76,556.86 \"/>\n",
       "<polyline clip-path=\"url(#clip992)\" style=\"stroke:#000000; stroke-linecap:round; stroke-linejoin:round; stroke-width:2; stroke-opacity:0.1; fill:none\" points=\"141.853,253.639 2352.76,253.639 \"/>\n",
       "<polyline clip-path=\"url(#clip990)\" style=\"stroke:#000000; stroke-linecap:round; stroke-linejoin:round; stroke-width:4; stroke-opacity:1; fill:none\" points=\"141.853,1486.45 2352.76,1486.45 \"/>\n",
       "<polyline clip-path=\"url(#clip990)\" style=\"stroke:#000000; stroke-linecap:round; stroke-linejoin:round; stroke-width:4; stroke-opacity:1; fill:none\" points=\"436.177,1486.45 436.177,1467.55 \"/>\n",
       "<polyline clip-path=\"url(#clip990)\" style=\"stroke:#000000; stroke-linecap:round; stroke-linejoin:round; stroke-width:4; stroke-opacity:1; fill:none\" points=\"899.678,1486.45 899.678,1467.55 \"/>\n",
       "<polyline clip-path=\"url(#clip990)\" style=\"stroke:#000000; stroke-linecap:round; stroke-linejoin:round; stroke-width:4; stroke-opacity:1; fill:none\" points=\"1363.18,1486.45 1363.18,1467.55 \"/>\n",
       "<polyline clip-path=\"url(#clip990)\" style=\"stroke:#000000; stroke-linecap:round; stroke-linejoin:round; stroke-width:4; stroke-opacity:1; fill:none\" points=\"1826.68,1486.45 1826.68,1467.55 \"/>\n",
       "<polyline clip-path=\"url(#clip990)\" style=\"stroke:#000000; stroke-linecap:round; stroke-linejoin:round; stroke-width:4; stroke-opacity:1; fill:none\" points=\"2290.18,1486.45 2290.18,1467.55 \"/>\n",
       "<path clip-path=\"url(#clip990)\" d=\"M430.829 1544.91 L447.149 1544.91 L447.149 1548.85 L425.204 1548.85 L425.204 1544.91 Q427.866 1542.16 432.45 1537.53 Q437.056 1532.88 438.237 1531.53 Q440.482 1529.01 441.362 1527.27 Q442.264 1525.51 442.264 1523.82 Q442.264 1521.07 440.32 1519.33 Q438.399 1517.6 435.297 1517.6 Q433.098 1517.6 430.644 1518.36 Q428.214 1519.13 425.436 1520.68 L425.436 1515.95 Q428.26 1514.82 430.714 1514.24 Q433.167 1513.66 435.204 1513.66 Q440.575 1513.66 443.769 1516.35 Q446.963 1519.03 446.963 1523.52 Q446.963 1525.65 446.153 1527.57 Q445.366 1529.47 443.26 1532.07 Q442.681 1532.74 439.579 1535.95 Q436.477 1539.15 430.829 1544.91 Z\" fill=\"#000000\" fill-rule=\"nonzero\" fill-opacity=\"1\" /><path clip-path=\"url(#clip990)\" d=\"M902.687 1518.36 L890.882 1536.81 L902.687 1536.81 L902.687 1518.36 M901.461 1514.29 L907.34 1514.29 L907.34 1536.81 L912.271 1536.81 L912.271 1540.7 L907.34 1540.7 L907.34 1548.85 L902.687 1548.85 L902.687 1540.7 L887.086 1540.7 L887.086 1536.19 L901.461 1514.29 Z\" fill=\"#000000\" fill-rule=\"nonzero\" fill-opacity=\"1\" /><path clip-path=\"url(#clip990)\" d=\"M1363.58 1529.7 Q1360.44 1529.7 1358.58 1531.86 Q1356.76 1534.01 1356.76 1537.76 Q1356.76 1541.49 1358.58 1543.66 Q1360.44 1545.82 1363.58 1545.82 Q1366.73 1545.82 1368.56 1543.66 Q1370.41 1541.49 1370.41 1537.76 Q1370.41 1534.01 1368.56 1531.86 Q1366.73 1529.7 1363.58 1529.7 M1372.87 1515.05 L1372.87 1519.31 Q1371.11 1518.48 1369.3 1518.04 Q1367.52 1517.6 1365.76 1517.6 Q1361.13 1517.6 1358.68 1520.72 Q1356.25 1523.85 1355.9 1530.17 Q1357.27 1528.15 1359.33 1527.09 Q1361.39 1526 1363.86 1526 Q1369.07 1526 1372.08 1529.17 Q1375.11 1532.32 1375.11 1537.76 Q1375.11 1543.08 1371.96 1546.3 Q1368.82 1549.52 1363.58 1549.52 Q1357.59 1549.52 1354.42 1544.94 Q1351.25 1540.33 1351.25 1531.6 Q1351.25 1523.41 1355.14 1518.55 Q1359.02 1513.66 1365.58 1513.66 Q1367.33 1513.66 1369.12 1514.01 Q1370.92 1514.36 1372.87 1515.05 Z\" fill=\"#000000\" fill-rule=\"nonzero\" fill-opacity=\"1\" /><path clip-path=\"url(#clip990)\" d=\"M1826.68 1532.44 Q1823.35 1532.44 1821.43 1534.22 Q1819.53 1536 1819.53 1539.13 Q1819.53 1542.25 1821.43 1544.03 Q1823.35 1545.82 1826.68 1545.82 Q1830.01 1545.82 1831.94 1544.03 Q1833.86 1542.23 1833.86 1539.13 Q1833.86 1536 1831.94 1534.22 Q1830.04 1532.44 1826.68 1532.44 M1822.01 1530.45 Q1819 1529.7 1817.31 1527.64 Q1815.64 1525.58 1815.64 1522.62 Q1815.64 1518.48 1818.58 1516.07 Q1821.54 1513.66 1826.68 1513.66 Q1831.84 1513.66 1834.78 1516.07 Q1837.72 1518.48 1837.72 1522.62 Q1837.72 1525.58 1836.03 1527.64 Q1834.37 1529.7 1831.38 1530.45 Q1834.76 1531.23 1836.64 1533.52 Q1838.53 1535.82 1838.53 1539.13 Q1838.53 1544.15 1835.45 1546.83 Q1832.4 1549.52 1826.68 1549.52 Q1820.96 1549.52 1817.89 1546.83 Q1814.83 1544.15 1814.83 1539.13 Q1814.83 1535.82 1816.73 1533.52 Q1818.63 1531.23 1822.01 1530.45 M1820.29 1523.06 Q1820.29 1525.75 1821.96 1527.25 Q1823.65 1528.76 1826.68 1528.76 Q1829.69 1528.76 1831.38 1527.25 Q1833.09 1525.75 1833.09 1523.06 Q1833.09 1520.38 1831.38 1518.87 Q1829.69 1517.37 1826.68 1517.37 Q1823.65 1517.37 1821.96 1518.87 Q1820.29 1520.38 1820.29 1523.06 Z\" fill=\"#000000\" fill-rule=\"nonzero\" fill-opacity=\"1\" /><path clip-path=\"url(#clip990)\" d=\"M2264.87 1544.91 L2272.51 1544.91 L2272.51 1518.55 L2264.2 1520.21 L2264.2 1515.95 L2272.46 1514.29 L2277.14 1514.29 L2277.14 1544.91 L2284.78 1544.91 L2284.78 1548.85 L2264.87 1548.85 L2264.87 1544.91 Z\" fill=\"#000000\" fill-rule=\"nonzero\" fill-opacity=\"1\" /><path clip-path=\"url(#clip990)\" d=\"M2304.22 1517.37 Q2300.61 1517.37 2298.78 1520.93 Q2296.98 1524.47 2296.98 1531.6 Q2296.98 1538.71 2298.78 1542.27 Q2300.61 1545.82 2304.22 1545.82 Q2307.86 1545.82 2309.66 1542.27 Q2311.49 1538.71 2311.49 1531.6 Q2311.49 1524.47 2309.66 1520.93 Q2307.86 1517.37 2304.22 1517.37 M2304.22 1513.66 Q2310.03 1513.66 2313.09 1518.27 Q2316.17 1522.85 2316.17 1531.6 Q2316.17 1540.33 2313.09 1544.94 Q2310.03 1549.52 2304.22 1549.52 Q2298.41 1549.52 2295.33 1544.94 Q2292.28 1540.33 2292.28 1531.6 Q2292.28 1522.85 2295.33 1518.27 Q2298.41 1513.66 2304.22 1513.66 Z\" fill=\"#000000\" fill-rule=\"nonzero\" fill-opacity=\"1\" /><polyline clip-path=\"url(#clip990)\" style=\"stroke:#000000; stroke-linecap:round; stroke-linejoin:round; stroke-width:4; stroke-opacity:1; fill:none\" points=\"141.853,1486.45 141.853,47.2441 \"/>\n",
       "<polyline clip-path=\"url(#clip990)\" style=\"stroke:#000000; stroke-linecap:round; stroke-linejoin:round; stroke-width:4; stroke-opacity:1; fill:none\" points=\"141.853,1466.52 160.751,1466.52 \"/>\n",
       "<polyline clip-path=\"url(#clip990)\" style=\"stroke:#000000; stroke-linecap:round; stroke-linejoin:round; stroke-width:4; stroke-opacity:1; fill:none\" points=\"141.853,1163.3 160.751,1163.3 \"/>\n",
       "<polyline clip-path=\"url(#clip990)\" style=\"stroke:#000000; stroke-linecap:round; stroke-linejoin:round; stroke-width:4; stroke-opacity:1; fill:none\" points=\"141.853,860.08 160.751,860.08 \"/>\n",
       "<polyline clip-path=\"url(#clip990)\" style=\"stroke:#000000; stroke-linecap:round; stroke-linejoin:round; stroke-width:4; stroke-opacity:1; fill:none\" points=\"141.853,556.86 160.751,556.86 \"/>\n",
       "<polyline clip-path=\"url(#clip990)\" style=\"stroke:#000000; stroke-linecap:round; stroke-linejoin:round; stroke-width:4; stroke-opacity:1; fill:none\" points=\"141.853,253.639 160.751,253.639 \"/>\n",
       "<path clip-path=\"url(#clip990)\" d=\"M93.9086 1452.32 Q90.2975 1452.32 88.4688 1455.88 Q86.6632 1459.43 86.6632 1466.56 Q86.6632 1473.66 88.4688 1477.23 Q90.2975 1480.77 93.9086 1480.77 Q97.5428 1480.77 99.3483 1477.23 Q101.177 1473.66 101.177 1466.56 Q101.177 1459.43 99.3483 1455.88 Q97.5428 1452.32 93.9086 1452.32 M93.9086 1448.62 Q99.7187 1448.62 102.774 1453.22 Q105.853 1457.81 105.853 1466.56 Q105.853 1475.28 102.774 1479.89 Q99.7187 1484.47 93.9086 1484.47 Q88.0984 1484.47 85.0197 1479.89 Q81.9642 1475.28 81.9642 1466.56 Q81.9642 1457.81 85.0197 1453.22 Q88.0984 1448.62 93.9086 1448.62 Z\" fill=\"#000000\" fill-rule=\"nonzero\" fill-opacity=\"1\" /><path clip-path=\"url(#clip990)\" d=\"M57.7745 1176.64 L74.0939 1176.64 L74.0939 1180.58 L52.1495 1180.58 L52.1495 1176.64 Q54.8115 1173.89 59.3949 1169.26 Q64.0013 1164.61 65.1819 1163.27 Q67.4272 1160.74 68.3068 1159.01 Q69.2096 1157.25 69.2096 1155.56 Q69.2096 1152.8 67.2652 1151.07 Q65.3439 1149.33 62.2421 1149.33 Q60.043 1149.33 57.5893 1150.09 Q55.1588 1150.86 52.381 1152.41 L52.381 1147.69 Q55.2051 1146.55 57.6588 1145.97 Q60.1124 1145.4 62.1495 1145.4 Q67.5198 1145.4 70.7142 1148.08 Q73.9087 1150.77 73.9087 1155.26 Q73.9087 1157.39 73.0985 1159.31 Q72.3115 1161.21 70.205 1163.8 Q69.6263 1164.47 66.5245 1167.69 Q63.4226 1170.88 57.7745 1176.64 Z\" fill=\"#000000\" fill-rule=\"nonzero\" fill-opacity=\"1\" /><path clip-path=\"url(#clip990)\" d=\"M93.9086 1149.1 Q90.2975 1149.1 88.4688 1152.66 Q86.6632 1156.21 86.6632 1163.33 Q86.6632 1170.44 88.4688 1174.01 Q90.2975 1177.55 93.9086 1177.55 Q97.5428 1177.55 99.3483 1174.01 Q101.177 1170.44 101.177 1163.33 Q101.177 1156.21 99.3483 1152.66 Q97.5428 1149.1 93.9086 1149.1 M93.9086 1145.4 Q99.7187 1145.4 102.774 1150 Q105.853 1154.58 105.853 1163.33 Q105.853 1172.06 102.774 1176.67 Q99.7187 1181.25 93.9086 1181.25 Q88.0984 1181.25 85.0197 1176.67 Q81.9642 1172.06 81.9642 1163.33 Q81.9642 1154.58 85.0197 1150 Q88.0984 1145.4 93.9086 1145.4 Z\" fill=\"#000000\" fill-rule=\"nonzero\" fill-opacity=\"1\" /><path clip-path=\"url(#clip990)\" d=\"M66.5939 846.874 L54.7884 865.323 L66.5939 865.323 L66.5939 846.874 M65.367 842.8 L71.2466 842.8 L71.2466 865.323 L76.1772 865.323 L76.1772 869.212 L71.2466 869.212 L71.2466 877.36 L66.5939 877.36 L66.5939 869.212 L50.9921 869.212 L50.9921 864.698 L65.367 842.8 Z\" fill=\"#000000\" fill-rule=\"nonzero\" fill-opacity=\"1\" /><path clip-path=\"url(#clip990)\" d=\"M93.9086 845.879 Q90.2975 845.879 88.4688 849.443 Q86.6632 852.985 86.6632 860.115 Q86.6632 867.221 88.4688 870.786 Q90.2975 874.327 93.9086 874.327 Q97.5428 874.327 99.3483 870.786 Q101.177 867.221 101.177 860.115 Q101.177 852.985 99.3483 849.443 Q97.5428 845.879 93.9086 845.879 M93.9086 842.175 Q99.7187 842.175 102.774 846.781 Q105.853 851.365 105.853 860.115 Q105.853 868.841 102.774 873.448 Q99.7187 878.031 93.9086 878.031 Q88.0984 878.031 85.0197 873.448 Q81.9642 868.841 81.9642 860.115 Q81.9642 851.365 85.0197 846.781 Q88.0984 842.175 93.9086 842.175 Z\" fill=\"#000000\" fill-rule=\"nonzero\" fill-opacity=\"1\" /><path clip-path=\"url(#clip990)\" d=\"M64.3254 554.996 Q61.1773 554.996 59.3254 557.149 Q57.4967 559.302 57.4967 563.052 Q57.4967 566.779 59.3254 568.954 Q61.1773 571.107 64.3254 571.107 Q67.4735 571.107 69.3022 568.954 Q71.1541 566.779 71.1541 563.052 Q71.1541 559.302 69.3022 557.149 Q67.4735 554.996 64.3254 554.996 M73.6077 540.344 L73.6077 544.603 Q71.8485 543.769 70.0429 543.33 Q68.2606 542.89 66.5013 542.89 Q61.8717 542.89 59.418 546.015 Q56.9875 549.14 56.6402 555.459 Q58.006 553.445 60.0662 552.38 Q62.1263 551.293 64.6032 551.293 Q69.8115 551.293 72.8207 554.464 Q75.8531 557.612 75.8531 563.052 Q75.8531 568.376 72.705 571.593 Q69.5568 574.811 64.3254 574.811 Q58.33 574.811 55.1588 570.228 Q51.9875 565.621 51.9875 556.894 Q51.9875 548.7 55.8764 543.839 Q59.7652 538.955 66.3161 538.955 Q68.0754 538.955 69.8578 539.302 Q71.6633 539.649 73.6077 540.344 Z\" fill=\"#000000\" fill-rule=\"nonzero\" fill-opacity=\"1\" /><path clip-path=\"url(#clip990)\" d=\"M93.9086 542.658 Q90.2975 542.658 88.4688 546.223 Q86.6632 549.765 86.6632 556.894 Q86.6632 564.001 88.4688 567.566 Q90.2975 571.107 93.9086 571.107 Q97.5428 571.107 99.3483 567.566 Q101.177 564.001 101.177 556.894 Q101.177 549.765 99.3483 546.223 Q97.5428 542.658 93.9086 542.658 M93.9086 538.955 Q99.7187 538.955 102.774 543.561 Q105.853 548.144 105.853 556.894 Q105.853 565.621 102.774 570.228 Q99.7187 574.811 93.9086 574.811 Q88.0984 574.811 85.0197 570.228 Q81.9642 565.621 81.9642 556.894 Q81.9642 548.144 85.0197 543.561 Q88.0984 538.955 93.9086 538.955 Z\" fill=\"#000000\" fill-rule=\"nonzero\" fill-opacity=\"1\" /><path clip-path=\"url(#clip990)\" d=\"M63.7467 254.507 Q60.4134 254.507 58.4921 256.29 Q56.5939 258.072 56.5939 261.197 Q56.5939 264.322 58.4921 266.105 Q60.4134 267.887 63.7467 267.887 Q67.08 267.887 69.0013 266.105 Q70.9226 264.299 70.9226 261.197 Q70.9226 258.072 69.0013 256.29 Q67.1032 254.507 63.7467 254.507 M59.0708 252.517 Q56.0615 251.776 54.3717 249.716 Q52.7051 247.656 52.7051 244.693 Q52.7051 240.549 55.6449 238.142 Q58.6078 235.734 63.7467 235.734 Q68.9087 235.734 71.8485 238.142 Q74.7883 240.549 74.7883 244.693 Q74.7883 247.656 73.0985 249.716 Q71.4318 251.776 68.4457 252.517 Q71.8253 253.304 73.7003 255.595 Q75.5985 257.887 75.5985 261.197 Q75.5985 266.22 72.5198 268.906 Q69.4642 271.591 63.7467 271.591 Q58.0291 271.591 54.9504 268.906 Q51.8949 266.22 51.8949 261.197 Q51.8949 257.887 53.793 255.595 Q55.6912 253.304 59.0708 252.517 M57.3578 245.133 Q57.3578 247.818 59.0245 249.322 Q60.7143 250.827 63.7467 250.827 Q66.7559 250.827 68.4457 249.322 Q70.1587 247.818 70.1587 245.133 Q70.1587 242.447 68.4457 240.943 Q66.7559 239.438 63.7467 239.438 Q60.7143 239.438 59.0245 240.943 Q57.3578 242.447 57.3578 245.133 Z\" fill=\"#000000\" fill-rule=\"nonzero\" fill-opacity=\"1\" /><path clip-path=\"url(#clip990)\" d=\"M93.9086 239.438 Q90.2975 239.438 88.4688 243.003 Q86.6632 246.545 86.6632 253.674 Q86.6632 260.781 88.4688 264.345 Q90.2975 267.887 93.9086 267.887 Q97.5428 267.887 99.3483 264.345 Q101.177 260.781 101.177 253.674 Q101.177 246.545 99.3483 243.003 Q97.5428 239.438 93.9086 239.438 M93.9086 235.734 Q99.7187 235.734 102.774 240.341 Q105.853 244.924 105.853 253.674 Q105.853 262.401 102.774 267.007 Q99.7187 271.591 93.9086 271.591 Q88.0984 271.591 85.0197 267.007 Q81.9642 262.401 81.9642 253.674 Q81.9642 244.924 85.0197 240.341 Q88.0984 235.734 93.9086 235.734 Z\" fill=\"#000000\" fill-rule=\"nonzero\" fill-opacity=\"1\" /><polyline clip-path=\"url(#clip992)\" style=\"stroke:#009af9; stroke-linecap:round; stroke-linejoin:round; stroke-width:4; stroke-opacity:1; fill:none\" points=\"204.426,1445.72 320.301,1424.26 436.177,1396.38 552.052,1362.14 667.927,1321.56 783.803,1274.64 899.678,1221.38 1015.55,1161.78 1131.43,1095.85 1247.3,1023.58 1363.18,944.975 1479.06,860.031 1594.93,768.749 1710.81,671.13 1826.68,567.174 1942.56,456.881 2058.43,340.25 2174.31,217.282 2290.18,87.9763 \"/>\n",
       "</svg>\n"
      ]
     },
     "execution_count": 93,
     "metadata": {},
     "output_type": "execute_result"
    }
   ],
   "source": [
    "plot(t_range, ours -numerical, label = false)#, label=[\"ours\" \"numerical\"])"
   ]
  },
  {
   "cell_type": "code",
   "execution_count": 70,
   "id": "322c7431-f0eb-4eff-835d-2e75d2ce1bd2",
   "metadata": {},
   "outputs": [
    {
     "data": {
      "image/png": "[encoded data removed]",
      "image/svg+xml": [
       "<?xml version=\"1.0\" encoding=\"utf-8\"?>\n",
       "<svg xmlns=\"http://www.w3.org/2000/svg\" xmlns:xlink=\"http://www.w3.org/1999/xlink\" width=\"600\" height=\"400\" viewBox=\"0 0 2400 1600\">\n",
       "<defs>\n",
       "  <clipPath id=\"clip760\">\n",
       "    <rect x=\"0\" y=\"0\" width=\"2400\" height=\"1600\"/>\n",
       "  </clipPath>\n",
       "</defs>\n",
       "<path clip-path=\"url(#clip760)\" d=\"M0 1600 L2400 1600 L2400 8.88178e-14 L0 8.88178e-14  Z\" fill=\"#ffffff\" fill-rule=\"evenodd\" fill-opacity=\"1\"/>\n",
       "<defs>\n",
       "  <clipPath id=\"clip761\">\n",
       "    <rect x=\"480\" y=\"0\" width=\"1681\" height=\"1600\"/>\n",
       "  </clipPath>\n",
       "</defs>\n",
       "<path clip-path=\"url(#clip760)\" d=\"M229.445 1486.45 L2352.76 1486.45 L2352.76 47.2441 L229.445 47.2441  Z\" fill=\"#ffffff\" fill-rule=\"evenodd\" fill-opacity=\"1\"/>\n",
       "<defs>\n",
       "  <clipPath id=\"clip762\">\n",
       "    <rect x=\"229\" y=\"47\" width=\"2124\" height=\"1440\"/>\n",
       "  </clipPath>\n",
       "</defs>\n",
       "<polyline clip-path=\"url(#clip762)\" style=\"stroke:#000000; stroke-linecap:round; stroke-linejoin:round; stroke-width:2; stroke-opacity:0.1; fill:none\" points=\"512.108,1486.45 512.108,47.2441 \"/>\n",
       "<polyline clip-path=\"url(#clip762)\" style=\"stroke:#000000; stroke-linecap:round; stroke-linejoin:round; stroke-width:2; stroke-opacity:0.1; fill:none\" points=\"957.247,1486.45 957.247,47.2441 \"/>\n",
       "<polyline clip-path=\"url(#clip762)\" style=\"stroke:#000000; stroke-linecap:round; stroke-linejoin:round; stroke-width:2; stroke-opacity:0.1; fill:none\" points=\"1402.39,1486.45 1402.39,47.2441 \"/>\n",
       "<polyline clip-path=\"url(#clip762)\" style=\"stroke:#000000; stroke-linecap:round; stroke-linejoin:round; stroke-width:2; stroke-opacity:0.1; fill:none\" points=\"1847.52,1486.45 1847.52,47.2441 \"/>\n",
       "<polyline clip-path=\"url(#clip762)\" style=\"stroke:#000000; stroke-linecap:round; stroke-linejoin:round; stroke-width:2; stroke-opacity:0.1; fill:none\" points=\"2292.66,1486.45 2292.66,47.2441 \"/>\n",
       "<polyline clip-path=\"url(#clip762)\" style=\"stroke:#000000; stroke-linecap:round; stroke-linejoin:round; stroke-width:2; stroke-opacity:0.1; fill:none\" points=\"229.445,1447.14 2352.76,1447.14 \"/>\n",
       "<polyline clip-path=\"url(#clip762)\" style=\"stroke:#000000; stroke-linecap:round; stroke-linejoin:round; stroke-width:2; stroke-opacity:0.1; fill:none\" points=\"229.445,1134.28 2352.76,1134.28 \"/>\n",
       "<polyline clip-path=\"url(#clip762)\" style=\"stroke:#000000; stroke-linecap:round; stroke-linejoin:round; stroke-width:2; stroke-opacity:0.1; fill:none\" points=\"229.445,821.423 2352.76,821.423 \"/>\n",
       "<polyline clip-path=\"url(#clip762)\" style=\"stroke:#000000; stroke-linecap:round; stroke-linejoin:round; stroke-width:2; stroke-opacity:0.1; fill:none\" points=\"229.445,508.566 2352.76,508.566 \"/>\n",
       "<polyline clip-path=\"url(#clip762)\" style=\"stroke:#000000; stroke-linecap:round; stroke-linejoin:round; stroke-width:2; stroke-opacity:0.1; fill:none\" points=\"229.445,195.709 2352.76,195.709 \"/>\n",
       "<polyline clip-path=\"url(#clip760)\" style=\"stroke:#000000; stroke-linecap:round; stroke-linejoin:round; stroke-width:4; stroke-opacity:1; fill:none\" points=\"229.445,1486.45 2352.76,1486.45 \"/>\n",
       "<polyline clip-path=\"url(#clip760)\" style=\"stroke:#000000; stroke-linecap:round; stroke-linejoin:round; stroke-width:4; stroke-opacity:1; fill:none\" points=\"512.108,1486.45 512.108,1467.55 \"/>\n",
       "<polyline clip-path=\"url(#clip760)\" style=\"stroke:#000000; stroke-linecap:round; stroke-linejoin:round; stroke-width:4; stroke-opacity:1; fill:none\" points=\"957.247,1486.45 957.247,1467.55 \"/>\n",
       "<polyline clip-path=\"url(#clip760)\" style=\"stroke:#000000; stroke-linecap:round; stroke-linejoin:round; stroke-width:4; stroke-opacity:1; fill:none\" points=\"1402.39,1486.45 1402.39,1467.55 \"/>\n",
       "<polyline clip-path=\"url(#clip760)\" style=\"stroke:#000000; stroke-linecap:round; stroke-linejoin:round; stroke-width:4; stroke-opacity:1; fill:none\" points=\"1847.52,1486.45 1847.52,1467.55 \"/>\n",
       "<polyline clip-path=\"url(#clip760)\" style=\"stroke:#000000; stroke-linecap:round; stroke-linejoin:round; stroke-width:4; stroke-opacity:1; fill:none\" points=\"2292.66,1486.45 2292.66,1467.55 \"/>\n",
       "<path clip-path=\"url(#clip760)\" d=\"M506.761 1544.91 L523.08 1544.91 L523.08 1548.85 L501.136 1548.85 L501.136 1544.91 Q503.798 1542.16 508.381 1537.53 Q512.988 1532.88 514.168 1531.53 Q516.414 1529.01 517.293 1527.27 Q518.196 1525.51 518.196 1523.82 Q518.196 1521.07 516.252 1519.33 Q514.33 1517.6 511.228 1517.6 Q509.029 1517.6 506.576 1518.36 Q504.145 1519.13 501.367 1520.68 L501.367 1515.95 Q504.191 1514.82 506.645 1514.24 Q509.099 1513.66 511.136 1513.66 Q516.506 1513.66 519.701 1516.35 Q522.895 1519.03 522.895 1523.52 Q522.895 1525.65 522.085 1527.57 Q521.298 1529.47 519.191 1532.07 Q518.613 1532.74 515.511 1535.95 Q512.409 1539.15 506.761 1544.91 Z\" fill=\"#000000\" fill-rule=\"nonzero\" fill-opacity=\"1\" /><path clip-path=\"url(#clip760)\" d=\"M960.256 1518.36 L948.45 1536.81 L960.256 1536.81 L960.256 1518.36 M959.029 1514.29 L964.909 1514.29 L964.909 1536.81 L969.839 1536.81 L969.839 1540.7 L964.909 1540.7 L964.909 1548.85 L960.256 1548.85 L960.256 1540.7 L944.654 1540.7 L944.654 1536.19 L959.029 1514.29 Z\" fill=\"#000000\" fill-rule=\"nonzero\" fill-opacity=\"1\" /><path clip-path=\"url(#clip760)\" d=\"M1402.79 1529.7 Q1399.64 1529.7 1397.79 1531.86 Q1395.96 1534.01 1395.96 1537.76 Q1395.96 1541.49 1397.79 1543.66 Q1399.64 1545.82 1402.79 1545.82 Q1405.94 1545.82 1407.77 1543.66 Q1409.62 1541.49 1409.62 1537.76 Q1409.62 1534.01 1407.77 1531.86 Q1405.94 1529.7 1402.79 1529.7 M1412.07 1515.05 L1412.07 1519.31 Q1410.31 1518.48 1408.51 1518.04 Q1406.73 1517.6 1404.97 1517.6 Q1400.34 1517.6 1397.88 1520.72 Q1395.45 1523.85 1395.11 1530.17 Q1396.47 1528.15 1398.53 1527.09 Q1400.59 1526 1403.07 1526 Q1408.28 1526 1411.29 1529.17 Q1414.32 1532.32 1414.32 1537.76 Q1414.32 1543.08 1411.17 1546.3 Q1408.02 1549.52 1402.79 1549.52 Q1396.79 1549.52 1393.62 1544.94 Q1390.45 1540.33 1390.45 1531.6 Q1390.45 1523.41 1394.34 1518.55 Q1398.23 1513.66 1404.78 1513.66 Q1406.54 1513.66 1408.32 1514.01 Q1410.13 1514.36 1412.07 1515.05 Z\" fill=\"#000000\" fill-rule=\"nonzero\" fill-opacity=\"1\" /><path clip-path=\"url(#clip760)\" d=\"M1847.52 1532.44 Q1844.19 1532.44 1842.27 1534.22 Q1840.37 1536 1840.37 1539.13 Q1840.37 1542.25 1842.27 1544.03 Q1844.19 1545.82 1847.52 1545.82 Q1850.86 1545.82 1852.78 1544.03 Q1854.7 1542.23 1854.7 1539.13 Q1854.7 1536 1852.78 1534.22 Q1850.88 1532.44 1847.52 1532.44 M1842.85 1530.45 Q1839.84 1529.7 1838.15 1527.64 Q1836.48 1525.58 1836.48 1522.62 Q1836.48 1518.48 1839.42 1516.07 Q1842.38 1513.66 1847.52 1513.66 Q1852.69 1513.66 1855.63 1516.07 Q1858.57 1518.48 1858.57 1522.62 Q1858.57 1525.58 1856.88 1527.64 Q1855.21 1529.7 1852.22 1530.45 Q1855.6 1531.23 1857.48 1533.52 Q1859.38 1535.82 1859.38 1539.13 Q1859.38 1544.15 1856.3 1546.83 Q1853.24 1549.52 1847.52 1549.52 Q1841.81 1549.52 1838.73 1546.83 Q1835.67 1544.15 1835.67 1539.13 Q1835.67 1535.82 1837.57 1533.52 Q1839.47 1531.23 1842.85 1530.45 M1841.13 1523.06 Q1841.13 1525.75 1842.8 1527.25 Q1844.49 1528.76 1847.52 1528.76 Q1850.53 1528.76 1852.22 1527.25 Q1853.94 1525.75 1853.94 1523.06 Q1853.94 1520.38 1852.22 1518.87 Q1850.53 1517.37 1847.52 1517.37 Q1844.49 1517.37 1842.8 1518.87 Q1841.13 1520.38 1841.13 1523.06 Z\" fill=\"#000000\" fill-rule=\"nonzero\" fill-opacity=\"1\" /><path clip-path=\"url(#clip760)\" d=\"M2267.35 1544.91 L2274.99 1544.91 L2274.99 1518.55 L2266.68 1520.21 L2266.68 1515.95 L2274.94 1514.29 L2279.62 1514.29 L2279.62 1544.91 L2287.26 1544.91 L2287.26 1548.85 L2267.35 1548.85 L2267.35 1544.91 Z\" fill=\"#000000\" fill-rule=\"nonzero\" fill-opacity=\"1\" /><path clip-path=\"url(#clip760)\" d=\"M2306.7 1517.37 Q2303.09 1517.37 2301.26 1520.93 Q2299.46 1524.47 2299.46 1531.6 Q2299.46 1538.71 2301.26 1542.27 Q2303.09 1545.82 2306.7 1545.82 Q2310.34 1545.82 2312.14 1542.27 Q2313.97 1538.71 2313.97 1531.6 Q2313.97 1524.47 2312.14 1520.93 Q2310.34 1517.37 2306.7 1517.37 M2306.7 1513.66 Q2312.51 1513.66 2315.57 1518.27 Q2318.65 1522.85 2318.65 1531.6 Q2318.65 1540.33 2315.57 1544.94 Q2312.51 1549.52 2306.7 1549.52 Q2300.89 1549.52 2297.81 1544.94 Q2294.76 1540.33 2294.76 1531.6 Q2294.76 1522.85 2297.81 1518.27 Q2300.89 1513.66 2306.7 1513.66 Z\" fill=\"#000000\" fill-rule=\"nonzero\" fill-opacity=\"1\" /><polyline clip-path=\"url(#clip760)\" style=\"stroke:#000000; stroke-linecap:round; stroke-linejoin:round; stroke-width:4; stroke-opacity:1; fill:none\" points=\"229.445,1486.45 229.445,47.2441 \"/>\n",
       "<polyline clip-path=\"url(#clip760)\" style=\"stroke:#000000; stroke-linecap:round; stroke-linejoin:round; stroke-width:4; stroke-opacity:1; fill:none\" points=\"229.445,1447.14 248.343,1447.14 \"/>\n",
       "<polyline clip-path=\"url(#clip760)\" style=\"stroke:#000000; stroke-linecap:round; stroke-linejoin:round; stroke-width:4; stroke-opacity:1; fill:none\" points=\"229.445,1134.28 248.343,1134.28 \"/>\n",
       "<polyline clip-path=\"url(#clip760)\" style=\"stroke:#000000; stroke-linecap:round; stroke-linejoin:round; stroke-width:4; stroke-opacity:1; fill:none\" points=\"229.445,821.423 248.343,821.423 \"/>\n",
       "<polyline clip-path=\"url(#clip760)\" style=\"stroke:#000000; stroke-linecap:round; stroke-linejoin:round; stroke-width:4; stroke-opacity:1; fill:none\" points=\"229.445,508.566 248.343,508.566 \"/>\n",
       "<polyline clip-path=\"url(#clip760)\" style=\"stroke:#000000; stroke-linecap:round; stroke-linejoin:round; stroke-width:4; stroke-opacity:1; fill:none\" points=\"229.445,195.709 248.343,195.709 \"/>\n",
       "<path clip-path=\"url(#clip760)\" d=\"M181.501 1432.94 Q177.89 1432.94 176.061 1436.5 Q174.255 1440.04 174.255 1447.17 Q174.255 1454.28 176.061 1457.84 Q177.89 1461.39 181.501 1461.39 Q185.135 1461.39 186.94 1457.84 Q188.769 1454.28 188.769 1447.17 Q188.769 1440.04 186.94 1436.5 Q185.135 1432.94 181.501 1432.94 M181.501 1429.23 Q187.311 1429.23 190.366 1433.84 Q193.445 1438.42 193.445 1447.17 Q193.445 1455.9 190.366 1460.51 Q187.311 1465.09 181.501 1465.09 Q175.691 1465.09 172.612 1460.51 Q169.556 1455.9 169.556 1447.17 Q169.556 1438.42 172.612 1433.84 Q175.691 1429.23 181.501 1429.23 Z\" fill=\"#000000\" fill-rule=\"nonzero\" fill-opacity=\"1\" /><path clip-path=\"url(#clip760)\" d=\"M85.0429 1147.63 L101.362 1147.63 L101.362 1151.56 L79.4179 1151.56 L79.4179 1147.63 Q82.0799 1144.87 86.6632 1140.24 Q91.2697 1135.59 92.4502 1134.25 Q94.6956 1131.72 95.5752 1129.99 Q96.478 1128.23 96.478 1126.54 Q96.478 1123.78 94.5336 1122.05 Q92.6123 1120.31 89.5104 1120.31 Q87.3114 1120.31 84.8577 1121.07 Q82.4271 1121.84 79.6494 1123.39 L79.6494 1118.67 Q82.4734 1117.53 84.9271 1116.95 Q87.3808 1116.38 89.4178 1116.38 Q94.7882 1116.38 97.9826 1119.06 Q101.177 1121.75 101.177 1126.24 Q101.177 1128.37 100.367 1130.29 Q99.5798 1132.19 97.4734 1134.78 Q96.8947 1135.45 93.7928 1138.67 Q90.691 1141.86 85.0429 1147.63 Z\" fill=\"#000000\" fill-rule=\"nonzero\" fill-opacity=\"1\" /><path clip-path=\"url(#clip760)\" d=\"M111.223 1117 L129.58 1117 L129.58 1120.94 L115.506 1120.94 L115.506 1129.41 Q116.524 1129.06 117.543 1128.9 Q118.561 1128.71 119.58 1128.71 Q125.367 1128.71 128.746 1131.88 Q132.126 1135.06 132.126 1140.47 Q132.126 1146.05 128.654 1149.15 Q125.182 1152.23 118.862 1152.23 Q116.686 1152.23 114.418 1151.86 Q112.172 1151.49 109.765 1150.75 L109.765 1146.05 Q111.848 1147.19 114.07 1147.74 Q116.293 1148.3 118.77 1148.3 Q122.774 1148.3 125.112 1146.19 Q127.45 1144.08 127.45 1140.47 Q127.45 1136.86 125.112 1134.75 Q122.774 1132.65 118.77 1132.65 Q116.895 1132.65 115.02 1133.07 Q113.168 1133.48 111.223 1134.36 L111.223 1117 Z\" fill=\"#000000\" fill-rule=\"nonzero\" fill-opacity=\"1\" /><path clip-path=\"url(#clip760)\" d=\"M151.339 1120.08 Q147.728 1120.08 145.899 1123.64 Q144.093 1127.19 144.093 1134.32 Q144.093 1141.42 145.899 1144.99 Q147.728 1148.53 151.339 1148.53 Q154.973 1148.53 156.779 1144.99 Q158.607 1141.42 158.607 1134.32 Q158.607 1127.19 156.779 1123.64 Q154.973 1120.08 151.339 1120.08 M151.339 1116.38 Q157.149 1116.38 160.205 1120.98 Q163.283 1125.57 163.283 1134.32 Q163.283 1143.04 160.205 1147.65 Q157.149 1152.23 151.339 1152.23 Q145.529 1152.23 142.45 1147.65 Q139.394 1143.04 139.394 1134.32 Q139.394 1125.57 142.45 1120.98 Q145.529 1116.38 151.339 1116.38 Z\" fill=\"#000000\" fill-rule=\"nonzero\" fill-opacity=\"1\" /><path clip-path=\"url(#clip760)\" d=\"M181.501 1120.08 Q177.89 1120.08 176.061 1123.64 Q174.255 1127.19 174.255 1134.32 Q174.255 1141.42 176.061 1144.99 Q177.89 1148.53 181.501 1148.53 Q185.135 1148.53 186.94 1144.99 Q188.769 1141.42 188.769 1134.32 Q188.769 1127.19 186.94 1123.64 Q185.135 1120.08 181.501 1120.08 M181.501 1116.38 Q187.311 1116.38 190.366 1120.98 Q193.445 1125.57 193.445 1134.32 Q193.445 1143.04 190.366 1147.65 Q187.311 1152.23 181.501 1152.23 Q175.691 1152.23 172.612 1147.65 Q169.556 1143.04 169.556 1134.32 Q169.556 1125.57 172.612 1120.98 Q175.691 1116.38 181.501 1116.38 Z\" fill=\"#000000\" fill-rule=\"nonzero\" fill-opacity=\"1\" /><path clip-path=\"url(#clip760)\" d=\"M81.0614 804.143 L99.4178 804.143 L99.4178 808.078 L85.3438 808.078 L85.3438 816.55 Q86.3623 816.203 87.3808 816.041 Q88.3993 815.856 89.4178 815.856 Q95.2049 815.856 98.5845 819.027 Q101.964 822.199 101.964 827.615 Q101.964 833.194 98.4919 836.296 Q95.0197 839.374 88.7003 839.374 Q86.5243 839.374 84.2558 839.004 Q82.0105 838.634 79.6031 837.893 L79.6031 833.194 Q81.6864 834.328 83.9086 834.884 Q86.1308 835.439 88.6077 835.439 Q92.6123 835.439 94.9502 833.333 Q97.2882 831.226 97.2882 827.615 Q97.2882 824.004 94.9502 821.898 Q92.6123 819.791 88.6077 819.791 Q86.7327 819.791 84.8577 820.208 Q83.0058 820.625 81.0614 821.504 L81.0614 804.143 Z\" fill=\"#000000\" fill-rule=\"nonzero\" fill-opacity=\"1\" /><path clip-path=\"url(#clip760)\" d=\"M121.177 807.222 Q117.566 807.222 115.737 810.787 Q113.932 814.328 113.932 821.458 Q113.932 828.564 115.737 832.129 Q117.566 835.671 121.177 835.671 Q124.811 835.671 126.617 832.129 Q128.445 828.564 128.445 821.458 Q128.445 814.328 126.617 810.787 Q124.811 807.222 121.177 807.222 M121.177 803.518 Q126.987 803.518 130.043 808.125 Q133.121 812.708 133.121 821.458 Q133.121 830.185 130.043 834.791 Q126.987 839.374 121.177 839.374 Q115.367 839.374 112.288 834.791 Q109.233 830.185 109.233 821.458 Q109.233 812.708 112.288 808.125 Q115.367 803.518 121.177 803.518 Z\" fill=\"#000000\" fill-rule=\"nonzero\" fill-opacity=\"1\" /><path clip-path=\"url(#clip760)\" d=\"M151.339 807.222 Q147.728 807.222 145.899 810.787 Q144.093 814.328 144.093 821.458 Q144.093 828.564 145.899 832.129 Q147.728 835.671 151.339 835.671 Q154.973 835.671 156.779 832.129 Q158.607 828.564 158.607 821.458 Q158.607 814.328 156.779 810.787 Q154.973 807.222 151.339 807.222 M151.339 803.518 Q157.149 803.518 160.205 808.125 Q163.283 812.708 163.283 821.458 Q163.283 830.185 160.205 834.791 Q157.149 839.374 151.339 839.374 Q145.529 839.374 142.45 834.791 Q139.394 830.185 139.394 821.458 Q139.394 812.708 142.45 808.125 Q145.529 803.518 151.339 803.518 Z\" fill=\"#000000\" fill-rule=\"nonzero\" fill-opacity=\"1\" /><path clip-path=\"url(#clip760)\" d=\"M181.501 807.222 Q177.89 807.222 176.061 810.787 Q174.255 814.328 174.255 821.458 Q174.255 828.564 176.061 832.129 Q177.89 835.671 181.501 835.671 Q185.135 835.671 186.94 832.129 Q188.769 828.564 188.769 821.458 Q188.769 814.328 186.94 810.787 Q185.135 807.222 181.501 807.222 M181.501 803.518 Q187.311 803.518 190.366 808.125 Q193.445 812.708 193.445 821.458 Q193.445 830.185 190.366 834.791 Q187.311 839.374 181.501 839.374 Q175.691 839.374 172.612 834.791 Q169.556 830.185 169.556 821.458 Q169.556 812.708 172.612 808.125 Q175.691 803.518 181.501 803.518 Z\" fill=\"#000000\" fill-rule=\"nonzero\" fill-opacity=\"1\" /><path clip-path=\"url(#clip760)\" d=\"M79.8346 491.286 L102.057 491.286 L102.057 493.277 L89.5104 525.846 L84.6262 525.846 L96.4317 495.221 L79.8346 495.221 L79.8346 491.286 Z\" fill=\"#000000\" fill-rule=\"nonzero\" fill-opacity=\"1\" /><path clip-path=\"url(#clip760)\" d=\"M111.223 491.286 L129.58 491.286 L129.58 495.221 L115.506 495.221 L115.506 503.693 Q116.524 503.346 117.543 503.184 Q118.561 502.999 119.58 502.999 Q125.367 502.999 128.746 506.17 Q132.126 509.341 132.126 514.758 Q132.126 520.337 128.654 523.439 Q125.182 526.517 118.862 526.517 Q116.686 526.517 114.418 526.147 Q112.172 525.777 109.765 525.036 L109.765 520.337 Q111.848 521.471 114.07 522.027 Q116.293 522.582 118.77 522.582 Q122.774 522.582 125.112 520.476 Q127.45 518.369 127.45 514.758 Q127.45 511.147 125.112 509.04 Q122.774 506.934 118.77 506.934 Q116.895 506.934 115.02 507.351 Q113.168 507.767 111.223 508.647 L111.223 491.286 Z\" fill=\"#000000\" fill-rule=\"nonzero\" fill-opacity=\"1\" /><path clip-path=\"url(#clip760)\" d=\"M151.339 494.365 Q147.728 494.365 145.899 497.929 Q144.093 501.471 144.093 508.601 Q144.093 515.707 145.899 519.272 Q147.728 522.814 151.339 522.814 Q154.973 522.814 156.779 519.272 Q158.607 515.707 158.607 508.601 Q158.607 501.471 156.779 497.929 Q154.973 494.365 151.339 494.365 M151.339 490.661 Q157.149 490.661 160.205 495.267 Q163.283 499.851 163.283 508.601 Q163.283 517.327 160.205 521.934 Q157.149 526.517 151.339 526.517 Q145.529 526.517 142.45 521.934 Q139.394 517.327 139.394 508.601 Q139.394 499.851 142.45 495.267 Q145.529 490.661 151.339 490.661 Z\" fill=\"#000000\" fill-rule=\"nonzero\" fill-opacity=\"1\" /><path clip-path=\"url(#clip760)\" d=\"M181.501 494.365 Q177.89 494.365 176.061 497.929 Q174.255 501.471 174.255 508.601 Q174.255 515.707 176.061 519.272 Q177.89 522.814 181.501 522.814 Q185.135 522.814 186.94 519.272 Q188.769 515.707 188.769 508.601 Q188.769 501.471 186.94 497.929 Q185.135 494.365 181.501 494.365 M181.501 490.661 Q187.311 490.661 190.366 495.267 Q193.445 499.851 193.445 508.601 Q193.445 517.327 190.366 521.934 Q187.311 526.517 181.501 526.517 Q175.691 526.517 172.612 521.934 Q169.556 517.327 169.556 508.601 Q169.556 499.851 172.612 495.267 Q175.691 490.661 181.501 490.661 Z\" fill=\"#000000\" fill-rule=\"nonzero\" fill-opacity=\"1\" /><path clip-path=\"url(#clip760)\" d=\"M51.6634 209.054 L59.3023 209.054 L59.3023 182.688 L50.9921 184.355 L50.9921 180.095 L59.256 178.429 L63.9319 178.429 L63.9319 209.054 L71.5707 209.054 L71.5707 212.989 L51.6634 212.989 L51.6634 209.054 Z\" fill=\"#000000\" fill-rule=\"nonzero\" fill-opacity=\"1\" /><path clip-path=\"url(#clip760)\" d=\"M91.0151 181.507 Q87.404 181.507 85.5753 185.072 Q83.7697 188.614 83.7697 195.743 Q83.7697 202.85 85.5753 206.415 Q87.404 209.956 91.0151 209.956 Q94.6493 209.956 96.4548 206.415 Q98.2835 202.85 98.2835 195.743 Q98.2835 188.614 96.4548 185.072 Q94.6493 181.507 91.0151 181.507 M91.0151 177.804 Q96.8252 177.804 99.8808 182.41 Q102.959 186.994 102.959 195.743 Q102.959 204.47 99.8808 209.077 Q96.8252 213.66 91.0151 213.66 Q85.2049 213.66 82.1262 209.077 Q79.0707 204.47 79.0707 195.743 Q79.0707 186.994 82.1262 182.41 Q85.2049 177.804 91.0151 177.804 Z\" fill=\"#000000\" fill-rule=\"nonzero\" fill-opacity=\"1\" /><path clip-path=\"url(#clip760)\" d=\"M121.177 181.507 Q117.566 181.507 115.737 185.072 Q113.932 188.614 113.932 195.743 Q113.932 202.85 115.737 206.415 Q117.566 209.956 121.177 209.956 Q124.811 209.956 126.617 206.415 Q128.445 202.85 128.445 195.743 Q128.445 188.614 126.617 185.072 Q124.811 181.507 121.177 181.507 M121.177 177.804 Q126.987 177.804 130.043 182.41 Q133.121 186.994 133.121 195.743 Q133.121 204.47 130.043 209.077 Q126.987 213.66 121.177 213.66 Q115.367 213.66 112.288 209.077 Q109.233 204.47 109.233 195.743 Q109.233 186.994 112.288 182.41 Q115.367 177.804 121.177 177.804 Z\" fill=\"#000000\" fill-rule=\"nonzero\" fill-opacity=\"1\" /><path clip-path=\"url(#clip760)\" d=\"M151.339 181.507 Q147.728 181.507 145.899 185.072 Q144.093 188.614 144.093 195.743 Q144.093 202.85 145.899 206.415 Q147.728 209.956 151.339 209.956 Q154.973 209.956 156.779 206.415 Q158.607 202.85 158.607 195.743 Q158.607 188.614 156.779 185.072 Q154.973 181.507 151.339 181.507 M151.339 177.804 Q157.149 177.804 160.205 182.41 Q163.283 186.994 163.283 195.743 Q163.283 204.47 160.205 209.077 Q157.149 213.66 151.339 213.66 Q145.529 213.66 142.45 209.077 Q139.394 204.47 139.394 195.743 Q139.394 186.994 142.45 182.41 Q145.529 177.804 151.339 177.804 Z\" fill=\"#000000\" fill-rule=\"nonzero\" fill-opacity=\"1\" /><path clip-path=\"url(#clip760)\" d=\"M181.501 181.507 Q177.89 181.507 176.061 185.072 Q174.255 188.614 174.255 195.743 Q174.255 202.85 176.061 206.415 Q177.89 209.956 181.501 209.956 Q185.135 209.956 186.94 206.415 Q188.769 202.85 188.769 195.743 Q188.769 188.614 186.94 185.072 Q185.135 181.507 181.501 181.507 M181.501 177.804 Q187.311 177.804 190.366 182.41 Q193.445 186.994 193.445 195.743 Q193.445 204.47 190.366 209.077 Q187.311 213.66 181.501 213.66 Q175.691 213.66 172.612 209.077 Q169.556 204.47 169.556 195.743 Q169.556 186.994 172.612 182.41 Q175.691 177.804 181.501 177.804 Z\" fill=\"#000000\" fill-rule=\"nonzero\" fill-opacity=\"1\" /><polyline clip-path=\"url(#clip762)\" style=\"stroke:#009af9; stroke-linecap:round; stroke-linejoin:round; stroke-width:4; stroke-opacity:1; fill:none\" points=\"289.539,1445.54 512.108,1435.43 734.677,1408.78 957.247,1357.62 1179.82,1273.94 1402.39,1149.75 1624.95,977.052 1847.52,747.855 2070.09,454.161 2292.66,87.9763 \"/>\n",
       "<polyline clip-path=\"url(#clip762)\" style=\"stroke:#e26f46; stroke-linecap:round; stroke-linejoin:round; stroke-width:4; stroke-opacity:1; fill:none\" points=\"289.539,1445.72 512.108,1436 734.677,1409.98 957.247,1359.64 1179.82,1277 1402.39,1154.05 1624.95,982.812 1847.52,755.278 2070.09,463.458 2292.66,99.3551 \"/>\n",
       "<path clip-path=\"url(#clip760)\" d=\"M300.222 250.738 L740.191 250.738 L740.191 95.2176 L300.222 95.2176  Z\" fill=\"#ffffff\" fill-rule=\"evenodd\" fill-opacity=\"1\"/>\n",
       "<polyline clip-path=\"url(#clip760)\" style=\"stroke:#000000; stroke-linecap:round; stroke-linejoin:round; stroke-width:4; stroke-opacity:1; fill:none\" points=\"300.222,250.738 740.191,250.738 740.191,95.2176 300.222,95.2176 300.222,250.738 \"/>\n",
       "<polyline clip-path=\"url(#clip760)\" style=\"stroke:#009af9; stroke-linecap:round; stroke-linejoin:round; stroke-width:4; stroke-opacity:1; fill:none\" points=\"323.814,147.058 465.368,147.058 \"/>\n",
       "<path clip-path=\"url(#clip760)\" d=\"M500.859 141.398 Q497.433 141.398 495.442 144.083 Q493.452 146.745 493.452 151.398 Q493.452 156.051 495.419 158.736 Q497.41 161.398 500.859 161.398 Q504.262 161.398 506.252 158.713 Q508.243 156.027 508.243 151.398 Q508.243 146.791 506.252 144.106 Q504.262 141.398 500.859 141.398 M500.859 137.787 Q506.414 137.787 509.586 141.398 Q512.757 145.009 512.757 151.398 Q512.757 157.764 509.586 161.398 Q506.414 165.009 500.859 165.009 Q495.28 165.009 492.109 161.398 Q488.961 157.764 488.961 151.398 Q488.961 145.009 492.109 141.398 Q495.28 137.787 500.859 137.787 Z\" fill=\"#000000\" fill-rule=\"nonzero\" fill-opacity=\"1\" /><path clip-path=\"url(#clip760)\" d=\"M519.377 154.106 L519.377 138.412 L523.637 138.412 L523.637 153.944 Q523.637 157.625 525.072 159.476 Q526.507 161.305 529.377 161.305 Q532.826 161.305 534.817 159.106 Q536.831 156.907 536.831 153.111 L536.831 138.412 L541.09 138.412 L541.09 164.338 L536.831 164.338 L536.831 160.356 Q535.28 162.717 533.22 163.875 Q531.183 165.009 528.475 165.009 Q524.007 165.009 521.692 162.231 Q519.377 159.453 519.377 154.106 M530.095 137.787 L530.095 137.787 Z\" fill=\"#000000\" fill-rule=\"nonzero\" fill-opacity=\"1\" /><path clip-path=\"url(#clip760)\" d=\"M564.886 142.393 Q564.169 141.977 563.312 141.791 Q562.479 141.583 561.46 141.583 Q557.849 141.583 555.905 143.944 Q553.984 146.282 553.984 150.68 L553.984 164.338 L549.701 164.338 L549.701 138.412 L553.984 138.412 L553.984 142.44 Q555.326 140.078 557.479 138.944 Q559.632 137.787 562.71 137.787 Q563.15 137.787 563.683 137.856 Q564.215 137.903 564.863 138.018 L564.886 142.393 Z\" fill=\"#000000\" fill-rule=\"nonzero\" fill-opacity=\"1\" /><path clip-path=\"url(#clip760)\" d=\"M585.882 139.176 L585.882 143.203 Q584.076 142.277 582.132 141.815 Q580.187 141.352 578.104 141.352 Q574.933 141.352 573.335 142.324 Q571.761 143.296 571.761 145.24 Q571.761 146.722 572.896 147.578 Q574.03 148.412 577.456 149.176 L578.914 149.5 Q583.451 150.472 585.349 152.254 Q587.27 154.014 587.27 157.185 Q587.27 160.796 584.4 162.902 Q581.553 165.009 576.553 165.009 Q574.47 165.009 572.201 164.592 Q569.956 164.199 567.456 163.388 L567.456 158.99 Q569.817 160.217 572.109 160.842 Q574.4 161.444 576.646 161.444 Q579.655 161.444 581.275 160.426 Q582.896 159.384 582.896 157.509 Q582.896 155.773 581.715 154.847 Q580.558 153.921 576.599 153.064 L575.118 152.717 Q571.159 151.884 569.4 150.171 Q567.641 148.435 567.641 145.426 Q567.641 141.768 570.234 139.778 Q572.826 137.787 577.595 137.787 Q579.956 137.787 582.039 138.134 Q584.122 138.481 585.882 139.176 Z\" fill=\"#000000\" fill-rule=\"nonzero\" fill-opacity=\"1\" /><polyline clip-path=\"url(#clip760)\" style=\"stroke:#e26f46; stroke-linecap:round; stroke-linejoin:round; stroke-width:4; stroke-opacity:1; fill:none\" points=\"323.814,198.898 465.368,198.898 \"/>\n",
       "<path clip-path=\"url(#clip760)\" d=\"M510.674 200.529 L510.674 216.178 L506.414 216.178 L506.414 200.668 Q506.414 196.988 504.979 195.159 Q503.544 193.33 500.674 193.33 Q497.225 193.33 495.234 195.53 Q493.243 197.729 493.243 201.525 L493.243 216.178 L488.961 216.178 L488.961 190.252 L493.243 190.252 L493.243 194.28 Q494.771 191.942 496.831 190.784 Q498.914 189.627 501.623 189.627 Q506.09 189.627 508.382 192.405 Q510.674 195.159 510.674 200.529 Z\" fill=\"#000000\" fill-rule=\"nonzero\" fill-opacity=\"1\" /><path clip-path=\"url(#clip760)\" d=\"M518.729 205.946 L518.729 190.252 L522.988 190.252 L522.988 205.784 Q522.988 209.465 524.424 211.316 Q525.859 213.145 528.729 213.145 Q532.178 213.145 534.169 210.946 Q536.183 208.747 536.183 204.951 L536.183 190.252 L540.442 190.252 L540.442 216.178 L536.183 216.178 L536.183 212.196 Q534.632 214.557 532.572 215.715 Q530.535 216.849 527.826 216.849 Q523.359 216.849 521.044 214.071 Q518.729 211.293 518.729 205.946 M529.447 189.627 L529.447 189.627 Z\" fill=\"#000000\" fill-rule=\"nonzero\" fill-opacity=\"1\" /><path clip-path=\"url(#clip760)\" d=\"M569.4 195.229 Q570.997 192.358 573.22 190.993 Q575.442 189.627 578.451 189.627 Q582.502 189.627 584.701 192.474 Q586.9 195.298 586.9 200.529 L586.9 216.178 L582.618 216.178 L582.618 200.668 Q582.618 196.942 581.298 195.136 Q579.979 193.33 577.271 193.33 Q573.96 193.33 572.039 195.53 Q570.118 197.729 570.118 201.525 L570.118 216.178 L565.835 216.178 L565.835 200.668 Q565.835 196.918 564.516 195.136 Q563.197 193.33 560.442 193.33 Q557.178 193.33 555.257 195.553 Q553.335 197.752 553.335 201.525 L553.335 216.178 L549.053 216.178 L549.053 190.252 L553.335 190.252 L553.335 194.28 Q554.794 191.895 556.831 190.761 Q558.868 189.627 561.669 189.627 Q564.493 189.627 566.46 191.062 Q568.451 192.497 569.4 195.229 Z\" fill=\"#000000\" fill-rule=\"nonzero\" fill-opacity=\"1\" /><path clip-path=\"url(#clip760)\" d=\"M617.571 202.15 L617.571 204.233 L597.988 204.233 Q598.266 208.631 600.627 210.946 Q603.011 213.238 607.247 213.238 Q609.701 213.238 611.993 212.636 Q614.307 212.034 616.576 210.83 L616.576 214.858 Q614.284 215.83 611.877 216.34 Q609.469 216.849 606.993 216.849 Q600.789 216.849 597.155 213.238 Q593.544 209.627 593.544 203.469 Q593.544 197.104 596.97 193.377 Q600.419 189.627 606.252 189.627 Q611.483 189.627 614.516 193.006 Q617.571 196.363 617.571 202.15 M613.312 200.9 Q613.266 197.405 611.344 195.321 Q609.446 193.238 606.298 193.238 Q602.733 193.238 600.581 195.252 Q598.451 197.266 598.127 200.923 L613.312 200.9 Z\" fill=\"#000000\" fill-rule=\"nonzero\" fill-opacity=\"1\" /><path clip-path=\"url(#clip760)\" d=\"M639.585 194.233 Q638.867 193.817 638.011 193.631 Q637.178 193.423 636.159 193.423 Q632.548 193.423 630.604 195.784 Q628.682 198.122 628.682 202.52 L628.682 216.178 L624.4 216.178 L624.4 190.252 L628.682 190.252 L628.682 194.28 Q630.025 191.918 632.178 190.784 Q634.33 189.627 637.409 189.627 Q637.849 189.627 638.381 189.696 Q638.914 189.743 639.562 189.858 L639.585 194.233 Z\" fill=\"#000000\" fill-rule=\"nonzero\" fill-opacity=\"1\" /><path clip-path=\"url(#clip760)\" d=\"M644.053 190.252 L648.312 190.252 L648.312 216.178 L644.053 216.178 L644.053 190.252 M644.053 180.159 L648.312 180.159 L648.312 185.553 L644.053 185.553 L644.053 180.159 Z\" fill=\"#000000\" fill-rule=\"nonzero\" fill-opacity=\"1\" /><path clip-path=\"url(#clip760)\" d=\"M675.881 191.247 L675.881 195.229 Q674.076 194.233 672.247 193.747 Q670.441 193.238 668.59 193.238 Q664.446 193.238 662.154 195.877 Q659.863 198.492 659.863 203.238 Q659.863 207.983 662.154 210.622 Q664.446 213.238 668.59 213.238 Q670.441 213.238 672.247 212.752 Q674.076 212.242 675.881 211.247 L675.881 215.182 Q674.099 216.016 672.177 216.432 Q670.279 216.849 668.127 216.849 Q662.27 216.849 658.821 213.168 Q655.372 209.488 655.372 203.238 Q655.372 196.895 658.844 193.261 Q662.34 189.627 668.404 189.627 Q670.372 189.627 672.247 190.043 Q674.122 190.437 675.881 191.247 Z\" fill=\"#000000\" fill-rule=\"nonzero\" fill-opacity=\"1\" /><path clip-path=\"url(#clip760)\" d=\"M695.071 203.145 Q689.909 203.145 687.918 204.326 Q685.927 205.506 685.927 208.354 Q685.927 210.622 687.409 211.965 Q688.913 213.284 691.483 213.284 Q695.025 213.284 697.154 210.784 Q699.307 208.261 699.307 204.094 L699.307 203.145 L695.071 203.145 M703.566 201.386 L703.566 216.178 L699.307 216.178 L699.307 212.242 Q697.849 214.603 695.673 215.738 Q693.497 216.849 690.349 216.849 Q686.367 216.849 684.006 214.627 Q681.668 212.381 681.668 208.631 Q681.668 204.256 684.585 202.034 Q687.525 199.812 693.335 199.812 L699.307 199.812 L699.307 199.395 Q699.307 196.455 697.362 194.858 Q695.441 193.238 691.946 193.238 Q689.724 193.238 687.617 193.77 Q685.511 194.303 683.566 195.367 L683.566 191.432 Q685.904 190.53 688.103 190.09 Q690.302 189.627 692.386 189.627 Q698.011 189.627 700.788 192.543 Q703.566 195.46 703.566 201.386 Z\" fill=\"#000000\" fill-rule=\"nonzero\" fill-opacity=\"1\" /><path clip-path=\"url(#clip760)\" d=\"M712.339 180.159 L716.599 180.159 L716.599 216.178 L712.339 216.178 L712.339 180.159 Z\" fill=\"#000000\" fill-rule=\"nonzero\" fill-opacity=\"1\" /></svg>\n"
      ],
      "text/html": [
       "<?xml version=\"1.0\" encoding=\"utf-8\"?>\n",
       "<svg xmlns=\"http://www.w3.org/2000/svg\" xmlns:xlink=\"http://www.w3.org/1999/xlink\" width=\"600\" height=\"400\" viewBox=\"0 0 2400 1600\">\n",
       "<defs>\n",
       "  <clipPath id=\"clip810\">\n",
       "    <rect x=\"0\" y=\"0\" width=\"2400\" height=\"1600\"/>\n",
       "  </clipPath>\n",
       "</defs>\n",
       "<path clip-path=\"url(#clip810)\" d=\"M0 1600 L2400 1600 L2400 8.88178e-14 L0 8.88178e-14  Z\" fill=\"#ffffff\" fill-rule=\"evenodd\" fill-opacity=\"1\"/>\n",
       "<defs>\n",
       "  <clipPath id=\"clip811\">\n",
       "    <rect x=\"480\" y=\"0\" width=\"1681\" height=\"1600\"/>\n",
       "  </clipPath>\n",
       "</defs>\n",
       "<path clip-path=\"url(#clip810)\" d=\"M229.445 1486.45 L2352.76 1486.45 L2352.76 47.2441 L229.445 47.2441  Z\" fill=\"#ffffff\" fill-rule=\"evenodd\" fill-opacity=\"1\"/>\n",
       "<defs>\n",
       "  <clipPath id=\"clip812\">\n",
       "    <rect x=\"229\" y=\"47\" width=\"2124\" height=\"1440\"/>\n",
       "  </clipPath>\n",
       "</defs>\n",
       "<polyline clip-path=\"url(#clip812)\" style=\"stroke:#000000; stroke-linecap:round; stroke-linejoin:round; stroke-width:2; stroke-opacity:0.1; fill:none\" points=\"512.108,1486.45 512.108,47.2441 \"/>\n",
       "<polyline clip-path=\"url(#clip812)\" style=\"stroke:#000000; stroke-linecap:round; stroke-linejoin:round; stroke-width:2; stroke-opacity:0.1; fill:none\" points=\"957.247,1486.45 957.247,47.2441 \"/>\n",
       "<polyline clip-path=\"url(#clip812)\" style=\"stroke:#000000; stroke-linecap:round; stroke-linejoin:round; stroke-width:2; stroke-opacity:0.1; fill:none\" points=\"1402.39,1486.45 1402.39,47.2441 \"/>\n",
       "<polyline clip-path=\"url(#clip812)\" style=\"stroke:#000000; stroke-linecap:round; stroke-linejoin:round; stroke-width:2; stroke-opacity:0.1; fill:none\" points=\"1847.52,1486.45 1847.52,47.2441 \"/>\n",
       "<polyline clip-path=\"url(#clip812)\" style=\"stroke:#000000; stroke-linecap:round; stroke-linejoin:round; stroke-width:2; stroke-opacity:0.1; fill:none\" points=\"2292.66,1486.45 2292.66,47.2441 \"/>\n",
       "<polyline clip-path=\"url(#clip812)\" style=\"stroke:#000000; stroke-linecap:round; stroke-linejoin:round; stroke-width:2; stroke-opacity:0.1; fill:none\" points=\"229.445,1447.14 2352.76,1447.14 \"/>\n",
       "<polyline clip-path=\"url(#clip812)\" style=\"stroke:#000000; stroke-linecap:round; stroke-linejoin:round; stroke-width:2; stroke-opacity:0.1; fill:none\" points=\"229.445,1134.28 2352.76,1134.28 \"/>\n",
       "<polyline clip-path=\"url(#clip812)\" style=\"stroke:#000000; stroke-linecap:round; stroke-linejoin:round; stroke-width:2; stroke-opacity:0.1; fill:none\" points=\"229.445,821.423 2352.76,821.423 \"/>\n",
       "<polyline clip-path=\"url(#clip812)\" style=\"stroke:#000000; stroke-linecap:round; stroke-linejoin:round; stroke-width:2; stroke-opacity:0.1; fill:none\" points=\"229.445,508.566 2352.76,508.566 \"/>\n",
       "<polyline clip-path=\"url(#clip812)\" style=\"stroke:#000000; stroke-linecap:round; stroke-linejoin:round; stroke-width:2; stroke-opacity:0.1; fill:none\" points=\"229.445,195.709 2352.76,195.709 \"/>\n",
       "<polyline clip-path=\"url(#clip810)\" style=\"stroke:#000000; stroke-linecap:round; stroke-linejoin:round; stroke-width:4; stroke-opacity:1; fill:none\" points=\"229.445,1486.45 2352.76,1486.45 \"/>\n",
       "<polyline clip-path=\"url(#clip810)\" style=\"stroke:#000000; stroke-linecap:round; stroke-linejoin:round; stroke-width:4; stroke-opacity:1; fill:none\" points=\"512.108,1486.45 512.108,1467.55 \"/>\n",
       "<polyline clip-path=\"url(#clip810)\" style=\"stroke:#000000; stroke-linecap:round; stroke-linejoin:round; stroke-width:4; stroke-opacity:1; fill:none\" points=\"957.247,1486.45 957.247,1467.55 \"/>\n",
       "<polyline clip-path=\"url(#clip810)\" style=\"stroke:#000000; stroke-linecap:round; stroke-linejoin:round; stroke-width:4; stroke-opacity:1; fill:none\" points=\"1402.39,1486.45 1402.39,1467.55 \"/>\n",
       "<polyline clip-path=\"url(#clip810)\" style=\"stroke:#000000; stroke-linecap:round; stroke-linejoin:round; stroke-width:4; stroke-opacity:1; fill:none\" points=\"1847.52,1486.45 1847.52,1467.55 \"/>\n",
       "<polyline clip-path=\"url(#clip810)\" style=\"stroke:#000000; stroke-linecap:round; stroke-linejoin:round; stroke-width:4; stroke-opacity:1; fill:none\" points=\"2292.66,1486.45 2292.66,1467.55 \"/>\n",
       "<path clip-path=\"url(#clip810)\" d=\"M506.761 1544.91 L523.08 1544.91 L523.08 1548.85 L501.136 1548.85 L501.136 1544.91 Q503.798 1542.16 508.381 1537.53 Q512.988 1532.88 514.168 1531.53 Q516.414 1529.01 517.293 1527.27 Q518.196 1525.51 518.196 1523.82 Q518.196 1521.07 516.252 1519.33 Q514.33 1517.6 511.228 1517.6 Q509.029 1517.6 506.576 1518.36 Q504.145 1519.13 501.367 1520.68 L501.367 1515.95 Q504.191 1514.82 506.645 1514.24 Q509.099 1513.66 511.136 1513.66 Q516.506 1513.66 519.701 1516.35 Q522.895 1519.03 522.895 1523.52 Q522.895 1525.65 522.085 1527.57 Q521.298 1529.47 519.191 1532.07 Q518.613 1532.74 515.511 1535.95 Q512.409 1539.15 506.761 1544.91 Z\" fill=\"#000000\" fill-rule=\"nonzero\" fill-opacity=\"1\" /><path clip-path=\"url(#clip810)\" d=\"M960.256 1518.36 L948.45 1536.81 L960.256 1536.81 L960.256 1518.36 M959.029 1514.29 L964.909 1514.29 L964.909 1536.81 L969.839 1536.81 L969.839 1540.7 L964.909 1540.7 L964.909 1548.85 L960.256 1548.85 L960.256 1540.7 L944.654 1540.7 L944.654 1536.19 L959.029 1514.29 Z\" fill=\"#000000\" fill-rule=\"nonzero\" fill-opacity=\"1\" /><path clip-path=\"url(#clip810)\" d=\"M1402.79 1529.7 Q1399.64 1529.7 1397.79 1531.86 Q1395.96 1534.01 1395.96 1537.76 Q1395.96 1541.49 1397.79 1543.66 Q1399.64 1545.82 1402.79 1545.82 Q1405.94 1545.82 1407.77 1543.66 Q1409.62 1541.49 1409.62 1537.76 Q1409.62 1534.01 1407.77 1531.86 Q1405.94 1529.7 1402.79 1529.7 M1412.07 1515.05 L1412.07 1519.31 Q1410.31 1518.48 1408.51 1518.04 Q1406.73 1517.6 1404.97 1517.6 Q1400.34 1517.6 1397.88 1520.72 Q1395.45 1523.85 1395.11 1530.17 Q1396.47 1528.15 1398.53 1527.09 Q1400.59 1526 1403.07 1526 Q1408.28 1526 1411.29 1529.17 Q1414.32 1532.32 1414.32 1537.76 Q1414.32 1543.08 1411.17 1546.3 Q1408.02 1549.52 1402.79 1549.52 Q1396.79 1549.52 1393.62 1544.94 Q1390.45 1540.33 1390.45 1531.6 Q1390.45 1523.41 1394.34 1518.55 Q1398.23 1513.66 1404.78 1513.66 Q1406.54 1513.66 1408.32 1514.01 Q1410.13 1514.36 1412.07 1515.05 Z\" fill=\"#000000\" fill-rule=\"nonzero\" fill-opacity=\"1\" /><path clip-path=\"url(#clip810)\" d=\"M1847.52 1532.44 Q1844.19 1532.44 1842.27 1534.22 Q1840.37 1536 1840.37 1539.13 Q1840.37 1542.25 1842.27 1544.03 Q1844.19 1545.82 1847.52 1545.82 Q1850.86 1545.82 1852.78 1544.03 Q1854.7 1542.23 1854.7 1539.13 Q1854.7 1536 1852.78 1534.22 Q1850.88 1532.44 1847.52 1532.44 M1842.85 1530.45 Q1839.84 1529.7 1838.15 1527.64 Q1836.48 1525.58 1836.48 1522.62 Q1836.48 1518.48 1839.42 1516.07 Q1842.38 1513.66 1847.52 1513.66 Q1852.69 1513.66 1855.63 1516.07 Q1858.57 1518.48 1858.57 1522.62 Q1858.57 1525.58 1856.88 1527.64 Q1855.21 1529.7 1852.22 1530.45 Q1855.6 1531.23 1857.48 1533.52 Q1859.38 1535.82 1859.38 1539.13 Q1859.38 1544.15 1856.3 1546.83 Q1853.24 1549.52 1847.52 1549.52 Q1841.81 1549.52 1838.73 1546.83 Q1835.67 1544.15 1835.67 1539.13 Q1835.67 1535.82 1837.57 1533.52 Q1839.47 1531.23 1842.85 1530.45 M1841.13 1523.06 Q1841.13 1525.75 1842.8 1527.25 Q1844.49 1528.76 1847.52 1528.76 Q1850.53 1528.76 1852.22 1527.25 Q1853.94 1525.75 1853.94 1523.06 Q1853.94 1520.38 1852.22 1518.87 Q1850.53 1517.37 1847.52 1517.37 Q1844.49 1517.37 1842.8 1518.87 Q1841.13 1520.38 1841.13 1523.06 Z\" fill=\"#000000\" fill-rule=\"nonzero\" fill-opacity=\"1\" /><path clip-path=\"url(#clip810)\" d=\"M2267.35 1544.91 L2274.99 1544.91 L2274.99 1518.55 L2266.68 1520.21 L2266.68 1515.95 L2274.94 1514.29 L2279.62 1514.29 L2279.62 1544.91 L2287.26 1544.91 L2287.26 1548.85 L2267.35 1548.85 L2267.35 1544.91 Z\" fill=\"#000000\" fill-rule=\"nonzero\" fill-opacity=\"1\" /><path clip-path=\"url(#clip810)\" d=\"M2306.7 1517.37 Q2303.09 1517.37 2301.26 1520.93 Q2299.46 1524.47 2299.46 1531.6 Q2299.46 1538.71 2301.26 1542.27 Q2303.09 1545.82 2306.7 1545.82 Q2310.34 1545.82 2312.14 1542.27 Q2313.97 1538.71 2313.97 1531.6 Q2313.97 1524.47 2312.14 1520.93 Q2310.34 1517.37 2306.7 1517.37 M2306.7 1513.66 Q2312.51 1513.66 2315.57 1518.27 Q2318.65 1522.85 2318.65 1531.6 Q2318.65 1540.33 2315.57 1544.94 Q2312.51 1549.52 2306.7 1549.52 Q2300.89 1549.52 2297.81 1544.94 Q2294.76 1540.33 2294.76 1531.6 Q2294.76 1522.85 2297.81 1518.27 Q2300.89 1513.66 2306.7 1513.66 Z\" fill=\"#000000\" fill-rule=\"nonzero\" fill-opacity=\"1\" /><polyline clip-path=\"url(#clip810)\" style=\"stroke:#000000; stroke-linecap:round; stroke-linejoin:round; stroke-width:4; stroke-opacity:1; fill:none\" points=\"229.445,1486.45 229.445,47.2441 \"/>\n",
       "<polyline clip-path=\"url(#clip810)\" style=\"stroke:#000000; stroke-linecap:round; stroke-linejoin:round; stroke-width:4; stroke-opacity:1; fill:none\" points=\"229.445,1447.14 248.343,1447.14 \"/>\n",
       "<polyline clip-path=\"url(#clip810)\" style=\"stroke:#000000; stroke-linecap:round; stroke-linejoin:round; stroke-width:4; stroke-opacity:1; fill:none\" points=\"229.445,1134.28 248.343,1134.28 \"/>\n",
       "<polyline clip-path=\"url(#clip810)\" style=\"stroke:#000000; stroke-linecap:round; stroke-linejoin:round; stroke-width:4; stroke-opacity:1; fill:none\" points=\"229.445,821.423 248.343,821.423 \"/>\n",
       "<polyline clip-path=\"url(#clip810)\" style=\"stroke:#000000; stroke-linecap:round; stroke-linejoin:round; stroke-width:4; stroke-opacity:1; fill:none\" points=\"229.445,508.566 248.343,508.566 \"/>\n",
       "<polyline clip-path=\"url(#clip810)\" style=\"stroke:#000000; stroke-linecap:round; stroke-linejoin:round; stroke-width:4; stroke-opacity:1; fill:none\" points=\"229.445,195.709 248.343,195.709 \"/>\n",
       "<path clip-path=\"url(#clip810)\" d=\"M181.501 1432.94 Q177.89 1432.94 176.061 1436.5 Q174.255 1440.04 174.255 1447.17 Q174.255 1454.28 176.061 1457.84 Q177.89 1461.39 181.501 1461.39 Q185.135 1461.39 186.94 1457.84 Q188.769 1454.28 188.769 1447.17 Q188.769 1440.04 186.94 1436.5 Q185.135 1432.94 181.501 1432.94 M181.501 1429.23 Q187.311 1429.23 190.366 1433.84 Q193.445 1438.42 193.445 1447.17 Q193.445 1455.9 190.366 1460.51 Q187.311 1465.09 181.501 1465.09 Q175.691 1465.09 172.612 1460.51 Q169.556 1455.9 169.556 1447.17 Q169.556 1438.42 172.612 1433.84 Q175.691 1429.23 181.501 1429.23 Z\" fill=\"#000000\" fill-rule=\"nonzero\" fill-opacity=\"1\" /><path clip-path=\"url(#clip810)\" d=\"M85.0429 1147.63 L101.362 1147.63 L101.362 1151.56 L79.4179 1151.56 L79.4179 1147.63 Q82.0799 1144.87 86.6632 1140.24 Q91.2697 1135.59 92.4502 1134.25 Q94.6956 1131.72 95.5752 1129.99 Q96.478 1128.23 96.478 1126.54 Q96.478 1123.78 94.5336 1122.05 Q92.6123 1120.31 89.5104 1120.31 Q87.3114 1120.31 84.8577 1121.07 Q82.4271 1121.84 79.6494 1123.39 L79.6494 1118.67 Q82.4734 1117.53 84.9271 1116.95 Q87.3808 1116.38 89.4178 1116.38 Q94.7882 1116.38 97.9826 1119.06 Q101.177 1121.75 101.177 1126.24 Q101.177 1128.37 100.367 1130.29 Q99.5798 1132.19 97.4734 1134.78 Q96.8947 1135.45 93.7928 1138.67 Q90.691 1141.86 85.0429 1147.63 Z\" fill=\"#000000\" fill-rule=\"nonzero\" fill-opacity=\"1\" /><path clip-path=\"url(#clip810)\" d=\"M111.223 1117 L129.58 1117 L129.58 1120.94 L115.506 1120.94 L115.506 1129.41 Q116.524 1129.06 117.543 1128.9 Q118.561 1128.71 119.58 1128.71 Q125.367 1128.71 128.746 1131.88 Q132.126 1135.06 132.126 1140.47 Q132.126 1146.05 128.654 1149.15 Q125.182 1152.23 118.862 1152.23 Q116.686 1152.23 114.418 1151.86 Q112.172 1151.49 109.765 1150.75 L109.765 1146.05 Q111.848 1147.19 114.07 1147.74 Q116.293 1148.3 118.77 1148.3 Q122.774 1148.3 125.112 1146.19 Q127.45 1144.08 127.45 1140.47 Q127.45 1136.86 125.112 1134.75 Q122.774 1132.65 118.77 1132.65 Q116.895 1132.65 115.02 1133.07 Q113.168 1133.48 111.223 1134.36 L111.223 1117 Z\" fill=\"#000000\" fill-rule=\"nonzero\" fill-opacity=\"1\" /><path clip-path=\"url(#clip810)\" d=\"M151.339 1120.08 Q147.728 1120.08 145.899 1123.64 Q144.093 1127.19 144.093 1134.32 Q144.093 1141.42 145.899 1144.99 Q147.728 1148.53 151.339 1148.53 Q154.973 1148.53 156.779 1144.99 Q158.607 1141.42 158.607 1134.32 Q158.607 1127.19 156.779 1123.64 Q154.973 1120.08 151.339 1120.08 M151.339 1116.38 Q157.149 1116.38 160.205 1120.98 Q163.283 1125.57 163.283 1134.32 Q163.283 1143.04 160.205 1147.65 Q157.149 1152.23 151.339 1152.23 Q145.529 1152.23 142.45 1147.65 Q139.394 1143.04 139.394 1134.32 Q139.394 1125.57 142.45 1120.98 Q145.529 1116.38 151.339 1116.38 Z\" fill=\"#000000\" fill-rule=\"nonzero\" fill-opacity=\"1\" /><path clip-path=\"url(#clip810)\" d=\"M181.501 1120.08 Q177.89 1120.08 176.061 1123.64 Q174.255 1127.19 174.255 1134.32 Q174.255 1141.42 176.061 1144.99 Q177.89 1148.53 181.501 1148.53 Q185.135 1148.53 186.94 1144.99 Q188.769 1141.42 188.769 1134.32 Q188.769 1127.19 186.94 1123.64 Q185.135 1120.08 181.501 1120.08 M181.501 1116.38 Q187.311 1116.38 190.366 1120.98 Q193.445 1125.57 193.445 1134.32 Q193.445 1143.04 190.366 1147.65 Q187.311 1152.23 181.501 1152.23 Q175.691 1152.23 172.612 1147.65 Q169.556 1143.04 169.556 1134.32 Q169.556 1125.57 172.612 1120.98 Q175.691 1116.38 181.501 1116.38 Z\" fill=\"#000000\" fill-rule=\"nonzero\" fill-opacity=\"1\" /><path clip-path=\"url(#clip810)\" d=\"M81.0614 804.143 L99.4178 804.143 L99.4178 808.078 L85.3438 808.078 L85.3438 816.55 Q86.3623 816.203 87.3808 816.041 Q88.3993 815.856 89.4178 815.856 Q95.2049 815.856 98.5845 819.027 Q101.964 822.199 101.964 827.615 Q101.964 833.194 98.4919 836.296 Q95.0197 839.374 88.7003 839.374 Q86.5243 839.374 84.2558 839.004 Q82.0105 838.634 79.6031 837.893 L79.6031 833.194 Q81.6864 834.328 83.9086 834.884 Q86.1308 835.439 88.6077 835.439 Q92.6123 835.439 94.9502 833.333 Q97.2882 831.226 97.2882 827.615 Q97.2882 824.004 94.9502 821.898 Q92.6123 819.791 88.6077 819.791 Q86.7327 819.791 84.8577 820.208 Q83.0058 820.625 81.0614 821.504 L81.0614 804.143 Z\" fill=\"#000000\" fill-rule=\"nonzero\" fill-opacity=\"1\" /><path clip-path=\"url(#clip810)\" d=\"M121.177 807.222 Q117.566 807.222 115.737 810.787 Q113.932 814.328 113.932 821.458 Q113.932 828.564 115.737 832.129 Q117.566 835.671 121.177 835.671 Q124.811 835.671 126.617 832.129 Q128.445 828.564 128.445 821.458 Q128.445 814.328 126.617 810.787 Q124.811 807.222 121.177 807.222 M121.177 803.518 Q126.987 803.518 130.043 808.125 Q133.121 812.708 133.121 821.458 Q133.121 830.185 130.043 834.791 Q126.987 839.374 121.177 839.374 Q115.367 839.374 112.288 834.791 Q109.233 830.185 109.233 821.458 Q109.233 812.708 112.288 808.125 Q115.367 803.518 121.177 803.518 Z\" fill=\"#000000\" fill-rule=\"nonzero\" fill-opacity=\"1\" /><path clip-path=\"url(#clip810)\" d=\"M151.339 807.222 Q147.728 807.222 145.899 810.787 Q144.093 814.328 144.093 821.458 Q144.093 828.564 145.899 832.129 Q147.728 835.671 151.339 835.671 Q154.973 835.671 156.779 832.129 Q158.607 828.564 158.607 821.458 Q158.607 814.328 156.779 810.787 Q154.973 807.222 151.339 807.222 M151.339 803.518 Q157.149 803.518 160.205 808.125 Q163.283 812.708 163.283 821.458 Q163.283 830.185 160.205 834.791 Q157.149 839.374 151.339 839.374 Q145.529 839.374 142.45 834.791 Q139.394 830.185 139.394 821.458 Q139.394 812.708 142.45 808.125 Q145.529 803.518 151.339 803.518 Z\" fill=\"#000000\" fill-rule=\"nonzero\" fill-opacity=\"1\" /><path clip-path=\"url(#clip810)\" d=\"M181.501 807.222 Q177.89 807.222 176.061 810.787 Q174.255 814.328 174.255 821.458 Q174.255 828.564 176.061 832.129 Q177.89 835.671 181.501 835.671 Q185.135 835.671 186.94 832.129 Q188.769 828.564 188.769 821.458 Q188.769 814.328 186.94 810.787 Q185.135 807.222 181.501 807.222 M181.501 803.518 Q187.311 803.518 190.366 808.125 Q193.445 812.708 193.445 821.458 Q193.445 830.185 190.366 834.791 Q187.311 839.374 181.501 839.374 Q175.691 839.374 172.612 834.791 Q169.556 830.185 169.556 821.458 Q169.556 812.708 172.612 808.125 Q175.691 803.518 181.501 803.518 Z\" fill=\"#000000\" fill-rule=\"nonzero\" fill-opacity=\"1\" /><path clip-path=\"url(#clip810)\" d=\"M79.8346 491.286 L102.057 491.286 L102.057 493.277 L89.5104 525.846 L84.6262 525.846 L96.4317 495.221 L79.8346 495.221 L79.8346 491.286 Z\" fill=\"#000000\" fill-rule=\"nonzero\" fill-opacity=\"1\" /><path clip-path=\"url(#clip810)\" d=\"M111.223 491.286 L129.58 491.286 L129.58 495.221 L115.506 495.221 L115.506 503.693 Q116.524 503.346 117.543 503.184 Q118.561 502.999 119.58 502.999 Q125.367 502.999 128.746 506.17 Q132.126 509.341 132.126 514.758 Q132.126 520.337 128.654 523.439 Q125.182 526.517 118.862 526.517 Q116.686 526.517 114.418 526.147 Q112.172 525.777 109.765 525.036 L109.765 520.337 Q111.848 521.471 114.07 522.027 Q116.293 522.582 118.77 522.582 Q122.774 522.582 125.112 520.476 Q127.45 518.369 127.45 514.758 Q127.45 511.147 125.112 509.04 Q122.774 506.934 118.77 506.934 Q116.895 506.934 115.02 507.351 Q113.168 507.767 111.223 508.647 L111.223 491.286 Z\" fill=\"#000000\" fill-rule=\"nonzero\" fill-opacity=\"1\" /><path clip-path=\"url(#clip810)\" d=\"M151.339 494.365 Q147.728 494.365 145.899 497.929 Q144.093 501.471 144.093 508.601 Q144.093 515.707 145.899 519.272 Q147.728 522.814 151.339 522.814 Q154.973 522.814 156.779 519.272 Q158.607 515.707 158.607 508.601 Q158.607 501.471 156.779 497.929 Q154.973 494.365 151.339 494.365 M151.339 490.661 Q157.149 490.661 160.205 495.267 Q163.283 499.851 163.283 508.601 Q163.283 517.327 160.205 521.934 Q157.149 526.517 151.339 526.517 Q145.529 526.517 142.45 521.934 Q139.394 517.327 139.394 508.601 Q139.394 499.851 142.45 495.267 Q145.529 490.661 151.339 490.661 Z\" fill=\"#000000\" fill-rule=\"nonzero\" fill-opacity=\"1\" /><path clip-path=\"url(#clip810)\" d=\"M181.501 494.365 Q177.89 494.365 176.061 497.929 Q174.255 501.471 174.255 508.601 Q174.255 515.707 176.061 519.272 Q177.89 522.814 181.501 522.814 Q185.135 522.814 186.94 519.272 Q188.769 515.707 188.769 508.601 Q188.769 501.471 186.94 497.929 Q185.135 494.365 181.501 494.365 M181.501 490.661 Q187.311 490.661 190.366 495.267 Q193.445 499.851 193.445 508.601 Q193.445 517.327 190.366 521.934 Q187.311 526.517 181.501 526.517 Q175.691 526.517 172.612 521.934 Q169.556 517.327 169.556 508.601 Q169.556 499.851 172.612 495.267 Q175.691 490.661 181.501 490.661 Z\" fill=\"#000000\" fill-rule=\"nonzero\" fill-opacity=\"1\" /><path clip-path=\"url(#clip810)\" d=\"M51.6634 209.054 L59.3023 209.054 L59.3023 182.688 L50.9921 184.355 L50.9921 180.095 L59.256 178.429 L63.9319 178.429 L63.9319 209.054 L71.5707 209.054 L71.5707 212.989 L51.6634 212.989 L51.6634 209.054 Z\" fill=\"#000000\" fill-rule=\"nonzero\" fill-opacity=\"1\" /><path clip-path=\"url(#clip810)\" d=\"M91.0151 181.507 Q87.404 181.507 85.5753 185.072 Q83.7697 188.614 83.7697 195.743 Q83.7697 202.85 85.5753 206.415 Q87.404 209.956 91.0151 209.956 Q94.6493 209.956 96.4548 206.415 Q98.2835 202.85 98.2835 195.743 Q98.2835 188.614 96.4548 185.072 Q94.6493 181.507 91.0151 181.507 M91.0151 177.804 Q96.8252 177.804 99.8808 182.41 Q102.959 186.994 102.959 195.743 Q102.959 204.47 99.8808 209.077 Q96.8252 213.66 91.0151 213.66 Q85.2049 213.66 82.1262 209.077 Q79.0707 204.47 79.0707 195.743 Q79.0707 186.994 82.1262 182.41 Q85.2049 177.804 91.0151 177.804 Z\" fill=\"#000000\" fill-rule=\"nonzero\" fill-opacity=\"1\" /><path clip-path=\"url(#clip810)\" d=\"M121.177 181.507 Q117.566 181.507 115.737 185.072 Q113.932 188.614 113.932 195.743 Q113.932 202.85 115.737 206.415 Q117.566 209.956 121.177 209.956 Q124.811 209.956 126.617 206.415 Q128.445 202.85 128.445 195.743 Q128.445 188.614 126.617 185.072 Q124.811 181.507 121.177 181.507 M121.177 177.804 Q126.987 177.804 130.043 182.41 Q133.121 186.994 133.121 195.743 Q133.121 204.47 130.043 209.077 Q126.987 213.66 121.177 213.66 Q115.367 213.66 112.288 209.077 Q109.233 204.47 109.233 195.743 Q109.233 186.994 112.288 182.41 Q115.367 177.804 121.177 177.804 Z\" fill=\"#000000\" fill-rule=\"nonzero\" fill-opacity=\"1\" /><path clip-path=\"url(#clip810)\" d=\"M151.339 181.507 Q147.728 181.507 145.899 185.072 Q144.093 188.614 144.093 195.743 Q144.093 202.85 145.899 206.415 Q147.728 209.956 151.339 209.956 Q154.973 209.956 156.779 206.415 Q158.607 202.85 158.607 195.743 Q158.607 188.614 156.779 185.072 Q154.973 181.507 151.339 181.507 M151.339 177.804 Q157.149 177.804 160.205 182.41 Q163.283 186.994 163.283 195.743 Q163.283 204.47 160.205 209.077 Q157.149 213.66 151.339 213.66 Q145.529 213.66 142.45 209.077 Q139.394 204.47 139.394 195.743 Q139.394 186.994 142.45 182.41 Q145.529 177.804 151.339 177.804 Z\" fill=\"#000000\" fill-rule=\"nonzero\" fill-opacity=\"1\" /><path clip-path=\"url(#clip810)\" d=\"M181.501 181.507 Q177.89 181.507 176.061 185.072 Q174.255 188.614 174.255 195.743 Q174.255 202.85 176.061 206.415 Q177.89 209.956 181.501 209.956 Q185.135 209.956 186.94 206.415 Q188.769 202.85 188.769 195.743 Q188.769 188.614 186.94 185.072 Q185.135 181.507 181.501 181.507 M181.501 177.804 Q187.311 177.804 190.366 182.41 Q193.445 186.994 193.445 195.743 Q193.445 204.47 190.366 209.077 Q187.311 213.66 181.501 213.66 Q175.691 213.66 172.612 209.077 Q169.556 204.47 169.556 195.743 Q169.556 186.994 172.612 182.41 Q175.691 177.804 181.501 177.804 Z\" fill=\"#000000\" fill-rule=\"nonzero\" fill-opacity=\"1\" /><polyline clip-path=\"url(#clip812)\" style=\"stroke:#009af9; stroke-linecap:round; stroke-linejoin:round; stroke-width:4; stroke-opacity:1; fill:none\" points=\"289.539,1445.54 512.108,1435.43 734.677,1408.78 957.247,1357.62 1179.82,1273.94 1402.39,1149.75 1624.95,977.052 1847.52,747.855 2070.09,454.161 2292.66,87.9763 \"/>\n",
       "<polyline clip-path=\"url(#clip812)\" style=\"stroke:#e26f46; stroke-linecap:round; stroke-linejoin:round; stroke-width:4; stroke-opacity:1; fill:none\" points=\"289.539,1445.72 512.108,1436 734.677,1409.98 957.247,1359.64 1179.82,1277 1402.39,1154.05 1624.95,982.812 1847.52,755.278 2070.09,463.458 2292.66,99.3551 \"/>\n",
       "<path clip-path=\"url(#clip810)\" d=\"M300.222 250.738 L740.191 250.738 L740.191 95.2176 L300.222 95.2176  Z\" fill=\"#ffffff\" fill-rule=\"evenodd\" fill-opacity=\"1\"/>\n",
       "<polyline clip-path=\"url(#clip810)\" style=\"stroke:#000000; stroke-linecap:round; stroke-linejoin:round; stroke-width:4; stroke-opacity:1; fill:none\" points=\"300.222,250.738 740.191,250.738 740.191,95.2176 300.222,95.2176 300.222,250.738 \"/>\n",
       "<polyline clip-path=\"url(#clip810)\" style=\"stroke:#009af9; stroke-linecap:round; stroke-linejoin:round; stroke-width:4; stroke-opacity:1; fill:none\" points=\"323.814,147.058 465.368,147.058 \"/>\n",
       "<path clip-path=\"url(#clip810)\" d=\"M500.859 141.398 Q497.433 141.398 495.442 144.083 Q493.452 146.745 493.452 151.398 Q493.452 156.051 495.419 158.736 Q497.41 161.398 500.859 161.398 Q504.262 161.398 506.252 158.713 Q508.243 156.027 508.243 151.398 Q508.243 146.791 506.252 144.106 Q504.262 141.398 500.859 141.398 M500.859 137.787 Q506.414 137.787 509.586 141.398 Q512.757 145.009 512.757 151.398 Q512.757 157.764 509.586 161.398 Q506.414 165.009 500.859 165.009 Q495.28 165.009 492.109 161.398 Q488.961 157.764 488.961 151.398 Q488.961 145.009 492.109 141.398 Q495.28 137.787 500.859 137.787 Z\" fill=\"#000000\" fill-rule=\"nonzero\" fill-opacity=\"1\" /><path clip-path=\"url(#clip810)\" d=\"M519.377 154.106 L519.377 138.412 L523.637 138.412 L523.637 153.944 Q523.637 157.625 525.072 159.476 Q526.507 161.305 529.377 161.305 Q532.826 161.305 534.817 159.106 Q536.831 156.907 536.831 153.111 L536.831 138.412 L541.09 138.412 L541.09 164.338 L536.831 164.338 L536.831 160.356 Q535.28 162.717 533.22 163.875 Q531.183 165.009 528.475 165.009 Q524.007 165.009 521.692 162.231 Q519.377 159.453 519.377 154.106 M530.095 137.787 L530.095 137.787 Z\" fill=\"#000000\" fill-rule=\"nonzero\" fill-opacity=\"1\" /><path clip-path=\"url(#clip810)\" d=\"M564.886 142.393 Q564.169 141.977 563.312 141.791 Q562.479 141.583 561.46 141.583 Q557.849 141.583 555.905 143.944 Q553.984 146.282 553.984 150.68 L553.984 164.338 L549.701 164.338 L549.701 138.412 L553.984 138.412 L553.984 142.44 Q555.326 140.078 557.479 138.944 Q559.632 137.787 562.71 137.787 Q563.15 137.787 563.683 137.856 Q564.215 137.903 564.863 138.018 L564.886 142.393 Z\" fill=\"#000000\" fill-rule=\"nonzero\" fill-opacity=\"1\" /><path clip-path=\"url(#clip810)\" d=\"M585.882 139.176 L585.882 143.203 Q584.076 142.277 582.132 141.815 Q580.187 141.352 578.104 141.352 Q574.933 141.352 573.335 142.324 Q571.761 143.296 571.761 145.24 Q571.761 146.722 572.896 147.578 Q574.03 148.412 577.456 149.176 L578.914 149.5 Q583.451 150.472 585.349 152.254 Q587.27 154.014 587.27 157.185 Q587.27 160.796 584.4 162.902 Q581.553 165.009 576.553 165.009 Q574.47 165.009 572.201 164.592 Q569.956 164.199 567.456 163.388 L567.456 158.99 Q569.817 160.217 572.109 160.842 Q574.4 161.444 576.646 161.444 Q579.655 161.444 581.275 160.426 Q582.896 159.384 582.896 157.509 Q582.896 155.773 581.715 154.847 Q580.558 153.921 576.599 153.064 L575.118 152.717 Q571.159 151.884 569.4 150.171 Q567.641 148.435 567.641 145.426 Q567.641 141.768 570.234 139.778 Q572.826 137.787 577.595 137.787 Q579.956 137.787 582.039 138.134 Q584.122 138.481 585.882 139.176 Z\" fill=\"#000000\" fill-rule=\"nonzero\" fill-opacity=\"1\" /><polyline clip-path=\"url(#clip810)\" style=\"stroke:#e26f46; stroke-linecap:round; stroke-linejoin:round; stroke-width:4; stroke-opacity:1; fill:none\" points=\"323.814,198.898 465.368,198.898 \"/>\n",
       "<path clip-path=\"url(#clip810)\" d=\"M510.674 200.529 L510.674 216.178 L506.414 216.178 L506.414 200.668 Q506.414 196.988 504.979 195.159 Q503.544 193.33 500.674 193.33 Q497.225 193.33 495.234 195.53 Q493.243 197.729 493.243 201.525 L493.243 216.178 L488.961 216.178 L488.961 190.252 L493.243 190.252 L493.243 194.28 Q494.771 191.942 496.831 190.784 Q498.914 189.627 501.623 189.627 Q506.09 189.627 508.382 192.405 Q510.674 195.159 510.674 200.529 Z\" fill=\"#000000\" fill-rule=\"nonzero\" fill-opacity=\"1\" /><path clip-path=\"url(#clip810)\" d=\"M518.729 205.946 L518.729 190.252 L522.988 190.252 L522.988 205.784 Q522.988 209.465 524.424 211.316 Q525.859 213.145 528.729 213.145 Q532.178 213.145 534.169 210.946 Q536.183 208.747 536.183 204.951 L536.183 190.252 L540.442 190.252 L540.442 216.178 L536.183 216.178 L536.183 212.196 Q534.632 214.557 532.572 215.715 Q530.535 216.849 527.826 216.849 Q523.359 216.849 521.044 214.071 Q518.729 211.293 518.729 205.946 M529.447 189.627 L529.447 189.627 Z\" fill=\"#000000\" fill-rule=\"nonzero\" fill-opacity=\"1\" /><path clip-path=\"url(#clip810)\" d=\"M569.4 195.229 Q570.997 192.358 573.22 190.993 Q575.442 189.627 578.451 189.627 Q582.502 189.627 584.701 192.474 Q586.9 195.298 586.9 200.529 L586.9 216.178 L582.618 216.178 L582.618 200.668 Q582.618 196.942 581.298 195.136 Q579.979 193.33 577.271 193.33 Q573.96 193.33 572.039 195.53 Q570.118 197.729 570.118 201.525 L570.118 216.178 L565.835 216.178 L565.835 200.668 Q565.835 196.918 564.516 195.136 Q563.197 193.33 560.442 193.33 Q557.178 193.33 555.257 195.553 Q553.335 197.752 553.335 201.525 L553.335 216.178 L549.053 216.178 L549.053 190.252 L553.335 190.252 L553.335 194.28 Q554.794 191.895 556.831 190.761 Q558.868 189.627 561.669 189.627 Q564.493 189.627 566.46 191.062 Q568.451 192.497 569.4 195.229 Z\" fill=\"#000000\" fill-rule=\"nonzero\" fill-opacity=\"1\" /><path clip-path=\"url(#clip810)\" d=\"M617.571 202.15 L617.571 204.233 L597.988 204.233 Q598.266 208.631 600.627 210.946 Q603.011 213.238 607.247 213.238 Q609.701 213.238 611.993 212.636 Q614.307 212.034 616.576 210.83 L616.576 214.858 Q614.284 215.83 611.877 216.34 Q609.469 216.849 606.993 216.849 Q600.789 216.849 597.155 213.238 Q593.544 209.627 593.544 203.469 Q593.544 197.104 596.97 193.377 Q600.419 189.627 606.252 189.627 Q611.483 189.627 614.516 193.006 Q617.571 196.363 617.571 202.15 M613.312 200.9 Q613.266 197.405 611.344 195.321 Q609.446 193.238 606.298 193.238 Q602.733 193.238 600.581 195.252 Q598.451 197.266 598.127 200.923 L613.312 200.9 Z\" fill=\"#000000\" fill-rule=\"nonzero\" fill-opacity=\"1\" /><path clip-path=\"url(#clip810)\" d=\"M639.585 194.233 Q638.867 193.817 638.011 193.631 Q637.178 193.423 636.159 193.423 Q632.548 193.423 630.604 195.784 Q628.682 198.122 628.682 202.52 L628.682 216.178 L624.4 216.178 L624.4 190.252 L628.682 190.252 L628.682 194.28 Q630.025 191.918 632.178 190.784 Q634.33 189.627 637.409 189.627 Q637.849 189.627 638.381 189.696 Q638.914 189.743 639.562 189.858 L639.585 194.233 Z\" fill=\"#000000\" fill-rule=\"nonzero\" fill-opacity=\"1\" /><path clip-path=\"url(#clip810)\" d=\"M644.053 190.252 L648.312 190.252 L648.312 216.178 L644.053 216.178 L644.053 190.252 M644.053 180.159 L648.312 180.159 L648.312 185.553 L644.053 185.553 L644.053 180.159 Z\" fill=\"#000000\" fill-rule=\"nonzero\" fill-opacity=\"1\" /><path clip-path=\"url(#clip810)\" d=\"M675.881 191.247 L675.881 195.229 Q674.076 194.233 672.247 193.747 Q670.441 193.238 668.59 193.238 Q664.446 193.238 662.154 195.877 Q659.863 198.492 659.863 203.238 Q659.863 207.983 662.154 210.622 Q664.446 213.238 668.59 213.238 Q670.441 213.238 672.247 212.752 Q674.076 212.242 675.881 211.247 L675.881 215.182 Q674.099 216.016 672.177 216.432 Q670.279 216.849 668.127 216.849 Q662.27 216.849 658.821 213.168 Q655.372 209.488 655.372 203.238 Q655.372 196.895 658.844 193.261 Q662.34 189.627 668.404 189.627 Q670.372 189.627 672.247 190.043 Q674.122 190.437 675.881 191.247 Z\" fill=\"#000000\" fill-rule=\"nonzero\" fill-opacity=\"1\" /><path clip-path=\"url(#clip810)\" d=\"M695.071 203.145 Q689.909 203.145 687.918 204.326 Q685.927 205.506 685.927 208.354 Q685.927 210.622 687.409 211.965 Q688.913 213.284 691.483 213.284 Q695.025 213.284 697.154 210.784 Q699.307 208.261 699.307 204.094 L699.307 203.145 L695.071 203.145 M703.566 201.386 L703.566 216.178 L699.307 216.178 L699.307 212.242 Q697.849 214.603 695.673 215.738 Q693.497 216.849 690.349 216.849 Q686.367 216.849 684.006 214.627 Q681.668 212.381 681.668 208.631 Q681.668 204.256 684.585 202.034 Q687.525 199.812 693.335 199.812 L699.307 199.812 L699.307 199.395 Q699.307 196.455 697.362 194.858 Q695.441 193.238 691.946 193.238 Q689.724 193.238 687.617 193.77 Q685.511 194.303 683.566 195.367 L683.566 191.432 Q685.904 190.53 688.103 190.09 Q690.302 189.627 692.386 189.627 Q698.011 189.627 700.788 192.543 Q703.566 195.46 703.566 201.386 Z\" fill=\"#000000\" fill-rule=\"nonzero\" fill-opacity=\"1\" /><path clip-path=\"url(#clip810)\" d=\"M712.339 180.159 L716.599 180.159 L716.599 216.178 L712.339 216.178 L712.339 180.159 Z\" fill=\"#000000\" fill-rule=\"nonzero\" fill-opacity=\"1\" /></svg>\n"
      ]
     },
     "execution_count": 70,
     "metadata": {},
     "output_type": "execute_result"
    }
   ],
   "source": [
    "plot(t_range, hcat(ours,numerical), label=[\"ours\" \"numerical\"])"
   ]
  },
  {
   "cell_type": "code",
   "execution_count": 75,
   "id": "b4d828ec-2308-47ed-82a1-bd560053ffc4",
   "metadata": {},
   "outputs": [
    {
     "ename": "LoadError",
     "evalue": "DimensionMismatch: arrays could not be broadcast to a common size: a has axes Base.OneTo(10) and b has axes Base.OneTo(39)",
     "output_type": "error",
     "traceback": [
      "DimensionMismatch: arrays could not be broadcast to a common size: a has axes Base.OneTo(10) and b has axes Base.OneTo(39)",
      "",
      "Stacktrace:",
      " [1] _bcs1",
      "   @ ./broadcast.jl:528 [inlined]",
      " [2] _bcs",
      "   @ ./broadcast.jl:522 [inlined]",
      " [3] broadcast_shape",
      "   @ ./broadcast.jl:516 [inlined]",
      " [4] combine_axes",
      "   @ ./broadcast.jl:497 [inlined]",
      " [5] instantiate",
      "   @ ./broadcast.jl:307 [inlined]",
      " [6] materialize(bc::Base.Broadcast.Broadcasted{Base.Broadcast.DefaultArrayStyle{1}, Nothing, typeof(/), Tuple{Vector{Float64}, Base.Broadcast.Broadcasted{Base.Broadcast.DefaultArrayStyle{1}, Nothing, typeof(Base.literal_pow), Tuple{Base.RefValue{typeof(^)}, StepRangeLen{Float64, Base.TwicePrecision{Float64}, Base.TwicePrecision{Float64}, Int64}, Base.RefValue{Val{3}}}}}})",
      "   @ Base.Broadcast ./broadcast.jl:872",
      " [7] top-level scope",
      "   @ In[75]:1"
     ]
    }
   ],
   "source": [
    "plot(numerical ./ t_range.^3, label=false)"
   ]
  },
  {
   "cell_type": "code",
   "execution_count": null,
   "id": "1f8975a4-37f9-4501-8716-5db9f8b92955",
   "metadata": {},
   "outputs": [],
   "source": []
  }
 ],
 "metadata": {
  "kernelspec": {
   "display_name": "Julia 1.11.5",
   "language": "julia",
   "name": "julia-1.11"
  },
  "language_info": {
   "file_extension": ".jl",
   "mimetype": "application/julia",
   "name": "julia",
   "version": "1.11.5"
  }
 },
 "nbformat": 4,
 "nbformat_minor": 5
}
